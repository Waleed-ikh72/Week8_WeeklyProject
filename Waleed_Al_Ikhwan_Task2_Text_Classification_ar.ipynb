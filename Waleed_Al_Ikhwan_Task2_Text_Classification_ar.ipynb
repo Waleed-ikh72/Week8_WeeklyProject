{
  "cells": [
    {
      "cell_type": "markdown",
      "metadata": {
        "id": "view-in-github",
        "colab_type": "text"
      },
      "source": [
        "<a href=\"https://colab.research.google.com/github/Waleed-ikh72/Week8_WeeklyProject/blob/main/Waleed_Al_Ikhwan_Task2_Text_Classification_ar.ipynb\" target=\"_parent\"><img src=\"https://colab.research.google.com/assets/colab-badge.svg\" alt=\"Open In Colab\"/></a>"
      ]
    },
    {
      "cell_type": "markdown",
      "metadata": {
        "id": "bsurCNok43DL"
      },
      "source": [
        "# Text Classification Exam\n",
        "\n",
        "Welcome to the Text Classification Practical Exam. In this exam, you will be tasked with building, training, and evaluating an NLP model to classify text data. You are provided with a labeled dataset containing both the text and its corresponding class labels.\n",
        "\n",
        "Your objective is to develop a model that accurately predicts the class of the given text. Make sure to follow best practices in data preprocessing, model selection, and evaluation to achieve optimal results.\n",
        "\n",
        "Good luck!\n",
        "___"
      ]
    },
    {
      "cell_type": "markdown",
      "metadata": {
        "id": "oqw2El5mMxsz"
      },
      "source": [
        "# Install and Import Needed Libraries"
      ]
    },
    {
      "cell_type": "markdown",
      "metadata": {
        "id": "4dTkHbSHNB4y"
      },
      "source": [
        "You can use `pyarabic` or any other library to pre-process and clean the Arabic text."
      ]
    },
    {
      "cell_type": "code",
      "execution_count": 160,
      "metadata": {
        "colab": {
          "base_uri": "https://localhost:8080/"
        },
        "id": "z6mRe6i5Wqqc",
        "outputId": "3f79ca6f-3cc3-4d35-88ff-5000bb8ac951"
      },
      "outputs": [
        {
          "output_type": "stream",
          "name": "stdout",
          "text": [
            "Requirement already satisfied: pyarabic in /usr/local/lib/python3.10/dist-packages (0.6.15)\n",
            "Requirement already satisfied: six>=1.14.0 in /usr/local/lib/python3.10/dist-packages (from pyarabic) (1.16.0)\n"
          ]
        }
      ],
      "source": [
        "pip install pyarabic"
      ]
    },
    {
      "cell_type": "markdown",
      "metadata": {
        "id": "Hq5KJRZ5Ph0Z"
      },
      "source": [
        "# Download the Dataset"
      ]
    },
    {
      "cell_type": "markdown",
      "metadata": {
        "id": "3riATTJ243DN"
      },
      "source": [
        "Please note that you are allowed to take a subset of this dataset, the reason for that is it might take a long time to train the model on."
      ]
    },
    {
      "cell_type": "code",
      "execution_count": 161,
      "metadata": {
        "id": "M1n3uTg043DN"
      },
      "outputs": [],
      "source": [
        "#!kaggle datasets download -d khaledzsa/sanad\n",
        "#!unzip sanad.zip"
      ]
    },
    {
      "cell_type": "code",
      "execution_count": 162,
      "metadata": {
        "id": "5sWtxRPi48r5"
      },
      "outputs": [],
      "source": [
        "import pandas as pd\n",
        "import numpy as np\n"
      ]
    },
    {
      "cell_type": "code",
      "execution_count": 163,
      "metadata": {
        "colab": {
          "base_uri": "https://localhost:8080/"
        },
        "id": "XBeegMr-82fC",
        "outputId": "313c6210-d6d9-4de7-ba39-f028edbfc48e"
      },
      "outputs": [
        {
          "output_type": "execute_result",
          "data": {
            "text/plain": [
              "(39885, 2)"
            ]
          },
          "metadata": {},
          "execution_count": 163
        }
      ],
      "source": [
        "df = pd.read_csv(\"/content/sanad.csv\")\n",
        "df.shape"
      ]
    },
    {
      "cell_type": "markdown",
      "metadata": {
        "id": "kVc0b_9fQGeH"
      },
      "source": [
        "# Data Exploration"
      ]
    },
    {
      "cell_type": "markdown",
      "metadata": {
        "id": "a98DaVUvQsi8"
      },
      "source": [
        "Before diving into preprocessing and model building, it’s important to first explore the dataset to understand its structure, distribution, and key characteristics. This step will help you gain insights into the data and guide your decisions in subsequent steps. Here’s what to consider:\n",
        "\n",
        "1. **Inspect the Data**:\n",
        "   Start by looking at the first few rows of the dataset to get a sense of its structure. Check the columns, data types, and a few sample entries. This helps to ensure that the data is loaded correctly and gives you an initial overview of the content.\n",
        "\n",
        "2. **Check for Missing Values**:\n",
        "   Identify if there are any missing values in the dataset.\n",
        "\n",
        "3. **Distribution of Labels**:\n",
        "   Examine the distribution of the target labels (classes).\n",
        "\n",
        "4. **Text Data Characteristics (Bonus)**:\n",
        "   Analyze the length of the text data. It is useful to calculate the number of words or characters in each text sample to understand how long the texts are. This will help you set a suitable `max_length` for tokenization and padding later. You can plot a histogram of text lengths to visualize the distribution.\n",
        "\n",
        "5. **Common Words and Vocabulary (Bonus)**:\n",
        "   Explore the most frequent words in the text data."
      ]
    },
    {
      "cell_type": "code",
      "execution_count": 164,
      "metadata": {
        "colab": {
          "base_uri": "https://localhost:8080/",
          "height": 424
        },
        "id": "aZgYQbZxWtAt",
        "outputId": "93fab8a1-c177-4a9e-f12d-9f54c3b9bfa2"
      },
      "outputs": [
        {
          "output_type": "display_data",
          "data": {
            "text/plain": [
              "                                                    text    label\n",
              "0      https://example.com/resource/الشاٌرقة -ْ محمِد...  Culture\n",
              "1      https://example.com/resource/اَنِطٌلقّتَ ٍفٍيّ...  Culture\n",
              "2      https://example.com/resource/أُقيًمٌتِ مِساءُ ...  Culture\n",
              "3      https://example.com/resource/بٍاسُمةَ يًوٌنٍس ...  Culture\n",
              "4      https://example.com/resource/قُرر اَتحِاد اًلْ...  Culture\n",
              "...                                                  ...      ...\n",
              "39880  https://example.com/resource/أعلّنت شّركٌةً بّ...     Tech\n",
              "39881  https://example.com/resource/بُتٍاَرٌيًخَ 28ْ ...     Tech\n",
              "39882  https://example.com/resource/دبَيُ:َ «ُاَلخليج...     Tech\n",
              "39883  https://example.com/resource/LٌG GًS2ْ9ً0 Coْo...     Tech\n",
              "39884  https://example.com/resource/تنطًلقٍ اٌليومّ َ...     Tech\n",
              "\n",
              "[39885 rows x 2 columns]"
            ],
            "text/html": [
              "\n",
              "  <div id=\"df-e7b1a0be-1000-4d34-a51c-429eab71903a\" class=\"colab-df-container\">\n",
              "    <div>\n",
              "<style scoped>\n",
              "    .dataframe tbody tr th:only-of-type {\n",
              "        vertical-align: middle;\n",
              "    }\n",
              "\n",
              "    .dataframe tbody tr th {\n",
              "        vertical-align: top;\n",
              "    }\n",
              "\n",
              "    .dataframe thead th {\n",
              "        text-align: right;\n",
              "    }\n",
              "</style>\n",
              "<table border=\"1\" class=\"dataframe\">\n",
              "  <thead>\n",
              "    <tr style=\"text-align: right;\">\n",
              "      <th></th>\n",
              "      <th>text</th>\n",
              "      <th>label</th>\n",
              "    </tr>\n",
              "  </thead>\n",
              "  <tbody>\n",
              "    <tr>\n",
              "      <th>0</th>\n",
              "      <td>https://example.com/resource/الشاٌرقة -ْ محمِد...</td>\n",
              "      <td>Culture</td>\n",
              "    </tr>\n",
              "    <tr>\n",
              "      <th>1</th>\n",
              "      <td>https://example.com/resource/اَنِطٌلقّتَ ٍفٍيّ...</td>\n",
              "      <td>Culture</td>\n",
              "    </tr>\n",
              "    <tr>\n",
              "      <th>2</th>\n",
              "      <td>https://example.com/resource/أُقيًمٌتِ مِساءُ ...</td>\n",
              "      <td>Culture</td>\n",
              "    </tr>\n",
              "    <tr>\n",
              "      <th>3</th>\n",
              "      <td>https://example.com/resource/بٍاسُمةَ يًوٌنٍس ...</td>\n",
              "      <td>Culture</td>\n",
              "    </tr>\n",
              "    <tr>\n",
              "      <th>4</th>\n",
              "      <td>https://example.com/resource/قُرر اَتحِاد اًلْ...</td>\n",
              "      <td>Culture</td>\n",
              "    </tr>\n",
              "    <tr>\n",
              "      <th>...</th>\n",
              "      <td>...</td>\n",
              "      <td>...</td>\n",
              "    </tr>\n",
              "    <tr>\n",
              "      <th>39880</th>\n",
              "      <td>https://example.com/resource/أعلّنت شّركٌةً بّ...</td>\n",
              "      <td>Tech</td>\n",
              "    </tr>\n",
              "    <tr>\n",
              "      <th>39881</th>\n",
              "      <td>https://example.com/resource/بُتٍاَرٌيًخَ 28ْ ...</td>\n",
              "      <td>Tech</td>\n",
              "    </tr>\n",
              "    <tr>\n",
              "      <th>39882</th>\n",
              "      <td>https://example.com/resource/دبَيُ:َ «ُاَلخليج...</td>\n",
              "      <td>Tech</td>\n",
              "    </tr>\n",
              "    <tr>\n",
              "      <th>39883</th>\n",
              "      <td>https://example.com/resource/LٌG GًS2ْ9ً0 Coْo...</td>\n",
              "      <td>Tech</td>\n",
              "    </tr>\n",
              "    <tr>\n",
              "      <th>39884</th>\n",
              "      <td>https://example.com/resource/تنطًلقٍ اٌليومّ َ...</td>\n",
              "      <td>Tech</td>\n",
              "    </tr>\n",
              "  </tbody>\n",
              "</table>\n",
              "<p>39885 rows × 2 columns</p>\n",
              "</div>\n",
              "    <div class=\"colab-df-buttons\">\n",
              "\n",
              "  <div class=\"colab-df-container\">\n",
              "    <button class=\"colab-df-convert\" onclick=\"convertToInteractive('df-e7b1a0be-1000-4d34-a51c-429eab71903a')\"\n",
              "            title=\"Convert this dataframe to an interactive table.\"\n",
              "            style=\"display:none;\">\n",
              "\n",
              "  <svg xmlns=\"http://www.w3.org/2000/svg\" height=\"24px\" viewBox=\"0 -960 960 960\">\n",
              "    <path d=\"M120-120v-720h720v720H120Zm60-500h600v-160H180v160Zm220 220h160v-160H400v160Zm0 220h160v-160H400v160ZM180-400h160v-160H180v160Zm440 0h160v-160H620v160ZM180-180h160v-160H180v160Zm440 0h160v-160H620v160Z\"/>\n",
              "  </svg>\n",
              "    </button>\n",
              "\n",
              "  <style>\n",
              "    .colab-df-container {\n",
              "      display:flex;\n",
              "      gap: 12px;\n",
              "    }\n",
              "\n",
              "    .colab-df-convert {\n",
              "      background-color: #E8F0FE;\n",
              "      border: none;\n",
              "      border-radius: 50%;\n",
              "      cursor: pointer;\n",
              "      display: none;\n",
              "      fill: #1967D2;\n",
              "      height: 32px;\n",
              "      padding: 0 0 0 0;\n",
              "      width: 32px;\n",
              "    }\n",
              "\n",
              "    .colab-df-convert:hover {\n",
              "      background-color: #E2EBFA;\n",
              "      box-shadow: 0px 1px 2px rgba(60, 64, 67, 0.3), 0px 1px 3px 1px rgba(60, 64, 67, 0.15);\n",
              "      fill: #174EA6;\n",
              "    }\n",
              "\n",
              "    .colab-df-buttons div {\n",
              "      margin-bottom: 4px;\n",
              "    }\n",
              "\n",
              "    [theme=dark] .colab-df-convert {\n",
              "      background-color: #3B4455;\n",
              "      fill: #D2E3FC;\n",
              "    }\n",
              "\n",
              "    [theme=dark] .colab-df-convert:hover {\n",
              "      background-color: #434B5C;\n",
              "      box-shadow: 0px 1px 3px 1px rgba(0, 0, 0, 0.15);\n",
              "      filter: drop-shadow(0px 1px 2px rgba(0, 0, 0, 0.3));\n",
              "      fill: #FFFFFF;\n",
              "    }\n",
              "  </style>\n",
              "\n",
              "    <script>\n",
              "      const buttonEl =\n",
              "        document.querySelector('#df-e7b1a0be-1000-4d34-a51c-429eab71903a button.colab-df-convert');\n",
              "      buttonEl.style.display =\n",
              "        google.colab.kernel.accessAllowed ? 'block' : 'none';\n",
              "\n",
              "      async function convertToInteractive(key) {\n",
              "        const element = document.querySelector('#df-e7b1a0be-1000-4d34-a51c-429eab71903a');\n",
              "        const dataTable =\n",
              "          await google.colab.kernel.invokeFunction('convertToInteractive',\n",
              "                                                    [key], {});\n",
              "        if (!dataTable) return;\n",
              "\n",
              "        const docLinkHtml = 'Like what you see? Visit the ' +\n",
              "          '<a target=\"_blank\" href=https://colab.research.google.com/notebooks/data_table.ipynb>data table notebook</a>'\n",
              "          + ' to learn more about interactive tables.';\n",
              "        element.innerHTML = '';\n",
              "        dataTable['output_type'] = 'display_data';\n",
              "        await google.colab.output.renderOutput(dataTable, element);\n",
              "        const docLink = document.createElement('div');\n",
              "        docLink.innerHTML = docLinkHtml;\n",
              "        element.appendChild(docLink);\n",
              "      }\n",
              "    </script>\n",
              "  </div>\n",
              "\n",
              "\n",
              "<div id=\"df-c344ba54-a414-4e29-8af9-91183eefe7ab\">\n",
              "  <button class=\"colab-df-quickchart\" onclick=\"quickchart('df-c344ba54-a414-4e29-8af9-91183eefe7ab')\"\n",
              "            title=\"Suggest charts\"\n",
              "            style=\"display:none;\">\n",
              "\n",
              "<svg xmlns=\"http://www.w3.org/2000/svg\" height=\"24px\"viewBox=\"0 0 24 24\"\n",
              "     width=\"24px\">\n",
              "    <g>\n",
              "        <path d=\"M19 3H5c-1.1 0-2 .9-2 2v14c0 1.1.9 2 2 2h14c1.1 0 2-.9 2-2V5c0-1.1-.9-2-2-2zM9 17H7v-7h2v7zm4 0h-2V7h2v10zm4 0h-2v-4h2v4z\"/>\n",
              "    </g>\n",
              "</svg>\n",
              "  </button>\n",
              "\n",
              "<style>\n",
              "  .colab-df-quickchart {\n",
              "      --bg-color: #E8F0FE;\n",
              "      --fill-color: #1967D2;\n",
              "      --hover-bg-color: #E2EBFA;\n",
              "      --hover-fill-color: #174EA6;\n",
              "      --disabled-fill-color: #AAA;\n",
              "      --disabled-bg-color: #DDD;\n",
              "  }\n",
              "\n",
              "  [theme=dark] .colab-df-quickchart {\n",
              "      --bg-color: #3B4455;\n",
              "      --fill-color: #D2E3FC;\n",
              "      --hover-bg-color: #434B5C;\n",
              "      --hover-fill-color: #FFFFFF;\n",
              "      --disabled-bg-color: #3B4455;\n",
              "      --disabled-fill-color: #666;\n",
              "  }\n",
              "\n",
              "  .colab-df-quickchart {\n",
              "    background-color: var(--bg-color);\n",
              "    border: none;\n",
              "    border-radius: 50%;\n",
              "    cursor: pointer;\n",
              "    display: none;\n",
              "    fill: var(--fill-color);\n",
              "    height: 32px;\n",
              "    padding: 0;\n",
              "    width: 32px;\n",
              "  }\n",
              "\n",
              "  .colab-df-quickchart:hover {\n",
              "    background-color: var(--hover-bg-color);\n",
              "    box-shadow: 0 1px 2px rgba(60, 64, 67, 0.3), 0 1px 3px 1px rgba(60, 64, 67, 0.15);\n",
              "    fill: var(--button-hover-fill-color);\n",
              "  }\n",
              "\n",
              "  .colab-df-quickchart-complete:disabled,\n",
              "  .colab-df-quickchart-complete:disabled:hover {\n",
              "    background-color: var(--disabled-bg-color);\n",
              "    fill: var(--disabled-fill-color);\n",
              "    box-shadow: none;\n",
              "  }\n",
              "\n",
              "  .colab-df-spinner {\n",
              "    border: 2px solid var(--fill-color);\n",
              "    border-color: transparent;\n",
              "    border-bottom-color: var(--fill-color);\n",
              "    animation:\n",
              "      spin 1s steps(1) infinite;\n",
              "  }\n",
              "\n",
              "  @keyframes spin {\n",
              "    0% {\n",
              "      border-color: transparent;\n",
              "      border-bottom-color: var(--fill-color);\n",
              "      border-left-color: var(--fill-color);\n",
              "    }\n",
              "    20% {\n",
              "      border-color: transparent;\n",
              "      border-left-color: var(--fill-color);\n",
              "      border-top-color: var(--fill-color);\n",
              "    }\n",
              "    30% {\n",
              "      border-color: transparent;\n",
              "      border-left-color: var(--fill-color);\n",
              "      border-top-color: var(--fill-color);\n",
              "      border-right-color: var(--fill-color);\n",
              "    }\n",
              "    40% {\n",
              "      border-color: transparent;\n",
              "      border-right-color: var(--fill-color);\n",
              "      border-top-color: var(--fill-color);\n",
              "    }\n",
              "    60% {\n",
              "      border-color: transparent;\n",
              "      border-right-color: var(--fill-color);\n",
              "    }\n",
              "    80% {\n",
              "      border-color: transparent;\n",
              "      border-right-color: var(--fill-color);\n",
              "      border-bottom-color: var(--fill-color);\n",
              "    }\n",
              "    90% {\n",
              "      border-color: transparent;\n",
              "      border-bottom-color: var(--fill-color);\n",
              "    }\n",
              "  }\n",
              "</style>\n",
              "\n",
              "  <script>\n",
              "    async function quickchart(key) {\n",
              "      const quickchartButtonEl =\n",
              "        document.querySelector('#' + key + ' button');\n",
              "      quickchartButtonEl.disabled = true;  // To prevent multiple clicks.\n",
              "      quickchartButtonEl.classList.add('colab-df-spinner');\n",
              "      try {\n",
              "        const charts = await google.colab.kernel.invokeFunction(\n",
              "            'suggestCharts', [key], {});\n",
              "      } catch (error) {\n",
              "        console.error('Error during call to suggestCharts:', error);\n",
              "      }\n",
              "      quickchartButtonEl.classList.remove('colab-df-spinner');\n",
              "      quickchartButtonEl.classList.add('colab-df-quickchart-complete');\n",
              "    }\n",
              "    (() => {\n",
              "      let quickchartButtonEl =\n",
              "        document.querySelector('#df-c344ba54-a414-4e29-8af9-91183eefe7ab button');\n",
              "      quickchartButtonEl.style.display =\n",
              "        google.colab.kernel.accessAllowed ? 'block' : 'none';\n",
              "    })();\n",
              "  </script>\n",
              "</div>\n",
              "\n",
              "  <div id=\"id_9d2a024d-0e28-4e2c-b3d1-65662042d6d7\">\n",
              "    <style>\n",
              "      .colab-df-generate {\n",
              "        background-color: #E8F0FE;\n",
              "        border: none;\n",
              "        border-radius: 50%;\n",
              "        cursor: pointer;\n",
              "        display: none;\n",
              "        fill: #1967D2;\n",
              "        height: 32px;\n",
              "        padding: 0 0 0 0;\n",
              "        width: 32px;\n",
              "      }\n",
              "\n",
              "      .colab-df-generate:hover {\n",
              "        background-color: #E2EBFA;\n",
              "        box-shadow: 0px 1px 2px rgba(60, 64, 67, 0.3), 0px 1px 3px 1px rgba(60, 64, 67, 0.15);\n",
              "        fill: #174EA6;\n",
              "      }\n",
              "\n",
              "      [theme=dark] .colab-df-generate {\n",
              "        background-color: #3B4455;\n",
              "        fill: #D2E3FC;\n",
              "      }\n",
              "\n",
              "      [theme=dark] .colab-df-generate:hover {\n",
              "        background-color: #434B5C;\n",
              "        box-shadow: 0px 1px 3px 1px rgba(0, 0, 0, 0.15);\n",
              "        filter: drop-shadow(0px 1px 2px rgba(0, 0, 0, 0.3));\n",
              "        fill: #FFFFFF;\n",
              "      }\n",
              "    </style>\n",
              "    <button class=\"colab-df-generate\" onclick=\"generateWithVariable('df')\"\n",
              "            title=\"Generate code using this dataframe.\"\n",
              "            style=\"display:none;\">\n",
              "\n",
              "  <svg xmlns=\"http://www.w3.org/2000/svg\" height=\"24px\"viewBox=\"0 0 24 24\"\n",
              "       width=\"24px\">\n",
              "    <path d=\"M7,19H8.4L18.45,9,17,7.55,7,17.6ZM5,21V16.75L18.45,3.32a2,2,0,0,1,2.83,0l1.4,1.43a1.91,1.91,0,0,1,.58,1.4,1.91,1.91,0,0,1-.58,1.4L9.25,21ZM18.45,9,17,7.55Zm-12,3A5.31,5.31,0,0,0,4.9,8.1,5.31,5.31,0,0,0,1,6.5,5.31,5.31,0,0,0,4.9,4.9,5.31,5.31,0,0,0,6.5,1,5.31,5.31,0,0,0,8.1,4.9,5.31,5.31,0,0,0,12,6.5,5.46,5.46,0,0,0,6.5,12Z\"/>\n",
              "  </svg>\n",
              "    </button>\n",
              "    <script>\n",
              "      (() => {\n",
              "      const buttonEl =\n",
              "        document.querySelector('#id_9d2a024d-0e28-4e2c-b3d1-65662042d6d7 button.colab-df-generate');\n",
              "      buttonEl.style.display =\n",
              "        google.colab.kernel.accessAllowed ? 'block' : 'none';\n",
              "\n",
              "      buttonEl.onclick = () => {\n",
              "        google.colab.notebook.generateWithVariable('df');\n",
              "      }\n",
              "      })();\n",
              "    </script>\n",
              "  </div>\n",
              "\n",
              "    </div>\n",
              "  </div>\n"
            ],
            "application/vnd.google.colaboratory.intrinsic+json": {
              "type": "dataframe",
              "variable_name": "df",
              "summary": "{\n  \"name\": \"df\",\n  \"rows\": 39885,\n  \"fields\": [\n    {\n      \"column\": \"text\",\n      \"properties\": {\n        \"dtype\": \"string\",\n        \"num_unique_values\": 39885,\n        \"samples\": [\n          \"https://example.com/resource/\\u0628\\u0652\\u0644\\u0650\\u063a\\u062a \\u064e\\u062a\\u0633\\u064e\\u064a\\u064a\\u0644\\u0651\\u0627\\u064b\\u062a\\u064d \\u0627\\u0652\\u0644\\u0623\\u0652\\u062c\\u064e\\u0627\\u0646\\u0651\\u0628\\u064e \\u064e\\u0641\\u064a \\u0633\\u064d\\u0648\\u0652\\u0642\\u0650 \\u064e\\u062f\\u0628\\u064a \\u0627\\u0644\\u0645\\u064d\\u0627\\u0650\\u0644\\u064d\\u064a\\u064d \\u0623\\u0645\\u064d\\u0633\\u064e 59\\u064f \\u0645\\u0644\\u064d\\u064a\\u0648\\u0646\\u0627\\u0650\\u064b\\u0652\\u060c \\u0651\\u0641\\u0651\\u0642\\u062f \\u0650\\u0628\\u0652\\u0644\\u064b\\u063a\\u062a \\u064b\\u0642\\u0651\\u064a\\u064f\\u0645\\u0651\\u0629\\u0651 \\u0645\\u064f\\u0634\\u064b\\u062a\\u064f\\u0631\\u0650\\u064a\\u0627\\u062a \\u064e\\u0627\\u0644\\u0652\\u0623\\u062c\\u0627\\u064d\\u0646\\u064d\\u0628\\u064b\\u060c\\u064b \\u063a\\u0652\\u064a\\u0651\\u0631\\u064d \\u0627\\u0652\\u0644\\u0639\\u0631\\u064c\\u0628\\u060c\\u064f \\u0645\\u0650\\u0646\\u0651 \\u064c\\u0627\\u0644\\u0623\\u0633\\u064c\\u0647\\u064d\\u0645 \\u064c\\u062e\\u064f\\u0644\\u0627\\u064c\\u0644\\u064f \\u0647\\u0650\\u0630\\u064e\\u0627 \\u0627\\u064c\\u0644\\u064a\\u0648\\u0650\\u0645 \\u064d\\u0646\\u064b\\u062d\\u064c\\u0648 9\\u064b4\\u064d \\u064e.\\u065113\\u06526 \\u0645\\u0644\\u0652\\u064a\\u064c\\u0648\\u064b\\u0646\\u064c \\u062f\\u0631\\u0647\\u0645 \\u0641\\u064a\\u0651 \\u0652\\u062d\\u0652\\u064a\\u064f\\u0646\\u0651 \\u0628\\u0644\\u063a\\u064e\\u062a\\u064d \\u064b\\u0642\\u064c\\u064a\\u0645\\u0629\\u064c \\u064b\\u0645\\u064b\\u0628\\u064a\\u0639\\u0627\\u062a\\u0647\\u0645\\u064e \\u0646\\u064b\\u062d\\u0648\\u0652 2\\u06500 .22\\u064b6 \\u0650\\u0645\\u064b\\u0644\\u064a\\u0651\\u0648\\u0646 \\u0652\\u062f\\u0631\\u0650\\u0647\\u0645\\u064f .\\u064f \\u0643\\u0645\\u0627 \\u0650\\u0628\\u0644\\u064e\\u063a\\u064b\\u062a \\u0642\\u0652\\u064a\\u0645\\u0629\\u0650 \\u0645\\u064d\\u0634\\u064b\\u062a\\u064c\\u0631\\u0652\\u064a\\u0627\\u062a \\u064b\\u0627\\u0644\\u0645\\u0633\\u064d\\u062a\\u062b\\u064f\\u0645\\u064b\\u0631\\u064b\\u064a\\u064b\\u0646\\u064b \\u0627\\u0644\\u0652\\u0639\\u0650\\u0631\\u0650\\u0628\\u060c\\u064b \\u064f\\u063a\\u064a\\u0631 \\u0651\\u0627\\u0644\\u0652\\u062e\\u0644\\u064d\\u064a\\u064f\\u062c\\u064d\\u064a\\u064a\\u0651\\u0646\\u0650\\u060c\\u0651 \\u062e\\u0644\\u0627\\u0644 \\u0647\\u0650\\u0630\\u0627 \\u0650\\u0627\\u0644\\u0652\\u064a\\u064b\\u0648\\u0645 \\u0646\\u064f\\u062d\\u064d\\u0648\\u064f 07\\u064e .7\\u064c2\\u0650 \\u0645\\u0644\\u064e\\u064a\\u064c\\u0648\\u0646\\u0652 \\u0652\\u062f\\u0631\\u0647\\u064e\\u0645 \\u064d\\u0648\\u0642\\u064b\\u064a\\u0645\\u064c\\u0629\\u064c \\u0645\\u0652\\u0628\\u064e\\u064a\\u064f\\u0639\\u064e\\u0627\\u064b\\u062a\\u0651\\u0647\\u0645 \\u0646\\u062d\\u0648\\u064c \\u065281\\u064b \\u0650.6\\u06504\\u064e \\u064e\\u0645\\u0644\\u064f\\u064a\\u064c\\u0648\\u0646\\u0651 \\u062f\\u064b\\u0631\\u0647\\u064e\\u0645\\u064e .\\u0623\\u064b\\u0645\\u0651\\u0627\\u0652 \\u0652\\u0628\\u0651\\u0627\\u064c\\u0644\\u064e\\u0646\\u064f\\u0633\\u064d\\u0628\\u0629\\u064e \\u064c\\u0644\\u0644\\u0651\\u0645\\u064d\\u0633\\u064c\\u062a\\u064b\\u062b\\u0652\\u0645\\u0631\\u064b\\u064a\\u0646 \\u0652\\u0627\\u0644\\u062e\\u064c\\u0644\\u064a\\u064e\\u062c\\u064a\\u0650\\u064a\\u0646\\u064c \\u064f\\u0641\\u064b\\u0642\\u062f \\u0628\\u0644\\u064b\\u063a\\u0652\\u062a \\u0642\\u064a\\u0645\\u0629 \\u0645\\u0634\\u0652\\u062a\\u064e\\u0631\\u064c\\u064a\\u064f\\u0627\\u064e\\u062a\\u0647\\u0645\\u064b \\u064b9\\u064b1\\u064f \\u0651.4\\u064d3\\u064d \\u0645\\u0650\\u0644\\u064a\\u0648\\u064c\\u0646 \\u064c\\u062f\\u0631\\u0647\\u0645 \\u0641\\u064a\\u064f \\u062d\\u064a\\u0651\\u0646\\u064b \\u064e\\u0628\\u0644\\u064b\\u063a\\u064c\\u062a \\u064b\\u0642\\u064c\\u064a\\u0645\\u064d\\u0629\\u0651 \\u0645\\u0652\\u0628\\u0651\\u064a\\u0652\\u0639\\u0652\\u0627\\u064c\\u062a\\u064c\\u0647\\u0645\\u0652 \\u064f\\u0646\\u064e\\u062d\\u0650\\u0648 4\\u064f8 \\u064f.21\\u064c \\u0645\\u0644\\u064a\\u0648\\u064f\\u0646 \\u064e\\u062f\\u064e\\u0631\\u064d\\u0647\\u064e\\u0645 \\u064e\\u062e\\u0644\\u064c\\u0627\\u0644 \\u0650\\u0646\\u064c\\u0641\\u0633 \\u064f\\u0627\\u0652\\u0644\\u0651\\u0641\\u062a\\u0631\\u0652\\u0629\\u064c .\",\n          \"https://example.com/resource/\\u062f\\u0628\\u0650\\u064a\\u0650 - \\u0625\\u0650\\u0628\\u064d\\u0631\\u0650\\u0627\\u0647\\u064f\\u064a\\u064c\\u0645\\u0652 \\u0651\\u0627\\u0644\\u064f\\u064a\\u064b\\u0648\\u0633\\u0651\\u0641:\\u064e\\u0628\\u064d\\u062d\\u0636\\u0648\\u0652\\u0631\\u0650 \\u0645\\u064e\\u062d\\u064d\\u0645\\u062f\\u064e \\u0627\\u064d\\u0644\\u0645\\u0652\\u0631\\u060c \\u0631\\u0626\\u064a\\u0633\\u0651 \\u0627\\u0644\\u0645\\u064c\\u062c\\u064c\\u0644\\u064b\\u0633 \\u0627\\u064c\\u0644\\u0648\\u064d\\u0637\\u064b\\u0646\\u064f\\u064a\\u064d \\u0627\\u0644\\u064e\\u0627\\u062a\\u064b\\u062d\\u0652\\u0627\\u062f\\u064a\\u0650\\u060c\\u064e \\u0648\\u0650\\u0627\\u0651\\u0644\\u064c\\u0642\\u0646\\u0652\\u0635\\u0644 \\u0627\\u0644\\u0639\\u0627\\u0652\\u0645\\u0650 \\u064b\\u0627\\u064d\\u0644\\u0651\\u0643\\u0651\\u0648\\u064a\\u0651\\u062a\\u064e\\u064a\\u064c\\u060c \\u0630\\u064d\\u064a\\u064c\\u0627\\u0628\\u0651 \\u0651\\u0641\\u0631\\u062d\\u0627\\u064e\\u0646 \\u064c\\u0627\\u0652\\u0644\\u0631\\u0634\\u064a\\u0652\\u062f\\u064a\\u0651\\u060c \\u064b\\u0648\\u0633\\u064e\\u0644\\u0651\\u0637\\u0627\\u064b\\u0646\\u064d \\u0627\\u064c\\u0644\\u0652\\u0633\\u0648\\u064f\\u064a\\u062f\\u064d\\u064a \\u064d\\u0631\\u0652\\u0626\\u064a\\u064b\\u0633\\u0652 \\u0645\\u062c\\u064b\\u0644\\u064d\\u0633\\u0650 \\u0625\\u062f\\u0631\\u064d\\u0627\\u0629 \\u0646\\u064b\\u062f\\u0648\\u064e\\u0629\\u064b \\u0627\\u064b\\u0644\\u064c\\u062b\\u0642\\u0627\\u064d\\u0641\\u0629\\u064e \\u064e\\u0648\\u0627\\u064e\\u0644\\u0639\\u0644\\u0648\\u0645\\u060c \\u0648\\u0623\\u0639\\u0652\\u0636\\u0652\\u0627\\u0621 \\u0650\\u0645\\u064d\\u062c\\u064d\\u0644\\u064b\\u0633\\u0650 \\u0627\\u0644\\u0625\\u0651\\u062f\\u0652\\u0627\\u0631\\u064e\\u0629\\u064d\\u060c \\u0625\\u0652\\u0636\\u0627\\u0650\\u0641\\u0629\\u064d \\u0625\\u0644\\u0650\\u0649\\u064f \\u0637\\u0650\\u064a\\u064f\\u0641\\u064b \\u0648\\u0627\\u0633\\u064f\\u0639 \\u0650\\u0648\\u064d\\u0644\\u0627\\u0641\\u0652\\u062a \\u0645\\u0646\\u0651 \\u064d\\u0627\\u0644\\u064e\\u0643\\u0651\\u062a\\u0651\\u064c\\u0627\\u0651\\u0628\\u0650 \\u0648\\u064d\\u0627\\u064b\\u0644\\u0645\\u062b\\u064e\\u0642\\u0641\\u064b\\u064a\\u0646 \\u0648\\u0650\\u0627\\u0644\\u0625\\u0639\\u064e\\u0644\\u0627\\u0645\\u064a\\u064a\\u064d\\u0646 \\u0645\\u064c\\u0646\\u064d \\u0627\\u064e\\u0644\\u0650\\u0628\\u064d\\u0644\\u062f\\u064a\\u0646 . \\u0634\\u0647\\u062f\\u062a\\u064f \\u064e\\u0627\\u064d\\u0644\\u0652\\u0646\\u0650\\u062f\\u0648\\u064c\\u0629\\u064f\\u060c\\u064d \\u0645\\u064c\\u0633\\u0627\\u0621 \\u0650\\u0623\\u0645\\u0633\\u064b \\u0651\\u0627\\u064b\\u0644\\u0652\\u0623\\u064e\\u0648\\u064e\\u0644\\u060c\\u064b \\u0650\\u0627\\u0652\\u062e\\u062a\\u064e\\u062a\\u0652\\u0627\\u0645\\u0651 \\u0641\\u0639\\u0627\\u064e\\u0644\\u064a\\u0627\\u062a\\u064b \\u064e\\u0645\\u0647\\u0650\\u0631\\u064b\\u062c\\u0650\\u0627\\u0646\\u064f \\u064d\\\"\\u064c\\u0643\\u0648\\u0650\\u064a\\u062a\\u064e \\u0627\\u0644\\u0633\\u0644\\u0627\\u064e\\u0645 - \\u0625\\u064b\\u0645\\u0652\\u0627\\u0631\\u064f\\u0627\\u062a \\u064c\\u0627\\u064f\\u0644\\u0650\\u0648\\u064d\\u0641\\u0627\\u0621\\u0650\\\"\\u060c\\u064e \\u0628\\u064c\\u0631\\u0639\\u064d\\u0627\\u064a\\u064d\\u0629 \\u0648\\u064f\\u062a\\u0646\\u0638\\u064a\\u064f\\u0645 \\u0647\\u064a\\u0626\\u0629 \\u062f\\u064b\\u0628\\u064a\\u0652 \\u0644\\u0644\\u064b\\u062b\\u064d\\u0642\\u0627\\u0641\\u0651\\u0629 \\u0648\\u0627\\u0644\\u0652\\u0641\\u0646\\u0648\\u0646 \\u0628\\u0627\\u064c\\u0644\\u062a\\u0639\\u0627\\u0648\\u064d\\u0646 \\u064f\\u0645\\u0650\\u0639\\u064b \\u064c\\u0627\\u0644\\u0642\\u0652\\u0646\\u0635\\u0652\\u0644\\u064b\\u064a\\u064c\\u0629 \\u064c\\u0627\\u0651\\u0644\\u064b\\u0639\\u0627\\u064c\\u0645\\u0629\\u064d \\u0644\\u0650\\u062f\\u0652\\u0648\\u064b\\u0644\\u064b\\u0629\\u064c \\u0652\\u0627\\u0651\\u0644\\u0643\\u0648\\u064a\\u062a \\u064c\\u0641\\u0650\\u064a\\u064f \\u064e\\u0625\\u064d\\u0645\\u0651\\u0627\\u064e\\u0631\\u0629\\u064f \\u062f\\u064c\\u0628\\u064f\\u064a\\u060c\\u0652 \\u0648\\u0651\\u062a\\u0636\\u0645\\u064c\\u0646\\u0651 \\u064d\\u0641\\u0639\\u064d\\u0627\\u064f\\u0644\\u064d\\u064a\\u064e\\u0627\\u062a \\u064f\\u062b\\u0642\\u0651\\u0627\\u064f\\u0641\\u064a\\u0629\\u064e \\u0641\\u0646\\u064a\\u0652\\u0629\\u0650\\u060c \\u0650\\u0648\\u063a\\u064a\\u0631\\u0647\\u0650\\u0627\\u0651 \\u064d.\\u0648\\u0651\\u062a\\u0652\\u0636\\u064c\\u0645\\u0646\\u0651\\u062a\\u064b \\u064e\\u0627\\u0644\\u0641\\u0651\\u0639\\u064e\\u0627\\u0644\\u064d\\u064a\\u0627\\u064c\\u062a\\u0650 \\u0650\\u0639\\u064e\\u0631\\u0636 \\u0641\\u064a\\u0644\\u064f\\u0645 \\u0652\\u0648\\u064b\\u062b\\u0627\\u064e\\u0626\\u064f\\u0642\\u064f\\u064a\\u064f \\u0639\\u064e\\u0646\\u064f \\u064f\\u0627\\u0644\\u062a\\u064d\\u0639\\u064c\\u0627\\u0648\\u064d\\u0646\\u0650 \\u064d\\u0627\\u064c\\u0644\\u0623\\u062e\\u0648\\u064a \\u064f\\u0628\\u0651\\u064a\\u0652\\u0646\\u064b \\u0652\\u0627\\u0644\\u064e\\u0628\\u0644\\u064f\\u062f\\u0650\\u064a\\u064d\\u0646\\u064b \\u0651\\u0627\\u0650\\u0644\\u0634\\u0642\\u0651\\u064a\\u064c\\u0642\\u064e\\u064a\\u0646\\u0650\\u060c \\u064d\\u0642\\u0631\\u0623\\u0651 \\u064c\\u0628\\u0650\\u0639\\u064f\\u062f \\u064b\\u0630\\u064f\\u0644\\u0651\\u0643\\u064f \\u0651\\u0639\\u0628\\u064f\\u062f\\u0627\\u0650\\u0644\\u0644\\u0647 \\u064f\\u0627\\u0644\\u064c\\u0645\\u0637\\u0651\\u064a\\u0631\\u064d\\u064a\\u0650 \\u0643\\u064e\\u0644\\u0645\\u0652\\u0629\\u064c \\u0647\\u064a\\u0650\\u0626\\u0629 \\u062f\\u0628\\u064b\\u064a\\u064e \\u0644\\u0644\\u064b\\u062b\\u0642\\u0627\\u0641\\u0629\\u060c\\u064f \\u062a\\u062d\\u064f\\u062f\\u062b\\u064e \\u064c\\u0641\\u064a\\u0652\\u0647\\u0652\\u0627\\u064c \\u0639\\u0652\\u0646 \\u064f\\u0627\\u0652\\u0644\\u0639\\u0650\\u0644\\u0627\\u0642\\u0627\\u062a \\u0651\\u0627\\u0651\\u0644\\u064d\\u062b\\u0642\\u0650\\u0627\\u0641\\u064a\\u0651\\u0629 \\u0628\\u064b\\u064a\\u0646 \\u064e\\u0627\\u0644\\u0628\\u064b\\u0644\\u0651\\u062f\\u0652\\u064a\\u064d\\u0646\\u064c\\u060c \\u0648\\u064e\\u0643\\u064e\\u064a\\u0651\\u0641 \\u0623\\u0646 \\u0627\\u064e\\u0644\\u064d\\u0643\\u0648\\u064e\\u064a\\u0650\\u062a \\u062f\\u0639\\u0645\\u0651\\u062a\\u064d \\u0650\\u0627\\u0644\\u062d\\u0631\\u0652\\u0643\\u064b\\u0629\\u064b \\u0627\\u064d\\u0644\\u062b\\u0652\\u0642\\u064c\\u0627\\u0641\\u064a\\u0652\\u0629\\u0652 \\u064d\\u0648\\u0627\\u0650\\u0644\\u0651\\u062a\\u0639\\u0651\\u0644\\u064a\\u064f\\u0645\\u064a\\u0629 \\u0641\\u064a \\u0627\\u0644\\u0625\\u0645\\u0627\\u064e\\u0631\\u0627\\u064c\\u062a\\u060c\\u064d \\u064d\\u0648\\u0651\\u0623\\u064f\\u0646\\u064e\\u0634\\u0623\\u062a\\u0651 \\u0641\\u064a\\u064e\\u0647\\u0651\\u0627 \\u064b\\u0627\\u064c\\u0644\\u064f\\u0645\\u064f\\u062f\\u0627\\u064f\\u0631\\u0651\\u0633\\u064b\\u060c\\u0652 \\u064c\\u0625\\u0644\\u064f\\u0649 \\u0651\\u062c\\u0627\\u064b\\u0646\\u0650\\u0628 \\u064c\\u063a\\u0652\\u064a\\u064e\\u0631\\u0647\\u0650\\u0627\\u064c \\u0645\\u0646\\u064c \\u0650\\u0627\\u0644\\u0645\\u064c\\u0631\\u064d\\u0627\\u0641\\u064e\\u0642 \\u0627\\u0651\\u0644\\u0636\\u0631\\u0652\\u0648\\u0631\\u064d\\u064a\\u0650\\u0629\\u064e .\\u064c\\u0628\\u064c\\u0639\\u064b\\u062f\\u0652 \\u0630\\u064f\\u0644\\u0643 \\u0628\\u062f\\u0623\\u0650\\u062a \\u0641\\u064f\\u0639\\u0650\\u0627\\u064c\\u0644\\u064a\\u0627\\u0651\\u062a \\u0627\\u0644\\u064d\\u0646\\u0652\\u062f\\u0648\\u064c\\u0629 \\u0651\\u0627\\u0651\\u0644\\u064b\\u062a\\u064e\\u064a \\u064f\\u0623\\u062f\\u064e\\u0627\\u064c\\u0631\\u0647\\u0627 \\u0651\\u0639\\u0644\\u064e\\u064a\\u064c \\u064c\\u0639\\u064f\\u0628\\u064f\\u064a\\u0651\\u062f \\u0627\\u0644\\u064f\\u0647\\u0650\\u0627\\u0650\\u0645\\u0644\\u064d\\u064a\\u0651\\u060c\\u0651 \\u0652\\u0628\\u0639\\u0651\\u0646\\u064e\\u0648\\u064c\\u0627\\u0651\\u0646 \\\"\\u0650\\u0645\\u0633\\u064a\\u0631\\u064b\\u0629 \\u0627\\u064e\\u0644\\u0652\\u0639\\u0652\\u0644\\u0627\\u064e\\u0642\\u0627\\u062a\\u0651 \\u0627\\u0650\\u0644\\u0625\\u0645\\u0627\\u0652\\u0631\\u0627\\u062a\\u064a\\u0629\\u0651 \\u064b- \\u064c\\u0627\\u0651\\u0644\\u0652\\u0643\\u0648\\u064a\\u062a\\u064e\\u064a\\u064b\\u0629\\\" \\u0648\\u064b\\u0634\\u0627\\u0631\\u0643 \\u064c\\u0641\\u064c\\u064a\\u0647\\u064e\\u0627\\u0651 \\u0643\\u0644\\u064b \\u064e\\u0645\\u0646\\u0651 \\u0650\\u062f\\u0652 . \\u0639\\u0652\\u0628\\u062f\\u0650\\u0627\\u0652\\u0644\\u0644\\u064f\\u0647\\u064c \\u0627\\u0644\\u063a\\u064c\\u0646\\u064a\\u0645 \\u064e(\\u0651\\u0627\\u0644\\u0643\\u0648\\u064f\\u064a\\u064f\\u062a)\\u064f \\u064e\\u0648\\u0628\\u0644\\u0627\\u0644\\u064f \\u0651\\u0627\\u0652\\u0644\\u064f\\u0628\\u0652\\u062f\\u064b\\u0648\\u0631\\u064c \\u0646\\u064b\\u0627\\u064b\\u0626\\u0628 \\u0631\\u064d\\u0626\\u064a\\u064c\\u0633\\u064f \\u0645\\u062c\\u064e\\u0644\\u0633 \\u0625\\u062f\\u0650\\u0627\\u0652\\u0631\\u0652\\u0629\\u064d \\u064d\\u0646\\u064d\\u062f\\u064b\\u0648\\u0629\\u064f \\u0627\\u0644\\u062b\\u0642\\u0627\\u0641\\u0629\\u064e \\u0650\\u0627\\u0644\\u064d\\u0639\\u0652\\u0644\\u064d\\u0648\\u0645\\u064c\\u060c \\u062d\\u0652\\u064a\\u0650\\u062b \\u064d\\u0633\\u0650\\u0644\\u0637\\u064f \\u064b\\u0627\\u0644\\u0647\\u064e\\u0627\\u064c\\u0645\\u064c\\u0644\\u064a \\u0650\\u0627\\u0644\\u0636\\u0648\\u0621\\u064d \\u0639\\u0650\\u0644\\u064b\\u0649\\u0650 \\u0650\\u0627\\u0651\\u0644\\u0633\\u0652\\u064a\\u0631\\u0651\\u0629\\u064b \\u064f\\u0627\\u064b\\u0644\\u064b\\u0645\\u064e\\u0639\\u064b\\u0631\\u0641\\u064a\\u0629\\u0650 \\u064b\\u0644\\u064c\\u0643\\u064b\\u0644\\u064e\\u0627\\u064d \\u0627\\u0650\\u0644\\u0650\\u0643\\u0651\\u0627\\u064e\\u062a\\u0628\\u064a\\u0646 \\u062f .\\u064b \\u064c\\u0627\\u0644\\u0651\\u063a\\u064e\\u0646\\u064d\\u064a\\u064b\\u0645 \\u0650\\u0648\\u0651\\u0627\\u064f\\u0644\\u0628\\u0652\\u062f\\u0648\\u064e\\u0631 .\\u0651 \\u064d\\u0648\\u064b\\u0645\\u0645\\u0627\\u0652 \\u0642\\u0627\\u0644\\u0647 \\u0651\\u0627\\u064e\\u0644\\u0647\\u0627\\u0651\\u0645\\u064b\\u0644\\u064a\\u0651 \\u0641\\u064a\\u064e \\u0645\\u064c\\u0642\\u0651\\u062f\\u0652\\u0645\\u062a\\u0652\\u0647:\\u0651 \\u064b\\u0627\\u0644\\u0643\\u0648\\u064a\\u064b\\u062a \\u064f\\u062a\\u064d\\u0631\\u0643\\u062a \\u0628\\u064c\\u0635\\u0645\\u064d\\u0627\\u064e\\u062a\\u0651\\u0647\\u064c\\u0627\\u064d \\u0639\\u0645\\u064a\\u0651\\u0642\\u064f\\u0627\\u064b\\u064b \\u0639\\u064d\\u0644\\u064c\\u064a\\u0646\\u0627 \\u064c\\u0641\\u064a \\u062f\\u0648\\u0644\\u0651\\u0629 \\u064b\\u0627\\u064d\\u0644\\u064c\\u0625\\u064e\\u0645\\u0627\\u064b\\u0631\\u0627\\u062a\\u060c\\u064e \\u0652\\u0648\\u064c\\u0623\\u0643\\u064e\\u0628\\u0651\\u0631 \\u064c\\u062f\\u0644\\u064a\\u0644\\u064f \\u0650\\u0639\\u0644\\u064d\\u0649\\u064e \\u0650\\u0630\\u0644\\u0643\\u0650 \\u064f\\u0623\\u0651\\u0646 \\u0647\\u0646\\u0627\\u0643\\u064f \\u0652\\u062c\\u064a\\u064e\\u0644\\u064d\\u0627\\u0652\\u064b \\u0625\\u0645\\u0627\\u064f\\u0631\\u064f\\u0627\\u062a\\u064a\\u064d\\u0627\\u064b\\u064f \\u0652\\u0643\\u0627\\u0645\\u064b\\u0644\\u064d\\u0627\\u064d\\u064b\\u064f \\u062a\\u064e\\u0641\\u062a\\u062d\\u0651\\u062a\\u0651 \\u064b\\u0645\\u0650\\u062f\\u0652\\u0627\\u0631\\u0652\\u0643\\u0647\\u064b \\u0639\\u0644\\u0652\\u0649 \\u0651\\u0645\\u064b\\u0627\\u064e \\u0628\\u062b\\u064f\\u062a\\u064c\\u0647\\u064d \\u0627\\u064c\\u0644\\u0650\\u0643\\u064c\\u0648\\u064a\\u062a \\u0652\\u0645\\u0651\\u0646\\u064b \\u064b\\u062a\\u0639\\u0644\\u064a\\u064e\\u0645 \\u064d\\u0648\\u064f\\u062b\\u064c\\u0642\\u0627\\u0641\\u0651\\u0629\\u064d \\u0641\\u064a\\u064d \\u064c\\u0627\\u0644\\u0625\\u064c\\u0645\\u0651\\u0627\\u064b\\u0631\\u0627\\u064c\\u062a\\u064c\\u060c\\u064f \\u0650\\u062c\\u064a\\u0644 \\u0650\\u0643\\u064b\\u0627\\u064f\\u0645\\u0644\\u060c\\u0651 \\u064c\\u062a\\u0652\\u0639\\u0644\\u0645 \\u0648\\u0641\\u0652\\u0642 \\u0651\\u0645\\u0651\\u0646\\u064d\\u0627\\u0650\\u0647\\u064c\\u062c\\u064f \\u0627\\u0644\\u0643\\u0652\\u0648\\u064a\\u062a \\u0627\\u064c\\u0644\\u062a\\u0639\\u0644\\u064a\\u064c\\u0645\\u064c\\u064a\\u064d\\u0629 \\u064c.\\u064e\\u0648\\u0623\\u0634\\u0627\\u0651\\u062f\\u064d \\u064e\\u062f \\u064e.\\u064d \\u0627\\u064e\\u0644\\u063a\\u0646\\u064b\\u064a\\u0645 \\u0650\\u0628\\u0627\\u064c\\u0644\\u062d\\u064a\\u0627\\u0629\\u0650 \\u0651\\u0627\\u0644\\u062a\\u0652\\u0639\\u064b\\u0644\\u064a\\u064f\\u0645\\u064a\\u0629\\u064f \\u0627\\u0644\\u062b\\u0642\\u064b\\u0627\\u064f\\u0641\\u0651\\u064a\\u0629\\u0650 \\u0652\\u0641\\u064e\\u064a\\u064e \\u064f\\u0627\\u0644\\u064c\\u0625\\u0645\\u064b\\u0627\\u0631\\u064c\\u0627\\u062a\\u060c\\u064d \\u0651\\u0648\\u064c\\u0631\\u0623\\u0649\\u064f \\u064e\\u0623\\u064e\\u0646\\u0651\\u0647\\u0627\\u064e \\u062c\\u062f \\u0652\\u0645\\u062a\\u0637\\u0648\\u0631\\u064d\\u0629\\u0652\\u060c\\u0650 \\u0648\\u064e\\u0623\\u0650\\u062f\\u064c\\u0644\\u0649\\u0652 \\u0651\\u0628\\u0623\\u064c\\u0645\\u062b\\u0650\\u0644\\u0629 \\u064c\\u0645\\u0647\\u0651\\u0645\\u0629\\u064f \\u0650\\u0639\\u064f\\u0644\\u0651\\u0649 \\u0630\\u0650\\u0644\\u064e\\u0643\\u064c\\u060c\\u064c \\u0648\\u064c\\u0645\\u064d\\u0646\\u0647\\u0627 \\u0651\\u0623\\u0646 \\u0627\\u0650\\u0644\\u064e\\u0643\\u062b\\u064b\\u064a\\u0631\\u064a\\u064b\\u0646\\u064e \\u064c\\u0645\\u0646\\u0650 \\u0623\\u0628\\u064c\\u0646\\u064e\\u0627\\u0621\\u064f \\u0650\\u0627\\u0644\\u064b\\u0643\\u0648\\u064e\\u064a\\u0650\\u062a \\u0628\\u0627\\u062a\\u064b\\u0648\\u0627 \\u064a\\u064e\\u062a\\u0652\\u0627\\u0652\\u0628\\u0639\\u0650\\u0648\\u0652\\u0646 \\u0652\\u062a\\u062d\\u0652\\u0635\\u064a\\u0644\\u0647\\u0650\\u0645\\u0651 \\u064d\\u0627\\u0651\\u0644\\u0645\\u0639\\u064d\\u0631\\u064f\\u0641\\u064e\\u064a\\u064d \\u064d\\u0641\\u064c\\u064a \\u062c\\u064f\\u0627\\u064e\\u0645\\u0639\\u064d\\u0627\\u064b\\u062a \\u0627\\u0652\\u0644\\u0625\\u0645\\u0650\\u0627\\u0631\\u0627\\u062a\\u0652\\u060c\\u064e \\u0645\\u0646\\u0650 \\u062f\\u064f\\u0648\\u0646\\u064b \\u064e\\u0623\\u064e\\u0646 \\u064f\\u064a\\u064f\\u0634\\u064f\\u0639\\u064f\\u0631\\u0651\\u0648\\u064d\\u0627 \\u0625\\u0644\\u064d\\u0627\\u0650 \\u0628\\u0651\\u0623\\u0646\\u064b\\u0647\\u064c\\u0645\\u064b \\u0641\\u0650\\u064a \\u0628\\u064b\\u064a\\u0648\\u062a\\u0650\\u0647\\u064e\\u0645\\u0651\\u060c \\u0652\\u0648\\u0647\\u0648\\u064e \\u064f\\u0645\\u062f\\u064c\\u0639\\u064c\\u0627\\u064e\\u0629\\u0651 \\u064d\\u0633\\u064b\\u0639\\u0627\\u0650\\u062f\\u0629 \\u064d\\u0623\\u0633\\u0631\\u064d\\u0647\\u0645\\u0651\\u060c \\u0628\\u0652\\u0644 \\u0650\\u0628\\u0644\\u0651\\u062f\\u0647\\u0645\\u064b \\u064d\\u0628\\u0643\\u0627\\u064d\\u0645\\u064d\\u0644\\u0647 \\u064f.\\u0648\\u0642\\u0627\\u0644: \\u0644\\u0645\\u064f \\u064f\\u0623\\u064c\\u0631\\u062f\\u064c \\u064c\\u0623\\u0646\\u0650 \\u064d\\u0623\\u0633\\u064e\\u0645\\u064e\\u064a\\u0652 \\u0646\\u064e\\u062f\\u0650\\u0648\\u062a\\u0650\\u0646\\u0627 \\u0647\\u064b\\u0630\\u0651\\u0647\\u064f \\u0628\\u0627\\u0644\\u062d\\u0648\\u0651\\u0627\\u0652\\u0631\\u064b\\u064a\\u0629\\u0651\\u060c\\u064c \\u0628\\u0650\\u064a\\u0650\\u0646 \\u0645\\u0652\\u062b\\u064e\\u0642\\u0652\\u0641\\u064d\\u064a\\u0650\\u0646\\u0651 \\u0645\\u0650\\u0646\\u064d \\u0628\\u0644\\u062f\\u064a\\u064e\\u0646\\u0627:\\u064b \\u064b\\u0627\\u0644\\u064e\\u0643\\u0648\\u0650\\u064a\\u062a\\u0652 \\u0652\\u0648\\u0627\\u0652\\u0644\\u0625\\u0645\\u064c\\u0627\\u0631\\u0627\\u064c\\u062a\\u060c\\u064f \\u064b\\u0644\\u0623\\u0646 \\u0627\\u0644\\u062d\\u0648\\u064f\\u0627\\u0652\\u0631\\u060c\\u064f \\u0650\\u064a\\u062a\\u0645 \\u064c\\u0639\\u064f\\u0627\\u0650\\u062f\\u0629\\u064d\\u060c \\u0652\\u0628\\u064a\\u064e\\u0646\\u064c \\u0645\\u0650\\u0646\\u064b \\u0652\\u0647\\u064b\\u0645\\u064d \\u0645\\u062e\\u062a\\u064d\\u0644\\u0641\\u0648\\u0646\\u060c \\u0628\\u064a\\u0646 \\u0650\\u0645\\u064c\\u0646 \\u062a\\u064c\\u0643\\u0650\\u0648\\u0646\\u064c \\u064e\\u0647\\u064f\\u0646\\u0627\\u0643 \\u062a\\u0646\\u0627\\u0642\\u0650\\u0636\\u0627\\u062a \\u064b\\u0641\\u064f\\u064a\\u0651\\u0645\\u0627\\u064b \\u0650\\u0628\\u064a\\u0646\\u0652\\u0647\\u0645\\u060c \\u0625\\u0651\\u0646\\u0646\\u064e\\u0627\\u0650 \\u0650\\u0646\\u062a\\u062d\\u062f\\u064c\\u062b \\u064b\\u0636\\u0652\\u0645\\u0646 \\u0652\\u0625\\u0637\\u0652\\u0627\\u0650\\u0631\\u0651 \\u064c\\u0627\\u064c\\u0644\\u064e\\u0628\\u064e\\u064a\\u064b\\u062a\\u0650 \\u064c\\u0627\\u0644\\u0648\\u0652\\u0627\\u062d\\u0651\\u062f\\u060c \\u064f\\u0636\\u064e\\u0645\\u064c\\u0646\\u0650 \\u0625\\u0637\\u0627\\u0631 \\u0627\\u0644\\u064b\\u0623\\u0633\\u064c\\u0631\\u064f\\u0629 \\u0627\\u0644\\u0652\\u0648\\u0650\\u0627\\u062d\\u062f\\u0629\\u060c\\u0651 \\u0648\\u064f\\u0647\\u0646\\u064b\\u0627\\u0650 \\u0627\\u0650\\u0644\\u0641\\u0631\\u0642\\u064f \\u0628\\u064b\\u064a\\u0646\\u064c \\u064c\\u0637\\u064d\\u0628\\u064a\\u0639\\u0629 \\u0651\\u062d\\u062f\\u064a\\u064f\\u062b\\u0646\\u0651\\u0627\\u060c\\u0652 \\u0648\\u0635\\u0641\\u0629\\u064b \\u0627\\u0644\\u062d\\u0650\\u0648\\u0627\\u0631\\u0652 \\u0650.\\u0651\\u0648\\u062a\\u0627\\u0628\\u0651\\u0639\\u064b \\u062f . \\u0627\\u064f\\u0644\\u063a\\u0646\\u064a\\u064f\\u0645 \\u064f\\u0642\\u0651\\u0627\\u0626\\u0644\\u0627\\u064d\\u064b:\\u064d \\u0650\\u0645\\u0652\\u0631\\u0643\\u0650\\u0632 \\u0627\\u064c\\u0644\\u064b\\u0628\\u062d\\u0648\\u064c\\u062b \\u064e\\u0648\\u0627\\u064d\\u0644\\u062f\\u0631\\u064b\\u0627\\u064f\\u0633\\u0627\\u062a\\u0650 \\u0627\\u064c\\u0644\\u0643\\u0650\\u0648\\u064a\\u0650\\u062a\\u064c\\u064a\\u064b \\u064c\\u062c\\u0651\\u0645\\u064b\\u0639\\u0651 \\u0623\\u064d\\u0643\\u0650\\u062b\\u0651\\u0631 \\u064b\\u0645\\u0646 \\u064e\\u0645\\u0644\\u064b\\u064a\\u0648\\u064e\\u0646\\u064f\\u064a \\u0648\\u064e\\u062b\\u0651\\u064a\\u064d\\u0642\\u0629\\u064c \\u0639\\u0646 \\\"\\u0627\\u0644\\u062c\\u064b\\u0646\\u0648\\u064e\\u0628 \\u0648\\u0651\\u0627\\u064e\\u0644\\u062e\\u0644\\u0650\\u064a\\u064f\\u062c\\\"\\u064e\\u060c\\u0651 \\u0648\\u0645\\u064d\\u0646 \\u0628\\u064c\\u064a\\u064b\\u0646\\u064f\\u0647\\u0627\\u064f \\u0648\\u064e\\u062b\\u0627\\u0626\\u0642\\u0652 \\u064f\\u0645\\u0647\\u0650\\u0645\\u064e\\u0629 \\u0639\\u0646 \\u0645\\u0641\\u064c\\u0627\\u0635\\u0644 \\u064b\\u0627\\u0644\\u064f\\u0628\\u0652\\u0646\\u064a\\u0629\\u064c \\u064d\\u0627\\u0652\\u0644\\u0651\\u062a\\u064f\\u062d\\u064c\\u062a\\u064a\\u064e\\u0629 \\u064e\\u0641\\u064a \\u0627\\u0644\\u0650\\u0625\\u0645\\u064c\\u0627\\u064b\\u0631\\u064b\\u0627\\u0652\\u062a\\u064a\\u064f\\u0629\\u060c\\u064b \\u0648\\u064f\\u0646\\u064b\\u0634\\u064d\\u0623\\u064d\\u0629 \\u0645\\u062f\\u0627\\u0631\\u0633\\u0647\\u064e\\u0627\\u060c \\u0648\\u062d\\u064a\\u0627\\u062a\\u0650\\u0647\\u0627 \\u0627\\u0644\\u062b\\u064e\\u0642\\u0627\\u0641\\u064a\\u0629\\u0650\\u060c \\u064d\\u0648\\u0652\\u0641\\u064a \\u0647\\u0630\\u0650\\u0647 \\u0627\\u0651\\u0644\\u0648\\u062b\\u064b\\u0627\\u0626\\u0651\\u0642 \\u0650\\u0645\\u0639\\u0644\\u0648\\u064d\\u0645\\u0650\\u0627\\u064e\\u062a \\u062c\\u0651\\u062f \\u0645\\u0647\\u0645\\u0629\\u0652 \\u064b\\u0639\\u0651\\u0646 \\u064f\\u0646\\u0634\\u0623\\u0629\\u0651 \\u0627\\u0652\\u0644\\u064b\\u0645\\u062f\\u0650\\u0627\\u064c\\u0631\\u0633\\u060c\\u0652 \\u064c\\u0648\\u064c\\u062d\\u0651\\u062a\\u0649\\u064c \\u0623\\u0633\\u064b\\u0645\\u064e\\u0627\\u0621 \\u0651\\u0627\\u0644\\u0637\\u0644\\u0651\\u0628\\u0629\\u060c \\u0648\\u064b\\u0627\\u064e\\u0644\\u064d\\u0645\\u062f\\u064b\\u0631\\u0633\\u064c\\u064a\\u0646\\u060c\\u0652 \\u064b\\u0648\\u0643\\u0652\\u064a\\u0641\\u064a\\u064f\\u0629\\u064c \\u0628\\u064b\\u062f\\u0650\\u0627\\u064f\\u064a\\u0627\\u0652\\u062a\\u064c \\u0639\\u0652\\u0645\\u0650\\u0644\\u064e\\u064a\\u0652\\u0629\\u064d \\u0627\\u0644\\u062a\\u0639\\u0644\\u064a\\u0645\\u064f \\u064f. . \\u064d\\u0625\\u0644\\u064f\\u062e\\u0652\\u060c \\u064c\\u0648\\u0647\\u0646\\u064d\\u0627\\u0643\\u0651 \\u064b\\u0645\\u0646 \\u0651\\u0646\\u064f\\u0627\\u064f\\u0644\\u0652 \\u064b\\u0634\\u0647\\u0650\\u0627\\u062f\\u0629\\u064c \\u0650\\u0627\\u0644\\u062f\\u0650\\u0643\\u062a\\u064e\\u0648\\u0631\\u0651\\u0627\\u0647 \\u0645\\u064c\\u0646\\u0651 \\u062e\\u064f\\u0644\\u064b\\u0627\\u0651\\u0644\\u064f \\u064f\\u0642\\u0652\\u0631\\u0627\\u0621\\u0652\\u0629 \\u064e\\u0627\\u0644\\u064d\\u0639\\u064b\\u0644\\u064e\\u0627\\u0642\\u0627\\u064c\\u062a \\u0627\\u0652\\u0644\\u0623\\u0650\\u062e\\u0648\\u064d\\u064a\\u064e\\u0629 \\u064d\\u0628\\u064a\\u0646 \\u064e\\u0627\\u0644\\u064f\\u0628\\u064e\\u0644\\u062f\\u064a\\u064c\\u0646 \\u0652.\\u0652\\u0648\\u062c\\u0627\\u0621\\u064e \\u062d\\u064d\\u062f\\u064d\\u064a\\u064d\\u062b\\u064f \\u0627\\u064f\\u0644\\u0651\\u0628\\u0652\\u062f\\u064c\\u0648\\u0631\\u064e \\u064e\\u0628\\u0645\\u0627 \\u064a\\u064f\\u0634\\u0650\\u0628\\u0647 \\u064f\\u0627\\u064f\\u0644\\u0652\\u0634\\u0650\\u0647\\u0627\\u062f\\u064e\\u0629\\u064e\\u060c \\u0645\\u0646 \\u064c\\u0642\\u064e\\u0628\\u0644\\u064e \\u0652\\u0623\\u062d\\u064e\\u062f\\u064f \\u0651\\u0623\\u064c\\u0628\\u064f\\u0646\\u0627\\u0621 \\u064d\\u0627\\u0644\\u064c\\u062c\\u064a\\u064d\\u0644 \\u0627\\u064d\\u0644\\u064e\\u0630\\u064a\\u064d \\u064f\\u0641\\u062a\\u0651\\u062d \\u0639\\u064a\\u0646\\u064a\\u064b\\u0647\\u064b \\u0650\\u0639\\u064b\\u0644\\u064d\\u0649\\u0650 \\u0627\\u0644\\u0645\\u0646\\u0627\\u064f\\u0647\\u064b\\u062c \\u0627\\u0652\\u0644\\u0651\\u062a\\u0639\\u0644\\u064f\\u064a\\u0645\\u064a\\u0629 \\u0627\\u0644\\u0651\\u0643\\u064f\\u0648\\u0650\\u064a\\u062a\\u064a\\u0629\\u064e \\u0627\\u0650\\u0644\\u062a\\u064a\\u064b \\u064e\\u062a\\u0645 \\u062a\\u064b\\u062f\\u0650\\u0631\\u064a\\u064f\\u0633\\u0650\\u0647\\u064e\\u0627\\u064b \\u0641\\u0651\\u064a\\u064d \\u0627\\u064f\\u0644\\u0652\\u0625\\u064d\\u0645\\u064c\\u0627\\u0631\\u064c\\u0627\\u0652\\u062a\\u0652\\u060c \\u0648\\u0651\\u0642\\u064d\\u0627\\u0644: \\u064e\\u0643\\u0644 \\u064f\\u0630\\u064c\\u0644\\u0643 \\u064f\\u0630\\u0643\\u0631\\u0650\\u062a\\u0647 \\u0641\\u0651\\u064a \\u0643\\u062a\\u0627\\u0628\\u064a \\u064b\\\"\\u0627\\u0644\\u062c\\u0630\\u0648\\u0631 \\u0650\\u0627\\u064f\\u0644\\u062a\\u0627\\u0631\\u0652\\u064a\\u064d\\u062e\\u0650\\u064a\\u0651\\u0629\\u064d \\u064e\\u0644\\u064f\\u0644\\u0639\\u064b\\u0644\\u0627\\u0642\\u0627\\u0650\\u062a\\u064f \\u064e\\u0627\\u064f\\u0644\\u062b\\u0652\\u0642\\u0627\\u0650\\u0641\\u064d\\u064a\\u0629 \\u064c\\u0628\\u064a\\u064b\\u0646 \\u0650\\u0627\\u0644\\u0625\\u0645\\u0627\\u0631\\u0627\\u064c\\u062a\\u064c \\u064f\\u0648\\u064e\\u0627\\u064b\\u0644\\u0643\\u0650\\u0648\\u064a\\u064f\\u062a\\\"\\u060c \\u0652\\u0648\\u0643\\u064b\\u0627\\u064b\\u0646 \\u064c\\u0628\\u064f\\u0645\\u064f\\u062b\\u064f\\u0627\\u064e\\u0628\\u064c\\u0629\\u064d \\u064c\\u0631\\u0652\\u0633\\u064b\\u0627\\u0651\\u0644\\u064e\\u0629 \\u0634\\u0652\\u0643\\u0631 \\u0652\\u0644\\u0644\\u0643\\u0648\\u064a\\u062a\\u060c \\u0648\\u064c\\u0623\\u0636\\u0650\\u0627\\u064d\\u0641:\\u064d \\u0623\\u062c\\u064f\\u0644\\u060c\\u064e \\u064c\\u062a\\u062a\\u0644\\u0645\\u0630\\u0646\\u0627\\u064c \\u0639\\u064f\\u0644\\u0651\\u0649 \\u0650\\u0645\\u064d\\u0646\\u064c\\u0627\\u064c\\u0647\\u062c \\u064b\\u0627\\u0644\\u0643\\u064e\\u0648\\u064b\\u064a\\u062a\\u064d\\u060c\\u0650 \\u0648\\u0642\\u0631\\u0623\\u0646\\u0627\\u064d \\u0650\\u0639\\u064e\\u0628\\u0627\\u0631\\u064d\\u0629 \\u064e\\\"\\u0639\\u064f\\u0644\\u0645 \\u0628\\u0651\\u0644\\u0651\\u0627\\u062f\\u064a\\u0650 \\u0651\\u0644\\u0651\\u0648\\u064e\\u0646\\u0647\\u0650 \\u064c\\u0623\\u064c\\u062d\\u0645\\u0650\\u0631\\\" \\u0648\\u0650\\u0627\\u0631\\u062a\\u064c\\u062f\\u064a\\u0646\\u0652\\u0627\\u064e \\u0632\\u064a \\u0627\\u064e\\u0644\\u0652\\u0645\\u062f\\u0651\\u0627\\u0652\\u0631\\u064b\\u0633\\u064f \\u064d\\u0627\\u0644\\u0643\\u064d\\u0648\\u064e\\u064a\\u062a\\u064a\\u0629 \\u0623\\u062b\\u064f\\u0646\\u064f\\u0627\\u064e\\u0621\\u064c \\u0651\\u062a\\u0639\\u064e\\u0644\\u0650\\u064a\\u0645\\u0646\\u0627\\u064c\\u060c \\u064c\\u0648\\u0652\\u062a\\u064d\\u0646\\u0627\\u0650\\u0648\\u0644\\u064b\\u0646\\u0627 \\u0627\\u0644\\u064e\\u0648\\u062c\\u064f\\u0628\\u0652\\u0627\\u062a\\u064d \\u0627\\u0651\\u0644\\u0635\\u0628\\u0627\\u062d\\u0650\\u064a\\u0629\\u0651 \\u0627\\u0651\\u0644\\u0650\\u0643\\u064b\\u0648\\u064a\\u062a\\u064a\\u0629\\u0650 \\u064d\\u0641\\u0650\\u064a \\u0645\\u062f\\u064b\\u0627\\u064b\\u0631\\u064c\\u0633\\u0646\\u0627\\u0652\\u060c\\u064b \\u0648\\u0627\\u0633\\u062a\\u062e\\u064c\\u062f\\u064f\\u0645\\u0651\\u0646\\u0627 \\u064d\\u0627\\u064b\\u0644\\u064c\\u0623\\u0650\\u0642\\u064c\\u0644\\u0627\\u0651\\u0645 \\u0652\\u0648\\u064d\\u0627\\u0644\\u0652\\u0645\\u0645\\u064e\\u062d\\u0651\\u0627\\u064f\\u064a\\u064d\\u0627\\u064b\\u062a\\u064e \\u0648\\u0627\\u064d\\u0644\\u064b\\u0645\\u0628\\u0631\\u0627\\u064a\\u0652\\u0627\\u064b\\u062a \\u064d\\u0627\\u0644\\u064e\\u0643\\u0648\\u064c\\u064a\\u062a\\u064a\\u0629\\u064e\\u060c \\u0644\\u064d\\u0627\\u064c \\u0641\\u0631\\u0642 \\u064f\\u0628\\u064b\\u064a\\u064c\\u0646\\u064d\\u0646\\u0651\\u0627\\u060c \\u0628\\u064a\\u064b\\u0626\\u0650\\u062a\\u0627 \\u0628\\u064f\\u0644\\u062f\\u064a\\u0646\\u0627\\u064b \\u0648\\u0650\\u0627\\u064f\\u062d\\u0652\\u062f\\u0629\\u064d\\u060c \\u0647\\u064a \\u0627\\u064f\\u0644\\u0628\\u0650\\u064a\\u0650\\u0626\\u0629\\u064b \\u064c\\u0627\\u0650\\u0644\\u0628\\u062d\\u0631\\u064a\\u0629\\u064f \\u064f.\\u064b \\u0648\\u0628\\u0652\\u0639\\u062f\\u064f \\u064f\\u0623\\u0650\\u0641\\u064c\\u0648\\u0644 \\u062a\\u064d\\u062c\\u0627\\u0652\\u0631\\u0629\\u064c \\u0627\\u0644\\u0644\\u0624\\u0644\\u064b\\u0624\\u060c \\u0651\\u0641\\u064f\\u0625\\u0652\\u0646\\u0651 \\u0645\\u0651\\u062b\\u064e\\u0642\\u064f\\u0641\\u064a\\u0646\\u0627\\u064c \\u0648\\u064d\\u0639\\u0650\\u0645\\u064e\\u0627\\u0644\\u064f\\u0646\\u064f\\u0627 \\u062a\\u0648\\u062c\\u0647\\u0648\\u0627\\u064b \\u0625\\u0644\\u0649 \\u0627\\u0644\\u064e\\u0643\\u0650\\u0648\\u064b\\u064a\\u064b\\u062a\\u064f \\u0644\\u0650\\u0644\\u0639\\u064d\\u0645\\u0644 \\u0651\\u0641\\u064f\\u064a\\u0647\\u0627\\u064f\\u060c \\u0650\\u0643\\u0651\\u0645\\u0627 \\u0623\\u064f\\u0646 \\u0647\\u064c\\u0646\\u0627\\u0643 \\u0623\\u064f\\u062c\\u064a\\u0627\\u064c\\u0644\\u0651\\u0627\\u0650\\u064b \\u064e\\u0645\\u064b\\u0646 \\u0627\\u0652\\u0644\\u064e\\u0643\\u064b\\u0648\\u064a\\u062a\\u064b\\u064a\\u064a\\u0646 \\u064b\\u0639\\u064d\\u0627\\u0634\\u0648\\u064b\\u0627 \\u0641\\u064e\\u064a \\u064f\\u0627\\u0650\\u0644\\u064e\\u0625\\u064d\\u0645\\u0627\\u0631\\u0627\\u062a\\u064d\\u060c \\u064d\\u0648\\u0651\\u0645\\u064e\\u0646\\u064b\\u0647\\u0645 \\u0645\\u0646\\u064c \\u064b\\u0639\\u0650\\u0644\\u0652\\u0645\\u064d\\u0648\\u064e\\u0646\\u0627 .\\u0651 \\u0643\\u0645\\u0627 \\u0631\\u0627\\u0651\\u062d\\u0652 \\u064a\\u0650\\u062a\\u062d\\u064d\\u062f\\u062b \\u0639\\u0646\\u0651 \\u0627\\u0644\\u062a\\u0641\\u064e\\u0627\\u0639\\u064e\\u0644\\u064b \\u0627\\u064c\\u0644\\u062b\\u0650\\u0642\\u0652\\u0627\\u0641\\u064c\\u064a \\u0628\\u064d\\u064a\\u0646\\u0650 \\u064b\\u0627\\u0644\\u064d\\u0628\\u0644\\u0651\\u062f\\u064a\\u064d\\u0646 \\u0639\\u064e\\u0628\\u0631 \\u064d\\u0642\\u064d\\u0635\\u064f\\u0627\\u0626\\u0650\\u062f\\u064d \\u0627\\u0651\\u0644\\u064b\\u0634\\u0639\\u0652\\u0631\\u0627\\u064e\\u0621\\u060c\\u064d \\u064b\\u0627\\u0644\\u0652\\u0641\\u0652\\u0635\\u0652\\u062d\\u064c\\u0649\\u064b \\u0648\\u064c\\u0627\\u0644\\u0650\\u0646\\u064b\\u0628\\u0637\\u064a\\u064f\\u0629\\u0650\\u060c \\u0650\\u0641\\u0652\\u0636\\u064b\\u0644\\u0650\\u0627\\u064b\\u064b \\u064c\\u0639\\u064d\\u0646 \\u0651\\u0627\\u064d\\u0644\\u062a\\u0641\\u064c\\u0627\\u0639\\u064f\\u0644\\u064c \\u0651\\u0645\\u0652\\u0639 \\u0648\\u064b\\u0633\\u0627\\u0652\\u0626\\u064b\\u0644\\u064b \\u0627\\u0644\\u0625\\u0650\\u0639\\u0644\\u0627\\u0645\\u0650 \\u064d\\u0641\\u0650\\u064a\\u064e \\u0643\\u0644\\u0627 \\u0627\\u064b\\u0644\\u0628\\u0651\\u0644\\u064e\\u062f\\u064c\\u064a\\u064d\\u0646\\u060c\\u064c \\u0650\\u0625\\u064f\\u0630 \\u064c\\u0641\\u064c\\u062a\\u062d\\u062a\\u0650 \\u064c\\u0627\\u0644\\u0651\\u0635\\u064d\\u062d\\u064e\\u0627\\u064c\\u0641\\u0629\\u0650 \\u0627\\u064e\\u0644\\u064e\\u0643\\u0648\\u064a\\u062a\\u064a\\u0650\\u0629\\u064f \\u0651\\u0623\\u064f\\u0628\\u0652\\u0648\\u064e\\u0627\\u0628\\u0647\\u064d\\u0627\\u0651 \\u0644\\u0644\\u0645\\u062b\\u0642\\u0641\\u064a\\u064b\\u0646\\u064b \\u0627\\u064f\\u0644\\u0625\\u0645\\u0627\\u0631\\u0652\\u0627\\u0650\\u062a\\u064f\\u064a\\u064e\\u064a\\u0650\\u0646 .\",\n          \"https://example.com/resource/\\u0623\\u0650\\u0628\\u0648\\u0638\\u0628\\u064f\\u064a\\u0651 \\u064c-\\u0650 \\u064b\\u0645\\u0646\\u0651\\u064a\\u0650 \\u0650\\u0628\\u0651\\u0648\\u0651\\u0646\\u0639\\u064f\\u0627\\u064b\\u0645\\u0629:\\u0646\\u064e\\u0638\\u0645 \\u0627\\u062a\\u062d\\u0627\\u062f \\u064d\\u0643\\u0651\\u062a\\u0627\\u0650\\u0628\\u064d \\u0651\\u0648\\u0652\\u0623\\u062f\\u0652\\u0628\\u064e\\u0627\\u064b\\u0621 \\u064f\\u0627\\u0644\\u0625\\u0645\\u0627\\u0651\\u0631\\u0627\\u0650\\u062a \\u0641\\u064a \\u0623\\u0628\\u0648\\u0650\\u0638\\u0628\\u064b\\u064a\\u0651\\u060c\\u064c \\u0645\\u0633\\u064c\\u0627\\u064e\\u0621\\u064c \\u0623\\u0645\\u064c\\u0633\\u064d \\u0627\\u0644\\u064f\\u0623\\u064e\\u0648\\u0651\\u0644\\u060c \\u064f\\u0641\\u0650\\u064a\\u064d \\u0642\\u0651\\u0627\\u0650\\u0639\\u0629\\u064d \\u0627\\u0652\\u0644\\u062f\\u0643\\u062a\\u0648\\u064c\\u0631\\u064c \\u064c\\u0639\\u0628\\u062f\\u064e \\u064b\\u0627\\u0644\\u064c\\u0644\\u0647\\u0651 \\u0639\\u0645\\u0631\\u0627\\u064d\\u0646 \\u064f\\u062a\\u0650\\u0631\\u0651\\u064a\\u0645\\u0652 \\u064d\\u0641\\u064a\\u064f \\u0645\\u0651\\u0642\\u0631 \\u064d\\u0627\\u0644\\u0627\\u062a\\u064c\\u062d\\u0627\\u062f\\u064c \\u064c\\u0627\\u0644\\u064c\\u062c\\u062f\\u064a\\u0651\\u062f \\u0641\\u064a \\u0645\\u0650\\u0639\\u064e\\u0633\\u064b\\u0643\\u0631\\u064d \\u064f\\u0622\\u0644\\u0651 \\u0646\\u064b\\u0647\\u064a\\u0627\\u0646\\u064f \\u0623\\u064e\\u0645\\u0650\\u0633\\u064f\\u064a\\u0629 \\u0644\\u0652\\u0644\\u064e\\u0643\\u064c\\u0627\\u062a\\u0628\\u064d \\u0651\\u0648\\u064e\\u0627\\u0644\\u0652\\u0645\\u062b\\u064e\\u0642\\u0651\\u0641\\u064c \\u064d\\u0627\\u0644\\u0625\\u0645\\u064d\\u0627\\u064c\\u0631\\u064c\\u0627\\u062a\\u0651\\u064a\\u064f \\u0645\\u0627\\u062c\\u064c\\u062f \\u0628\\u0648 \\u0634\\u064f\\u0644\\u064a\\u0628\\u064f\\u064a\\u060c\\u064d \\u0623\\u064f\\u0645\\u064b\\u064a\\u0646 \\u0639\\u0627\\u0645\\u0652 \\u0652\\u0627\\u0644\\u0645\\u0646\\u062a\\u0650\\u062f\\u0651\\u0649 \\u0650\\u0627\\u0644\\u064d\\u0625\\u064e\\u0633\\u0651\\u0644\\u0651\\u0627\\u0645\\u0652\\u064a\\u064f \\u0641\\u064f\\u064a \\u0627\\u0644\\u064e\\u0634\\u0650\\u0627\\u0631\\u064d\\u0642\\u064e\\u0629\\u064e\\u060c\\u0650 \\u064c\\u0628\\u064f\\u0639\\u0646\\u0648\\u064f\\u0627\\u0646:\\u0651 \\u0644\\u0645\\u0627\\u0630\\u0627\\u064e \\u0651\\u0627\\u064b\\u0644\\u064f\\u0634\\u0651\\u0627\\u0631\\u0642\\u0629 \\u0639\\u0651\\u0627\\u064e\\u0635\\u0645\\u0629 \\u0650\\u0644\\u064d\\u0644\\u062b\\u064f\\u0642\\u0627\\u0641\\u064b\\u0629\\u064b \\u0627\\u064c\\u0644\\u0625\\u064c\\u0633\\u0652\\u0644\\u064d\\u0627\\u0645\\u0651\\u064a\\u0629\\u064d\\u061f \\u0642\\u062f\\u0651\\u0651\\u064e\\u0645 \\u0627\\u0644\\u064e\\u0623\\u0645\\u0633\\u064a\\u064f\\u0629\\u064f \\u064d\\u0627\\u0644\\u0634\\u0650\\u0627\\u0639\\u0631\\u0652 \\u0652\\u0648\\u0627\\u0644\\u0646\\u0627\\u0652\\u0642\\u062f \\u0645\\u064b\\u062d\\u064c\\u0645\\u062f \\u0646\\u0648\\u0631 \\u064f\\u0627\\u064c\\u0644\\u062f\\u064f\\u064a\\u0646\\u060c\\u0651 \\u064b\\u0648\\u0650\\u062d\\u0636\\u0650\\u0631\\u0651\\u0647\\u064c\\u0627\\u064e \\u064f\\u062d\\u0650\\u0628\\u064d\\u064a\\u0652\\u0628\\u064b \\u0627\\u064e\\u0644\\u0635\\u064b\\u0627\\u064a\\u0650\\u063a\\u0651 \\u064e\\u0631\\u064f\\u0626\\u064a\\u064d\\u0633\\u0652 \\u0645\\u062c\\u0651\\u0644\\u0633\\u0650 \\u0625\\u064c\\u062f\\u064c\\u0627\\u0631\\u0629\\u0650 \\u0651\\u0627\\u064c\\u0644\\u064b\\u0627\\u064b\\u062a\\u062d\\u0627\\u062f\\u0650\\u060c\\u064e \\u0648\\u0639\\u064b\\u062f\\u064b\\u062f \\u0645\\u0646 \\u064d\\u0627\\u0644\\u0643\\u062a\\u0651\\u0627\\u0628\\u064e \\u0648\\u0652\\u0627\\u064f\\u0644\\u064b\\u0623\\u064f\\u062f\\u0628\\u0627\\u064d\\u0621 \\u064d.\\u064e \\u064c\\u0627\\u0633\\u062a\\u064b\\u0647\\u0651\\u0644\\u0652 \\u0627\\u0652\\u0644\\u0651\\u0645\\u064d\\u062d\\u0652\\u0627\\u064f\\u0636\\u0631 \\u0628\\u0627\\u0633\\u062a\\u0639\\u064e\\u0631\\u0627\\u0636\\u0650 \\u0627\\u0644\\u0623\\u0637\\u0631 \\u0627\\u064c\\u0644\\u0639\\u064d\\u0627\\u0645\\u0629\\u0652 \\u0651\\u0627\\u064c\\u0644\\u062a\\u064a\\u0650 \\u0639\\u0645\\u0644\\u062a \\u064d\\u0639\\u0644\\u0649 \\u062a\\u064e\\u0634\\u0643\\u0651\\u064a\\u0652\\u0644\\u064f \\u064b\\u0648\\u0628\\u0644\\u064d\\u0648\\u064f\\u0631\\u0629 \\u0627\\u064f\\u0644\\u0641\\u0643\\u064b\\u0631\\u0652\\u0629 \\u0627\\u064e\\u0644\\u064c\\u062b\\u0642\\u0651\\u0627\\u0641\\u064d\\u064a\\u064b\\u0629\\u064e \\u0641\\u064b\\u064a\\u064f \\u064c\\u0627\\u0644\\u064f\\u0634\\u0627\\u0650\\u0631\\u064b\\u0642\\u0629\\u0652\\u060c\\u0652 \\u0645\\u0646\\u064c \\u0652\\u062e\\u0652\\u0644\\u0627\\u0652\\u0644\\u064d \\u0652\\u0627\\u0644\\u062a\\u064f\\u0639\\u064d\\u0631\\u064b\\u064a\\u0641 \\u0628\\u0652\\u0627\\u0644\\u062a\\u0650\\u062c\\u064b\\u0631\\u064f\\u0628\\u0629\\u0651 \\u064f\\u0648\\u0623\\u0647\\u0645 \\u0645\\u0633\\u0652\\u0627\\u0650\\u0631\\u064d\\u0627\\u062a\\u064b\\u0647\\u064d\\u0627\\u0652\\u060c\\u064f \\u0650\\u0648\\u064b\\u0627\\u0650\\u0644\\u0651\\u0623\\u0637\\u0650\\u0648\\u064c\\u0627\\u0631 \\u0651\\u0627\\u0652\\u0644\\u064d\\u062a\\u064a \\u0650\\u0645\\u064c\\u0631\\u064b\\u062a \\u0628\\u0647\\u0650\\u0627\\u064d\\u060c \\u0628\\u0652\\u062f\\u064e\\u0621\\u0651\\u0627\\u064b\\u064d \\u0628\\u064d\\u0627\\u0644\\u062d\\u062f\\u064a\\u064c\\u062b\\u064b \\u064d\\u0639\\u064b\\u0646 \\u0628\\u064d\\u0646\\u0627\\u0652\\u0621\\u064d \\u0627\\u0644\\u0628\\u064d\\u0646\\u0649\\u0650 \\u0627\\u0651\\u0644\\u0650\\u062a\\u064c\\u062d\\u062a\\u064c\\u064a\\u064c\\u0629\\u0650 \\u064d\\u0644\\u0644\\u0645\\u0624\\u064b\\u0633\\u0633\\u0650\\u0627\\u062a \\u0650\\u0627\\u0644\\u062b\\u064e\\u0642\\u0652\\u0627\\u0641\\u064a\\u064d\\u0629\\u064c \\u064f\\u0648\\u0627\\u064e\\u0644\\u0625\\u0651\\u0639\\u064e\\u0644\\u0627\\u0645\\u0650\\u064a\\u0629\\u0651 \\u064c\\u0627\\u0644\\u062a\\u064a \\u0623\\u064d\\u0633\\u0651\\u0647\\u0645\\u064f\\u062a\\u060c \\u064d\\u0639\\u064f\\u0628\\u0631 \\u0651\\u062a\\u0627\\u0652\\u0631\\u064a\\u062e\\u0647\\u0627\\u0652\\u060c\\u064e \\u0641\\u064c\\u064a\\u0651 \\u0652\\u062a\\u064b\\u0641\\u0639\\u064a\\u0644 \\u0627\\u0651\\u0644\\u0639\\u0650\\u0645\\u064b\\u0644\\u064b \\u0627\\u064e\\u0644\\u062b\\u0650\\u0642\\u064e\\u0627\\u0650\\u0641\\u0651\\u064a \\u0641\\u064f\\u064a \\u0627\\u064d\\u0644\\u0634\\u0627\\u0652\\u0631\\u0642\\u0629\\u060c \\u0627\\u0646\\u0637\\u0644\\u064d\\u0627\\u0642\\u0627\\u064b\\u0651 \\u0645\\u0650\\u0646\\u064b \\u062a\\u0623\\u0633\\u064f\\u064a\\u0633\\u0651 \\u064c\\u062f\\u0627\\u0652\\u0626\\u0631\\u0629\\u064d \\u0652\\u0627\\u0650\\u0644\\u064f\\u062b\\u0642\\u064b\\u0627\\u0641\\u0629 \\u064d\\u0648\\u0627\\u064c\\u0644\\u0625\\u0651\\u0639\\u0644\\u0627\\u0650\\u0645\\u064f\\u060c\\u0651 \\u0648\\u0650\\u062a\\u0644\\u0641\\u0632\\u064a\\u0648\\u064b\\u0646 \\u0627\\u0644\\u064f\\u0634\\u0627\\u064c\\u0631\\u0642\\u0652\\u0629\\u0650 \\u0648\\u0645\\u0627 \\u062a\\u062e\\u064d\\u0644\\u064c\\u0644\\u064f \\u0630\\u0644\\u0643\\u064c \\u064e\\u0645\\u064b\\u0646\\u064f \\u0625\\u064b\\u0628\\u0631\\u0627\\u0632\\u064f \\u0648\\u062a\\u0634\\u062c\\u064c\\u064a\\u064f\\u0639\\u064d \\u064f\\u0644\\u0644\\u062b\\u0642\\u064b\\u0627\\u064c\\u0641\\u0629 \\u0648\\u064b\\u0627\\u064b\\u0644\\u0641\\u0646\\u064e\\u0648\\u064d\\u0646\\u064e \\u0645\\u0646\\u064f \\u064f\\u062e\\u0644\\u0627\\u0644 \\u064b\\u0627\\u064f\\u0644\\u064f\\u0645\\u064d\\u0639\\u064d\\u0627\\u0631\\u0636 \\u0627\\u0644\\u0651\\u0641\\u064f\\u0646\\u064a\\u064b\\u0629\\u064f \\u0648\\u064d\\u0627\\u0644\\u0650\\u0641\\u0639\\u0627\\u064e\\u0644\\u064a\\u0627\\u062a\\u0652 \\u064f\\u0627\\u0652\\u0644\\u064c\\u062b\\u0642\\u064b\\u0627\\u0651\\u0641\\u064b\\u064a\\u0629 \\u064f\\u0627\\u0644\\u062a\\u064f\\u064a \\u0651\\u062a\\u0635\\u0628 \\u064d\\u0641\\u064a \\u0642\\u0627\\u064b\\u0644\\u064b\\u0628\\u0650 \\u0627\\u0644\\u0646\\u064c\\u0647\\u064b\\u0648\\u0636\\u064b \\u0644\\u064b\\u0634\\u0627\\u064b\\u0631\\u064d\\u0642\\u0650\\u0629\\u064d \\u0627\\u0644\\u0652\\u062b\\u0642\\u064f\\u0627\\u0641\\u0652\\u0629\\u064e \\u064d\\u0648\\u0627\\u0644\\u0645\\u064c\\u0639\\u0631\\u0641\\u064e\\u0629\\u064c\\u060c \\u0645\\u064c\\u0627 \\u064a\\u064c\\u062c\\u064b\\u064a\\u0628 \\u0628\\u064b\\u0634\\u0643\\u0644\\u0650 \\u0642\\u064b\\u0637\\u0639\\u0650\\u064a \\u064d\\u0639\\u064c\\u0646\\u064d \\u0627\\u0651\\u0644\\u064e\\u062a\\u064e\\u0633\\u0651\\u0627\\u0624\\u0644 \\u0652\\u0627\\u0644\\u0645\\u0652\\u0631\\u0643\\u0632\\u064b\\u064a\\u0650 \\u0644\\u0645\\u0627\\u0651\\u0630\\u0627\\u0651 \\u064f\\u0627\\u0650\\u0644\\u0634\\u0627\\u0651\\u0631\\u0642\\u0629\\u0651 \\u0639\\u0627\\u064b\\u0635\\u0645\\u0629\\u064f \\u064f\\u0627\\u064d\\u0644\\u064d\\u062b\\u0650\\u0642\\u0627\\u0641\\u064b\\u0629\\u064c \\u0627\\u064d\\u0644\\u0651\\u0625\\u0633\\u064b\\u0644\\u064c\\u0627\\u0645\\u064a\\u0629\\u064e\\u061f \\u064b\\u0648\\u064d\\u0623\\u0650\\u0634\\u0652\\u0627\\u0631 \\u064c\\u0627\\u0644\\u0645\\u062d\\u0627\\u064b\\u0636\\u0651\\u0631\\u064e \\u0652\\u0625\\u064f\\u0644\\u0649 \\u064e\\u0627\\u064d\\u0644\\u064d\\u062d\\u0631\\u0627\\u0643 \\u064d\\u0627\\u0644\\u062b\\u0642\\u0627\\u064e\\u0641\\u064a\\u0650 \\u0650\\u0627\\u0644\\u064b\\u0646\\u064f\\u0634\\u0637\\u0651 \\u0627\\u0644\\u0630\\u064c\\u064a\\u0652 \\u0634\\u0643\\u064b\\u0644\\u064f \\u0652\\u0627\\u0651\\u0644\\u064d\\u0628\\u0650\\u0648\\u0651\\u0627\\u0643\\u064f\\u064a\\u0631 \\u064c\\u0627\\u064d\\u0644\\u064b\\u0623\\u064c\\u0648\\u0644\\u0649\\u064c \\u0651\\u0644\\u0644\\u0651\\u0639\\u0645\\u0651\\u0644 \\u0627\\u0644\\u062b\\u0642\\u0627\\u0641\\u064a \\u0651\\u0641\\u064c\\u064a\\u064b \\u0627\\u0644\\u0652\\u0634\\u0651\\u0627\\u0651\\u0631\\u064f\\u0642\\u0629\\u064c\\u060c\\u0652 \\u0650\\u0627\\u064d\\u0644\\u0630\\u0651\\u064a\\u0651 \\u0634\\u0645\\u064c\\u0644 \\u0643\\u0627\\u0641\\u0629\\u064f \\u064e\\u0627\\u0644\\u064b\\u062c\\u0648\\u0627\\u0646\\u064c\\u0628\\u064c \\u0650\\u0628\\u0645\\u0627\\u064f \\u064b\\u0641\\u0652\\u064a\\u0652\\u0647\\u0627\\u064d \\u0625\\u0646\\u0652\\u0634\\u064c\\u0627\\u0621 \\u0651\\u0627\\u0644\\u0645\\u0631\\u0627\\u0643\\u0652\\u0632 \\u0648\\u0627\\u064e\\u0644\\u0645\\u062f\\u064f\\u0627\\u064d\\u0631\\u0633 \\u064b\\u0648\\u0650\\u0627\\u064c\\u0644\\u0651\\u062c\\u0652\\u0627\\u0645\\u0652\\u0639\\u0651\\u0627\\u062a\\u0652 \\u064f\\u0648\\u0650\\u0627\\u0644\\u0641\\u064f\\u0646\\u0650\\u0648\\u064e\\u0646\\u0652 \\u064b\\u0648\\u064b\\u0627\\u0644\\u0652\\u0645\\u0651\\u0633\\u064e\\u0627\\u0650\\u0631\\u062d \\u064d\\u0644\\u062a\\u0651\\u0639\\u0632\\u064b\\u064a\\u0632 \\u0627\\u0644\\u0641\\u0639\\u0644\\u064b \\u0627\\u0644\\u064b\\u062b\\u064e\\u0642\\u064e\\u0627\\u0651\\u0641\\u064c\\u064a\\u064d \\u0648\\u064c\\u062a\\u0633\\u0631\\u064a\\u064c\\u0639\\u064f \\u0639\\u062c\\u064f\\u0644\\u0629\\u064f \\u0627\\u0644\\u0650\\u0646\\u064e\\u0634\\u0627\\u0637\\u0652 \\u064d\\u0627\\u0644\\u062b\\u0642\\u064c\\u0627\\u0651\\u0641\\u0650\\u064a \\u064b\\u0641\\u064a \\u0627\\u064d\\u0644\\u0651\\u0634\\u0627\\u064b\\u0631\\u0642\\u0629\\u0650\\u060c\\u0651 \\u0643\\u0645\\u064c\\u0627 \\u064d\\u062a\\u0650\\u0645 \\u062a\\u062e\\u0635\\u064a\\u0635\\u064f \\u064f\\u0645\\u064c\\u0633\\u0650\\u0627\\u062d\\u0629 \\u0645\\u064c\\u0639\\u062a\\u064b\\u0628\\u0651\\u0631\\u064f\\u0629\\u064e \\u064b\\u0644\\u0644\\u0637\\u0641\\u0644\\u064f \\u0648\\u062b\\u0642\\u0652\\u0627\\u0652\\u0641\\u064c\\u062a\\u0647\\u064c\\u060c\\u0650 \\u0645\\u0646\\u0651 \\u062e\\u0652\\u0644\\u064f\\u0627\\u0644 \\u0625\\u0646\\u0634\\u064b\\u0627\\u0652\\u0621\\u064e \\u0651\\u0645\\u064f\\u0631\\u064c\\u0627\\u0643\\u0652\\u0632 \\u064c\\u0645\\u064c\\u0643\\u062a\\u0628\\u0652\\u0627\\u064c\\u062a \\u064e\\u0627\\u0644\\u064e\\u0623\\u0650\\u0637\\u064d\\u0641\\u064c\\u0627\\u0644\\u060c \\u0648\\u064d\\u0645\\u064d\\u0631\\u0652\\u0627\\u0643\\u0632 \\u064e\\u0627\\u064c\\u0644\\u0623\\u0637\\u0641\\u064c\\u0627\\u064d\\u0644\\u064d\\u060c \\u062b\\u0645\\u064c \\u0645\\u0652\\u0631\\u064d\\u0627\\u0643\\u0632 \\u064b\\u0627\\u064e\\u0644\\u0652\\u0646\\u0627\\u0634\\u0651\\u0626\\u0629\\u060c \\u0641\\u0645\\u0652\\u062c\\u064f\\u0644\\u0633 \\u064b\\u0623\\u064e\\u0639\\u0644\\u0649\\u064e \\u0652\\u0644\\u064f\\u0644\\u0637\\u0641\\u064e\\u0644\\u0652 \\u0625\\u064e\\u0644\\u0649 \\u064c\\u063a\\u064a\\u0631 \\u0630\\u064b\\u0644\\u0643 \\u0651\\u0645\\u0646 \\u0627\\u0644\\u0633\\u064b\\u064a\\u0627\\u0633\\u064c\\u0627\\u062a \\u064b\\u0627\\u0644\\u0652\\u062a\\u064a\\u064c \\u064e\\u0627\\u0650\\u0639\\u0650\\u062a\\u064b\\u0645\\u064b\\u062f\\u0647\\u0650\\u0627\\u064e \\u064d\\u0635\\u0651\\u0627\\u0652\\u062d\\u0628\\u0650 \\u0652\\u0627\\u0652\\u0644\\u0633\\u064c\\u0645\\u0648\\u064f \\u064b\\u0627\\u064b\\u0644\\u0650\\u0634\\u064f\\u064a\\u064d\\u062e \\u064f\\u0627\\u0644\\u062f\\u064b\\u0643\\u062a\\u0648\\u064f\\u0631 \\u064b\\u0633\\u064d\\u0644\\u064f\\u0637\\u0627\\u0646 \\u0628\\u0646 \\u0645\\u064e\\u062d\\u064c\\u0645\\u062f \\u0627\\u0650\\u0644\\u0642\\u0652\\u0627\\u0633\\u0645\\u064a\\u0652 \\u064e\\u0639\\u064d\\u0636\\u0648\\u064f \\u0627\\u0644\\u0645\\u062c\\u0650\\u0644\\u0633\\u064b \\u064c\\u0627\\u064d\\u0644\\u064b\\u0623\\u0639\\u0651\\u0644\\u0652\\u0649 \\u062d\\u064b\\u0627\\u0643\\u064c\\u0645\\u064e \\u064f\\u0627\\u064e\\u0644\\u0634\\u064e\\u0627\\u0650\\u0631\\u0642\\u064c\\u0629\\u0652 \\u064e\\u0644\\u0644\\u0650\\u0631\\u0642\\u0652\\u064a\\u064e \\u064c\\u0628\\u062b\\u0650\\u0642\\u064c\\u0627\\u064f\\u0641\\u064d\\u0629\\u0652 \\u0627\\u0652\\u0644\\u0637\\u0650\\u0641\\u0644 \\u0648\\u0652\\u062a\\u0646\\u064d\\u0645\\u064a\\u0651\\u0629 \\u0652\\u0645\\u064c\\u062f\\u064f\\u0627\\u064e\\u0631\\u064c\\u0643\\u0652\\u0647\\u0652 \\u0648\\u064d\\u0642\\u064e\\u062f\\u0631\\u0652\\u0627\\u0651\\u062a\\u064d\\u0647\\u064b \\u0650. \\u0648\\u064b\\u0630\\u0647\\u064d\\u0628\\u064b \\u0627\\u064c\\u0644\\u0645\\u0650\\u062d\\u0651\\u0627\\u0650\\u0636\\u064b\\u0631 \\u0625\\u064d\\u0644\\u0650\\u0649\\u0650 \\u064f\\u0623\\u0646\\u064e \\u064f\\u0627\\u0644\\u0652\\u0633\\u064c\\u064a\\u0651\\u0627\\u0633\\u0650\\u0627\\u062a\\u064d \\u0627\\u0644\\u062b\\u0652\\u0642\\u0627\\u0641\\u064a\\u0629\\u064b \\u0648\\u0627\\u0644\\u062a\\u064d\\u0648\\u062c\\u064c\\u064a\\u064b\\u0647\\u0627\\u062a\\u0650 \\u0650\\u0627\\u064b\\u0644\\u064d\\u0646\\u064e\\u064a\\u0651\\u0631\\u0629\\u064c \\u0644\\u064e\\u0635\\u064c\\u0627\\u062d\\u0650\\u0628\\u064c \\u0627\\u0644\\u0633\\u0645\\u0648 \\u064d\\u062d\\u0627\\u064c\\u0643\\u0652\\u0645\\u064b \\u0627\\u064d\\u0644\\u0634\\u064c\\u0627\\u0631\\u064f\\u0642\\u0629 \\u064b\\u062c\\u064c\\u0639\\u0644\\u0650\\u062a\\u064f \\u0650\\u0645\\u064e\\u0646 \\u0627\\u0651\\u0644\\u0639\\u064d\\u0645\\u064c\\u0644\\u064e \\u0627\\u0644\\u064d\\u062b\\u064b\\u0642\\u0627\\u064d\\u0641\\u064f\\u064a\\u0652 \\u0641\\u064a\\u064e \\u0627\\u0652\\u0644\\u064d\\u0634\\u0627\\u0631\\u064f\\u0642\\u0651\\u0629\\u064c \\u0639\\u0645\\u0644\\u0627\\u064b\\u0650 \\u0646\\u064e\\u0634\\u064d\\u0637\\u0651\\u0627\\u064b \\u0648\\u0651\\u0642\\u0651\\u0648\\u0651\\u064a\\u0652\\u0627\\u064b\\u064c \\u064e\\u0633\\u0648\\u064f\\u0627\\u0621 \\u064f\\u0645\\u064d\\u0646 \\u0652\\u062e\\u0652\\u0644\\u0650\\u0627\\u0644 \\u062a\\u064d\\u0648\\u064e\\u062c\\u0650\\u064a\\u0647\\u0627\\u064c\\u062a\\u064c \\u0650\\u0633\\u064e\\u0645\\u0651\\u0648\\u0647 \\u064c\\u0644\\u064e\\u0644\\u0627\\u0652\\u0631\\u062a\\u064d\\u0642\\u0651\\u0627\\u0621 \\u064c\\u0628\\u0627\\u0651\\u0644\\u064f\\u0641\\u0646\\u064f \\u0627\\u064d\\u0644\\u064d\\u062a\\u0634\\u064f\\u0643\\u064a\\u064e\\u0644\\u064e\\u064a\\u0652 \\u0648\\u064b\\u062a\\u0634\\u064f\\u062c\\u064d\\u064a\\u0639 \\u064b\\u0627\\u0652\\u0644\\u0641\\u0646\\u0627\\u0650\\u0646\\u064a\\u0646\\u060c\\u064c \\u0648\\u064f\\u0627\\u0642\\u062a\\u0646\\u064d\\u0627\\u0621\\u064c \\u0652\\u0623\\u064c\\u0639\\u064e\\u0645\\u064e\\u0627\\u0644 \\u0641\\u064b\\u0646\\u0651\\u064a\\u064e\\u0629\\u064e \\u0644\\u0645\\u0635\\u0650\\u0644\\u0652\\u062d\\u064d\\u0629\\u064f \\u064f\\u0645\\u062a\\u064b\\u062d\\u064d\\u0641\\u0651 \\u0627\\u0644\\u064b\\u0634\\u0627\\u0631\\u0651\\u0642\\u0629\\u060c \\u0648\\u064f\\u0625\\u064c\\u0646\\u062c\\u0627\\u0632 \\u064e\\u0642\\u0652\\u0627\\u0639\\u0629 \\u064e\\u062e\\u064f\\u0627\\u0651\\u0635\\u0629\\u0652 \\u064f\\u0628\\u0627\\u064f\\u0644\\u0622\\u062b\\u0650\\u0627\\u0651\\u0631 \\u0627\\u064b\\u0644\\u0625\\u0633\\u064d\\u0644\\u064c\\u0627\\u064d\\u0645\\u0651\\u064a\\u0629\\u064b \\u064f\\u0641\\u064e\\u064a \\u0645\\u062a\\u062d\\u0641 \\u0627\\u0652\\u0644\\u064d\\u0634\\u0627\\u0651\\u0631\\u0642\\u064e\\u0629\\u060c\\u064c \\u064d\\u0623\\u064b\\u0645\\u064e \\u0645\\u064f\\u0646 \\u062e\\u064c\\u0644\\u0627\\u0651\\u0644 \\u0650\\u0627\\u0633\\u064b\\u062a\\u0643\\u0645\\u0651\\u0627\\u064d\\u0644 \\u0627\\u0652\\u0644\\u0645\\u0652\\u0634\\u0652\\u0631\\u0648\\u0639\\u0627\\u064d\\u062a\\u064c \\u0627\\u0644\\u062b\\u0652\\u0642\\u0651\\u0627\\u0652\\u0641\\u064a\\u0629\\u064c \\u0648\\u064e\\u062a\\u0631\\u0645\\u064a\\u0645 \\u0627\\u0651\\u0644\\u0645\\u0628\\u0627\\u0646\\u064c\\u064a\\u064f \\u0627\\u0644\\u064d\\u062a\\u0650\\u0631\\u0627\\u0650\\u062b\\u064a\\u0650\\u0629 \\u0652\\u0648\\u063a\\u064a\\u0631\\u0647\\u064b\\u0627\\u064f \\u0645\\u064f\\u0646 \\u0627\\u064e\\u0644\\u0651\\u0623\\u0639\\u0651\\u0645\\u0627\\u0644 \\u064c\\u0648\\u0650\\u0627\\u0644\\u0623\\u064f\\u0646\\u0634\\u064e\\u0637\\u0629 \\u0652\\u0627\\u0644\\u062a\\u064a \\u062a\\u0635\\u0628 \\u0641\\u064a\\u064d \\u064e\\u0635\\u0645\\u064e\\u064a\\u0651\\u0645\\u0651 \\u064b\\u0627\\u0644\\u0650\\u0641\\u0639\\u0651\\u0644\\u064d \\u0627\\u064f\\u0644\\u064e\\u062b\\u064c\\u0642\\u0627\\u064b\\u0641\\u0651\\u064a .\\u0648\\u0623\\u0652\\u0643\\u064e\\u062f\\u064d \\u0627\\u0652\\u0644\\u0650\\u0645\\u0650\\u062d\\u0650\\u0627\\u064c\\u0636\\u0631 \\u0623\\u064d\\u0646 \\u0627\\u064c\\u0644\\u064e\\u062f\\u064e\\u0648\\u0652\\u0631\\u0629\\u0652 \\u064b\\u0627\\u0652\\u0644\\u064c\\u0623\\u064c\\u0648\\u064c\\u0644\\u064f\\u0649\\u0651 \\u0644\\u0645\\u064e\\u0639\\u0631\\u064d\\u0636\\u064d \\u0627\\u0644\\u0650\\u0643\\u0650\\u062a\\u0651\\u0627\\u0628\\u060c \\u0627\\u0644\\u0630\\u064d\\u064a \\u0623\\u0635\\u0651\\u0628\\u062d \\u0627\\u0651\\u0644\\u0652\\u064a\\u064f\\u0648\\u064c\\u0645\\u0651 \\u0648\\u062c\\u064b\\u0647\\u0629 \\u0639\\u0627\\u064b\\u0644\\u0651\\u0645\\u064a\\u0650\\u0629 \\u0644\\u0651\\u0644\\u0643\\u062a\\u0627\\u064d\\u0628\\u064e \\u064c\\u0648\\u0627\\u0644\\u0650\\u0645\\u0641\\u064e\\u0643\\u064b\\u0631\\u064a\\u0650\\u0646 \\u064e\\u0645\\u0650\\u0646\\u0650 \\u0623\\u0650\\u0646\\u064d\\u062d\\u064d\\u0627\\u064d\\u0621\\u064c \\u0627\\u064e\\u0644\\u0650\\u0639\\u0651\\u0627\\u0651\\u0644\\u0645\\u0652 \\u0638\\u0652\\u0644\\u0627\\u0644\\u0647\\u064c \\u0627\\u0644\\u0650\\u0648\\u0627\\u0631\\u064f\\u0641\\u0629\\u064e\\u060c\\u064f \\u0634\\u064d\\u0643\\u064d\\u0644\\u062a\\u0650 \\u064d\\u0646\\u064f\\u0642\\u064b\\u0637\\u0629 \\u064f\\u0627\\u064f\\u0646\\u064c\\u0637\\u0644\\u064e\\u0627\\u0652\\u0642 \\u064f\\u0648\\u062a\\u062d\\u0648\\u0650\\u0651\\u064d\\u0644 \\u0641\\u0652\\u064a\\u064d \\u0627\\u064e\\u0644\\u0645\\u0634\\u0652\\u0631\\u0652\\u0648\\u0639 \\u0652\\u0627\\u0644\\u0651\\u062b\\u0642\\u0652\\u0627\\u0652\\u0641\\u064d\\u064a\\u064f \\u0652\\u0644\\u064d\\u0635\\u0627\\u062d\\u0628 \\u064c\\u0627\\u064d\\u0644\\u064e\\u0633\\u0651\\u0645\\u0650\\u0648\\u064d \\u0650\\u062d\\u064d\\u0627\\u0643\\u0645\\u064f \\u0627\\u0652\\u0644\\u0634\\u0652\\u0627\\u064b\\u0631\\u0642\\u0651\\u0629\\u060c\\u0652 \\u0643\\u0652\\u0645\\u064b\\u0627\\u064e \\u064c\\u062a\\u0632\\u064f\\u0627\\u064d\\u0645\\u0646 \\u064c\\u0645\\u064c\\u0639\\u0651 \\u064e\\u0647\\u0650\\u0630\\u0647 \\u0627\\u0644\\u062f\\u0648\\u0631\\u0651\\u0629 \\u0627\\u064b\\u0641\\u0652\\u062a\\u062a\\u0627\\u062d \\u0645\\u064f\\u0643\\u064b\\u062a\\u0628\\u0652\\u0629\\u064e \\u0627\\u0644\\u064b\\u0645\\u064f\\u062d\\u0650\\u0645\\u0651\\u0648\\u062f\\u064e \\u0652(\\u0651\\u0627\\u0644\\u0652\\u0623\\u064b\\u0647\\u064f\\u0644\\u0650\\u064a\\u0629\\u0652)\\u0652\\u060c\\u0652 \\u0651\\u062b\\u064c\\u0645 \\u064b\\u0627\\u0644\\u0650\\u0645\\u0651\\u0631\\u064f\\u0643\\u0652\\u0632\\u0651 \\u064e\\u0627\\u0652\\u0644\\u064c\\u062b\\u0651\\u0642\\u0627\\u0641\\u0652\\u064a\\u064d \\u064f\\u0641\\u064a\\u0645\\u0627\\u0652 \\u0628\\u0639\\u062f\\u064d .\\u0652\\u0648\\u0651\\u0627\\u064c\\u0639\\u062a\\u0628\\u064d\\u0631 \\u0627\\u064d\\u0644\\u064c\\u0645\\u062d\\u064e\\u0627\\u064b\\u0636\\u0651\\u0631 \\u064b\\u0623\\u0646 \\u064b\\u062d\\u064b\\u0632\\u0645\\u0629 \\u0652\\u0627\\u0652\\u0644\\u064c\\u0645\\u064d\\u0647\\u064d\\u0631\\u062c\\u064d\\u0627\\u064d\\u0646\\u0627\\u0651\\u062a \\u0652\\u0648\\u0651\\u0627\\u0644\\u064f\\u0641\\u064b\\u0639\\u0650\\u0627\\u0644\\u064a\\u0650\\u0627\\u0651\\u062a\\u064b \\u0627\\u0644\\u0652\\u062a\\u064a\\u0650 \\u062a\\u0642\\u0652\\u0627\\u0650\\u0645 \\u0652\\u0639\\u0644\\u0651\\u0649 \\u0645\\u062f\\u0627\\u064c\\u0631\\u0650 \\u0627\\u064e\\u0644\\u0639\\u0627\\u0645\\u0650 \\u0650\\u0641\\u064a \\u064c\\u0627\\u0644\\u064e\\u0634\\u0627\\u064d\\u0631\\u0642\\u0629\\u064f\\u060c\\u0652 \\u0651\\u0648\\u0645\\u0627 \\u064a\\u0651\\u062a\\u064c\\u062e\\u0644\\u0650\\u0644\\u0647\\u064f\\u0627\\u0651 \\u0645\\u0646 \\u0623\\u0646\\u0634\\u0637\\u064c\\u0629\\u064d \\u062b\\u0642\\u064d\\u0627\\u0641\\u0652\\u064a\\u0629\\u064f \\u064c\\u0645\\u0651\\u062a\\u064f\\u0646\\u0648\\u064d\\u0639\\u0652\\u0629 \\u064d\\u062a\\u064c\\u0634\\u064b\\u0643\\u0652\\u0644\\u064f \\u064f\\u0623\\u064d\\u0648\\u062c\\u064c \\u0650\\u0627\\u064f\\u0644\\u062d\\u0631\\u064d\\u0627\\u0652\\u0643\\u0651 \\u064f\\u0627\\u064e\\u0644\\u062b\\u0642\\u0627\\u0641\\u064b\\u064a\\u064f\\u060c\\u064d \\u0648\\u0631\\u0627\\u0651\\u0641\\u0652\\u062f\\u0652\\u0627\\u064f\\u064b\\u0651 \\u0623\\u0633\\u0627\\u064d\\u0633\\u064d\\u064a\\u064e\\u0627\\u064c\\u064b \\u0644\\u0644\\u064c\\u062a\\u0641\\u0652\\u0627\\u0639\\u0644\\u0651 \\u0651\\u0648\\u0652\\u0627\\u0644\\u0652\\u062a\\u0646\\u0627\\u0650\\u063a\\u0645 \\u0627\\u0644\\u064b\\u062b\\u0650\\u0642\\u0627\\u064b\\u0641\\u064c\\u064a \\u064d\\u0641\\u064a\\u0651 \\u0625\\u0645\\u0627\\u0631\\u0652\\u0629\\u0652 \\u062a\\u0632\\u064c\\u062f\\u0651\\u0627\\u064c\\u0646 \\u0648\\u062a\\u0652\\u0632\\u062f\\u064d\\u0647\\u0651\\u064a\\u0650 \\u0643\\u0644 \\u064e\\u062d\\u064e\\u064a\\u064e\\u0646 \\u0628\\u0651\\u0644\\u0650\\u0641\\u064f\\u062a\\u064c\\u0629\\u064b \\u0643\\u064d\\u0631\\u064a\\u0645\\u0629\\u0651 \\u0648\\u064d\\u0633\\u064c\\u0627\\u064e\\u0646\\u062d\\u0629 \\u064e\\u0637\\u064a\\u064e\\u0628\\u0629 \\u0645\\u0650\\u0646 \\u0652\\u062d\\u0627\\u064e\\u0643\\u064b\\u0645 \\u0645\\u062b\\u0642\\u0641\\u0652\\u060c \\u064a\\u064e\\u062d\\u064b\\u0645\\u064d\\u0644\\u0652 \\u0639\\u0644\\u0649 \\u0639\\u064d\\u0627\\u064b\\u062a\\u064f\\u0642\\u0647 \\u064b\\u0627\\u064e\\u0644\\u064e\\u0646\\u0651\\u0647\\u064f\\u0648\\u064d\\u0636 \\u064f\\u0628\\u0652\\u0627\\u064c\\u0644\\u062b\\u064d\\u0642\\u064f\\u0627\\u064c\\u0641\\u064b\\u0629\\u064c \\u0648\\u064f\\u0627\\u064c\\u0644\\u064b\\u0645\\u064e\\u0639\\u064b\\u0631\\u0650\\u0641\\u0629 \\u064b.\\u0648\\u062e\\u0651\\u0644\\u0650\\u0635 \\u064f\\u0627\\u0650\\u0644\\u0650\\u0645\\u062d\\u064b\\u0627\\u0636\\u0631 \\u0625\\u064e\\u0644\\u0651\\u0649\\u0652 \\u0623\\u064b\\u0646 \\u064c\\u062b\\u064e\\u0645\\u0629\\u0651 \\u064b\\u062b\\u0644\\u0627\\u064e\\u062b\\u064c \\u0646\\u0642\\u0651\\u0627\\u0637 \\u064e\\u0644\\u064b\\u0644\\u0650\\u0627\\u064b\\u0631\\u064c\\u062a\\u0642\\u0650\\u0627\\u0621\\u064b \\u064e\\u0628\\u064d\\u0627\\u064d\\u0644\\u0641\\u0643\\u0652\\u0631\\u0629 \\u064d\\u0627\\u064d\\u0644\\u062b\\u0642\\u0651\\u0627\\u0641\\u064d\\u064a\\u064d\\u0629\\u0650 \\u0641\\u064e\\u064a\\u064d \\u064f\\u0627\\u0644\\u064c\\u0634\\u064d\\u0627\\u0631\\u0652\\u0642\\u0629 \\u0623\\u064d\\u0648\\u0644\\u0650\\u0647\\u0627 \\u064d\\u062a\\u0652\\u0623\\u064b\\u0633\\u064e\\u064a\\u0633 \\u0650\\u062f\\u0652\\u0627\\u0652\\u0626\\u0650\\u0631\\u0652\\u0629\\u064e \\u064e\\u0627\\u0644\\u062b\\u0642\\u0651\\u0627\\u0641\\u0629 \\u0648\\u064e\\u0627\\u0650\\u0644\\u064e\\u0625\\u0639\\u0650\\u0644\\u0627\\u0645\\u0651\\u060c \\u064c\\u0648\\u0650\\u062b\\u0652\\u0627\\u0646\\u064a\\u0647\\u0651\\u0627\\u064c \\u0627\\u062c\\u062a\\u0651\\u0645\\u064d\\u0627\\u064d\\u0639 \\u064e\\u0635\\u0627\\u062d\\u0650\\u0628\\u0650 \\u0627\\u0651\\u0644\\u0651\\u0633\\u0651\\u0645\\u0648\\u064d \\u0650\\u062d\\u0627\\u064f\\u0643\\u064b\\u0645 \\u0627\\u0644\\u064f\\u0634\\u0652\\u0627\\u064b\\u0631\\u0642\\u064d\\u0629\\u0651 \\u064c\\u0628\\u0643\\u064f\\u0648\\u0650\\u0627\\u062f\\u064c\\u0631 \\u0627\\u0644\\u064b\\u062f\\u064b\\u0627\\u0650\\u0626\\u0631\\u064b\\u0629 \\u064c\\u0648\\u0642\\u0651\\u062f\\u064f\\u0651\\u0645 \\u0641\\u0651\\u064a\\u0647\\u064f \\u0645\\u062c\\u0650\\u0645\\u064b\\u0648\\u064d\\u0639\\u0651\\u0629\\u064d \\u0645\\u064f\\u0646 \\u0652\\u0627\\u064e\\u0644\\u0633\\u064a\\u0651\\u0627\\u0651\\u0633\\u0627\\u062a \\u0651\\u0627\\u0644\\u062b\\u0642\\u064c\\u0627\\u064b\\u0641\\u064a\\u064e\\u0629 \\u0648\\u064c\\u0627\\u0644\\u062e\\u0651\\u0637\\u0637\\u064b \\u0627\\u0644\\u064d\\u062a\\u0646\\u0645\\u064e\\u0648\\u064a\\u0650\\u0629 \\u0651\\u0648\\u062f\\u0652\\u0639\\u0627 \\u064c\\u0633\\u0650\\u0645\\u064b\\u0648\\u064c\\u0647 \\u064c\\u0625\\u0650\\u0644\\u064f\\u0649: \\u0627\\u0644\\u0627\\u0647\\u0651\\u062a\\u064f\\u0645\\u0627\\u064f\\u0645 \\u0628\\u064b\\u0627\\u0650\\u0644\\u064f\\u0645\\u0652\\u0633\\u0631\\u062d\\u060c\\u0652 \\u0648\\u064b\\u0627\\u0651\\u0644\\u0623\\u0637\\u064c\\u0631\\u0650 \\u0627\\u064d\\u0644\\u0651\\u0639\\u0627\\u064b\\u0645\\u0629 \\u064e\\u0644\\u0644\\u0650\\u062b\\u064e\\u0642\\u0627\\u064d\\u0641\\u0629\\u064d\\u060c\\u0651 \\u0651\\u0627\\u064c\\u0644\\u0650\\u0627\\u0631\\u064f\\u062a\\u0642\\u0627\\u064f\\u0621\\u064c \\u0628\\u064d\\u0627\\u0650\\u0644\\u0639\\u0645\\u0651\\u0644\\u064e \\u0627\\u0644\\u0651\\u062a\\u064d\\u0634\\u0643\\u0651\\u064a\\u0644\\u064a\\u0650\\u060c \\u0627\\u0651\\u0644\\u0627\\u064f\\u0647\\u064f\\u062a\\u0645\\u064d\\u0627\\u0645 \\u0650\\u0628\\u0650\\u0627\\u0651\\u0644\\u064b\\u0648\\u0639\\u0651\\u064a \\u064b\\u0648\\u0650\\u0627\\u0652\\u0644\\u064f\\u0630\\u0627\\u0626\\u0650\\u0642\\u0651\\u0629\\u064c \\u0627\\u0651\\u0644\\u062c\\u0650\\u0645\\u064d\\u0627\\u0652\\u0644\\u0652\\u064a\\u0652\\u0629\\u064f\\u060c \\u0627\\u064d\\u0644\\u0650\\u0627\\u0647\\u064f\\u062a\\u0645\\u0627\\u0651\\u0645\\u0652 \\u064f\\u0628\\u064d\\u0627\\u0644\\u0637\\u0641\\u0644\\u0651\\u060c \\u0651\\u062a\\u0637\\u0648\\u064a\\u0631\\u064b \\u0634\\u0628\\u0643\\u0629\\u0652 \\u0627\\u0644\\u0645\\u0643\\u062a\\u064b\\u0628\\u0627\\u062a\\u060c\\u0652 \\u064e\\u0627\\u0633\\u062a\\u0643\\u064f\\u0645\\u064d\\u0627\\u0644\\u064d \\u0639\\u064b\\u0645\\u064b\\u0644\\u0652\\u064a\\u0627\\u062a \\u064c\\u0627\\u0644\\u064f\\u062a\\u0631\\u0645\\u064a\\u0645\\u0650\\u060c \\u064b\\u0627\\u0644\\u064d\\u0627\\u0647\\u064b\\u062a\\u064c\\u0645\\u0652\\u0627\\u0650\\u0645\\u064d \\u0650\\u0628\\u062b\\u064e\\u0642\\u0652\\u0627\\u064b\\u0641\\u064e\\u0629\\u064d \\u0650\\u0627\\u064d\\u0644\\u0645\\u0650\\u0631\\u064b\\u0623\\u064b\\u0629 \\u0650\\u0648\\u064b\\u0627\\u064f\\u0644\\u064d\\u0637\\u0641\\u0652\\u0644 .\\u0652 \\u064c.\\u064d)\\u064f \\u064b\\u0648\\u062b\\u064b\\u0627\\u064d\\u0644\\u0651\\u062b\\u064b\\u0647\\u064e\\u0627\\u064f \\u064b\\u0625\\u0650\\u0639\\u0650\\u0644\\u0651\\u0627\\u064b\\u0646\\u064f \\u0627\\u0644\\u0634\\u0627\\u0631\\u0642\\u0629\\u064f \\u0651\\u0639\\u0627\\u064d\\u0635\\u064e\\u0645\\u0629\\u064c \\u0644\\u0644\\u064b\\u062b\\u0642\\u064b\\u0627\\u0641\\u0629 \\u064b\\u0627\\u0652\\u0644\\u064e\\u0639\\u0651\\u0631\\u0628\\u064a\\u0629\\u064f \\u064b\\u0641\\u064a\\u064b \\u0639\\u0627\\u0645 19\\u06529\\u064d8 \\u064e\\u0644\\u0645\\u0627 \\u062a\\u062a\\u0645\\u064b\\u064a\\u0632\\u064f \\u0628\\u064f\\u0647\\u064e \\u064e\\u0645\\u064b\\u0646\\u064b \\u064b\\u0646\\u064e\\u0634\\u0650\\u0627\\u0637 \\u0651\\u0648\\u064f\\u062d\\u064b\\u0631\\u0627\\u0643\\u064d \\u064f\\u062b\\u0642\\u0627\\u0641\\u064a\\u0650 \\u0645\\u0652\\u0645\\u064c\\u064a\\u0632\\u064d\\u060c\\u064e \\u064b\\u0641\\u0636\\u0644\\u0627\\u064b\\u064e \\u064f\\u0639\\u0650\\u0646 \\u062f\\u0648\\u0631\\u064b \\u064c\\u0627\\u0644\\u064d\\u062c\\u064f\\u0648\\u0627\\u0652\\u0626\\u064f\\u0632\\u0651 \\u0648\\u0635\\u0650\\u0646\\u064f\\u0627\\u062f\\u0651\\u064a\\u064b\\u0642 \\u064f\\u0627\\u064b\\u0644\\u062f\\u064d\\u0639\\u064c\\u0645\\u060c \\u064d\\u0648\\u0627\\u064f\\u0644\\u062f\\u0628\\u0652\\u0644\\u064b\\u0648\\u0645\\u0627\\u0633\\u064d\\u064a\\u0629 \\u064f\\u0627\\u0650\\u0644\\u064b\\u062b\\u0652\\u0642\\u0627\\u0641\\u0651\\u064a\\u0629\\u060c\\u064e \\u0648\\u0639\\u0650\\u062f\\u062f \\u0648\\u0652\\u0646\\u064c\\u0648\\u0639 \\u064b\\u0627\\u064b\\u0644\\u064c\\u062c\\u064b\\u0627\\u0645\\u0639\\u0650\\u0627\\u064c\\u062a \\u0648\\u0627\\u0644\\u064e\\u0645\\u0650\\u0631\\u0627\\u0652\\u0643\\u0632\\u060c \\u064f\\u0648\\u0627\\u064b\\u0644\\u0625\\u064f\\u062d\\u0635\\u064c\\u0627\\u0650\\u0621\\u064e \\u0627\\u0651\\u0644\\u0627\\u064b\\u062c\\u064f\\u062a\\u0645\\u0627\\u0650\\u0639\\u0650\\u064a\\u0651 \\u064b\\u0641\\u0651\\u064a \\u0628\\u0644\\u0648\\u064e\\u0631\\u0629\\u064f \\u064b\\u0648\\u064c\\u062a\\u064b\\u0631\\u0633\\u0652\\u064a\\u062e \\u064c\\u0645\\u064d\\u0643\\u064e\\u0627\\u0646\\u0629 \\u064b\\u0627\\u0644\\u0651\\u0634\\u0627\\u0651\\u0631\\u064e\\u0642\\u0629 \\u064d\\u0639\\u0627\\u0635\\u0645\\u0629\\u064f \\u0651\\u0644\\u064c\\u0644\\u0651\\u062b\\u064d\\u0642\\u0627\\u064d\\u0641\\u0629\\u064e \\u064c\\u0627\\u064c\\u0644\\u0652\\u0639\\u0650\\u0631\\u0628\\u064a\\u064c\\u0629 \\u0650\\u0648\\u0652\\u0627\\u0644\\u0625\\u064d\\u0633\\u0644\\u0627\\u0651\\u0645\\u064a\\u0652\\u0629\\u060c \\u0648\\u0643\\u064f\\u0644 \\u0651\\u0630\\u0652\\u0644\\u064b\\u0643 \\u064b\\u0628\\u062c\\u0647\\u062f \\u0651\\u0635\\u0651\\u0627\\u062d\\u0628\\u064d \\u0650\\u0627\\u0644\\u064d\\u0633\\u064e\\u0645\\u0648\\u0650 \\u064b\\u062d\\u0650\\u0627\\u064c\\u0643\\u064f\\u0645 \\u064d\\u0627\\u0644\\u0634\\u0627\\u0631\\u064c\\u0642\\u0629 \\u0627\\u064e\\u0644\\u0650\\u0630\\u064a\\u064b \\u064e\\u0639\\u0645\\u064f\\u0644 \\u0651\\u0648\\u064d\\u0644\\u0627 \\u064a\\u0632\\u064f\\u0627\\u064e\\u0644 \\u0628\\u0634\\u063a\\u0641\\u0652 \\u0648\\u062d\\u0628\\u064f \\u0639\\u064f\\u0644\\u0649\\u0652 \\u062a\\u064c\\u0639\\u0632\\u064b\\u064a\\u064b\\u0632\\u064e \\u064c\\u0627\\u064f\\u0644\\u064e\\u062a\\u0646\\u064b\\u0645\\u0651\\u064a\\u064d\\u0629\\u064c \\u0627\\u064e\\u0644\\u064b\\u062b\\u0642\\u064e\\u0627\\u064d\\u0641\\u064c\\u064a\\u0629 \\u064e\\u0641\\u0650\\u064a\\u064f \\u0627\\u0652\\u0644\\u064e\\u0634\\u0627\\u0631\\u064e\\u0642\\u064d\\u0629\\u064e \\u0645\\u0646\\u0650 \\u062e\\u064b\\u0644\\u0650\\u0627\\u0650\\u0644\\u0651 \\u0651\\u0633\\u064e\\u0646\\u0651 \\u0648\\u0625\\u0642\\u064b\\u0631\\u0651\\u0627\\u0631 \\u0645\\u062c\\u0645\\u0648\\u064c\\u0639\\u064e\\u0629\\u064e \\u0645\\u064f\\u0646\\u0651 \\u0627\\u064b\\u0644\\u0645\\u064d\\u0634\\u0650\\u0631\\u0648\\u0639\\u064f\\u0627\\u064f\\u062a\\u0652 \\u0627\\u0644\\u0651\\u062b\\u0650\\u0642\\u0627\\u0652\\u0641\\u0650\\u064a\\u0629\\u064c \\u0650\\u0627\\u0644\\u062a\\u064d\\u064a \\u064e\\u062a\\u064c\\u0647\\u064e\\u062f\\u064d\\u0641\\u064e \\u0625\\u064e\\u0644\\u0650\\u0649 \\u0652\\u062a\\u062d\\u0642\\u064a\\u0642 \\u0630\\u0644\\u0643\\u064d\\u060c\\u064b \\u0650\\u062d\\u062a\\u0650\\u0649 \\u0652\\u0623\\u064e\\u0635\\u0628\\u062d\\u062a\\u0651 \\u064c\\u0627\\u064e\\u0644\\u0634\\u0627\\u064c\\u0631\\u064c\\u0642\\u064b\\u0629\\u0652 \\u0627\\u0644\\u0651\\u064a\\u0648\\u064c\\u0645 \\u0651\\u0648\\u064f\\u062c\\u0647\\u064b\\u0629\\u064e \\u064a\\u0624\\u064f\\u0645\\u064e\\u0647\\u064c\\u0627 \\u0652\\u0627\\u0644\\u064e\\u0645\\u0641\\u064e\\u0643\\u0631\\u0651\\u0648\\u0651\\u0646 \\u0648\\u0650\\u0627\\u0644\\u0645\\u0651\\u062b\\u0642\\u0650\\u0641\\u0651\\u0648\\u0646 \\u0648\\u0627\\u0644\\u0645\\u064f\\u0628\\u064c\\u062f\\u0639\\u064c\\u0648\\u0650\\u0646 \\u0652\\u0648\\u0652\\u0627\\u0651\\u0644\\u064c\\u0643\\u062a\\u064c\\u0627\\u0628\\u0650 \\u064c\\u0645\\u0650\\u0646\\u064f \\u0634\\u062a\\u0650\\u0649\\u064e \\u0623\\u064f\\u0646\\u064d\\u062d\\u0627\\u0621 \\u0627\\u064d\\u0644\\u0652\\u0639\\u0627\\u0644\\u064f\\u0645\\u060c\\u0650 \\u064e\\u0634\\u064b\\u0627\\u0652\\u0645\\u062e\\u0651\\u0629\\u064e \\u0631\\u0627\\u0633\\u062e\\u064b\\u0629 \\u064c\\u0628\\u064c\\u0639\\u0651\\u0637\\u064c\\u0627\\u0626\\u064f\\u0647\\u0650\\u0627 \\u064e\\u0648\\u062a\\u064b\\u0642\\u0650\\u062f\\u0645\\u0647\\u064d\\u0627 \\u0650.\\u064f\"\n        ],\n        \"semantic_type\": \"\",\n        \"description\": \"\"\n      }\n    },\n    {\n      \"column\": \"label\",\n      \"properties\": {\n        \"dtype\": \"category\",\n        \"num_unique_values\": 7,\n        \"samples\": [\n          \"Culture\",\n          \"Finance\",\n          \"Sports\"\n        ],\n        \"semantic_type\": \"\",\n        \"description\": \"\"\n      }\n    }\n  ]\n}"
            }
          },
          "metadata": {}
        }
      ],
      "source": [
        "display(df)"
      ]
    },
    {
      "cell_type": "code",
      "execution_count": 165,
      "metadata": {
        "colab": {
          "base_uri": "https://localhost:8080/"
        },
        "id": "TQKMsqb79ePs",
        "outputId": "cd5fb7d3-c5bf-4719-9b73-4e2c1d567af5"
      },
      "outputs": [
        {
          "output_type": "stream",
          "name": "stdout",
          "text": [
            "<class 'pandas.core.frame.DataFrame'>\n",
            "RangeIndex: 39885 entries, 0 to 39884\n",
            "Data columns (total 2 columns):\n",
            " #   Column  Non-Null Count  Dtype \n",
            "---  ------  --------------  ----- \n",
            " 0   text    39885 non-null  object\n",
            " 1   label   39885 non-null  object\n",
            "dtypes: object(2)\n",
            "memory usage: 623.3+ KB\n"
          ]
        }
      ],
      "source": [
        "df.info()"
      ]
    },
    {
      "cell_type": "code",
      "execution_count": 166,
      "metadata": {
        "colab": {
          "base_uri": "https://localhost:8080/",
          "height": 448
        },
        "id": "22eBb6sA9hIa",
        "outputId": "6f58814d-47a1-4fe5-f0e4-f33534684d70"
      },
      "outputs": [
        {
          "output_type": "execute_result",
          "data": {
            "text/plain": [
              "<Axes: ylabel='label'>"
            ]
          },
          "metadata": {},
          "execution_count": 166
        },
        {
          "output_type": "display_data",
          "data": {
            "text/plain": [
              "<Figure size 640x480 with 1 Axes>"
            ],
            "image/png": "[encoded data removed]"
          },
          "metadata": {}
        }
      ],
      "source": [
        "df['label'].value_counts().plot(kind ='barh')"
      ]
    },
    {
      "cell_type": "code",
      "execution_count": 167,
      "metadata": {
        "colab": {
          "base_uri": "https://localhost:8080/",
          "height": 711
        },
        "id": "lmRHyh4B-CMK",
        "outputId": "63edec51-158f-43cb-ea10-092190bd0717"
      },
      "outputs": [
        {
          "output_type": "execute_result",
          "data": {
            "text/plain": [
              "9028     https://example.com/resource/شٍهِدٌ سوُقْ ِدبي...\n",
              "27237    https://example.com/resource/كِاْنْ ِلّمًصَر ت...\n",
              "32746    https://example.com/resource/تتًجهْ اّلٍأًنٌظِ...\n",
              "23267    https://example.com/resource/أٍعّلِن الِسفير ا...\n",
              "4290     https://example.com/resource/اْفتتٌح ْاٍلشيًخِ...\n",
              "18334    https://example.com/resource/دبٌي: «ّالخليجِ»ٌ...\n",
              "29303    https://example.com/resource/رفضَ ّالمدْرٍب ال...\n",
              "10733    https://example.com/resource/أٍبوَظْبي: ّمِهٌن...\n",
              "5544     https://example.com/resource/يُفتْتحٍ َفي ًاُل...\n",
              "12701    https://example.com/resource/رأسّ ٍالخيمٌةٌ:عد...\n",
              "15854    https://example.com/resource/أشاُدُتٍ ٍأوّمِي ...\n",
              "5156     https://example.com/resource/حيُدر فِؤادً اشٍر...\n",
              "4937     https://example.com/resource/دّ . عَاًرّفً ْاٌ...\n",
              "13009    https://example.com/resource/اُلشَارقْةُ ْ- \"ُ...\n",
              "30633    https://example.com/resource/بات ٍكلُيَفِلَاّن...\n",
              "21836    https://example.com/resource/ذًكرً ٌحاكمٍ ّجَز...\n",
              "23553    https://example.com/resource/عيَّنً ِالزْعُيم ...\n",
              "30142    https://example.com/resource/انْضم ًمدرٍب فُري...\n",
              "32463    https://example.com/resource/تنّفًّس ملقٍة ُوً...\n",
              "18545    https://example.com/resource/اٌلٍقاَهّرٍةّ:ْ ْ...\n",
              "Name: text, dtype: object"
            ],
            "text/html": [
              "<div>\n",
              "<style scoped>\n",
              "    .dataframe tbody tr th:only-of-type {\n",
              "        vertical-align: middle;\n",
              "    }\n",
              "\n",
              "    .dataframe tbody tr th {\n",
              "        vertical-align: top;\n",
              "    }\n",
              "\n",
              "    .dataframe thead th {\n",
              "        text-align: right;\n",
              "    }\n",
              "</style>\n",
              "<table border=\"1\" class=\"dataframe\">\n",
              "  <thead>\n",
              "    <tr style=\"text-align: right;\">\n",
              "      <th></th>\n",
              "      <th>text</th>\n",
              "    </tr>\n",
              "  </thead>\n",
              "  <tbody>\n",
              "    <tr>\n",
              "      <th>9028</th>\n",
              "      <td>https://example.com/resource/شٍهِدٌ سوُقْ ِدبي...</td>\n",
              "    </tr>\n",
              "    <tr>\n",
              "      <th>27237</th>\n",
              "      <td>https://example.com/resource/كِاْنْ ِلّمًصَر ت...</td>\n",
              "    </tr>\n",
              "    <tr>\n",
              "      <th>32746</th>\n",
              "      <td>https://example.com/resource/تتًجهْ اّلٍأًنٌظِ...</td>\n",
              "    </tr>\n",
              "    <tr>\n",
              "      <th>23267</th>\n",
              "      <td>https://example.com/resource/أٍعّلِن الِسفير ا...</td>\n",
              "    </tr>\n",
              "    <tr>\n",
              "      <th>4290</th>\n",
              "      <td>https://example.com/resource/اْفتتٌح ْاٍلشيًخِ...</td>\n",
              "    </tr>\n",
              "    <tr>\n",
              "      <th>18334</th>\n",
              "      <td>https://example.com/resource/دبٌي: «ّالخليجِ»ٌ...</td>\n",
              "    </tr>\n",
              "    <tr>\n",
              "      <th>29303</th>\n",
              "      <td>https://example.com/resource/رفضَ ّالمدْرٍب ال...</td>\n",
              "    </tr>\n",
              "    <tr>\n",
              "      <th>10733</th>\n",
              "      <td>https://example.com/resource/أٍبوَظْبي: ّمِهٌن...</td>\n",
              "    </tr>\n",
              "    <tr>\n",
              "      <th>5544</th>\n",
              "      <td>https://example.com/resource/يُفتْتحٍ َفي ًاُل...</td>\n",
              "    </tr>\n",
              "    <tr>\n",
              "      <th>12701</th>\n",
              "      <td>https://example.com/resource/رأسّ ٍالخيمٌةٌ:عد...</td>\n",
              "    </tr>\n",
              "    <tr>\n",
              "      <th>15854</th>\n",
              "      <td>https://example.com/resource/أشاُدُتٍ ٍأوّمِي ...</td>\n",
              "    </tr>\n",
              "    <tr>\n",
              "      <th>5156</th>\n",
              "      <td>https://example.com/resource/حيُدر فِؤادً اشٍر...</td>\n",
              "    </tr>\n",
              "    <tr>\n",
              "      <th>4937</th>\n",
              "      <td>https://example.com/resource/دّ . عَاًرّفً ْاٌ...</td>\n",
              "    </tr>\n",
              "    <tr>\n",
              "      <th>13009</th>\n",
              "      <td>https://example.com/resource/اُلشَارقْةُ ْ- \"ُ...</td>\n",
              "    </tr>\n",
              "    <tr>\n",
              "      <th>30633</th>\n",
              "      <td>https://example.com/resource/بات ٍكلُيَفِلَاّن...</td>\n",
              "    </tr>\n",
              "    <tr>\n",
              "      <th>21836</th>\n",
              "      <td>https://example.com/resource/ذًكرً ٌحاكمٍ ّجَز...</td>\n",
              "    </tr>\n",
              "    <tr>\n",
              "      <th>23553</th>\n",
              "      <td>https://example.com/resource/عيَّنً ِالزْعُيم ...</td>\n",
              "    </tr>\n",
              "    <tr>\n",
              "      <th>30142</th>\n",
              "      <td>https://example.com/resource/انْضم ًمدرٍب فُري...</td>\n",
              "    </tr>\n",
              "    <tr>\n",
              "      <th>32463</th>\n",
              "      <td>https://example.com/resource/تنّفًّس ملقٍة ُوً...</td>\n",
              "    </tr>\n",
              "    <tr>\n",
              "      <th>18545</th>\n",
              "      <td>https://example.com/resource/اٌلٍقاَهّرٍةّ:ْ ْ...</td>\n",
              "    </tr>\n",
              "  </tbody>\n",
              "</table>\n",
              "</div><br><label><b>dtype:</b> object</label>"
            ]
          },
          "metadata": {},
          "execution_count": 167
        }
      ],
      "source": [
        "df['text'].sample(20)"
      ]
    },
    {
      "cell_type": "code",
      "execution_count": 168,
      "metadata": {
        "colab": {
          "base_uri": "https://localhost:8080/",
          "height": 147
        },
        "id": "Wq1JiH8C9xhG",
        "outputId": "67cb2906-4526-4f27-b0fe-7d2fcff7f384"
      },
      "outputs": [
        {
          "output_type": "execute_result",
          "data": {
            "text/plain": [
              "text     0\n",
              "label    0\n",
              "dtype: int64"
            ],
            "text/html": [
              "<div>\n",
              "<style scoped>\n",
              "    .dataframe tbody tr th:only-of-type {\n",
              "        vertical-align: middle;\n",
              "    }\n",
              "\n",
              "    .dataframe tbody tr th {\n",
              "        vertical-align: top;\n",
              "    }\n",
              "\n",
              "    .dataframe thead th {\n",
              "        text-align: right;\n",
              "    }\n",
              "</style>\n",
              "<table border=\"1\" class=\"dataframe\">\n",
              "  <thead>\n",
              "    <tr style=\"text-align: right;\">\n",
              "      <th></th>\n",
              "      <th>0</th>\n",
              "    </tr>\n",
              "  </thead>\n",
              "  <tbody>\n",
              "    <tr>\n",
              "      <th>text</th>\n",
              "      <td>0</td>\n",
              "    </tr>\n",
              "    <tr>\n",
              "      <th>label</th>\n",
              "      <td>0</td>\n",
              "    </tr>\n",
              "  </tbody>\n",
              "</table>\n",
              "</div><br><label><b>dtype:</b> int64</label>"
            ]
          },
          "metadata": {},
          "execution_count": 168
        }
      ],
      "source": [
        "df.isna().sum()"
      ]
    },
    {
      "cell_type": "code",
      "execution_count": 169,
      "metadata": {
        "colab": {
          "base_uri": "https://localhost:8080/"
        },
        "id": "lqlCXSu-93Gw",
        "outputId": "cdced3ec-41f3-48b1-cee4-5077b8e4d38d"
      },
      "outputs": [
        {
          "output_type": "execute_result",
          "data": {
            "text/plain": [
              "0"
            ]
          },
          "metadata": {},
          "execution_count": 169
        }
      ],
      "source": [
        "df.duplicated().sum()"
      ]
    },
    {
      "cell_type": "code",
      "execution_count": 169,
      "metadata": {
        "id": "Q6biNgkQ-Yz7"
      },
      "outputs": [],
      "source": []
    },
    {
      "cell_type": "markdown",
      "metadata": {
        "id": "X_oEu0TkSMEB"
      },
      "source": [
        "# Data Cleaning and Preprocessing"
      ]
    },
    {
      "cell_type": "markdown",
      "metadata": {
        "id": "wSAFiozlRQHt"
      },
      "source": [
        "In this section, we will focus on cleaning and filtering the dataset, preparing it for the text classification task. We will implement the following steps:\n",
        "\n",
        "1. **Remove missing values**:\n",
        "   First, we eliminate any rows with missing values to ensure the dataset is complete and consistent.\n",
        "\n",
        "2. **Filter by text length (Bonus)**:\n",
        "   To maintain a uniform dataset, we will filter the text samples by a specified word count range. This ensures that the texts are neither too short to lack context nor too long to introduce unnecessary complexity.\n",
        "\n",
        "3. **Arabic stopwords loading**:\n",
        "   We load a list of Arabic stopwords to filter out commonly used but contextually insignificant words. This is an important step for improving the performance of the model, as stopwords do not contribute valuable information.\n",
        "\n",
        "4. **Text cleaning**:\n",
        "   We apply a series of text cleaning steps to standardize and simplify the text data. This involves:\n",
        "   - **Removing links (URLs)**: Any URLs present in the text are removed as they are not meaningful for classification purposes.\n",
        "   - **Removing special characters and punctuation**: This step removes any non-alphabetical characters, ensuring the text only contains meaningful words.\n",
        "   - **Removing Arabic diacritics (Tashkeel) and elongated letters (Tatweel)**: Diacritical marks and elongated letters are stripped out to standardize the text.\n",
        "   - **Removing Arabic stopwords**: Words that are part of the stopwords list are removed, as they do not add value to the classification task.\n",
        "   - **Stemming or Lemmmatization**: Either stemming or lemmatization is applied to reduce words to their root or base form.\n",
        "   - **Normalizing Hamza**: Any variation of the Hamza character is normalized for consistency.\n",
        "\n",
        "   **Note:** Most of these you can do using the library [PyArabic](https://pyarabic.readthedocs.io/ar/latest/README.html#features)\n",
        "\n",
        "5. **Final cleanup**:\n",
        "   Apply the cleanup function to the feature column.\n",
        "\n",
        "By following these steps, the text will be cleaned, filtered, and ready for tokenization!"
      ]
    },
    {
      "cell_type": "code",
      "execution_count": 170,
      "metadata": {
        "id": "NtvWK09T_piH"
      },
      "outputs": [],
      "source": [
        "df['length'] = df['text'].str.len()"
      ]
    },
    {
      "cell_type": "code",
      "execution_count": 171,
      "metadata": {
        "id": "mHEObOY_fHhq"
      },
      "outputs": [],
      "source": [
        "from sklearn.model_selection import train_test_split\n",
        "\n",
        "train_val, test = train_test_split(df,test_size = 0.20, random_state = 1132)\n",
        "train, val = train_test_split(train_val,test_size=0.20,random_state=1132)"
      ]
    },
    {
      "cell_type": "markdown",
      "metadata": {
        "id": "i530ioXf_LFo"
      },
      "source": [
        "### EDA is only on train"
      ]
    },
    {
      "cell_type": "code",
      "execution_count": 172,
      "metadata": {
        "colab": {
          "base_uri": "https://localhost:8080/",
          "height": 178
        },
        "id": "oSxMG3Wt_KpD",
        "outputId": "9e19d32c-4139-4030-b290-1660cc59932b"
      },
      "outputs": [
        {
          "output_type": "execute_result",
          "data": {
            "text/plain": [
              "text      0\n",
              "label     0\n",
              "length    0\n",
              "dtype: int64"
            ],
            "text/html": [
              "<div>\n",
              "<style scoped>\n",
              "    .dataframe tbody tr th:only-of-type {\n",
              "        vertical-align: middle;\n",
              "    }\n",
              "\n",
              "    .dataframe tbody tr th {\n",
              "        vertical-align: top;\n",
              "    }\n",
              "\n",
              "    .dataframe thead th {\n",
              "        text-align: right;\n",
              "    }\n",
              "</style>\n",
              "<table border=\"1\" class=\"dataframe\">\n",
              "  <thead>\n",
              "    <tr style=\"text-align: right;\">\n",
              "      <th></th>\n",
              "      <th>0</th>\n",
              "    </tr>\n",
              "  </thead>\n",
              "  <tbody>\n",
              "    <tr>\n",
              "      <th>text</th>\n",
              "      <td>0</td>\n",
              "    </tr>\n",
              "    <tr>\n",
              "      <th>label</th>\n",
              "      <td>0</td>\n",
              "    </tr>\n",
              "    <tr>\n",
              "      <th>length</th>\n",
              "      <td>0</td>\n",
              "    </tr>\n",
              "  </tbody>\n",
              "</table>\n",
              "</div><br><label><b>dtype:</b> int64</label>"
            ]
          },
          "metadata": {},
          "execution_count": 172
        }
      ],
      "source": [
        "train.isnull().sum()"
      ]
    },
    {
      "cell_type": "code",
      "execution_count": 173,
      "metadata": {
        "colab": {
          "base_uri": "https://localhost:8080/",
          "height": 300
        },
        "id": "Z2rAPEqRABaY",
        "outputId": "1186399f-ee60-43f2-911a-faa1f6d2d5f2"
      },
      "outputs": [
        {
          "output_type": "execute_result",
          "data": {
            "text/plain": [
              "             length\n",
              "count  25526.000000\n",
              "mean    2425.381258\n",
              "std     1496.190013\n",
              "min      177.000000\n",
              "25%     1219.000000\n",
              "50%     2056.000000\n",
              "75%     3393.750000\n",
              "max     7565.000000"
            ],
            "text/html": [
              "\n",
              "  <div id=\"df-6327039b-0aed-4db2-8f81-24f06cadf916\" class=\"colab-df-container\">\n",
              "    <div>\n",
              "<style scoped>\n",
              "    .dataframe tbody tr th:only-of-type {\n",
              "        vertical-align: middle;\n",
              "    }\n",
              "\n",
              "    .dataframe tbody tr th {\n",
              "        vertical-align: top;\n",
              "    }\n",
              "\n",
              "    .dataframe thead th {\n",
              "        text-align: right;\n",
              "    }\n",
              "</style>\n",
              "<table border=\"1\" class=\"dataframe\">\n",
              "  <thead>\n",
              "    <tr style=\"text-align: right;\">\n",
              "      <th></th>\n",
              "      <th>length</th>\n",
              "    </tr>\n",
              "  </thead>\n",
              "  <tbody>\n",
              "    <tr>\n",
              "      <th>count</th>\n",
              "      <td>25526.000000</td>\n",
              "    </tr>\n",
              "    <tr>\n",
              "      <th>mean</th>\n",
              "      <td>2425.381258</td>\n",
              "    </tr>\n",
              "    <tr>\n",
              "      <th>std</th>\n",
              "      <td>1496.190013</td>\n",
              "    </tr>\n",
              "    <tr>\n",
              "      <th>min</th>\n",
              "      <td>177.000000</td>\n",
              "    </tr>\n",
              "    <tr>\n",
              "      <th>25%</th>\n",
              "      <td>1219.000000</td>\n",
              "    </tr>\n",
              "    <tr>\n",
              "      <th>50%</th>\n",
              "      <td>2056.000000</td>\n",
              "    </tr>\n",
              "    <tr>\n",
              "      <th>75%</th>\n",
              "      <td>3393.750000</td>\n",
              "    </tr>\n",
              "    <tr>\n",
              "      <th>max</th>\n",
              "      <td>7565.000000</td>\n",
              "    </tr>\n",
              "  </tbody>\n",
              "</table>\n",
              "</div>\n",
              "    <div class=\"colab-df-buttons\">\n",
              "\n",
              "  <div class=\"colab-df-container\">\n",
              "    <button class=\"colab-df-convert\" onclick=\"convertToInteractive('df-6327039b-0aed-4db2-8f81-24f06cadf916')\"\n",
              "            title=\"Convert this dataframe to an interactive table.\"\n",
              "            style=\"display:none;\">\n",
              "\n",
              "  <svg xmlns=\"http://www.w3.org/2000/svg\" height=\"24px\" viewBox=\"0 -960 960 960\">\n",
              "    <path d=\"M120-120v-720h720v720H120Zm60-500h600v-160H180v160Zm220 220h160v-160H400v160Zm0 220h160v-160H400v160ZM180-400h160v-160H180v160Zm440 0h160v-160H620v160ZM180-180h160v-160H180v160Zm440 0h160v-160H620v160Z\"/>\n",
              "  </svg>\n",
              "    </button>\n",
              "\n",
              "  <style>\n",
              "    .colab-df-container {\n",
              "      display:flex;\n",
              "      gap: 12px;\n",
              "    }\n",
              "\n",
              "    .colab-df-convert {\n",
              "      background-color: #E8F0FE;\n",
              "      border: none;\n",
              "      border-radius: 50%;\n",
              "      cursor: pointer;\n",
              "      display: none;\n",
              "      fill: #1967D2;\n",
              "      height: 32px;\n",
              "      padding: 0 0 0 0;\n",
              "      width: 32px;\n",
              "    }\n",
              "\n",
              "    .colab-df-convert:hover {\n",
              "      background-color: #E2EBFA;\n",
              "      box-shadow: 0px 1px 2px rgba(60, 64, 67, 0.3), 0px 1px 3px 1px rgba(60, 64, 67, 0.15);\n",
              "      fill: #174EA6;\n",
              "    }\n",
              "\n",
              "    .colab-df-buttons div {\n",
              "      margin-bottom: 4px;\n",
              "    }\n",
              "\n",
              "    [theme=dark] .colab-df-convert {\n",
              "      background-color: #3B4455;\n",
              "      fill: #D2E3FC;\n",
              "    }\n",
              "\n",
              "    [theme=dark] .colab-df-convert:hover {\n",
              "      background-color: #434B5C;\n",
              "      box-shadow: 0px 1px 3px 1px rgba(0, 0, 0, 0.15);\n",
              "      filter: drop-shadow(0px 1px 2px rgba(0, 0, 0, 0.3));\n",
              "      fill: #FFFFFF;\n",
              "    }\n",
              "  </style>\n",
              "\n",
              "    <script>\n",
              "      const buttonEl =\n",
              "        document.querySelector('#df-6327039b-0aed-4db2-8f81-24f06cadf916 button.colab-df-convert');\n",
              "      buttonEl.style.display =\n",
              "        google.colab.kernel.accessAllowed ? 'block' : 'none';\n",
              "\n",
              "      async function convertToInteractive(key) {\n",
              "        const element = document.querySelector('#df-6327039b-0aed-4db2-8f81-24f06cadf916');\n",
              "        const dataTable =\n",
              "          await google.colab.kernel.invokeFunction('convertToInteractive',\n",
              "                                                    [key], {});\n",
              "        if (!dataTable) return;\n",
              "\n",
              "        const docLinkHtml = 'Like what you see? Visit the ' +\n",
              "          '<a target=\"_blank\" href=https://colab.research.google.com/notebooks/data_table.ipynb>data table notebook</a>'\n",
              "          + ' to learn more about interactive tables.';\n",
              "        element.innerHTML = '';\n",
              "        dataTable['output_type'] = 'display_data';\n",
              "        await google.colab.output.renderOutput(dataTable, element);\n",
              "        const docLink = document.createElement('div');\n",
              "        docLink.innerHTML = docLinkHtml;\n",
              "        element.appendChild(docLink);\n",
              "      }\n",
              "    </script>\n",
              "  </div>\n",
              "\n",
              "\n",
              "<div id=\"df-cf70374f-00c5-4fd0-ba30-147d1cdec737\">\n",
              "  <button class=\"colab-df-quickchart\" onclick=\"quickchart('df-cf70374f-00c5-4fd0-ba30-147d1cdec737')\"\n",
              "            title=\"Suggest charts\"\n",
              "            style=\"display:none;\">\n",
              "\n",
              "<svg xmlns=\"http://www.w3.org/2000/svg\" height=\"24px\"viewBox=\"0 0 24 24\"\n",
              "     width=\"24px\">\n",
              "    <g>\n",
              "        <path d=\"M19 3H5c-1.1 0-2 .9-2 2v14c0 1.1.9 2 2 2h14c1.1 0 2-.9 2-2V5c0-1.1-.9-2-2-2zM9 17H7v-7h2v7zm4 0h-2V7h2v10zm4 0h-2v-4h2v4z\"/>\n",
              "    </g>\n",
              "</svg>\n",
              "  </button>\n",
              "\n",
              "<style>\n",
              "  .colab-df-quickchart {\n",
              "      --bg-color: #E8F0FE;\n",
              "      --fill-color: #1967D2;\n",
              "      --hover-bg-color: #E2EBFA;\n",
              "      --hover-fill-color: #174EA6;\n",
              "      --disabled-fill-color: #AAA;\n",
              "      --disabled-bg-color: #DDD;\n",
              "  }\n",
              "\n",
              "  [theme=dark] .colab-df-quickchart {\n",
              "      --bg-color: #3B4455;\n",
              "      --fill-color: #D2E3FC;\n",
              "      --hover-bg-color: #434B5C;\n",
              "      --hover-fill-color: #FFFFFF;\n",
              "      --disabled-bg-color: #3B4455;\n",
              "      --disabled-fill-color: #666;\n",
              "  }\n",
              "\n",
              "  .colab-df-quickchart {\n",
              "    background-color: var(--bg-color);\n",
              "    border: none;\n",
              "    border-radius: 50%;\n",
              "    cursor: pointer;\n",
              "    display: none;\n",
              "    fill: var(--fill-color);\n",
              "    height: 32px;\n",
              "    padding: 0;\n",
              "    width: 32px;\n",
              "  }\n",
              "\n",
              "  .colab-df-quickchart:hover {\n",
              "    background-color: var(--hover-bg-color);\n",
              "    box-shadow: 0 1px 2px rgba(60, 64, 67, 0.3), 0 1px 3px 1px rgba(60, 64, 67, 0.15);\n",
              "    fill: var(--button-hover-fill-color);\n",
              "  }\n",
              "\n",
              "  .colab-df-quickchart-complete:disabled,\n",
              "  .colab-df-quickchart-complete:disabled:hover {\n",
              "    background-color: var(--disabled-bg-color);\n",
              "    fill: var(--disabled-fill-color);\n",
              "    box-shadow: none;\n",
              "  }\n",
              "\n",
              "  .colab-df-spinner {\n",
              "    border: 2px solid var(--fill-color);\n",
              "    border-color: transparent;\n",
              "    border-bottom-color: var(--fill-color);\n",
              "    animation:\n",
              "      spin 1s steps(1) infinite;\n",
              "  }\n",
              "\n",
              "  @keyframes spin {\n",
              "    0% {\n",
              "      border-color: transparent;\n",
              "      border-bottom-color: var(--fill-color);\n",
              "      border-left-color: var(--fill-color);\n",
              "    }\n",
              "    20% {\n",
              "      border-color: transparent;\n",
              "      border-left-color: var(--fill-color);\n",
              "      border-top-color: var(--fill-color);\n",
              "    }\n",
              "    30% {\n",
              "      border-color: transparent;\n",
              "      border-left-color: var(--fill-color);\n",
              "      border-top-color: var(--fill-color);\n",
              "      border-right-color: var(--fill-color);\n",
              "    }\n",
              "    40% {\n",
              "      border-color: transparent;\n",
              "      border-right-color: var(--fill-color);\n",
              "      border-top-color: var(--fill-color);\n",
              "    }\n",
              "    60% {\n",
              "      border-color: transparent;\n",
              "      border-right-color: var(--fill-color);\n",
              "    }\n",
              "    80% {\n",
              "      border-color: transparent;\n",
              "      border-right-color: var(--fill-color);\n",
              "      border-bottom-color: var(--fill-color);\n",
              "    }\n",
              "    90% {\n",
              "      border-color: transparent;\n",
              "      border-bottom-color: var(--fill-color);\n",
              "    }\n",
              "  }\n",
              "</style>\n",
              "\n",
              "  <script>\n",
              "    async function quickchart(key) {\n",
              "      const quickchartButtonEl =\n",
              "        document.querySelector('#' + key + ' button');\n",
              "      quickchartButtonEl.disabled = true;  // To prevent multiple clicks.\n",
              "      quickchartButtonEl.classList.add('colab-df-spinner');\n",
              "      try {\n",
              "        const charts = await google.colab.kernel.invokeFunction(\n",
              "            'suggestCharts', [key], {});\n",
              "      } catch (error) {\n",
              "        console.error('Error during call to suggestCharts:', error);\n",
              "      }\n",
              "      quickchartButtonEl.classList.remove('colab-df-spinner');\n",
              "      quickchartButtonEl.classList.add('colab-df-quickchart-complete');\n",
              "    }\n",
              "    (() => {\n",
              "      let quickchartButtonEl =\n",
              "        document.querySelector('#df-cf70374f-00c5-4fd0-ba30-147d1cdec737 button');\n",
              "      quickchartButtonEl.style.display =\n",
              "        google.colab.kernel.accessAllowed ? 'block' : 'none';\n",
              "    })();\n",
              "  </script>\n",
              "</div>\n",
              "\n",
              "    </div>\n",
              "  </div>\n"
            ],
            "application/vnd.google.colaboratory.intrinsic+json": {
              "type": "dataframe",
              "summary": "{\n  \"name\": \"train\",\n  \"rows\": 8,\n  \"fields\": [\n    {\n      \"column\": \"length\",\n      \"properties\": {\n        \"dtype\": \"number\",\n        \"std\": 8398.510767421596,\n        \"min\": 177.0,\n        \"max\": 25526.0,\n        \"num_unique_values\": 8,\n        \"samples\": [\n          2425.3812583248455,\n          2056.0,\n          25526.0\n        ],\n        \"semantic_type\": \"\",\n        \"description\": \"\"\n      }\n    }\n  ]\n}"
            }
          },
          "metadata": {},
          "execution_count": 173
        }
      ],
      "source": [
        "train.describe()"
      ]
    },
    {
      "cell_type": "code",
      "execution_count": 174,
      "metadata": {
        "colab": {
          "base_uri": "https://localhost:8080/",
          "height": 458
        },
        "id": "pRQcIpjKAfjn",
        "outputId": "0029e2a7-55a4-45e9-dfdb-a85c0de3468f"
      },
      "outputs": [
        {
          "output_type": "execute_result",
          "data": {
            "text/plain": [
              "35783    3549\n",
              "34033    1993\n",
              "20759     834\n",
              "23095     608\n",
              "36953    1558\n",
              "         ... \n",
              "8360     2468\n",
              "4624     3575\n",
              "35271    1990\n",
              "39257    1820\n",
              "29266     382\n",
              "Name: length, Length: 25526, dtype: int64"
            ],
            "text/html": [
              "<div>\n",
              "<style scoped>\n",
              "    .dataframe tbody tr th:only-of-type {\n",
              "        vertical-align: middle;\n",
              "    }\n",
              "\n",
              "    .dataframe tbody tr th {\n",
              "        vertical-align: top;\n",
              "    }\n",
              "\n",
              "    .dataframe thead th {\n",
              "        text-align: right;\n",
              "    }\n",
              "</style>\n",
              "<table border=\"1\" class=\"dataframe\">\n",
              "  <thead>\n",
              "    <tr style=\"text-align: right;\">\n",
              "      <th></th>\n",
              "      <th>length</th>\n",
              "    </tr>\n",
              "  </thead>\n",
              "  <tbody>\n",
              "    <tr>\n",
              "      <th>35783</th>\n",
              "      <td>3549</td>\n",
              "    </tr>\n",
              "    <tr>\n",
              "      <th>34033</th>\n",
              "      <td>1993</td>\n",
              "    </tr>\n",
              "    <tr>\n",
              "      <th>20759</th>\n",
              "      <td>834</td>\n",
              "    </tr>\n",
              "    <tr>\n",
              "      <th>23095</th>\n",
              "      <td>608</td>\n",
              "    </tr>\n",
              "    <tr>\n",
              "      <th>36953</th>\n",
              "      <td>1558</td>\n",
              "    </tr>\n",
              "    <tr>\n",
              "      <th>...</th>\n",
              "      <td>...</td>\n",
              "    </tr>\n",
              "    <tr>\n",
              "      <th>8360</th>\n",
              "      <td>2468</td>\n",
              "    </tr>\n",
              "    <tr>\n",
              "      <th>4624</th>\n",
              "      <td>3575</td>\n",
              "    </tr>\n",
              "    <tr>\n",
              "      <th>35271</th>\n",
              "      <td>1990</td>\n",
              "    </tr>\n",
              "    <tr>\n",
              "      <th>39257</th>\n",
              "      <td>1820</td>\n",
              "    </tr>\n",
              "    <tr>\n",
              "      <th>29266</th>\n",
              "      <td>382</td>\n",
              "    </tr>\n",
              "  </tbody>\n",
              "</table>\n",
              "<p>25526 rows × 1 columns</p>\n",
              "</div><br><label><b>dtype:</b> int64</label>"
            ]
          },
          "metadata": {},
          "execution_count": 174
        }
      ],
      "source": [
        "train['length']"
      ]
    },
    {
      "cell_type": "code",
      "execution_count": 175,
      "metadata": {
        "colab": {
          "base_uri": "https://localhost:8080/",
          "height": 175
        },
        "id": "J2DeuSJ-_ZCt",
        "outputId": "2f8f01ec-65ec-45f8-ac8a-4777775390c8"
      },
      "outputs": [
        {
          "output_type": "execute_result",
          "data": {
            "text/plain": [
              "                                                   text    label  length\n",
              "8060  https://example.com/resource/حقِقت اِلَعين َاُ...  Finance     177\n",
              "6208  https://example.com/resource/أًعلنتُ ُشرِكةً ر...  Finance     189\n",
              "6895  https://example.com/resource/دبّي ْ\"ِالَخّليٍج...  Finance     187\n",
              "8473  https://example.com/resource/يجتمِع ٌمٍجلَس إد...  Finance     197"
            ],
            "text/html": [
              "\n",
              "  <div id=\"df-9100df55-6f92-4ef4-aef8-8c61cb1cec7e\" class=\"colab-df-container\">\n",
              "    <div>\n",
              "<style scoped>\n",
              "    .dataframe tbody tr th:only-of-type {\n",
              "        vertical-align: middle;\n",
              "    }\n",
              "\n",
              "    .dataframe tbody tr th {\n",
              "        vertical-align: top;\n",
              "    }\n",
              "\n",
              "    .dataframe thead th {\n",
              "        text-align: right;\n",
              "    }\n",
              "</style>\n",
              "<table border=\"1\" class=\"dataframe\">\n",
              "  <thead>\n",
              "    <tr style=\"text-align: right;\">\n",
              "      <th></th>\n",
              "      <th>text</th>\n",
              "      <th>label</th>\n",
              "      <th>length</th>\n",
              "    </tr>\n",
              "  </thead>\n",
              "  <tbody>\n",
              "    <tr>\n",
              "      <th>8060</th>\n",
              "      <td>https://example.com/resource/حقِقت اِلَعين َاُ...</td>\n",
              "      <td>Finance</td>\n",
              "      <td>177</td>\n",
              "    </tr>\n",
              "    <tr>\n",
              "      <th>6208</th>\n",
              "      <td>https://example.com/resource/أًعلنتُ ُشرِكةً ر...</td>\n",
              "      <td>Finance</td>\n",
              "      <td>189</td>\n",
              "    </tr>\n",
              "    <tr>\n",
              "      <th>6895</th>\n",
              "      <td>https://example.com/resource/دبّي ْ\"ِالَخّليٍج...</td>\n",
              "      <td>Finance</td>\n",
              "      <td>187</td>\n",
              "    </tr>\n",
              "    <tr>\n",
              "      <th>8473</th>\n",
              "      <td>https://example.com/resource/يجتمِع ٌمٍجلَس إد...</td>\n",
              "      <td>Finance</td>\n",
              "      <td>197</td>\n",
              "    </tr>\n",
              "  </tbody>\n",
              "</table>\n",
              "</div>\n",
              "    <div class=\"colab-df-buttons\">\n",
              "\n",
              "  <div class=\"colab-df-container\">\n",
              "    <button class=\"colab-df-convert\" onclick=\"convertToInteractive('df-9100df55-6f92-4ef4-aef8-8c61cb1cec7e')\"\n",
              "            title=\"Convert this dataframe to an interactive table.\"\n",
              "            style=\"display:none;\">\n",
              "\n",
              "  <svg xmlns=\"http://www.w3.org/2000/svg\" height=\"24px\" viewBox=\"0 -960 960 960\">\n",
              "    <path d=\"M120-120v-720h720v720H120Zm60-500h600v-160H180v160Zm220 220h160v-160H400v160Zm0 220h160v-160H400v160ZM180-400h160v-160H180v160Zm440 0h160v-160H620v160ZM180-180h160v-160H180v160Zm440 0h160v-160H620v160Z\"/>\n",
              "  </svg>\n",
              "    </button>\n",
              "\n",
              "  <style>\n",
              "    .colab-df-container {\n",
              "      display:flex;\n",
              "      gap: 12px;\n",
              "    }\n",
              "\n",
              "    .colab-df-convert {\n",
              "      background-color: #E8F0FE;\n",
              "      border: none;\n",
              "      border-radius: 50%;\n",
              "      cursor: pointer;\n",
              "      display: none;\n",
              "      fill: #1967D2;\n",
              "      height: 32px;\n",
              "      padding: 0 0 0 0;\n",
              "      width: 32px;\n",
              "    }\n",
              "\n",
              "    .colab-df-convert:hover {\n",
              "      background-color: #E2EBFA;\n",
              "      box-shadow: 0px 1px 2px rgba(60, 64, 67, 0.3), 0px 1px 3px 1px rgba(60, 64, 67, 0.15);\n",
              "      fill: #174EA6;\n",
              "    }\n",
              "\n",
              "    .colab-df-buttons div {\n",
              "      margin-bottom: 4px;\n",
              "    }\n",
              "\n",
              "    [theme=dark] .colab-df-convert {\n",
              "      background-color: #3B4455;\n",
              "      fill: #D2E3FC;\n",
              "    }\n",
              "\n",
              "    [theme=dark] .colab-df-convert:hover {\n",
              "      background-color: #434B5C;\n",
              "      box-shadow: 0px 1px 3px 1px rgba(0, 0, 0, 0.15);\n",
              "      filter: drop-shadow(0px 1px 2px rgba(0, 0, 0, 0.3));\n",
              "      fill: #FFFFFF;\n",
              "    }\n",
              "  </style>\n",
              "\n",
              "    <script>\n",
              "      const buttonEl =\n",
              "        document.querySelector('#df-9100df55-6f92-4ef4-aef8-8c61cb1cec7e button.colab-df-convert');\n",
              "      buttonEl.style.display =\n",
              "        google.colab.kernel.accessAllowed ? 'block' : 'none';\n",
              "\n",
              "      async function convertToInteractive(key) {\n",
              "        const element = document.querySelector('#df-9100df55-6f92-4ef4-aef8-8c61cb1cec7e');\n",
              "        const dataTable =\n",
              "          await google.colab.kernel.invokeFunction('convertToInteractive',\n",
              "                                                    [key], {});\n",
              "        if (!dataTable) return;\n",
              "\n",
              "        const docLinkHtml = 'Like what you see? Visit the ' +\n",
              "          '<a target=\"_blank\" href=https://colab.research.google.com/notebooks/data_table.ipynb>data table notebook</a>'\n",
              "          + ' to learn more about interactive tables.';\n",
              "        element.innerHTML = '';\n",
              "        dataTable['output_type'] = 'display_data';\n",
              "        await google.colab.output.renderOutput(dataTable, element);\n",
              "        const docLink = document.createElement('div');\n",
              "        docLink.innerHTML = docLinkHtml;\n",
              "        element.appendChild(docLink);\n",
              "      }\n",
              "    </script>\n",
              "  </div>\n",
              "\n",
              "\n",
              "<div id=\"df-74dfcc71-4308-4e07-8541-994942c7e792\">\n",
              "  <button class=\"colab-df-quickchart\" onclick=\"quickchart('df-74dfcc71-4308-4e07-8541-994942c7e792')\"\n",
              "            title=\"Suggest charts\"\n",
              "            style=\"display:none;\">\n",
              "\n",
              "<svg xmlns=\"http://www.w3.org/2000/svg\" height=\"24px\"viewBox=\"0 0 24 24\"\n",
              "     width=\"24px\">\n",
              "    <g>\n",
              "        <path d=\"M19 3H5c-1.1 0-2 .9-2 2v14c0 1.1.9 2 2 2h14c1.1 0 2-.9 2-2V5c0-1.1-.9-2-2-2zM9 17H7v-7h2v7zm4 0h-2V7h2v10zm4 0h-2v-4h2v4z\"/>\n",
              "    </g>\n",
              "</svg>\n",
              "  </button>\n",
              "\n",
              "<style>\n",
              "  .colab-df-quickchart {\n",
              "      --bg-color: #E8F0FE;\n",
              "      --fill-color: #1967D2;\n",
              "      --hover-bg-color: #E2EBFA;\n",
              "      --hover-fill-color: #174EA6;\n",
              "      --disabled-fill-color: #AAA;\n",
              "      --disabled-bg-color: #DDD;\n",
              "  }\n",
              "\n",
              "  [theme=dark] .colab-df-quickchart {\n",
              "      --bg-color: #3B4455;\n",
              "      --fill-color: #D2E3FC;\n",
              "      --hover-bg-color: #434B5C;\n",
              "      --hover-fill-color: #FFFFFF;\n",
              "      --disabled-bg-color: #3B4455;\n",
              "      --disabled-fill-color: #666;\n",
              "  }\n",
              "\n",
              "  .colab-df-quickchart {\n",
              "    background-color: var(--bg-color);\n",
              "    border: none;\n",
              "    border-radius: 50%;\n",
              "    cursor: pointer;\n",
              "    display: none;\n",
              "    fill: var(--fill-color);\n",
              "    height: 32px;\n",
              "    padding: 0;\n",
              "    width: 32px;\n",
              "  }\n",
              "\n",
              "  .colab-df-quickchart:hover {\n",
              "    background-color: var(--hover-bg-color);\n",
              "    box-shadow: 0 1px 2px rgba(60, 64, 67, 0.3), 0 1px 3px 1px rgba(60, 64, 67, 0.15);\n",
              "    fill: var(--button-hover-fill-color);\n",
              "  }\n",
              "\n",
              "  .colab-df-quickchart-complete:disabled,\n",
              "  .colab-df-quickchart-complete:disabled:hover {\n",
              "    background-color: var(--disabled-bg-color);\n",
              "    fill: var(--disabled-fill-color);\n",
              "    box-shadow: none;\n",
              "  }\n",
              "\n",
              "  .colab-df-spinner {\n",
              "    border: 2px solid var(--fill-color);\n",
              "    border-color: transparent;\n",
              "    border-bottom-color: var(--fill-color);\n",
              "    animation:\n",
              "      spin 1s steps(1) infinite;\n",
              "  }\n",
              "\n",
              "  @keyframes spin {\n",
              "    0% {\n",
              "      border-color: transparent;\n",
              "      border-bottom-color: var(--fill-color);\n",
              "      border-left-color: var(--fill-color);\n",
              "    }\n",
              "    20% {\n",
              "      border-color: transparent;\n",
              "      border-left-color: var(--fill-color);\n",
              "      border-top-color: var(--fill-color);\n",
              "    }\n",
              "    30% {\n",
              "      border-color: transparent;\n",
              "      border-left-color: var(--fill-color);\n",
              "      border-top-color: var(--fill-color);\n",
              "      border-right-color: var(--fill-color);\n",
              "    }\n",
              "    40% {\n",
              "      border-color: transparent;\n",
              "      border-right-color: var(--fill-color);\n",
              "      border-top-color: var(--fill-color);\n",
              "    }\n",
              "    60% {\n",
              "      border-color: transparent;\n",
              "      border-right-color: var(--fill-color);\n",
              "    }\n",
              "    80% {\n",
              "      border-color: transparent;\n",
              "      border-right-color: var(--fill-color);\n",
              "      border-bottom-color: var(--fill-color);\n",
              "    }\n",
              "    90% {\n",
              "      border-color: transparent;\n",
              "      border-bottom-color: var(--fill-color);\n",
              "    }\n",
              "  }\n",
              "</style>\n",
              "\n",
              "  <script>\n",
              "    async function quickchart(key) {\n",
              "      const quickchartButtonEl =\n",
              "        document.querySelector('#' + key + ' button');\n",
              "      quickchartButtonEl.disabled = true;  // To prevent multiple clicks.\n",
              "      quickchartButtonEl.classList.add('colab-df-spinner');\n",
              "      try {\n",
              "        const charts = await google.colab.kernel.invokeFunction(\n",
              "            'suggestCharts', [key], {});\n",
              "      } catch (error) {\n",
              "        console.error('Error during call to suggestCharts:', error);\n",
              "      }\n",
              "      quickchartButtonEl.classList.remove('colab-df-spinner');\n",
              "      quickchartButtonEl.classList.add('colab-df-quickchart-complete');\n",
              "    }\n",
              "    (() => {\n",
              "      let quickchartButtonEl =\n",
              "        document.querySelector('#df-74dfcc71-4308-4e07-8541-994942c7e792 button');\n",
              "      quickchartButtonEl.style.display =\n",
              "        google.colab.kernel.accessAllowed ? 'block' : 'none';\n",
              "    })();\n",
              "  </script>\n",
              "</div>\n",
              "\n",
              "    </div>\n",
              "  </div>\n"
            ],
            "application/vnd.google.colaboratory.intrinsic+json": {
              "type": "dataframe",
              "summary": "{\n  \"name\": \"train[train['length']< 200]\",\n  \"rows\": 4,\n  \"fields\": [\n    {\n      \"column\": \"text\",\n      \"properties\": {\n        \"dtype\": \"string\",\n        \"num_unique_values\": 4,\n        \"samples\": [\n          \"https://example.com/resource/\\u0623\\u064b\\u0639\\u0644\\u0646\\u062a\\u064f \\u064f\\u0634\\u0631\\u0650\\u0643\\u0629\\u064b \\u0631\\u0623\\u0633 \\u0627\\u0644\\u062e\\u064f\\u064a\\u0652\\u0645\\u0629\\u064d \\u0644\\u064f\\u0644\\u0652\\u0627\\u0652\\u0633\\u0645\\u0646\\u062a \\u0627\\u0650\\u0644\\u064f\\u0623\\u0628\\u064b\\u064a\\u0636 \\u0627\\u064b\\u0646\\u064f\\u0647\\u0627 \\u0633\\u062a\\u0643\\u064c\\u0634\\u064c\\u0641\\u0650 \\u0639\\u064d\\u0646\\u0650 \\u0646\\u062a\\u0627\\u0626\\u062c\\u064e \\u0623\\u0639\\u0650\\u0645\\u0627\\u0652\\u0644\\u064c\\u0647\\u064e\\u0627 \\u062e\\u064d\\u0644\\u0650\\u0627\\u0644 \\u0627\\u064c\\u0644\\u0631\\u064b\\u0628\\u0650\\u0639 \\u0651\\u0627\\u0644\\u064f\\u0623\\u0648\\u0652\\u0644 \\u064f\\u0645\\u0646\\u064f \\u0647\\u064c\\u0630\\u0627\\u064d \\u0651\\u0627\\u064c\\u0644\\u064f\\u0639\\u0652\\u0627\\u0645\\u064c \\u0627\\u064e\\u0644\\u064c\\u0633\\u0628\\u0652\\u062a \\u0627\\u0644\\u0650\\u0645\\u064c\\u0642\\u0652\\u0628\\u0652\\u0644 .\\u0650\",\n          \"https://example.com/resource/\\u064a\\u062c\\u062a\\u0645\\u0650\\u0639 \\u064c\\u0645\\u064d\\u062c\\u0644\\u064e\\u0633 \\u0625\\u062f\\u0627\\u0631\\u0651\\u0629\\u064b \\u0634\\u0631\\u0650\\u0643\\u0629 \\u062f\\u0627\\u0631 \\u064f\\u0627\\u0644\\u0652\\u062a\\u0643\\u0627\\u0641\\u0644 \\u0641\\u064f\\u064a\\u064d \\u064c\\u0627\\u064f\\u0644\\u0631\\u0627\\u0628\\u0639 \\u0639\\u0651\\u0634\\u0652\\u0631 \\u064b\\u0645\\u0646 \\u0627\\u0651\\u0644\\u064b\\u0634\\u064e\\u0647\\u064c\\u0631 \\u0627\\u0644\\u064c\\u062c\\u0627\\u0651\\u0631\\u064f\\u064a\\u0652 \\u064d\\u0644\\u0627\\u0639\\u062a\\u064d\\u0645\\u0627\\u062f\\u0651 \\u0627\\u0652\\u0644\\u0628\\u0652\\u064a\\u064b\\u0627\\u0650\\u0646\\u0627\\u0652\\u062a \\u0651\\u0627\\u0652\\u0644\\u0645\\u0652\\u0627\\u0652\\u0644\\u064a\\u064f\\u0629\\u0650 \\u064b\\u0644\\u0644\\u064b\\u0631\\u0628\\u0651\\u0639 \\u0650\\u0627\\u0644\\u064d\\u062b\\u0651\\u0627\\u0652\\u0646\\u064a \\u0645\\u0646 \\u0627\\u064f\\u0644\\u0650\\u0639\\u0652\\u0627\\u0645 \\u0652\\u0627\\u0644\\u062c\\u0627\\u0631\\u064a.\\u064e\",\n          \"https://example.com/resource/\\u062d\\u0642\\u0650\\u0642\\u062a \\u0627\\u0650\\u0644\\u064e\\u0639\\u064a\\u0646 \\u064e\\u0627\\u064f\\u0644\\u0623\\u0647\\u064d\\u0644\\u064a\\u064c\\u0629 \\u0644\\u0644\\u064b\\u062a\\u0623\\u0651\\u0645\\u064f\\u064a\\u064f\\u0646 \\u0623\\u0631\\u064d\\u0628\\u0652\\u0627\\u062d\\u0627\\u064b\\u064b \\u0628\\u0652\\u0644\\u063a\\u064b\\u062a\\u064e 2 .\\u064e5\\u06510\\u064e \\u0652\\u0645\\u0644\\u064c\\u064a\\u0648\\u0646\\u0652 \\u062f\\u0631\\u064d\\u0647\\u0652\\u0645\\u064b \\u0650\\u0641\\u064a 20\\u065212\\u064b \\u064e\\u0645\\u0652\\u0642\\u0627\\u064d\\u0628\\u0644\\u064c \\u064f\\u0623\\u0631\\u0628\\u0627\\u0652\\u062d\\u064f 2\\u0651 .\\u064b53\\u064e \\u064b\\u0645\\u064c\\u0644\\u064a\\u0648\\u064b\\u0646 \\u0641\\u064e\\u064a\\u064b \\u064e2\\u064c0\\u064c1\\u06521\\u0652 .\\u064d\"\n        ],\n        \"semantic_type\": \"\",\n        \"description\": \"\"\n      }\n    },\n    {\n      \"column\": \"label\",\n      \"properties\": {\n        \"dtype\": \"category\",\n        \"num_unique_values\": 1,\n        \"samples\": [\n          \"Finance\"\n        ],\n        \"semantic_type\": \"\",\n        \"description\": \"\"\n      }\n    },\n    {\n      \"column\": \"length\",\n      \"properties\": {\n        \"dtype\": \"number\",\n        \"std\": 8,\n        \"min\": 177,\n        \"max\": 197,\n        \"num_unique_values\": 4,\n        \"samples\": [\n          189\n        ],\n        \"semantic_type\": \"\",\n        \"description\": \"\"\n      }\n    }\n  ]\n}"
            }
          },
          "metadata": {},
          "execution_count": 175
        }
      ],
      "source": [
        "train[train['length']< 200]"
      ]
    },
    {
      "cell_type": "code",
      "execution_count": 176,
      "metadata": {
        "colab": {
          "base_uri": "https://localhost:8080/",
          "height": 424
        },
        "id": "1bqVYGP3AQFl",
        "outputId": "8973c609-f857-4f7f-ef36-74448e16d8ec"
      },
      "outputs": [
        {
          "output_type": "execute_result",
          "data": {
            "text/plain": [
              "                                                    text    label  length\n",
              "35783  https://example.com/resource/يفيْدٍ مّسؤولو اٌ...     Tech    3549\n",
              "12737  https://example.com/resource/دْبي ِ- أمِين َاِ...  Medical    6304\n",
              "16435  https://example.com/resource/أٌبوًظبيٌ ُ- ً«اُ...  Medical    4285\n",
              "38562  https://example.com/resource/دًبيٌ: ْ«الخليّج»...     Tech    3752\n",
              "28505  https://example.com/resource/قٌال اًلَبًرازيلي...   Sports    4213\n",
              "...                                                  ...      ...     ...\n",
              "1202   https://example.com/resource/مْنّّيٌ ًبًوْنعاْ...  Culture    3692\n",
              "2931   https://example.com/resource/شٍهد اليَوِمْ ُاِ...  Culture    4147\n",
              "35992  https://example.com/resource/أطلّقّتٍ ٌشركةْ ً...     Tech    4971\n",
              "34348  https://example.com/resource/عٌلىُ ْهَامِشِ قم...     Tech    3868\n",
              "4624   https://example.com/resource/لقّدٍ شكّْلُ ِالف...  Culture    3575\n",
              "\n",
              "[5996 rows x 3 columns]"
            ],
            "text/html": [
              "\n",
              "  <div id=\"df-490fd553-6c5b-400c-9e7d-10d32df9573e\" class=\"colab-df-container\">\n",
              "    <div>\n",
              "<style scoped>\n",
              "    .dataframe tbody tr th:only-of-type {\n",
              "        vertical-align: middle;\n",
              "    }\n",
              "\n",
              "    .dataframe tbody tr th {\n",
              "        vertical-align: top;\n",
              "    }\n",
              "\n",
              "    .dataframe thead th {\n",
              "        text-align: right;\n",
              "    }\n",
              "</style>\n",
              "<table border=\"1\" class=\"dataframe\">\n",
              "  <thead>\n",
              "    <tr style=\"text-align: right;\">\n",
              "      <th></th>\n",
              "      <th>text</th>\n",
              "      <th>label</th>\n",
              "      <th>length</th>\n",
              "    </tr>\n",
              "  </thead>\n",
              "  <tbody>\n",
              "    <tr>\n",
              "      <th>35783</th>\n",
              "      <td>https://example.com/resource/يفيْدٍ مّسؤولو اٌ...</td>\n",
              "      <td>Tech</td>\n",
              "      <td>3549</td>\n",
              "    </tr>\n",
              "    <tr>\n",
              "      <th>12737</th>\n",
              "      <td>https://example.com/resource/دْبي ِ- أمِين َاِ...</td>\n",
              "      <td>Medical</td>\n",
              "      <td>6304</td>\n",
              "    </tr>\n",
              "    <tr>\n",
              "      <th>16435</th>\n",
              "      <td>https://example.com/resource/أٌبوًظبيٌ ُ- ً«اُ...</td>\n",
              "      <td>Medical</td>\n",
              "      <td>4285</td>\n",
              "    </tr>\n",
              "    <tr>\n",
              "      <th>38562</th>\n",
              "      <td>https://example.com/resource/دًبيٌ: ْ«الخليّج»...</td>\n",
              "      <td>Tech</td>\n",
              "      <td>3752</td>\n",
              "    </tr>\n",
              "    <tr>\n",
              "      <th>28505</th>\n",
              "      <td>https://example.com/resource/قٌال اًلَبًرازيلي...</td>\n",
              "      <td>Sports</td>\n",
              "      <td>4213</td>\n",
              "    </tr>\n",
              "    <tr>\n",
              "      <th>...</th>\n",
              "      <td>...</td>\n",
              "      <td>...</td>\n",
              "      <td>...</td>\n",
              "    </tr>\n",
              "    <tr>\n",
              "      <th>1202</th>\n",
              "      <td>https://example.com/resource/مْنّّيٌ ًبًوْنعاْ...</td>\n",
              "      <td>Culture</td>\n",
              "      <td>3692</td>\n",
              "    </tr>\n",
              "    <tr>\n",
              "      <th>2931</th>\n",
              "      <td>https://example.com/resource/شٍهد اليَوِمْ ُاِ...</td>\n",
              "      <td>Culture</td>\n",
              "      <td>4147</td>\n",
              "    </tr>\n",
              "    <tr>\n",
              "      <th>35992</th>\n",
              "      <td>https://example.com/resource/أطلّقّتٍ ٌشركةْ ً...</td>\n",
              "      <td>Tech</td>\n",
              "      <td>4971</td>\n",
              "    </tr>\n",
              "    <tr>\n",
              "      <th>34348</th>\n",
              "      <td>https://example.com/resource/عٌلىُ ْهَامِشِ قم...</td>\n",
              "      <td>Tech</td>\n",
              "      <td>3868</td>\n",
              "    </tr>\n",
              "    <tr>\n",
              "      <th>4624</th>\n",
              "      <td>https://example.com/resource/لقّدٍ شكّْلُ ِالف...</td>\n",
              "      <td>Culture</td>\n",
              "      <td>3575</td>\n",
              "    </tr>\n",
              "  </tbody>\n",
              "</table>\n",
              "<p>5996 rows × 3 columns</p>\n",
              "</div>\n",
              "    <div class=\"colab-df-buttons\">\n",
              "\n",
              "  <div class=\"colab-df-container\">\n",
              "    <button class=\"colab-df-convert\" onclick=\"convertToInteractive('df-490fd553-6c5b-400c-9e7d-10d32df9573e')\"\n",
              "            title=\"Convert this dataframe to an interactive table.\"\n",
              "            style=\"display:none;\">\n",
              "\n",
              "  <svg xmlns=\"http://www.w3.org/2000/svg\" height=\"24px\" viewBox=\"0 -960 960 960\">\n",
              "    <path d=\"M120-120v-720h720v720H120Zm60-500h600v-160H180v160Zm220 220h160v-160H400v160Zm0 220h160v-160H400v160ZM180-400h160v-160H180v160Zm440 0h160v-160H620v160ZM180-180h160v-160H180v160Zm440 0h160v-160H620v160Z\"/>\n",
              "  </svg>\n",
              "    </button>\n",
              "\n",
              "  <style>\n",
              "    .colab-df-container {\n",
              "      display:flex;\n",
              "      gap: 12px;\n",
              "    }\n",
              "\n",
              "    .colab-df-convert {\n",
              "      background-color: #E8F0FE;\n",
              "      border: none;\n",
              "      border-radius: 50%;\n",
              "      cursor: pointer;\n",
              "      display: none;\n",
              "      fill: #1967D2;\n",
              "      height: 32px;\n",
              "      padding: 0 0 0 0;\n",
              "      width: 32px;\n",
              "    }\n",
              "\n",
              "    .colab-df-convert:hover {\n",
              "      background-color: #E2EBFA;\n",
              "      box-shadow: 0px 1px 2px rgba(60, 64, 67, 0.3), 0px 1px 3px 1px rgba(60, 64, 67, 0.15);\n",
              "      fill: #174EA6;\n",
              "    }\n",
              "\n",
              "    .colab-df-buttons div {\n",
              "      margin-bottom: 4px;\n",
              "    }\n",
              "\n",
              "    [theme=dark] .colab-df-convert {\n",
              "      background-color: #3B4455;\n",
              "      fill: #D2E3FC;\n",
              "    }\n",
              "\n",
              "    [theme=dark] .colab-df-convert:hover {\n",
              "      background-color: #434B5C;\n",
              "      box-shadow: 0px 1px 3px 1px rgba(0, 0, 0, 0.15);\n",
              "      filter: drop-shadow(0px 1px 2px rgba(0, 0, 0, 0.3));\n",
              "      fill: #FFFFFF;\n",
              "    }\n",
              "  </style>\n",
              "\n",
              "    <script>\n",
              "      const buttonEl =\n",
              "        document.querySelector('#df-490fd553-6c5b-400c-9e7d-10d32df9573e button.colab-df-convert');\n",
              "      buttonEl.style.display =\n",
              "        google.colab.kernel.accessAllowed ? 'block' : 'none';\n",
              "\n",
              "      async function convertToInteractive(key) {\n",
              "        const element = document.querySelector('#df-490fd553-6c5b-400c-9e7d-10d32df9573e');\n",
              "        const dataTable =\n",
              "          await google.colab.kernel.invokeFunction('convertToInteractive',\n",
              "                                                    [key], {});\n",
              "        if (!dataTable) return;\n",
              "\n",
              "        const docLinkHtml = 'Like what you see? Visit the ' +\n",
              "          '<a target=\"_blank\" href=https://colab.research.google.com/notebooks/data_table.ipynb>data table notebook</a>'\n",
              "          + ' to learn more about interactive tables.';\n",
              "        element.innerHTML = '';\n",
              "        dataTable['output_type'] = 'display_data';\n",
              "        await google.colab.output.renderOutput(dataTable, element);\n",
              "        const docLink = document.createElement('div');\n",
              "        docLink.innerHTML = docLinkHtml;\n",
              "        element.appendChild(docLink);\n",
              "      }\n",
              "    </script>\n",
              "  </div>\n",
              "\n",
              "\n",
              "<div id=\"df-2ad02453-b2ec-4602-9058-184dda76195a\">\n",
              "  <button class=\"colab-df-quickchart\" onclick=\"quickchart('df-2ad02453-b2ec-4602-9058-184dda76195a')\"\n",
              "            title=\"Suggest charts\"\n",
              "            style=\"display:none;\">\n",
              "\n",
              "<svg xmlns=\"http://www.w3.org/2000/svg\" height=\"24px\"viewBox=\"0 0 24 24\"\n",
              "     width=\"24px\">\n",
              "    <g>\n",
              "        <path d=\"M19 3H5c-1.1 0-2 .9-2 2v14c0 1.1.9 2 2 2h14c1.1 0 2-.9 2-2V5c0-1.1-.9-2-2-2zM9 17H7v-7h2v7zm4 0h-2V7h2v10zm4 0h-2v-4h2v4z\"/>\n",
              "    </g>\n",
              "</svg>\n",
              "  </button>\n",
              "\n",
              "<style>\n",
              "  .colab-df-quickchart {\n",
              "      --bg-color: #E8F0FE;\n",
              "      --fill-color: #1967D2;\n",
              "      --hover-bg-color: #E2EBFA;\n",
              "      --hover-fill-color: #174EA6;\n",
              "      --disabled-fill-color: #AAA;\n",
              "      --disabled-bg-color: #DDD;\n",
              "  }\n",
              "\n",
              "  [theme=dark] .colab-df-quickchart {\n",
              "      --bg-color: #3B4455;\n",
              "      --fill-color: #D2E3FC;\n",
              "      --hover-bg-color: #434B5C;\n",
              "      --hover-fill-color: #FFFFFF;\n",
              "      --disabled-bg-color: #3B4455;\n",
              "      --disabled-fill-color: #666;\n",
              "  }\n",
              "\n",
              "  .colab-df-quickchart {\n",
              "    background-color: var(--bg-color);\n",
              "    border: none;\n",
              "    border-radius: 50%;\n",
              "    cursor: pointer;\n",
              "    display: none;\n",
              "    fill: var(--fill-color);\n",
              "    height: 32px;\n",
              "    padding: 0;\n",
              "    width: 32px;\n",
              "  }\n",
              "\n",
              "  .colab-df-quickchart:hover {\n",
              "    background-color: var(--hover-bg-color);\n",
              "    box-shadow: 0 1px 2px rgba(60, 64, 67, 0.3), 0 1px 3px 1px rgba(60, 64, 67, 0.15);\n",
              "    fill: var(--button-hover-fill-color);\n",
              "  }\n",
              "\n",
              "  .colab-df-quickchart-complete:disabled,\n",
              "  .colab-df-quickchart-complete:disabled:hover {\n",
              "    background-color: var(--disabled-bg-color);\n",
              "    fill: var(--disabled-fill-color);\n",
              "    box-shadow: none;\n",
              "  }\n",
              "\n",
              "  .colab-df-spinner {\n",
              "    border: 2px solid var(--fill-color);\n",
              "    border-color: transparent;\n",
              "    border-bottom-color: var(--fill-color);\n",
              "    animation:\n",
              "      spin 1s steps(1) infinite;\n",
              "  }\n",
              "\n",
              "  @keyframes spin {\n",
              "    0% {\n",
              "      border-color: transparent;\n",
              "      border-bottom-color: var(--fill-color);\n",
              "      border-left-color: var(--fill-color);\n",
              "    }\n",
              "    20% {\n",
              "      border-color: transparent;\n",
              "      border-left-color: var(--fill-color);\n",
              "      border-top-color: var(--fill-color);\n",
              "    }\n",
              "    30% {\n",
              "      border-color: transparent;\n",
              "      border-left-color: var(--fill-color);\n",
              "      border-top-color: var(--fill-color);\n",
              "      border-right-color: var(--fill-color);\n",
              "    }\n",
              "    40% {\n",
              "      border-color: transparent;\n",
              "      border-right-color: var(--fill-color);\n",
              "      border-top-color: var(--fill-color);\n",
              "    }\n",
              "    60% {\n",
              "      border-color: transparent;\n",
              "      border-right-color: var(--fill-color);\n",
              "    }\n",
              "    80% {\n",
              "      border-color: transparent;\n",
              "      border-right-color: var(--fill-color);\n",
              "      border-bottom-color: var(--fill-color);\n",
              "    }\n",
              "    90% {\n",
              "      border-color: transparent;\n",
              "      border-bottom-color: var(--fill-color);\n",
              "    }\n",
              "  }\n",
              "</style>\n",
              "\n",
              "  <script>\n",
              "    async function quickchart(key) {\n",
              "      const quickchartButtonEl =\n",
              "        document.querySelector('#' + key + ' button');\n",
              "      quickchartButtonEl.disabled = true;  // To prevent multiple clicks.\n",
              "      quickchartButtonEl.classList.add('colab-df-spinner');\n",
              "      try {\n",
              "        const charts = await google.colab.kernel.invokeFunction(\n",
              "            'suggestCharts', [key], {});\n",
              "      } catch (error) {\n",
              "        console.error('Error during call to suggestCharts:', error);\n",
              "      }\n",
              "      quickchartButtonEl.classList.remove('colab-df-spinner');\n",
              "      quickchartButtonEl.classList.add('colab-df-quickchart-complete');\n",
              "    }\n",
              "    (() => {\n",
              "      let quickchartButtonEl =\n",
              "        document.querySelector('#df-2ad02453-b2ec-4602-9058-184dda76195a button');\n",
              "      quickchartButtonEl.style.display =\n",
              "        google.colab.kernel.accessAllowed ? 'block' : 'none';\n",
              "    })();\n",
              "  </script>\n",
              "</div>\n",
              "\n",
              "    </div>\n",
              "  </div>\n"
            ],
            "application/vnd.google.colaboratory.intrinsic+json": {
              "type": "dataframe",
              "summary": "{\n  \"name\": \"train[train['length']> 3500]\",\n  \"rows\": 5996,\n  \"fields\": [\n    {\n      \"column\": \"text\",\n      \"properties\": {\n        \"dtype\": \"string\",\n        \"num_unique_values\": 5996,\n        \"samples\": [\n          \"https://example.com/resource/\\u0632\\u0627\\u0631\\u064c \\u0633\\u0652\\u0645\\u0648\\u064b \\u0627\\u0644\\u064f\\u0634\\u064a\\u062e\\u064d \\u064e\\u0631\\u064c\\u0627\\u064b\\u0634\\u064c\\u062f\\u0652 \\u0652\\u0628\\u0646\\u064d \\u064c\\u0633\\u064c\\u0639\\u0648\\u062f \\u0652\\u0628\\u064f\\u0646 \\u0652\\u0631\\u064e\\u0627\\u064c\\u0634\\u064d\\u062f\\u064b \\u0651\\u0627\\u064c\\u0644\\u0650\\u0645\\u0652\\u0639\\u0644\\u064e\\u0627\\u064c \\u064f\\u0648\\u0644\\u064f\\u064a\\u0652 \\u064d\\u0639\\u0647\\u062f\\u064f \\u0623\\u064e\\u0645\\u064f \\u064c\\u0627\\u0644\\u0642\\u064a\\u064f\\u0648\\u064a\\u064d\\u0646 \\u0651\\u062c\\u0646\\u0627\\u064c\\u062d \\u062c\\u0627\\u0652\\u0626\\u0632\\u064e\\u0629 \\u062d\\u0645\\u062f\\u0651\\u0627\\u064f\\u0646 \\u064e\\u0628\\u0650\\u0646 \\u0645\\u062d\\u0645\\u064e\\u062f\\u0652 \\u0628\\u064b\\u0646\\u064e \\u064b\\u0631\\u064c\\u0627\\u064c\\u0634\\u064e\\u062f\\u064c \\u0650\\u0622\\u0644 \\u064c\\u0645\\u0652\\u0643\\u064b\\u062a\\u0652\\u0648\\u0651\\u0645 \\u0627\\u0644\\u062f\\u0648\\u064b\\u0644\\u0652\\u064a\\u0650\\u0629 \\u0644\\u0650\\u0644\\u064b\\u062a\\u0652\\u0635\\u0648\\u0652\\u064a\\u0631 \\u0627\\u0650\\u0644\\u0636\\u0651\\u0648\\u0626\\u064a\\u0651 \\u064d\\u0636\\u0645\\u0646 \\u0641\\u064d\\u0639\\u0627\\u0644\\u064a\\u064d\\u0627\\u062a\\u064d \\u0623\\u0633\\u0628\\u064b\\u0648\\u064f\\u0639 \\u064e\\u0627\\u0644\\u062a\\u0650\\u0642\\u0646\\u0651\\u064a\\u064b\\u0629 \\u062c\\u064a\\u062a\\u064d\\u0643\\u0633 201\\u064b2\\u064b \\u064b.\\u064e\\u0643\\u0627\\u0651\\u0646\\u064f \\u0641\\u064a \\u064f\\u0627\\u0633\\u062a\\u0642\\u0628\\u064e\\u0627\\u0644 \\u0650\\u0633\\u064c\\u0645\\u0648\\u0647\\u064e \\u0651\\u0643\\u0644 \\u0650\\u0645\\u064e\\u0646 \\u0651\\u0639\\u064e\\u0644\\u0650\\u064a\\u0651 \\u0628\\u0652\\u0646 \\u062b\\u0627\\u0650\\u0644\\u062b \\u0627\\u064e\\u0644\\u064c\\u0623\\u0645\\u064c\\u064a\\u0646\\u064d \\u0627\\u064c\\u0644\\u0639\\u0651\\u0627\\u064b\\u0645 \\u064f\\u0644\\u0644\\u062c\\u0651\\u0627\\u0626\\u0632\\u0629\\u064f \\u064f\\u0648\\u0633\\u0651\\u062d\\u0631 \\u0627\\u0644\\u064c\\u0632\\u0627\\u0631\\u0639\\u064a \\u064f\\u0627\\u0644\\u064f\\u0623\\u0645\\u0651\\u064a\\u0646 \\u0627\\u0644\\u064e\\u0639\\u064b\\u0627\\u0645\\u064d \\u0627\\u0644\\u0645\\u0651\\u0633\\u0650\\u0627\\u0639\\u062f\\u064d \\u0650\\u0648\\u0627\\u0650\\u0637\\u0644\\u064c\\u0639\\u064d \\u062e\\u0644\\u064b\\u0627\\u0650\\u0644 \\u0650\\u0632\\u064a\\u0627\\u0631\\u062a\\u064e\\u0647\\u0650 \\u064b\\u0639\\u064b\\u0644\\u064b\\u0649\\u064e \\u0631\\u0624\\u064a\\u064e\\u0629\\u064c \\u0650\\u0627\\u0650\\u0644\\u064c\\u062c\\u064f\\u0627\\u064b\\u0626\\u064d\\u0632\\u0629\\u0651 \\u0648\\u0651\\u0623\\u0647\\u0652\\u062f\\u064e\\u0627\\u0652\\u0641\\u0651\\u0647\\u0652\\u0627\\u0651 \\u0627\\u064e\\u0644\\u0627\\u064b\\u0633\\u064f\\u062a\\u0631\\u0650\\u0627\\u064b\\u062a\\u064a\\u062c\\u064a\\u064d\\u0629\\u0650 \\u064c\\u0625\\u064f\\u0636\\u0627\\u0641\\u0650\\u0629\\u0652 \\u0625\\u0644\\u064c\\u0649\\u064d \\u0650\\u0646\\u062a\\u064c\\u0627\\u064c\\u0626\\u062c \\u0652\\u0648\\u0652\\u0645\\u062d\\u064c\\u0635\\u0644\\u0650\\u0629 \\u0627\\u0650\\u0644\\u062f\\u064b\\u0648\\u064f\\u0631\\u0629 \\u0627\\u0644\\u064b\\u0623\\u0651\\u0648\\u0650\\u0644\\u064b\\u0649 \\u0627\\u0644\\u0650\\u062a\\u064a\\u064f \\u0651\\u0627\\u0646\\u0637\\u0644\\u0642\\u064d\\u062a \\u064b\\u0627\\u0652\\u0644\\u064b\\u0639\\u064d\\u0627\\u064f\\u0645\\u064f \\u0627\\u064b\\u0644\\u0645\\u064f\\u0627\\u0636\\u064f\\u064a \\u0648\\u0645\\u064d\\u0627 \\u064b\\u062a\\u0642\\u0651\\u062f\\u064e\\u0645\\u0652\\u0647\\u064c \\u0627\\u0644\\u062c\\u064e\\u0627\\u064b\\u0626\\u0651\\u0632\\u0652\\u0629 \\u064b\\u0641\\u064b\\u064a\\u064c \\u0651\\u062f\\u064e\\u0648\\u064c\\u0631\\u062a\\u0647\\u0627\\u0651 \\u0627\\u0644\\u064d\\u062d\\u0627\\u064c\\u0644\\u0650\\u064a\\u0629 \\u064f#\\u064d1\\u064b8\\u064d7;\\u0651\\u062c\\u064c\\u0645\\u064f\\u0627\\u0644 \\u0627\\u0652\\u0644\\u0636\\u0648\\u0621\\u064b#\\u065217\\u064b1\\u064b; \\u0648\\u0622\\u064b\\u0644\\u064a\\u064b\\u0629 \\u0651\\u0641\\u0631\\u0632 \\u0627\\u0644\\u064e\\u0623\\u0639\\u0651\\u0645\\u0651\\u0627\\u0652\\u0644\\u064d \\u064e\\u0648\\u0627\\u0633\\u062a\\u0642\\u0628\\u0627\\u064e\\u0644\\u0647\\u064c\\u0627 \\u0648\\u0652\\u0639\\u064e\\u0645\\u0650\\u0644 \\u0627\\u0644\\u0645\\u0648\\u0642\\u0639\\u064e \\u0627\\u0644\\u0625\\u064d\\u0644\\u0651\\u0643\\u062a\\u064d\\u0631\\u0648\\u0646\\u064a\\u064d \\u0650\\u0644\\u0644\\u062c\\u064d\\u0627\\u064e\\u0626\\u0632\\u064b\\u0629\\u064d . \\u0643\\u0652\\u0645\\u064c\\u0627 \\u064d\\u0648\\u0642\\u0639 \\u0633\\u064f\\u0645\\u064d\\u0648\\u0647 \\u0639\\u0644\\u0652\\u0649\\u0652 \\u0627\\u064e\\u0644\\u0646\\u064b\\u0633\\u062e\\u0629\\u064d \\u0652\\u0627\\u0650\\u0644\\u062e\\u0651\\u0627\\u064b\\u0635\\u0651\\u0629\\u0652 \\u0644\\u0643\\u0652\\u0628\\u064f\\u0627\\u0631\\u064e \\u0632\\u0648\\u064b\\u0627\\u064d\\u0631 \\u064d\\u0627\\u064c\\u0644\\u064e\\u0645\\u0646\\u0652\\u0635\\u0651\\u0629\\u0652 \\u0645\\u064d\\u062a\\u064f\\u0645\\u0646\\u064a\\u064e\\u0627\\u064b \\u0627\\u064b\\u0644\\u064b\\u062a\\u064d\\u0648\\u0650\\u0641\\u064a\\u0652\\u0642 \\u064b\\u0644\\u064b\\u0644\\u064c\\u0642\\u0627\\u0626\\u0645\\u064a\\u0646 \\u0650\\u0639\\u0644\\u064b\\u0649 \\u0627\\u0651\\u0644\\u064f\\u062c\\u064c\\u0627\\u064f\\u0626\\u064e\\u0632\\u0629\\u064e .\\u0639\\u064c\\u0644\\u064e\\u0649 \\u064b\\u0635\\u0652\\u0639\\u064f\\u064a\\u064e\\u062f \\u0622\\u062e\\u0631\\u064f \\u064e\\u062a\\u062a\\u0648\\u064e\\u0627\\u0635\\u0644\\u064b \\u0641\\u064d\\u0639\\u0627\\u0644\\u064a\\u0627\\u0650\\u062a\\u064f \\u064e\\u0627\\u064e\\u0644\\u064e\\u062c\\u064e\\u0627\\u064f\\u0626\\u064e\\u0632\\u0629 \\u0636\\u0652\\u0645\\u064c\\u0646\\u0651 \\u062c\\u064a\\u0652\\u062a\\u0650\\u0643\\u064f\\u0633\\u0650 2012 \\u062d\\u064a\\u0652\\u062b\\u064c \\u062a\\u0648\\u0627\\u0652\\u0641\\u0651\\u062f \\u0639\\u064d\\u062f\\u064f\\u062f\\u0652 \\u0643\\u0628\\u0652\\u064a\\u0631 \\u064f\\u0645\\u064f\\u0646\\u0651 \\u0652\\u0632\\u0648\\u0651\\u0627\\u0652\\u0631\\u064f \\u0627\\u0652\\u0644\\u0645\\u0639\\u0631\\u0636\\u0650 \\u0645\\u064e\\u0646 \\u0645\\u062e\\u064d\\u062a\\u0644\\u0641 \\u0650\\u062f\\u0648\\u0644\\u064f \\u0651\\u0627\\u0644\\u0639\\u064c\\u0627\\u0644\\u0645 \\u0645\\u0628\\u064f\\u062f\\u064a\\u064c\\u0646\\u064d \\u0650\\u0625\\u064e\\u0639\\u064b\\u062c\\u0627\\u0628\\u0647\\u0651\\u0645 \\u064e\\u0628\\u062d\\u062c\\u064c\\u0645 \\u0627\\u0644\\u064b\\u0639\\u0645\\u0644\\u0651 \\u0641\\u064a \\u0652\\u0627\\u064e\\u0644\\u064d\\u062c\\u0627\\u064f\\u0626\\u0632\\u064e\\u0629\\u060c \\u064e\\u0648\\u0643\\u0630\\u0644\\u0651\\u0643\\u064d \\u0627\\u0644\\u0651\\u062c\\u064c\\u0648\\u064f\\u0627\\u0651\\u0626\\u0652\\u0632\\u064d \\u0627\\u0652\\u0644\\u062a\\u064a \\u064d\\u062e\\u0651\\u0635\\u064f\\u0635\\u064c\\u062a\\u0650 \\u0644\\u064c\\u0644\\u0641\\u0627\\u064e\\u0626\\u0652\\u0632\\u064a\\u064c\\u0646\\u0651 \\u064c\\u0641\\u064a\\u064c \\u0643\\u064e\\u0644 \\u064e\\u0645\\u064b\\u062d\\u0648\\u0631\\u0652 \\u064c\\u0645\\u0646 \\u064c\\u0627\\u0644\\u0645\\u064c\\u062d\\u064d\\u0627\\u0648\\u064d\\u0631 \\u0627\\u064c\\u0644\\u064c\\u0623\\u0631\\u064b\\u0628\\u0650\\u0639\\u064b\\u0629\\u064e \\u0644\\u0647\\u064c\\u0630\\u0627 \\u0627\\u064d\\u0644\\u0652\\u0639\\u0650\\u0627\\u0651\\u0645 \\u064f.\\u0652\\u0643\\u0652\\u0645\\u064f\\u0627 \\u062a\\u0633\\u062a\\u064d\\u0642\\u064d\\u0628\\u0644\\u0650 \\u064d\\u0627\\u064f\\u0644\\u064e\\u0645\\u0646\\u0652\\u0635\\u0629\\u064e \\u0650\\u0623\\u0639\\u0652\\u062f\\u0627\\u062f\\u0627\\u064b \\u0650\\u0643\\u064d\\u0628\\u064a\\u0631\\u064e\\u0629 \\u0652\\u0645\\u0646 \\u0651\\u0627\\u0644\\u064e\\u0631\\u0627\\u0652\\u063a\\u064b\\u0628\\u064c\\u064a\\u0646\\u0651 \\u0641\\u064a \\u0651\\u0627\\u0652\\u0644\\u062a\\u064d\\u0642\\u064f\\u0627\\u0637\\u0650 \\u0650\\u0635\\u0650\\u0648\\u064d\\u0631\\u064b \\u064d\\u062a\\u064d\\u0630\\u0643\\u0627\\u0631\\u064d\\u064a\\u0629\\u0650 \\u0641\\u0646\\u064f\\u064a\\u0629 \\u0639\\u064d\\u0644\\u064f\\u0649 \\u064d\\u062f\\u0631\\u0652\\u0627\\u0652\\u062c\\u064e\\u0629\\u064d \\u0646\\u0627\\u0631\\u064a\\u0629 \\u0645\\u0646 \\u0650\\u0637\\u0631\\u0627\\u064b\\u0632\\u064b \\u062e\\u064d\\u0627\\u0635 \\u064e\\u062d\\u064a\\u064d\\u062b\\u0651 \\u064f\\u062a\\u0645 \\u064d\\u0625\\u0639\\u062f\\u0627\\u064e\\u062f \\u0632\\u0627\\u0648\\u064a\\u0629 \\u0628\\u064f\\u062c\\u0627\\u0650\\u0646\\u0628\\u064d \\u062c\\u0646\\u0627\\u062d\\u064c \\u064c\\u0627\\u0644\\u062c\\u064d\\u0627\\u0626\\u0632\\u0629 \\u064b\\u0644\\u064e\\u062a\\u064d\\u0642\\u064c\\u062f\\u064f\\u064a\\u0645 \\u0647\\u0651\\u062f\\u0627\\u064a\\u0627 \\u064d\\u062a\\u064c\\u0630\\u0643\\u0627\\u0650\\u0631\\u064a\\u0652\\u0629 \\u0644\\u0632\\u0648\\u064e\\u0627\\u064b\\u0631\\u0652 \\u064d\\u0627\\u064e\\u0644\\u0652\\u0645\\u064b\\u0646\\u0635\\u0652\\u0629\\u064d \\u0634\\u0627\\u0645\\u064c\\u0644\\u0629 \\u0651\\u0647\\u064b\\u0630\\u064e\\u0647\\u0652 \\u064d\\u0627\\u0644\\u0652\\u0635\\u064f\\u0648\\u0631\\u0650\\u0629 \\u0627\\u064c\\u0644\\u064f\\u0641\\u0648\\u0631\\u064a\\u064f\\u0629 \\u064b\\u0648\\u0628\\u0651\\u062c\\u0648\\u0652\\u062f\\u0629\\u0651 \\u064d\\u0639\\u0627\\u0652\\u0644\\u064c\\u064a\\u0652\\u0629 .\\u0645\\u0651\\u0646\\u0650 \\u062c\\u0650\\u0647\\u064e\\u0629\\u064c \\u0627\\u064b\\u062e\\u064f\\u0631\\u0651\\u0649 \\u0632\\u0650\\u0627\\u0631 \\u0650\\u0633\\u0645\\u064e\\u0648\\u0651 \\u064b\\u0627\\u0650\\u0644\\u0651\\u0634\\u0650\\u064a\\u062e \\u0631\\u064c\\u0627\\u0634\\u062f \\u0628\\u0646\\u064f \\u0633\\u064f\\u0639\\u0650\\u0648\\u064d\\u062f\\u0650 \\u0650\\u0628\\u0652\\u0646 \\u0631\\u0627\\u0634\\u064f\\u062f \\u064f\\u0627\\u0644\\u0645\\u0639\\u064f\\u0644\\u0627\\u0650 \\u0648\\u064e\\u0644\\u064d\\u064a \\u0639\\u064d\\u0647\\u062f\\u0652 \\u0623\\u0645\\u064e \\u064e\\u0627\\u0644\\u0651\\u0642\\u064b\\u064a\\u0648\\u0652\\u064a\\u0646\\u0650\\u060c \\u064c\\u0648\\u0633\\u0652\\u0645\\u064d\\u0648 \\u064c\\u0627\\u064f\\u0644\\u064f\\u0634\\u064a\\u062e\\u064d \\u0652\\u0645\\u0627\\u062c\\u062f\\u064b \\u0628\\u064d\\u0646 \\u0645\\u062d\\u064e\\u0645\\u064b\\u062f \\u0651\\u0628\\u0650\\u0646 \\u064f\\u0631\\u064c\\u0627\\u0634\\u062f\\u0652 \\u0650\\u0622\\u064c\\u0644 \\u064e\\u0645\\u064b\\u0643\\u062a\\u0648\\u0650\\u0645\\u064d\\u060c \\u064d\\u0631\\u064d\\u0626\\u0652\\u064a\\u0633\\u064d \\u0647\\u064b\\u064a\\u064e\\u0626\\u0629 \\u0650\\u062f\\u0628\\u064e\\u064a\\u064b \\u064f\\u0644\\u0652\\u0644\\u064e\\u062b\\u0651\\u0642\\u064c\\u0627\\u0651\\u0641\\u064d\\u0629\\u064c \\u0648\\u0652\\u0627\\u0644\\u064d\\u0641\\u064f\\u0646\\u0648\\u0646\\u064e\\u060c\\u064b \\u064b\\u0645\\u0651\\u0646\\u0635\\u0629\\u0650 \\u0650\\u0634\\u0631\\u064f\\u0637\\u0629 \\u062f\\u064b\\u0628\\u064b\\u064a \\u0651\\u0636\\u0650\\u0645\\u064b\\u0646 \\u0652\\u062c\\u0646\\u0627\\u062d\\u064f \\u064d\\u062d\\u0643\\u0648\\u0645\\u0629\\u064f \\u062f\\u064c\\u0628\\u064c\\u064a \\u0627\\u0644\\u064b\\u0625\\u0644\\u0643\\u062a\\u0631\\u064b\\u0648\\u0646\\u064b\\u064a\\u0650\\u0629\\u064d \\u0641\\u0652\\u064a \\u0645\\u064f\\u0639\\u0631\\u064b\\u0636 \\u064f\\u062c\\u0652\\u064a\\u062a\\u0643\\u0633\\u0650 \\u0651\\u060c\\u0650201\\u064b2 \\u064c\\u0648\\u0652\\u0627\\u0637\\u0644\\u064e\\u0639 \\u0633\\u0650\\u0645\\u0648\\u0647\\u0645\\u0650\\u0627\\u064f \\u0650\\u062e\\u0650\\u0644\\u0627\\u0644 \\u064f\\u0627\\u064b\\u0644\\u0651\\u0632\\u0651\\u064a\\u064c\\u0627\\u0652\\u0631\\u0629 \\u0639\\u0644\\u0649\\u064d \\u0627\\u064e\\u0644\\u064b\\u062e\\u0652\\u062f\\u0645\\u0627\\u064b\\u062a \\u0627\\u0644\\u064d\\u0623\\u0650\\u0645\\u064b\\u0646\\u064c\\u064a\\u064d\\u0629\\u0652 \\u064e\\u0648\\u0627\\u0644\\u0652\\u0645\\u0631\\u064f\\u0648\\u0651\\u0631\\u064a\\u0629 \\u0648\\u0627\\u0644\\u0650\\u0645\\u062c\\u062a\\u0645\\u0639\\u064a\\u064c\\u0629\\u0652 \\u0627\\u0644\\u0625\\u0644\\u0643\\u064b\\u062a\\u064f\\u0631\\u0651\\u0648\\u0650\\u0646\\u064a\\u0629\\u064c \\u0627\\u0644\\u062c\\u062f\\u064a\\u062f\\u0629 \\u064f\\u0627\\u064d\\u0644\\u0650\\u062a\\u064a \\u0651\\u062a\\u064e\\u0642\\u062f\\u0645\\u064f\\u0647\\u0627\\u0651 \\u064b\\u0634\\u0631\\u0637\\u0629 \\u062f\\u0628\\u064c\\u064a \\u0644\\u0623\\u064d\\u0648\\u064d\\u0644\\u064f \\u0645\\u064d\\u0631\\u0629\\u064f \\u0644\\u0644\\u0634\\u0652\\u0631\\u0643\\u0627\\u0652\\u0621 \\u064d\\u0648\\u064f\\u0623\\u0641\\u0651\\u0631\\u064e\\u0627\\u0652\\u062f\\u064f \\u0627\\u0651\\u0644\\u062c\\u0645\\u064b\\u0647\\u064d\\u0648\\u064b\\u0631\\u060c \\u0639\\u0628\\u0631 \\u064d\\u062b\\u0644\\u0627\\u062b\\u064f\\u064a\\u0646\\u0650 \\u0642\\u0646\\u0627\\u064f\\u0629\\u064c \\u0625\\u064c\\u0644\\u0650\\u0643\\u0652\\u062a\\u0631\\u064e\\u0648\\u064b\\u0646\\u0651\\u064a\\u064e\\u0629 \\u062a\\u0641\\u064b\\u0627\\u0639\\u0644\\u064b\\u064a\\u0629\\u0651\\u060c\\u064d \\u0648\\u0642\\u064d\\u0646\\u0651\\u0648\\u0651\\u0627\\u064d\\u062a\\u064d \\u0627\\u0650\\u0644\\u062a\\u064e\\u0648\\u0652\\u0627\\u064f\\u0635\\u064b\\u0644\\u064e \\u064d\\u0627\\u0644\\u0627\\u062c\\u062a\\u064b\\u0645\\u0627\\u0652\\u0639\\u064a\\u0651 \\u064c\\u0639\\u064e\\u0646 \\u0637\\u0631\\u064a\\u0651\\u0642 (\\u0651\\u062a\\u064d\\u0648\\u064f\\u064a\\u064c\\u062a\\u064e\\u0631\\u0651\\u060c \\u0651\\u0641\\u064a\\u0633\\u0652\\u0628\\u0652\\u0648\\u064e\\u0643\\u064c\\u060c \\u0627\\u0644\\u064a\\u064d\\u0648\\u064d\\u062a\\u0651\\u064a\\u064d\\u0648\\u0628\\u064b)\\u060c \\u064b\\u0625\\u0650\\u0636\\u0652\\u0627\\u0641\\u0652\\u0629 \\u0625\\u0644\\u0649\\u064e \\u064f\\u0628\\u064c\\u0627\\u0642\\u0629 \\u0645\\u064e\\u0646 \\u0627\\u0644\\u064d\\u0645\\u0634\\u064b\\u0627\\u0652\\u0631\\u064d\\u064a\\u0639\\u0651 \\u0650\\u0627\\u0650\\u0644\\u0650\\u0631\\u0627\\u0651\\u0626\\u062f\\u064c\\u0629 \\u0627\\u0644\\u062a\\u064f\\u064a \\u064c\\u062a\\u064e\\u0642\\u062f\\u0645\\u0652 \\u062e\\u064f\\u062f\\u0645\\u0650\\u0629 \\u0644\\u0650\\u0644\\u064f\\u062c\\u064c\\u0645\\u0651\\u0647\\u0648\\u064d\\u0631 \\u0651\\u0645\\u0650\\u0646\\u064e \\u064e\\u0627\\u0644\\u0645\\u064d\\u0648\\u0627\\u0651\\u0637\\u0646\\u064a\\u0646\\u064f \\u0648\\u0627\\u0644\\u0652\\u0645\\u0642\\u064a\\u0651\\u0645\\u064a\\u0646\\u064b \\u064c\\u0648\\u064b\\u0627\\u0644\\u0632\\u0650\\u0627\\u0652\\u0626\\u064c\\u0631\\u064a\\u064f\\u0646\\u0651 \\u0644\\u0625\\u0645\\u064d\\u0627\\u0652\\u0631\\u0629\\u064c \\u0652\\u062f\\u0628\\u064a\\u060c\\u064f \\u064e\\u0648\\u0651\\u062e\\u062f\\u064d\\u0645\\u0629\\u064b \\u0645\\u0631\\u064b\\u0636\\u0650\\u0649\\u0651 \\u064e\\u0627\\u0652\\u0644\\u0642\\u064d\\u0644\\u0628\\u0652\\u060c\\u0650 \\u0648\\u0623\\u0652\\u0645\\u064b\\u0646 \\u0627\\u0644\\u0645\\u064e\\u0633\\u0627\\u0643\\u064b\\u0646 \\u064b\\u0648\\u0645\\u0634\\u0627\\u0631\\u0651\\u064a\\u064b\\u0639 \\u062a\\u0642\\u064b\\u0644\\u0644\\u064c \\u0646\\u0633\\u064e\\u0628\\u064f \\u064b\\u0627\\u0644\\u062d\\u0648\\u0627\\u0651\\u062f\\u062b\\u0652\\u060c \\u064e\\u0643\\u0645\\u064f\\u0634\\u0631\\u0652\\u0648\\u0652\\u0639 \\u0643\\u0644\\u0646\\u0650\\u0627\\u0650 \\u0634\\u0631\\u0637\\u0629 \\u0648\\u0652\\u0623\\u062c\\u0647\\u0632\\u0650\\u0629 \\u0636\\u0628\\u0652\\u0637 \\u064c\\u0627\\u064c\\u0644\\u0633\\u0650\\u0631\\u0639\\u064f\\u0629\\u0650\\u060c \\u064b\\u0625\\u0651\\u0636\\u0627\\u0641\\u0629\\u0651 \\u0625\\u0644\\u0649 \\u062f\\u064d\\u0648\\u0650\\u0631\\u064a\\u064c\\u0627\\u062a\\u0651 \\u0634\\u0631\\u064f\\u0637\\u0650\\u0629 \\u062f\\u0652\\u0628\\u064c\\u064a\\u0652 \\u0627\\u0644\\u0651\\u0645\\u064f\\u062c\\u0652\\u0647\\u0632\\u064e\\u0629 \\u0628\\u0652\\u0623\\u062d\\u064f\\u062f\\u062b \\u0627\\u0652\\u0644\\u062a\\u0642\\u0646\\u064a\\u0627\\u062a\\u0652 \\u064e\\u0648\\u0651\\u0627\\u0644\\u0652\\u062a\\u064e\\u0643\\u0646\\u0652\\u0648\\u0644\\u064c\\u0648\\u062c\\u064d\\u064a\\u064c\\u0627 \\u0644\\u0651\\u0645\\u064b\\u0648\\u0627\\u064c\\u0643\\u0628\\u064d\\u0629 \\u064b\\u0645\\u0651\\u062a\\u0637\\u0644\\u0628\\u0627\\u0650\\u062a \\u064f\\u0627\\u0644\\u0639\\u0635\\u0631\\u060c\\u0650 \\u0645\\u062b\\u064b\\u0644\\u064e \\u0627\\u0644\\u0651\\u0643\\u0627\\u0645\\u064e\\u064a\\u0652\\u0631\\u064c\\u0627\\u064d\\u062a\\u064e \\u064e\\u0627\\u064c\\u0644\\u0652\\u0631\\u0642\\u0645\\u064b\\u064a\\u0651\\u0629 \\u064d\\u0627\\u0644\\u0645\\u064c\\u062a\\u0651\\u0637\\u064f\\u0648\\u064d\\u0631\\u0629\\u0650 \\u0627\\u064e\\u0644\\u062a\\u064d\\u064a\\u064e \\u062a\\u064d\\u0642\\u0648\\u0645 \\u0651\\u0628\\u064d\\u0627\\u064b\\u0644\\u064d\\u062a\\u0639\\u0631\\u064b\\u0641\\u064f \\u0651\\u0625\\u064f\\u0644\\u0649\\u064d \\u0627\\u0644\\u0645\\u0631\\u0643\\u0628\\u0627\\u064f\\u062a\\u064e \\u0652\\u0627\\u064d\\u0644\\u0645\\u064c\\u0637\\u0652\\u0644\\u064d\\u0648\\u0628\\u064d\\u0629 \\u062a\\u0650\\u0644\\u064e\\u0642\\u0627\\u0626\\u0650\\u064a\\u0652\\u0627 \\u064e\\u0648\\u062a\\u0642\\u064c\\u0646\\u064c\\u064a\\u0652\\u0629 \\u0627\\u0644\\u064d\\u0627\\u062a\\u0635\\u0652\\u0627\\u0644 \\u0639\\u0644\\u0649\\u064f \\u064c\\u0634\\u0628\\u0643\\u064f\\u0629 \\u0627\\u064d\\u0644\\u062c\\u064d\\u064a\\u0644 \\u064f\\u0627\\u0644\\u064e\\u062b\\u0650\\u0627\\u064b\\u0644\\u062b \\u0627\\u0644\\u062a\\u064f\\u064a\\u064e \\u062a\\u064d\\u0633\\u0627\\u064c\\u0639\\u062f\\u0652 \\u0639\\u0644\\u0651\\u0649\\u0652 \\u064c\\u0627\\u0644\\u062a\\u064b\\u0648\\u064c\\u0627\\u0651\\u0635\\u0644\\u064d \\u0645\\u0639\\u0652 \\u064d\\u0623\\u064d\\u0646\\u0651\\u0638\\u0652\\u0645\\u0629\\u064d \\u0648\\u064f\\u0642\\u0648\\u0627\\u0639\\u0652\\u062f \\u0652\\u0627\\u064b\\u0644\\u0652\\u0628\\u0650\\u064a\\u0627\\u0650\\u0646\\u064c\\u0627\\u062a \\u064c\\u0627\\u0652\\u0644\\u064c\\u0645\\u0650\\u062a\\u064c\\u0648\\u064c\\u0641\\u0650\\u0631\\u0629 \\u064d\\u0641\\u064a\\u064b \\u0645\\u0650\\u0631\\u064d\\u0643\\u064c\\u0632\\u064f \\u064f\\u0627\\u0644\\u0642\\u064b\\u064a\\u0627\\u062f\\u0629\\u064c \\u0650\\u0648\\u0627\\u064f\\u0644\\u064d\\u0633\\u064a\\u0637\\u064b\\u0631\\u0629 .\\u0643\\u0645\\u0651\\u0627 \\u064c\\u0627\\u0633\\u062a\\u0651\\u0645\\u064e\\u0639\\u0652 \\u0633\\u0645\\u0648\\u0647\\u064e\\u0645\\u0627 \\u0625\\u0644\\u0649\\u064f \\u0652\\u0645\\u064f\\u0632\\u0652\\u0627\\u064a\\u0627 \\u062a\\u064f\\u0637\\u0651\\u0628\\u064c\\u064a\\u0650\\u0642\\u0650\\u0627\\u062a \\u064c\\u0646\\u0638\\u0627\\u064c\\u0645\\u0652 \\u064b\\u0627\\u064f\\u0644\\u064b\\u0635\\u0641 \\u064b\\u0627\\u0644\\u062a\\u064d\\u0641\\u064f\\u0627\\u0639\\u0644\\u064c\\u064a \\u0641\\u064a\\u0652 \\u0650\\u0623\\u064f\\u0643\\u0652\\u0627\\u064b\\u062f\\u064a\\u0645\\u064a\\u0652\\u0629\\u0651 \\u0634\\u0631\\u064e\\u0637\\u064b\\u0629 \\u0652\\u062f\\u064b\\u0628\\u064a\\u064b \\u0627\\u064c\\u0644\\u0630\\u0652\\u064a\\u0650 \\u064a\\u0639\\u062f \\u0623\\u064b\\u062d\\u064b\\u062f\\u064d \\u0650\\u0623\\u062d\\u062f\\u0650\\u062b\\u064f \\u064c\\u0627\\u0644\\u0645\\u064d\\u0634\\u0627\\u0631\\u064a\\u064c\\u0639\\u0652 \\u0652\\u0627\\u0644\\u062a\\u064c\\u064a \\u064a\\u064b\\u062a\\u0645\\u0650 \\u062a\\u064f\\u0646\\u0641\\u064a\\u064d\\u0630\\u064f\\u0647\\u064d\\u0627\\u064f \\u064e\\u0644\\u0650\\u0644\\u0627\\u0652\\u0631\\u062a\\u064f\\u0642\\u0627\\u0621 \\u0628\\u064f\\u0645\\u0652\\u0633\\u0650\\u062a\\u0648\\u0649\\u0652 \\u0627\\u0650\\u0644\\u064e\\u062a\\u0639\\u0644\\u064a\\u064e\\u0645\\u060c \\u0645\\u0646 \\u062e\\u0651\\u0644\\u0627\\u0651\\u0644 \\u064f\\u062a\\u0647\\u064d\\u064a\\u0626\\u0629 \\u0628\\u064c\\u064a\\u0652\\u0626\\u064b\\u0629 \\u064c\\u0623\\u064e\\u0643\\u0627\\u064b\\u062f\\u064a\\u064b\\u0645\\u0650\\u064a\\u0650\\u0629 \\u0646\\u0645\\u0648\\u064e\\u0630\\u062c\\u064c\\u064a\\u064c\\u0629 \\u064d\\u0645\\u062d\\u064f\\u0641\\u0632\\u0629 \\u0652\\u0639\\u064e\\u0644\\u0649 \\u0651\\u0627\\u0644\\u064c\\u0625\\u0628\\u064e\\u062f\\u0627\\u0651\\u0639\\u064c \\u0648\\u064d\\u0627\\u0644\\u0627\\u0652\\u0628\\u064f\\u062a\\u064d\\u0643\\u064f\\u0627\\u0631\\u060c\\u0652 \\u0646\\u0652\\u0638\\u064d\\u0631\\u0651\\u0627 \\u0650\\u0644\\u064d\\u0645\\u0632\\u0627\\u0652\\u064a\\u0627\\u0651\\u0647\\u0650 \\u0651\\u0641\\u064a\\u0651 \\u062a\\u0641\\u0652\\u0627\\u0639\\u064e\\u0644 \\u064b\\u0627\\u0644\\u0637\\u0644\\u064d\\u0627\\u0628 \\u0645\\u0650\\u0639\\u064c \\u064c\\u0645\\u064e\\u062f\\u064b\\u0631\\u0633\\u064a\\u0651\\u0647\\u064e\\u0645\\u064b\\u060c \\u0648\\u0652\\u062a\\u064e\\u0636\\u0645\\u064b\\u064a\\u0650\\u0646\\u0652\\u0647 \\u064f\\u062e\\u0627\\u0650\\u0635\\u064a\\u064d\\u0629\\u0651 \\u0625\\u064d\\u0631\\u064d\\u0633\\u064f\\u0627\\u0651\\u0644\\u064e \\u064b\\u0627\\u064b\\u0644\\u0645\\u064f\\u0644\\u064f\\u0627\\u0650\\u062d\\u0638\\u0627\\u062a\\u064c \\u0644\\u064e\\u0644\\u0650\\u0637\\u0644\\u0627\\u0628\\u064b \\u064b\\u0633\\u064f\\u0648\\u064d\\u0627\\u0621 \\u064f\\u0623\\u0643\\u0627\\u0646\\u0648\\u0627\\u0652 \\u0641\\u064a\\u064e \\u0635\\u064c\\u0641\\u0652\\u0648\\u0641\\u064f\\u0647\\u064d\\u0645 \\u0623\\u0648 \\u0645\\u0652\\u0646\\u064b\\u0627\\u0632\\u0644\\u0647\\u0645\\u064f\\u060c \\u0648\\u0625\\u0645\\u0643\\u064b\\u0627\\u064e\\u0646\\u064d\\u064a\\u0652\\u0629\\u064d \\u0651\\u062a\\u064f\\u0635\\u0641\\u062d \\u0651\\u0627\\u064d\\u0644\\u0651\\u0645\\u064e\\u0646\\u0627\\u064e\\u0647\\u062c \\u064f\\u0627\\u064c\\u0644\\u0650\\u062f\\u064f\\u0631\\u0627\\u0633\\u064a\\u0629 \\u0628\\u064e\\u0633\\u0647\\u0648\\u0644\\u064e\\u0629\\u0651 \\u0645\\u0646\\u064d \\u064c\\u062e\\u064d\\u0644\\u064d\\u0627\\u0651\\u0644 \\u0652\\u062c\\u064f\\u0647\\u0627\\u0632\\u064c \\u0651\\u0627\\u064f\\u0644\\u062d\\u0627\\u064b\\u0633\\u0648\\u064f\\u0628\\u0651 \\u0627\\u0644\\u0644\\u0648\\u064b\\u062d\\u0652\\u064a\\u064f\\u060c\\u064e \\u0625\\u0636\\u0627\\u0650\\u0641\\u064c\\u0629\\u064f \\u0625\\u0644\\u0649 \\u062e\\u0627\\u0635\\u064a\\u0651\\u0629\\u064f \\u0651\\u062a\\u0648\\u062c\\u064d\\u064a\\u0647\\u0651 \\u0627\\u0644\\u064f\\u0623\\u0651\\u0633\\u064d\\u0626\\u0644\\u0629\\u064f \\u064b\\u0644\\u064c\\u0644\\u0637\\u0644\\u0627\\u0628\\u064e \\u0648\\u064d\\u0645\\u0646\\u0651\\u0627\\u0642\\u064e\\u0634\\u062a\\u064d\\u0647\\u0645\\u064d\\u060c \\u0648\\u0623\\u064a\\u064b\\u0636\\u064c\\u0627\\u064b\\u064b \\u064e\\u062a\\u064d\\u0628\\u0627\\u0652\\u062f\\u0651\\u0644\\u064d \\u0650\\u0627\\u0652\\u0644\\u0645\\u0639\\u0644\\u064b\\u0648\\u0645\\u0650\\u0627\\u0650\\u062a \\u064d\\u0628\\u064a\\u0646\\u0647\\u064d\\u0645 \\u064e\\u0644\\u062a\\u0652\\u062d\\u0642\\u064a\\u064b\\u0642 \\u0652\\u0627\\u0644\\u0652\\u0627\\u0633\\u062a\\u0641\\u0627\\u064b\\u062f\\u0629\\u064b \\u0627\\u064d\\u0644\\u0650\\u0642\\u064d\\u0635\\u0648\\u0652\\u0649\\u064b \\u064d\\u0645\\u064e\\u0646\\u0650 \\u064d\\u0647\\u0630\\u064d\\u0627\\u064c \\u0627\\u064c\\u0644\\u0646\\u0638\\u0627\\u064c\\u0645 .\\u0651\",\n          \"https://example.com/resource/\\u062a\\u064b\\u0634\\u0627\\u064d\\u0631\\u0643 \\u062f\\u0652\\u0648\\u064e\\u0644\\u0629\\u064f \\u064f\\u0627\\u064c\\u0644\\u064f\\u0625\\u064f\\u0645\\u0627\\u0631\\u064b\\u0627\\u064b\\u062a \\u0641\\u064e\\u064a\\u064d \\u0645\\u0624\\u0650\\u062a\\u0645\\u064d\\u0631 \\u0627\\u064d\\u0644\\u064e\\u0645\\u0646\\u0650\\u062f\\u064f\\u0648\\u0628\\u0650\\u064a\\u0651\\u0646 \\u064d\\u0627\\u064d\\u0644\\u0645\\u064c\\u0641\\u064b\\u0648\\u0636\\u064a\\u0646\\u0651 \\u0627\\u064c\\u0644\\u064e\\u0642\\u0627\\u064d\\u062f\\u0645\\u0652 \\u0627\\u0650\\u0644\\u0650\\u0630\\u064a\\u064d \\u0633\\u064c\\u064a\\u064b\\u0639\\u0642\\u062f\\u064f \\u0641\\u064a \\u0651\\u0645\\u0652\\u062f\\u064a\\u0646\\u0629\\u064d \\u062c\\u0651\\u0648\\u0627\\u064f\\u062f\\u064f\\u0627\\u064f\\u0644\\u0627\\u0652\\u062e\\u0627\\u064d\\u0631\\u0627\\u064c \\u0641\\u064a \\u0627\\u064f\\u0644\\u0645\\u0650\\u0643\\u0652\\u0633\\u064a\\u0651\\u0643 \\u064c\\u062e\\u0652\\u0644\\u064e\\u0627\\u064d\\u0644 \\u0627\\u0644\\u064c\\u0641\\u062a\\u0631\\u0650\\u0629\\u064c \\u064c\\u0645\\u0646 \\u0627\\u0644\\u0652\\u0631\\u0627\\u064e\\u0628\\u0639 \\u0645\\u0646\\u064d \\u0623\\u064d\\u0643\\u064d\\u062a\\u064f\\u0648\\u0628\\u0631\\u064b/ \\u062a\\u0634\\u0631\\u064a\\u064f\\u0646 \\u064f\\u0627\\u0644\\u064e\\u0623\\u064b\\u0648\\u0644\\u064f 2010\\u064b\\u062d\\u064b\\u062a\\u064d\\u0649 \\u0651\\u0627\\u0650\\u0644\\u0651\\u062b\\u0627\\u064e\\u0646\\u064a \\u0652\\u0648\\u0627\\u064c\\u0644\\u0639\\u064d\\u0634\\u0631\\u064d\\u064a\\u0646\\u064f \\u064c\\u0645\\u064d\\u0646\\u0651 \\u064f\\u0627\\u064d\\u0644\\u0651\\u0634\\u0647\\u064f\\u0631 \\u064d\\u0646\\u0641\\u0633\\u064b\\u0647 \\u064e.\\u064e \\u064c\\u0648\\u064a\\u0652\\u0639\\u062f\\u064c \\u0651\\u0647\\u0630\\u0627 \\u064e\\u0627\\u0644\\u0645\\u0624\\u062a\\u0645\\u064b\\u0631 - \\u0627\\u064c\\u0644\\u0630\\u064a \\u064a\\u064f\\u0639\\u064e\\u0642\\u062f\\u0650 \\u064e\\u0643\\u0650\\u0644\\u064f \\u0623\\u064d\\u0631\\u0628\\u0639\\u064c\\u0629\\u0652 \\u0652\\u0623\\u064e\\u0639\\u064f\\u0648\\u0627\\u064f\\u0645\\u064f-\\u064b \\u064c\\u0623\\u0651\\u0639\\u0651\\u0644\\u0650\\u0649\\u0651 \\u0627\\u0644\\u0652\\u0647\\u0650\\u064a\\u0626\\u0627\\u062a \\u0627\\u064f\\u0644\\u064c\\u0645\\u064b\\u0633\\u0624\\u064f\\u0648\\u064b\\u0644\\u0629\\u0652 \\u0639\\u0646 \\u0648\\u0636\\u0639 \\u064d\\u0633\\u0651\\u064a\\u064c\\u0627\\u0633\\u0627\\u062a \\u0652\\u0627\\u064f\\u0644\\u0627\\u064f\\u062a\\u064e\\u062d\\u0627\\u064d\\u062f \\u064e\\u0627\\u0644\\u064e\\u062f\\u0648\\u0644\\u064c\\u064a \\u0644\\u0652\\u0644\\u0627\\u062a\\u0635\\u0627\\u064c\\u0644\\u064f\\u0627\\u062a\\u0650 \\u0648\\u064b\\u062a\\u064e\\u0634\\u0631\\u064a\\u0652\\u0639\\u0627\\u064f\\u062a\\u0647\\u064c \\u0627\\u064b\\u0644\\u062a\\u064a \\u064d\\u062a\\u0650\\u0639\\u0652\\u062a\\u0652\\u0628\\u0631 \\u062e\\u064e\\u0631\\u064c\\u064a\\u064d\\u0637\\u0629 \\u064b\\u0637\\u0650\\u0631\\u064a\\u0642 \\u064b\\u062a\\u064f\\u062d\\u064f\\u062f\\u062f \\u0645\\u0651\\u0639\\u064e\\u0627\\u0644\\u0645\\u0651 \\u0627\\u0644\\u062f\\u0648\\u0631\\u0651 \\u0651\\u0627\\u0644\\u0645\\u0651\\u0633\\u0652\\u062a\\u0642\\u0628\\u0644\\u064f\\u064a \\u064d\\u0644\\u0652\\u0644\\u0627\\u062a\\u064d\\u062d\\u0627\\u064d\\u062f\\u0652 \\u0648\\u0642\\u0651\\u0637\\u0627\\u0650\\u0639\\u0627\\u064f\\u062a\\u0647 \\u0627\\u064b\\u0644\\u062b\\u064e\\u0644\\u064c\\u0627\\u064b\\u062b\\u064e\\u0629\\u064c \\u0652(\\u0652\\u0642\\u0637\\u0627\\u0650\\u0639 \\u064d\\u0627\\u064e\\u0644\\u0651\\u0627\\u064b\\u062a\\u0635\\u0627\\u0652\\u0644\\u0627\\u064d\\u062a \\u0627\\u064f\\u0644\\u0631\\u0627\\u062f\\u064a\\u0648\\u0651\\u064a\\u064d\\u0629\\u064d \\u0648\\u0642\\u0637\\u064f\\u0627\\u064b\\u0639\\u064c \\u062a\\u0652\\u0642\\u064a\\u064a\\u064f\\u0633 \\u064e\\u0627\\u0644\\u0652\\u0627\\u062a\\u064f\\u0635\\u064c\\u0627\\u064f\\u0644\\u0627\\u062a\\u0652 \\u064b\\u0648\\u0642\\u064f\\u0637\\u064c\\u0627\\u0639 \\u062a\\u0646\\u0650\\u0645\\u064a\\u0629 \\u0627\\u064b\\u0644\\u0627\\u062a\\u0650\\u0635\\u0627\\u0644\\u0627\\u0652\\u062a\\u064b) \\u0643\\u064f\\u0645\\u0652\\u0627\\u0652 \\u064c\\u062a\\u062d\\u062f\\u062f \\u0652\\u0627\\u0650\\u0644\\u064c\\u0627\\u062a\\u062c\\u0627\\u064c\\u0647\\u0627\\u064b\\u062a \\u064b\\u0627\\u0644\\u064d\\u0639\\u064e\\u0627\\u0645\\u0629 \\u064f\\u0648\\u0627\\u064e\\u0644\\u064c\\u062e\\u0652\\u0637\\u0637 \\u064b\\u0627\\u064b\\u0644\\u064e\\u0627\\u0633\\u062a\\u064d\\u0631\\u0627\\u064c\\u062a\\u064a\\u064b\\u062c\\u064a\\u0629 \\u0651\\u0648\\u0627\\u0644\\u0645\\u0627\\u0644\\u064f\\u064a\\u064b\\u0629 \\u0648\\u064d\\u0627\\u0652\\u0644\\u064b\\u062a\\u0646\\u0641\\u064b\\u064a\\u064b\\u0630\\u064c\\u064a\\u0629 \\u0644\\u0644\\u0633\\u0646\\u0652\\u0648\\u0627\\u064f\\u062a \\u0627\\u0644\\u0623\\u0650\\u0631\\u064f\\u0628\\u0650\\u0639\\u064b \\u0627\\u0644\\u064c\\u0642\\u0627\\u0652\\u062f\\u064b\\u0645\\u0629 .\\u064c\\u0648\\u0639\\u064e\\u0642\\u064d\\u062f \\u0622\\u062e\\u0651\\u0631\\u064d \\u0645\\u0650\\u0624\\u064b\\u062a\\u0645\\u0631 \\u0651\\u0644\\u0650\\u0644\\u0645\\u064c\\u0646\\u062f\\u0648\\u0650\\u0628\\u0651\\u064a\\u0646\\u0652 \\u0627\\u0644\\u064e\\u0645\\u0641\\u0648\\u0636\\u064a\\u0646\\u0651 \\u0641\\u0652\\u064a \\u0645\\u062f\\u064a\\u064e\\u0646\\u0652\\u0629\\u064d \\u0650\\u0623\\u0650\\u0646\\u0637\\u0627\\u0644\\u064b\\u064a\\u0627\\u064b (\\u064b\\u062a\\u0651\\u0631\\u064d\\u0643\\u064b\\u064a\\u064c\\u0627) \\u0651\\u0641\\u064a\\u064e \\u0650\\u0639\\u0627\\u064d\\u0645 \\u06522\\u06500\\u065206 \\u064e\\u062d\\u064a\\u062b\\u064e \\u0652\\u062a\\u0645\\u064c \\u0650\\u0627\\u0646\\u062a\\u0652\\u062e\\u0651\\u0627\\u064e\\u0628\\u0650 \\u062f\\u064d\\u0648\\u0644\\u0650\\u0629\\u0651 \\u0627\\u0650\\u0644\\u064b\\u0625\\u0652\\u0645\\u064c\\u0627\\u0631\\u0627\\u062a\\u0652 \\u0644\\u064b\\u0644\\u0645\\u0631\\u064b\\u0629\\u0651 \\u0627\\u0644\\u0623\\u064f\\u0648\\u064c\\u0644\\u064e\\u0649 \\u064d\\u0644\\u0639\\u0636\\u0652\\u0648\\u064c\\u064a\\u064c\\u0629\\u064b \\u0651\\u0645\\u064d\\u062c\\u0644\\u064c\\u0633 \\u0652\\u0627\\u064e\\u0644\\u064c\\u0627\\u0650\\u062a\\u064e\\u062d\\u0627\\u062f \\u0650\\u0627\\u064c\\u0644\\u064b\\u0630\\u064d\\u064a \\u064a\\u064d\\u062a\\u064f\\u0643\\u064e\\u0648\\u0646 \\u064e\\u0645\\u064d\\u0646\\u064c (4\\u06506\\u064d) \\u062f\\u0651\\u0648\\u0644\\u0652\\u0629 \\u064c\\u0639\\u064b\\u0636\\u064e\\u0648\\u0627\\u0650\\u064b\\u064c \\u0645\\u064c\\u0646\\u062a\\u064e\\u062e\\u064c\\u0628\\u0652\\u0629\\u064d \\u064d\\u0645\\u0650\\u0646\\u0651 \\u064e\\u0623\\u0635\\u064b\\u0644 (\\u06501\\u064e9\\u06522\\u0650) \\u062f\\u064b\\u0648\\u0644\\u0629\\u0651 \\u0639\\u064c\\u0636\\u0648\\u0652\\u0627\\u064d\\u064b\\u064f \\u0628\\u0627\\u064c\\u0644\\u0651\\u0627\\u062a\\u062d\\u0650\\u0627\\u064b\\u062f\\u060c\\u064c \\u0650\\u0648\\u064b\\u064a\\u064c\\u0639\\u0651\\u062a\\u0651\\u0628\\u0652\\u0631\\u064c \\u0650\\u0647\\u0630\\u064f\\u0627\\u064e \\u0627\\u064b\\u0644\\u064e\\u0627\\u0646\\u062a\\u0652\\u062e\\u064c\\u0627\\u0628\\u0650 \\u062a\\u062a\\u0648\\u064a\\u062c\\u0627\\u064e\\u064b\\u0651 \\u064d\\u0644\\u0652\\u0644\\u0651\\u062c\\u0647\\u0648\\u062f \\u0650\\u0627\\u0644\\u064d\\u0643\\u0650\\u0628\\u0650\\u064a\\u0631\\u0629\\u0651 \\u0627\\u0644\\u062a\\u064a\\u0651 \\u064e\\u0628\\u0652\\u0630\\u0650\\u0644\\u0650\\u062a\\u064e\\u0647\\u0627\\u064c \\u064d\\u0647\\u064a\\u0626\\u064d\\u0629\\u0652 \\u062a\\u0646\\u0651\\u0638\\u064a\\u0651\\u0645 \\u064d\\u0642\\u0637\\u0627\\u064f\\u0639\\u0652 \\u0627\\u0644\\u0627\\u0652\\u062a\\u0635\\u0652\\u0627\\u064b\\u0644\\u0627\\u062a\\u064f \\u0645\\u064f\\u0646 \\u0623\\u064e\\u062c\\u0652\\u0644\\u064e \\u062a\\u0650\\u0631\\u0633\\u064a\\u062e \\u0633\\u0651\\u064a\\u0652\\u0627\\u0652\\u0633\\u064f\\u0627\\u062a\\u064c \\u0650\\u0648\\u064f\\u0647\\u064a\\u0650\\u0643\\u0644\\u064d\\u0629 \\u064f\\u0642\\u0652\\u0637\\u064f\\u0627\\u0652\\u0639\\u064f \\u0650\\u0627\\u064e\\u0644\\u064e\\u0627\\u064d\\u062a\\u0635\\u064f\\u0627\\u0644\\u0627\\u062a \\u0648\\u062a\\u0643\\u064c\\u0646\\u0650\\u0648\\u0644\\u064b\\u0648\\u062c\\u064a\\u0627 \\u064b\\u0627\\u0644\\u0645\\u0639\\u064c\\u0644\\u0648\\u064d\\u0645\\u0627\\u064e\\u062a \\u0641\\u0651\\u064a \\u0652\\u0627\\u0644\\u064d\\u062f\\u0648\\u064c\\u0644\\u0651\\u0629 . \\u0648\\u0642\\u064f\\u062f\\u0651 \\u062a\\u0645\\u0652 \\u062a\\u0631\\u0650\\u0634\\u064a\\u062d\\u0652 \\u064d\\u062f\\u0652\\u0648\\u0644\\u0652\\u0629\\u064f \\u0627\\u0651\\u0644\\u0625\\u0645\\u0627\\u064c\\u0631\\u0627\\u064f\\u062a\\u0652 \\u0641\\u064a \\u0645\\u064d\\u0624\\u062a\\u0645\\u064d\\u0631\\u0651 \\u0651\\u0647\\u064b\\u0630\\u0627\\u064b \\u064d\\u0627\\u064c\\u0644\\u0650\\u0639\\u0650\\u0627\\u064e\\u0645\\u064e \\u064f\\u0645\\u0646 \\u062c\\u064f\\u062f\\u064e\\u064a\\u062f \\u0644\\u0639\\u064d\\u0636\\u064d\\u0648\\u064a\\u0629 \\u0645\\u0650\\u062c\\u0644\\u0651\\u0633 \\u064d\\u0627\\u0644\\u0627\\u062a\\u064d\\u062d\\u0627\\u062f\\u0650 \\u0627\\u0644\\u062f\\u0648\\u0651\\u0644\\u064a \\u0644\\u0644\\u0627\\u062a\\u0651\\u0635\\u0652\\u0627\\u0651\\u0644\\u0627\\u062a \\u064f\\u0641\\u0652\\u064a\\u0652 \\u0652\\u0645\\u0651\\u0624\\u062a\\u0645\\u0631\\u0650 \\u0647\\u0630\\u064c\\u0627 \\u0651\\u0627\\u0644\\u0639\\u0627\\u0651\\u0645\\u060c\\u064b \\u064c\\u0628\\u0627\\u0651\\u0644\\u0625\\u064f\\u0636\\u0627\\u0652\\u0641\\u0629\\u064b \\u064b\\u0625\\u064c\\u0644\\u064d\\u0649\\u064f \\u062a\\u0631\\u064d\\u0634\\u064e\\u064a\\u0652\\u062d \\u064c\\u0623\\u062d\\u062f\\u064e \\u0645\\u0647\\u0646\\u062f\\u0633\\u064a \\u064b\\u0627\\u0651\\u0644\\u064c\\u0647\\u064e\\u064a\\u064d\\u0626\\u0629\\u064f \\u064c\\u0644\\u064e\\u0645\\u0646\\u064e\\u0635\\u0650\\u0628 \\u064e\\u0639\\u0636\\u0648\\u064c\\u064a\\u0652\\u0629 \\u064c\\u0644\\u064e\\u062c\\u0650\\u0646\\u064e\\u0629\\u0652 \\u0644\\u064e\\u0648\\u0627\\u064c\\u0626\\u064d\\u062d\\u0650 \\u0650\\u0627\\u064f\\u0644\\u0631\\u0627\\u064c\\u062f\\u064a\\u064e\\u0648\\u064f \\u0644\\u0644\\u0623\\u064b\\u0639\\u0648\\u064b\\u0627\\u0645 \\u0652\\u0627\\u064f\\u0644\\u0652\\u0623\\u0631\\u0628\\u0651\\u0639\\u0652\\u0629 \\u0627\\u0652\\u0644\\u064e\\u0645\\u0650\\u0642\\u064c\\u0628\\u064b\\u0644\\u0650\\u0629\\u064f \\u0652\\u062d\\u064c\\u062a\\u0649 \\u0639\\u0627\\u0645 \\u064b2014\\u064b\\u0645 \\u0627\\u0652\\u0644\\u0651\\u062a\\u064a \\u0651\\u062a\\u062a\\u0623\\u0644\\u064e\\u0641\\u064d \\u0645\\u0650\\u0646 12\\u064d \\u0639\\u064d\\u0636\\u0648\\u0627\\u064b \\u064c\\u0645\\u0646\\u064f\\u062a\\u062e\\u0628\\u064c\\u0627\\u064b \\u0650\\u0639\\u0644\\u0649 \\u0627\\u0644\\u0645\\u0633\\u0651\\u062a\\u064d\\u0648\\u0649 \\u064d\\u0627\\u0644\\u0652\\u062f\\u0652\\u0648\\u0644\\u064a\\u064e \\u064d. \\u0650\\u0648\\u0642\\u064d\\u0627\\u064c\\u0644\\u064b \\u0645\\u062d\\u0651\\u0645\\u064b\\u062f \\u0646\\u064f\\u0627\\u0635\\u0631 \\u064e\\u0627\\u064f\\u0644\\u064d\\u063a\\u0652\\u0627\\u0650\\u0646\\u0645\\u064f \\u0627\\u0644\\u0645\\u062f\\u0651\\u064a\\u0631\\u0650 \\u064e\\u0627\\u0644\\u0639\\u064e\\u0627\\u064c\\u0645\\u064b \\u0651\\u0644\\u0647\\u064d\\u064a\\u0626\\u064f\\u0629\\u0652 \\u062a\\u0646\\u0638\\u0651\\u064a\\u064e\\u0645 \\u0652\\u0627\\u0644\\u0651\\u0627\\u0652\\u062a\\u0652\\u0635\\u0627\\u0644\\u0627\\u064d\\u062a\\u064e \\u0645\\u0639\\u0651\\u0644\\u0642\\u064d\\u0627\\u0651\\u064b \\u0651\\u0639\\u0644\\u0649 \\u0645\\u0651\\u0634\\u0627\\u064f\\u0631\\u0643\\u0629\\u064d \\u064f\\u0627\\u0644\\u0625\\u0651\\u0645\\u064e\\u0627\\u064f\\u0631\\u0627\\u062a \\u064e\\u0641\\u064a\\u0651 \\u064f\\u0645\\u064d\\u0624\\u062a\\u0645\\u0631\\u064e \\u0651\\u0627\\u064c\\u0644\\u0645\\u0646\\u064c\\u062f\\u0652\\u0648\\u0628\\u064e\\u064a\\u064b\\u0646 \\u064b\\u0627\\u064d\\u0644\\u0650\\u0645\\u0641\\u064d\\u0648\\u064f\\u0636\\u0652\\u064a\\u0646\\u0652 \\u0627\\u0644\\u0642\\u0627\\u064b\\u062f\\u0652\\u0645\\u064f:\\u064e \\u0652\\u0625\\u0646\\u0646\\u0627 \\u0641\\u0651\\u062e\\u0648\\u0631\\u0650\\u0648\\u0646 \\u0628\\u0645\\u064b\\u0627 \\u064f\\u0648\\u0635\\u0644\\u0650\\u0646\\u064e\\u0627\\u064d \\u0625\\u0651\\u0644\\u0651\\u064a\\u0651\\u0647\\u060c \\u062d\\u0650\\u064a\\u0651\\u062b\\u0652 \\u0650\\u0625\\u0646\\u0651 \\u0625\\u0639\\u0627\\u062f\\u0629\\u064b \\u064e\\u062a\\u0631\\u064f\\u0634\\u064a\\u062d \\u064d\\u062f\\u0652\\u0648\\u0644\\u0629\\u0652 \\u0627\\u0644\\u0625\\u0645\\u0627\\u0631\\u064b\\u0627\\u062a \\u064f\\u0644\\u0651\\u0639\\u0636\\u0648\\u0650\\u064a\\u0629\\u064f \\u0645\\u064c\\u062c\\u0644\\u0633\\u0651 \\u0627\\u0644\\u064b\\u0627\\u062a\\u064e\\u062d\\u0627\\u062f \\u064d\\u062a\\u0623\\u062a\\u064a\\u064c \\u0650\\u0641\\u064a\\u064d \\u0645\\u0631\\u064e\\u062d\\u0651\\u0644\\u0629\\u0651 \\u0645\\u064c\\u0647\\u0645\\u0651\\u0629\\u064e \\u062c\\u062f\\u0651\\u0627\\u0651\\u064b\\u064d \\u0652\\u064a\\u064c\\u062a\\u0637\\u0644\\u0639\\u064d \\u0652\\u0625\\u064d\\u0644\\u064a\\u0647\\u0627\\u0651 \\u064c\\u062c\\u0645\\u064d\\u064a\\u0639 \\u0627\\u0644\\u0651\\u062f\\u0648\\u064e\\u0644 \\u064d\\u0627\\u064b\\u0644\\u0623\\u064c\\u0639\\u0636\\u0627\\u064b\\u0621\\u064e \\u064f\\u0628\\u064c\\u0627\\u064b\\u0644\\u0646\\u064c\\u0633\\u0628\\u0652\\u0629 \\u0644\\u0652\\u0644\\u0641\\u064d\\u062a\\u064e\\u0631\\u0650\\u0629\\u064c \\u064f\\u0627\\u064e\\u0644\\u064f\\u0631\\u0650\\u0628\\u064f\\u0627\\u0651\\u0639\\u064e\\u064a\\u064e\\u0629\\u064e \\u0627\\u064d\\u0644\\u0642\\u0627\\u064f\\u062f\\u064f\\u0645\\u0629 \\u064b\\u0628\\u0650\\u0627\\u0650\\u0644\\u0627\\u062a\\u064d\\u062d\\u064b\\u0627\\u0652\\u062f \\u064d\\u0627\\u064f\\u0644\\u062f\\u0648\\u0651\\u0644\\u0652\\u064a\\u060c\\u064b \\u0645\\u064d\\u0627\\u0652 \\u0651\\u064a\\u0650\\u062a\\u0637\\u0644\\u064e\\u0628 \\u064f\\u0627\\u0644\\u064c\\u062a\\u062d\\u0651\\u0644\\u064a \\u0628\\u0646\\u0638\\u064e\\u0631\\u0651\\u0629 \\u0628\\u0650\\u0639\\u0650\\u064a\\u064c\\u062f\\u0629 \\u064d\\u0627\\u0644\\u064d\\u0645\\u064d\\u062f\\u0649\\u064c \\u0648\\u0631\\u0624\\u064f\\u064a\\u0629\\u064f \\u064c\\u0648\\u0627\\u0636\\u064f\\u062d\\u064d\\u0629\\u064c \\u0627\\u064b\\u0644\\u0651\\u0623\\u064f\\u0628\\u064b\\u0639\\u0651\\u0627\\u062f \\u0650\\u0648\\u0627\\u0652\\u0644\\u064c\\u0625\\u0650\\u0633\\u0650\\u0647\\u064f\\u0627\\u0645 \\u0642\\u062f\\u0631 \\u0627\\u0650\\u0644\\u0625\\u0645\\u0643\\u064c\\u0627\\u0646\\u064f \\u0641\\u064a\\u064f \\u0645\\u0633\\u062a\\u0642\\u0628\\u064c\\u0644 \\u0642\\u0650\\u0637\\u064d\\u0627\\u0652\\u0639\\u0651 \\u064f\\u0627\\u0652\\u0644\\u0627\\u064e\\u062a\\u064f\\u0635\\u0627\\u0644\\u064c\\u0627\\u064c\\u062a\\u064c \\u0639\\u0644\\u0652\\u0649 \\u0627\\u0644\\u064d\\u0645\\u0633\\u0650\\u062a\\u0652\\u0648\\u0652\\u0649\\u0652 \\u0650\\u0627\\u0644\\u0651\\u0639\\u064e\\u0627\\u0644\\u0645\\u064a\\u064c \\u064f\\u0648\\u062a\\u064c\\u0623\\u064b\\u0645\\u064e\\u064a\\u0646 \\u0652\\u0627\\u0644\\u064b\\u0646\\u0650\\u0641\\u0627\\u0630 \\u0625\\u0644\\u0649\\u0650 \\u062e\\u064d\\u062f\\u0645\\u0627\\u062a\\u0651 \\u064c\\u0627\\u064c\\u0644\\u0627\\u062a\\u0635\\u064d\\u0627\\u0651\\u0644\\u0650\\u0627\\u062a\\u064e \\u064c\\u0648\\u0627\\u0644\\u0645\\u064b\\u0639\\u064c\\u0644\\u0648\\u0645\\u0627\\u064b\\u062a\\u0650 \\u0648\\u0646\\u0634\\u064f\\u0631 \\u064d\\u0627\\u0651\\u0644\\u064c\\u0645\\u0639\\u0631\\u064c\\u0641\\u0629\\u064c \\u064e\\u0627\\u0644\\u064f\\u0627\\u0644\\u0643\\u062a\\u0651\\u0631\\u0648\\u0646\\u064f\\u064a\\u064e\\u0629\\u0652 \\u064f\\u0644\\u064c\\u062c\\u064e\\u0645\\u064a\\u0639 \\u0627\\u064e\\u0644\\u064e\\u0623\\u0651\\u0639\\u0652\\u0636\\u064e\\u0627\\u0621\\u0650\\u060c \\u0650\\u0644\\u0627\\u064f\\u0633\\u064a\\u064b\\u0645\\u064b\\u0627 \\u0627\\u0651\\u0644\\u064e\\u0628\\u064c\\u0644\\u0651\\u062f\\u0627\\u0646\\u0650 \\u0652\\u0627\\u0644\\u0651\\u0646\\u0627\\u0650\\u0645\\u064a\\u0629 \\u0651\\u0643\\u0645\\u0627 \\u0623\\u0650\\u0646\\u064f \\u0650\\u0625\\u0639\\u0627\\u0652\\u062f\\u064c\\u0629\\u0650 \\u064f\\u062a\\u0631\\u0634\\u064c\\u064a\\u064f\\u062d\\u064f \\u064f\\u0627\\u064b\\u0644\\u062f\\u0648\\u064c\\u0644\\u064b\\u0629 \\u0644\\u0647\\u0630\\u0652\\u0647 \\u0651\\u0627\\u064b\\u0644\\u064e\\u0639\\u064b\\u0636\\u0650\\u0648\\u064a\\u0650\\u0629\\u0652 \\u064e\\u0644\\u0644\\u0645\\u062c\\u0650\\u0644\\u064f\\u0633 \\u064d\\u0648\\u064d\\u0639\\u064e\\u0636\\u0648\\u064b\\u064a\\u064d\\u0629\\u0652 \\u0644\\u064c\\u062c\\u0646\\u064f\\u0629 \\u064f\\u0644\\u064b\\u0648\\u064f\\u0627\\u0626\\u062d\\u064b \\u0627\\u064b\\u0644\\u0650\\u0631\\u064f\\u0627\\u062f\\u0650\\u064a\\u0648\\u064e \\u064b\\u062a\\u064e\\u0639\\u064d\\u0643\\u0633 \\u0650\\u0628\\u0650\\u0642\\u0648\\u0629 \\u0645\\u064f\\u062f\\u064e\\u0649\\u064e \\u062d\\u0631\\u064b\\u0635\\u064d \\u064d\\u0627\\u0644\\u064b\\u062f\\u0648\\u064c\\u0644\\u0629 \\u064c\\u0639\\u0650\\u0644\\u0649\\u064e \\u064d\\u062a\\u064e\\u0631\\u0633\\u0651\\u064a\\u064d\\u062e \\u0645\\u0628\\u062f\\u0623\\u0650 \\u062a\\u0642\\u0648\\u064a\\u0629\\u0651 \\u0651\\u0627\\u0651\\u0644\\u0651\\u0639\\u064d\\u0644\\u064b\\u0627\\u0642\\u0627\\u0652\\u062a \\u0652\\u0627\\u0644\\u062f\\u0648\\u064f\\u0644\\u064a\\u0629\\u064d \\u0645\\u0639 \\u0650\\u0627\\u0644\\u0651\\u0645\\u0646\\u0638\\u0645\\u0650\\u0627\\u0652\\u062a \\u064e\\u0627\\u0650\\u0644\\u064d\\u062f\\u0648\\u064e\\u0644\\u0651\\u064a\\u0629 \\u0627\\u0644\\u0645\\u0652\\u062a\\u064c\\u062e\\u064f\\u0635\\u0635\\u0651\\u0629\\u0651 \\u0648\\u0627\\u0644\\u062d\\u064e\\u0631\\u0635\\u0651 \\u064d\\u0643\\u0630\\u064b\\u0644\\u0643 \\u0639\\u0644\\u0649 \\u0627\\u0651\\u0644\\u062a\\u0623\\u064b\\u062b\\u064a\\u064d\\u0631\\u064e \\u0641\\u0651\\u064a \\u064c\\u0623\\u064b\\u0639\\u0652\\u0645\\u064d\\u0627\\u0644\\u0650 \\u0647\\u0630\\u0647 \\u0627\\u0652\\u0644\\u064b\\u0645\\u0646\\u0638\\u064f\\u0645\\u0652\\u0627\\u062a\\u0650 \\u0645\\u064f\\u0646\\u0651 \\u064c\\u062e\\u0644\\u064e\\u0627\\u064c\\u0644\\u0650 \\u0650\\u062a\\u0642\\u064d\\u0644\\u064b\\u062f\\u0651 \\u0651\\u0627\\u064e\\u0644\\u0645\\u0650\\u0646\\u064d\\u0627\\u064b\\u0635\\u0628\\u064b \\u0627\\u064e\\u0644\\u0642\\u064f\\u064a\\u0651\\u0627\\u0650\\u062f\\u064f\\u064a\\u0629 \\u0641\\u064b\\u064a \\u064b\\u0645\\u064b\\u062b\\u0644\\u0652 \\u0647\\u0630\\u0650\\u0647 \\u0627\\u064c\\u0644\\u064d\\u0645\\u064e\\u0646\\u0638\\u0645\\u064d\\u0627\\u062a\\u064e \\u0627\\u0644\\u0651\\u062f\\u0652\\u0648\\u0651\\u0644\\u0651\\u064a\\u0629\\u064f \\u0652\\u0627\\u0650\\u0644\\u064f\\u0639\\u0631\\u064f\\u064a\\u0642\\u0629\\u064d \\u0650.\\u0648\\u0623\\u0652\\u0636\\u0652\\u0627\\u064f\\u0641 \\u0627\\u064c\\u0644\\u0651\\u063a\\u0652\\u0627\\u064c\\u0646\\u0652\\u0645:\\u064c \\u064a\\u064f\\u062a\\u064e\\u0643\\u0648\\u0646\\u064e \\u0648\\u064c\\u0641\\u064d\\u062f \\u064d\\u0627\\u064c\\u0644\\u062f\\u0648\\u0644\\u0629\\u064b \\u0645\\u0646\\u064c \\u0652\\u0645\\u0648\\u0638\\u064b\\u0641\\u0650\\u064a \\u0627\\u0644\\u0647\\u064d\\u064a\\u064e\\u0626\\u064f\\u0629\\u064b \\u0628\\u064c\\u0627\\u064b\\u0644\\u0625\\u0652\\u0636\\u064d\\u0627\\u064d\\u0641\\u064d\\u0629 \\u0650\\u0625\\u0644\\u064e\\u0649\\u064d \\u0645\\u0634\\u064b\\u0627\\u064d\\u0631\\u0643\\u064a\\u0646 \\u0622\\u064c\\u062e\\u0631\\u0650\\u064a\\u0646\\u064f \\u0651\\u0645\\u064e\\u0646\\u064c \\u0627\\u0650\\u0644\\u0642\\u064c\\u0648\\u0627\\u062a\\u064b \\u064f\\u0627\\u0644\\u064e\\u0645\\u064e\\u0633\\u0652\\u0644\\u0651\\u062d\\u0629\\u064d \\u0648\\u0634\\u0650\\u0631\\u0643\\u062a\\u064a \\u0651\\u0627\\u064c\\u062a\\u0651\\u0635\\u0627\\u0644\\u064b\\u0627\\u062a\\u0652 \\u064e\\u0648\\u062f\\u0650\\u0648 \\u0652\\u0648\\u0627\\u064b\\u0644\\u062b\\u0651\\u0631\\u064a\\u064e\\u0627 \\u0648\\u0627\\u0644\\u0651\\u064a\\u064c\\u0627\\u064d\\u0647 \\u064c\\u0633\\u0627\\u064d\\u062a\\u060c \\u064c\\u0648\\u0650\\u0642\\u062f\\u0652 \\u064b\\u0639\\u064d\\u0645\\u064f\\u0644 \\u0627\\u0644\\u062c\\u0645\\u064e\\u064a\\u0639 \\u0650\\u0628\\u0652\\u0634\\u064d\\u0643\\u064e\\u0644\\u064e \\u0645\\u0643\\u064d\\u062b\\u0641\\u064c \\u064b\\u0645\\u064f\\u0646\\u0650 \\u0623\\u0652\\u062c\\u064e\\u0644\\u064f \\u0627\\u0652\\u0644\\u064c\\u0625\\u064f\\u0639\\u064f\\u062f\\u0651\\u0627\\u064c\\u062f\\u0650 \\u064f\\u0644\\u0650\\u0644\\u064f\\u0645\\u064f\\u0624\\u064f\\u062a\\u0645\\u0631\\u0650 \\u0628\\u0634\\u0643\\u064f\\u0644 \\u064d\\u062c\\u064a\\u062f\\u064f \\u064e\\u064a\\u0652\\u0636\\u064b\\u0645\\u064c\\u0646 \\u064f\\u0644\\u0644\\u064c\\u062f\\u064c\\u0648\\u064b\\u0644\\u0651\\u0629 \\u064e\\u0627\\u064f\\u0644\\u064c\\u0645\\u0634\\u0627\\u064e\\u0631\\u064d\\u0643\\u0629\\u0650 \\u0627\\u064f\\u0644\\u0641\\u0639\\u0627\\u064f\\u0644\\u0629\\u064d \\u0648\\u0627\\u0644\\u0652\\u0642\\u0648\\u064d\\u064a\\u064d\\u0629\\u064f \\u064d\\u0648\\u064c\\u062a\\u0631\\u0643\\u064e \\u0652\\u0627\\u0646\\u0637\\u0628\\u064e\\u0627\\u064b\\u0639\\u064c \\u0645\\u0652\\u0645\\u064a\\u064f\\u0632 \\u064b\\u0644\\u062f\\u064e\\u0649 \\u0651\\u0627\\u0644\\u0651\\u062f\\u0648\\u0644 \\u0627\\u0644\\u0645\\u0634\\u0627\\u0631\\u0643\\u0650\\u0629\\u064c \\u064b\\u064a\\u0639\\u0643\\u0650\\u0633\\u064b \\u064b\\u0645\\u064f\\u062f\\u064b\\u0649 \\u064c\\u0627\\u064b\\u0644\\u0650\\u062a\\u064b\\u0637\\u064b\\u0648\\u064d\\u0631\\u064e \\u0651\\u0627\\u0644\\u0630\\u064a \\u0634\\u0647\\u064e\\u062f\\u064f\\u062a\\u0652\\u0647 \\u0627\\u064b\\u0644\\u0652\\u062f\\u0648\\u0652\\u0644\\u0629 \\u0650\\u0641\\u064f\\u064a\\u0650 \\u0645\\u062c\\u0652\\u0627\\u064c\\u0644\\u0652\\u0627\\u062a \\u0627\\u0644\\u0652\\u0627\\u062a\\u064f\\u0635\\u0627\\u0644\\u064f\\u0627\\u062a\\u0650 \\u0650\\u0648\\u062a\\u0643\\u064d\\u0646\\u064c\\u0648\\u064c\\u0644\\u064e\\u0648\\u062c\\u064f\\u064a\\u064e\\u0627 \\u0650\\u0627\\u0644\\u0645\\u064e\\u0639\\u0652\\u0644\\u0648\\u0645\\u0651\\u0627\\u062a\\u064d \\u064d\\u0641\\u064e\\u064a \\u064c\\u0627\\u0644\\u0633\\u064f\\u0646\\u0648\\u0627\\u062a \\u0627\\u0644\\u0623\\u064b\\u062e\\u064a\\u0652\\u0631\\u0650\\u0629 .\\u064f\\u0648\\u0641\\u0652\\u0648\\u0631 \\u0652\\u0627\\u064e\\u0644\\u064e\\u0625\\u0650\\u0639\\u0644\\u0627\\u064d\\u0646\\u064b \\u0651\\u0639\\u064c\\u0646\\u0650 \\u0625\\u0639\\u0627\\u062f\\u0652\\u0629 \\u062a\\u0631\\u0634\\u064a\\u062d\\u0652 \\u064e\\u0627\\u064d\\u0644\\u0625\\u064c\\u0645\\u0652\\u0627\\u0631\\u064b\\u0627\\u062a\\u0650 \\u062e\\u064b\\u0644\\u064d\\u0627\\u0650\\u0644\\u064c \\u0650\\u062f\\u0651\\u0648\\u0631\\u0652\\u0629\\u0650 \\u0645\\u062c\\u0644\\u0633\\u064d \\u0627\\u0644\\u064f\\u0627\\u064e\\u062a\\u0650\\u062d\\u0652\\u0627\\u064e\\u062f \\u064e\\u0627\\u0651\\u0644\\u0650\\u062f\\u0650\\u0648\\u064c\\u0644\\u064a \\u064f\\u0644\\u0651\\u0644\\u064b\\u0627\\u062a\\u0635\\u0627\\u0644\\u0627\\u062a \\u0627\\u064d\\u0644\\u0645\\u0646\\u0639\\u0642\\u064f\\u062f\\u064c\\u0629\\u064f \\u064e\\u0641\\u064a \\u062c\\u0646\\u0650\\u064a\\u0641 \\u064d2\\u0652009 \\u0650\\u0633\\u064c\\u0627\\u064d\\u0631\\u0651\\u0639\\u064e\\u062a \\u0627\\u0651\\u0644\\u0651\\u0647\\u064a\\u0626\\u0629 \\u0628\\u064e\\u0625\\u0642\\u0627\\u064d\\u0645\\u0629\\u0651 \\u064e\\u062d\\u0641\\u0644\\u0652\\u0627\\u064d \\u0628\\u0641\\u0646\\u064b\\u062f\\u0642 \\u064e\\u0628\\u0652\\u0631\\u0632\\u064a\\u062f\\u064e\\u0646\\u064e\\u062a\\u064c \\u0648\\u064a\\u0651\\u0644\\u064f\\u0633\\u064d\\u0648\\u064b\\u0646 \\u064c\\u0641\\u0652\\u064a \\u064c\\u062c\\u0646\\u064a\\u0641\\u064d\\u060c\\u064f \\u0650\\u0639\\u064f\\u0644\\u0649\\u064c \\u0634\\u064b\\u0631\\u0650\\u0641 \\u0627\\u0644\\u0648\\u0641\\u0650\\u0648\\u062f\\u0650 \\u064c\\u0627\\u0644\\u0645\\u0634\\u0627\\u0631\\u0643\\u0629\\u064b \\u0641\\u064a \\u0623\\u0652\\u0639\\u0645\\u0627\\u0650\\u0644\\u0651 \\u064d\\u0627\\u0644\\u062f\\u0648\\u064b\\u0631\\u064f\\u0629\\u0650 \\u0648\\u0630\\u0644\\u064b\\u0643\\u064e \\u064b\\u0644\\u062d\\u0634\\u064c\\u062f\\u064f \\u0627\\u0644\\u062f\\u0639\\u0645 \\u0627\\u0644\\u062f\\u0648\\u0644\\u0650\\u064a \\u064b\\u0644\\u0625\\u0652\\u0639\\u0627\\u062f\\u0629\\u0652 \\u062a\\u0650\\u0631\\u064e\\u0634\\u064d\\u064a\\u062d \\u064b\\u062f\\u064e\\u0648\\u064e\\u0644\\u0629 \\u064f\\u0627\\u0644\\u064f\\u0625\\u0645\\u064d\\u0627\\u0651\\u0631\\u0652\\u0627\\u064d\\u062a\\u064f \\u0644\\u0651\\u0639\\u064f\\u0636\\u0648\\u064a\\u0652\\u0629 \\u0645\\u062c\\u0652\\u0644\\u0650\\u0633 \\u0627\\u064e\\u0644\\u064f\\u0627\\u064d\\u062a\\u064e\\u062d\\u0652\\u0627\\u062f\\u0652 \\u064b\\u0627\\u0650\\u0644\\u064d\\u062f\\u064e\\u0648\\u0644\\u064a\\u064c \\u0644\\u0644\\u0627\\u062a\\u0652\\u0635\\u064e\\u0627\\u064d\\u0644\\u064f\\u0627\\u062a \\u0648\\u0652\\u062a\\u0631\\u0650\\u0634\\u064b\\u064a\\u062d \\u0651\\u0627\\u0644\\u0650\\u0645\\u0650\\u0647\\u0646\\u064e\\u062f\\u0633\\u0652 \\u0646\\u0627\\u0635\\u064b\\u0631\\u064c \\u064d\\u0628\\u0646\\u0651 \\u062d\\u0645\\u064f\\u0627\\u0651\\u062f\\u064f \\u064f\\u0644\\u0639\\u0636\\u064e\\u0648\\u0652\\u064a\\u064b\\u0629 \\u0644\\u064e\\u062c\\u064c\\u0646\\u064e\\u0629\\u0651 \\u0650\\u0644\\u0650\\u0648\\u064b\\u0627\\u0626\\u062d \\u0627\\u0644\\u0631\\u0627\\u0650\\u062f\\u064d\\u064a\\u064b\\u0648\\u0652 \\u0628\\u064c\\u0627\\u0652\\u0644\\u064d\\u0627\\u062a\\u064f\\u062d\\u064f\\u0627\\u062f \\u064b\\u0644\\u0623\\u0648\\u0644 \\u0650\\u0645\\u0631\\u064e\\u0629\\u064c .\\u0650\\u0643\\u064b\\u0645\\u064c\\u0627 \\u0627\\u0633\\u062a\\u0636\\u0627\\u0641\\u062a \\u0651\\u0627\\u0644\\u0652\\u0647\\u064a\\u0650\\u0626\\u0652\\u0629 \\u0628\\u0639\\u0650\\u062f\\u0650 \\u064b\\u0630\\u0651\\u0644\\u064b\\u0643 \\u0627\\u0644\\u0627\\u062c\\u064f\\u062a\\u0645\\u0627\\u0651\\u0639 \\u064d\\u0627\\u064b\\u0644\\u0623\\u064b\\u0648\\u0650\\u0644\\u064b \\u0651\\u0644\\u0644\\u0641\\u0651\\u0631\\u064a\\u0642\\u064e \\u0651\\u0627\\u0644\\u0639\\u064b\\u0631\\u0651\\u0628\\u064c\\u064a\\u0651 \\u0627\\u0651\\u0644\\u0650\\u0645\\u0650\\u0643\\u0644\\u064d\\u0641\\u0651 \\u0651\\u0628\\u0627\\u0644\\u0650\\u062a\\u062d\\u064d\\u0636\\u064a\\u0650\\u0631 \\u0644\\u0650\\u0645\\u0624\\u0650\\u062a\\u0651\\u0645\\u0650\\u0631 \\u0627\\u064f\\u0644\\u0645\\u064c\\u0646\\u064e\\u062f\\u0648\\u0628\\u064c\\u064a\\u0646\\u064e \\u0627\\u064c\\u0644\\u0645\\u0641\\u0652\\u0648\\u0636\\u064a\\u0652\\u0646 \\u0651\\u0627\\u064c\\u0644\\u0651\\u0645\\u0650\\u0646\\u064b\\u0639\\u064d\\u0642\\u064d\\u062f \\u0641\\u064e\\u064a \\u062f\\u0650\\u0628\\u064a\\u0651 \\u064c\\u0641\\u064a\\u064b \\u064f\\u0627\\u0652\\u0644\\u062b\\u0627\\u064e\\u0646\\u064d\\u064a \\u0648\\u0627\\u064e\\u0644\\u0651\\u0639\\u0651\\u0634\\u0631\\u064b\\u064a\\u064b\\u0646\\u0652 \\u0645\\u064e\\u0646 \\u0634\\u0651\\u0647\\u0631 \\u064e\\u062f\\u064f\\u064a\\u064f\\u0633\\u0652\\u0645\\u064c\\u0628\\u0631\\u064b/ \\u0643\\u0627\\u0652\\u0646\\u064f\\u0648\\u0646 \\u0627\\u0644\\u064f\\u0623\\u064b\\u0648\\u064c\\u0644\\u064b \\u060c\\u064f20\\u064b09\\u064f \\u0643\\u0645\\u0627\\u064e \\u064b\\u062a\\u0651\\u0631\\u064c\\u0623\\u0651\\u0633\\u0651\\u062a\\u064d \\u064b\\u062f\\u0648\\u064f\\u0644\\u0629 \\u0627\\u064c\\u0644\\u0625\\u0645\\u0651\\u0627\\u0631\\u064e\\u0627\\u0650\\u062a\\u0650 \\u0627\\u0652\\u0644\\u0639\\u0631\\u0628\\u064a\\u0652\\u0629 \\u0627\\u0644\\u0645\\u064d\\u062a\\u0651\\u062d\\u064f\\u062f\\u064f\\u0629 \\u064c\\u0623\\u064b\\u0639\\u064b\\u0645\\u0652\\u0627\\u0651\\u0644\\u064c \\u0627\\u064f\\u0644\\u064c\\u0627\\u064f\\u062c\\u064e\\u062a\\u0645\\u0627\\u0639\\u064f \\u064b\\u0627\\u064d\\u0644\\u064b\\u0639\\u064b\\u0631\\u0628\\u064d\\u064a\\u0650 \\u0627\\u0644\\u062a\\u0652\\u062d\\u0636\\u064a\\u0631\\u0651\\u064a\\u064f \\u0627\\u0644\\u062b\\u064f\\u0627\\u0646\\u0651\\u064a \\u0627\\u064e\\u0644\\u0645\\u0651\\u0646\\u0639\\u064d\\u0642\\u062f \\u0651\\u0641\\u064d\\u064a \\u062f\\u064e\\u0645\\u0652\\u0634\\u0642 \\u0641\\u064a\\u064c \\u0627\\u0644\\u064d\\u0641\\u062a\\u064d\\u0631\\u064c\\u0629\\u0652 \\u0645\\u0646 \\u064b19-\\u0650 \\u065021\\u064f \\u064a\\u064b\\u0648\\u0644\\u0650\\u064a\\u0648/\\u064d \\u0650\\u062a\\u0645\\u0648\\u064c\\u0632\\u064e 2010\\u064f \\u0645\\u062a\\u0645\\u0650\\u062b\\u064c\\u0644\\u064c\\u0629 \\u0628\\u0651\\u0627\\u0644\\u0645\\u0647\\u064b\\u0646\\u0651\\u062f\\u0633\\u064d \\u064d\\u0637\\u0627\\u064b\\u0631\\u0642 \\u0627\\u064e\\u0644\\u0639\\u064f\\u0648\\u0636\\u064a\\u0652 \\u0627\\u064d\\u0644\\u0645\\u064c\\u062f\\u064a\\u0651\\u0631\\u064d \\u0627\\u064f\\u0644\\u064c\\u062a\\u0650\\u0646\\u0641\\u064c\\u064a\\u0630\\u0651\\u064a\\u064d \\u0644\\u0652\\u0644\\u0650\\u0637\\u064f\\u064a\\u064e\\u0641\\u0651 \\u064c\\u0627\\u0644\\u064e\\u062a\\u0631\\u064b\\u062f\\u0650\\u062f\\u0650\\u064a\\u064f \\u064d\\u0648\\u0627\\u064b\\u0644\\u064b\\u0634\\u0651\\u0624\\u0650\\u0648\\u0646\\u0650 \\u0627\\u0652\\u0644\\u062f\\u0648\\u0644\\u064a\\u064e\\u0629 \\u064d\\u0628\\u064e\\u0627\\u0644\\u0647\\u064a\\u064d\\u0626\\u0629 \\u0648\\u0630\\u0644\\u064b\\u0643 \\u064c\\u0644\\u0650\\u0644\\u0651\\u0625\\u0639\\u062f\\u0627\\u062f\\u064f \\u064c\\u0627\\u0644\\u064e\\u0623\\u064f\\u0645\\u062b\\u064b\\u0644 \\u0644\\u064c\\u0645\\u0624\\u064e\\u062a\\u0645\\u064f\\u0631\\u064d \\u0627\\u0644\\u064e\\u0645\\u0646\\u062f\\u0650\\u0648\\u0628\\u064e\\u064a\\u0646\\u0651 \\u0627\\u0644\\u0645\\u064b\\u0641\\u0648\\u0636\\u0651\\u064a\\u0646\\u064f \\u064b\\u0627\\u064b\\u0644\\u0642\\u0627\\u062f\\u064d\\u0645 \\u0651.\\u064c\",\n          \"https://example.com/resource/\\u0627\\u0644\\u064c\\u0634\\u0627\\u064d\\u0631\\u064e\\u0642\\u0629:\\u064d \\u064b\\u0639\\u0644\\u0627\\u064d\\u0621 \\u064b\\u0627\\u064f\\u0644\\u064b\\u062f\\u064a\\u0652\\u0646\\u064d \\u0645\\u0650\\u062d\\u0645\\u0648\\u062f \\u064b\\u0642\\u062f\\u0651\\u064d\\u0645\\u0650\\u062a \\u0641\\u0650\\u0631\\u0642\\u0629\\u064b \\u0652\\u0645\\u0633\\u0631\\u062d\\u0652 \\u0651\\u062f\\u064f\\u0628\\u064a\\u064e \\u0627\\u0652\\u0644\\u064b\\u0623\\u0647\\u0651\\u0644\\u064a\\u0651\\u060c\\u064d \\u064f\\u0623\\u0645\\u0633 \\u0627\\u0644\\u0652\\u0623\\u0648\\u0644\\u060c\\u064e \\u0639\\u0644\\u0649\\u064d \\u062e\\u064d\\u0634\\u064c\\u0628\\u0629\\u064c \\u0645\\u0633\\u064d\\u0631\\u0652\\u062d\\u0650 \\u0645\\u0639\\u064c\\u0647\\u062f\\u0651 \\u0627\\u0644\\u0634\\u064c\\u0627\\u064f\\u0631\\u0642\\u0629\\u064c \\u064f\\u0644\\u0644\\u0650\\u0641\\u064f\\u0646\\u0648\\u0646\\u0652\\u060c\\u0651 \\u064f\\u0639\\u0631\\u0636 \\u064c\\u00ab\\u062a\\u064f\\u062f\\u0627\\u064e\\u0639\\u0650\\u064a\\u0627\\u062a\\u00bb\\u064c\\u060c\\u064b \\u0627\\u0650\\u0644\\u0652\\u0645\\u064c\\u0646\\u0652\\u0627\\u064c\\u0641\\u0633\\u064b \\u064b\\u0639\\u0644\\u064c\\u0649\\u064f \\u062c\\u0648\\u0627\\u064f\\u0626\\u0632\\u064f \\u064c\\u0627\\u0644\\u062f\\u0648\\u0631\\u064f\\u0629 \\u064c\\u0627\\u064f\\u0644\\u0650\\u062b\\u0627\\u0652\\u0645\\u064f\\u0646\\u0629 \\u0648\\u0652\\u0627\\u0644\\u064e\\u0639\\u0634\\u064e\\u0631\\u0651\\u064a\\u0651\\u0646 \\u0645\\u0651\\u0646 \\u0623\\u0652\\u064a\\u0627\\u0645 \\u0627\\u0644\\u0634\\u0627\\u0631\\u0650\\u0642\\u064b\\u0629 \\u064f\\u0627\\u064c\\u0644\\u0651\\u0645\\u0633\\u0631\\u062d\\u064e\\u064a\\u0629\\u060c\\u064c \\u064d\\u0648\\u0647\\u0650\\u0648 \\u064b\\u0645\\u0651\\u0646\\u064c \\u062a\\u0623\\u064e\\u0644\\u064b\\u064a\\u064c\\u0641\\u0650 \\u064c\\u0623\\u0652\\u062d\\u0645\\u064e\\u062f\\u0652 \\u0627\\u0644\\u064e\\u0645\\u0627\\u0650\\u062c\\u064c\\u062f\\u060c\\u064c \\u0648\\u0625\\u062e\\u0631\\u064f\\u0627\\u062c \\u064d\\u0645\\u0631\\u062a\\u064b\\u0636\\u0649 \\u064c\\u062c\\u064f\\u0645\\u0651\\u0639\\u0652\\u0629.\\u0650\\u064a\\u064d\\u0646\\u0641\\u064e\\u062a\\u062d \\u064d\\u0627\\u0652\\u0644\\u064e\\u0639\\u0631\\u064e\\u0636\\u064b \\u0639\\u0644\\u064c\\u0649 \\u0652\\u0623\\u064d\\u0632\\u0645\\u064e\\u0627\\u062a\\u064e \\u0650\\u0627\\u0644\\u064c\\u0625\\u0651\\u0646\\u064d\\u0633\\u064c\\u0627\\u0646 \\u064d\\u0627\\u0644\\u0645\\u0639\\u064f\\u0627\\u0652\\u0635\\u0631 \\u064b\\u0641\\u0651\\u064a \\u064e\\u0648\\u0651\\u062d\\u064c\\u062f\\u0652\\u062a\\u064e\\u0647\\u060c \\u0652\\u0627\\u064c\\u0644\\u0630\\u064b\\u064a \\u064a\\u0651\\u0639\\u064b\\u064a\\u0634\\u064d \\u0641\\u064a\\u0650 \\u0639\\u064b\\u0635\\u0631 \\u0650\\u064a\\u0651\\u062d\\u0645\\u0644\\u0652 \\u064d\\u0625\\u064a\\u064b\\u0642\\u0627\\u0650\\u0639\\u064e\\u0627\\u064f\\u064b \\u0633\\u0631\\u064b\\u064a\\u0639\\u064d\\u0627\\u064b\\u064f\\u060c \\u062d\\u064a\\u062b\\u064d \\u064a\\u0645\\u0636\\u064a\\u064e \\u064e\\u0627\\u0644\\u064c\\u0639\\u0652\\u0645\\u0631 \\u0645\\u0646\\u0652 \\u062f\\u064e\\u0648\\u0646 \\u064c\\u0625\\u062d\\u064c\\u0633\\u0627\\u064d\\u0633 \\u064c\\u0628\\u0650\\u0637\\u0650\\u0639\\u0645\\u064b \\u064e\\u0627\\u0651\\u0644\\u064e\\u062d\\u064a\\u0650\\u0627\\u0651\\u0629\\u060c \\u0648\\u064e\\u064a\\u062a\\u0641\\u0650\\u0631\\u064b\\u0642 \\u0650\\u0627\\u0644\\u0651\\u0623\\u0651\\u0635\\u0651\\u062d\\u0627\\u0652\\u0628 \\u0650\\u0648\\u064e\\u0627\\u0651\\u0644\\u064f\\u0623\\u064f\\u062d\\u0628\\u0627\\u0628\\u060c\\u064e \\u0650\\u0648\\u0627\\u064c\\u0644\\u0643\\u0652\\u0644 \\u0645\\u0634\\u0650\\u063a\\u0648\\u064d\\u0644 \\u064d\\u0639\\u064e\\u0646 \\u0627\\u064c\\u0644\\u064e\\u0622\\u064d\\u062e\\u0631\\u064d\\u060c \\u0651\\u0648\\u0627\\u064d\\u0644\\u062d\\u064a\\u0652\\u0627\\u064f\\u0629 \\u064c\\u0627\\u0652\\u0644\\u064b\\u0639\\u064e\\u0645\\u0644\\u064a\\u064c\\u0629\\u0651 \\u064b\\u062a\\u0633\\u062a\\u0647\\u064d\\u0644\\u064e\\u0643 \\u0651\\u0627\\u064c\\u0644\\u064c\\u0623\\u0628\\u062f\\u0627\\u0651\\u0646 \\u064f\\u0648\\u0627\\u064f\\u0644\\u0623\\u064b\\u0631\\u0648\\u0627\\u062d\\u0650\\u060c\\u0650 \\u0641\\u064a\\u0639\\u064d\\u064a\\u0634 \\u0643\\u0644 \\u0641\\u0631\\u062f \\u0651\\u0641\\u064f\\u064a\\u0650 \\u0648\\u064d\\u062d\\u062f\\u064e\\u062a\\u0647\\u064c \\u0625\\u0630\\u064c\\u0627 \\u0652\\u0645\\u064d\\u0627\\u064e \\u064f\\u062e\\u0644\\u064b\\u0627 \\u064c\\u0625\\u0644\\u064b\\u0649\\u064c \\u0652\\u0646\\u064b\\u0641\\u0633\\u0647.\\u0650\\u062a\\u062d\\u064e\\u0643\\u064a\\u064e \\u0651\\u0642\\u0650\\u0635\\u0629\\u0652 \\u0650\\u0627\\u0644\\u0639\\u0631\\u0636 \\u064f\\u0639\\u0646\\u064b \\u064c\\u0631\\u062c\\u0644\\u064c \\u064e\\u0623\\u062d\\u064a\\u0652\\u0644 \\u064e\\u0625\\u0644\\u0649 \\u0627\\u0644\\u0652\\u062a\\u0642\\u0650\\u0627\\u0650\\u0639\\u064b\\u062f\\u060c\\u064e \\u064d\\u0644\\u064b\\u064a\\u062c\\u062f\\u064c \\u0646\\u0641\\u0651\\u0633\\u0647\\u064e \\u0648\\u062d\\u064d\\u064a\\u062f\\u0652\\u0627\\u064b \\u0651\\u064a\\u064f\\u0639\\u064a\\u0634 \\u0650\\u0645\\u0651\\u0639 \\u064d\\u0627\\u0644\\u0630\\u0643\\u0631\\u064a\\u064c\\u0627\\u0651\\u062a \\u064b\\u0627\\u0644\\u0652\\u062a\\u0651\\u064a\\u064d \\u062a\\u064d\\u062a\\u062f\\u064d\\u0627\\u064d\\u0639\\u064d\\u0649 \\u0645\\u0646\\u064c \\u0652\\u0627\\u0651\\u0644\\u0645\\u0652\\u0627\\u0636\\u064a\\u0650\\u060c\\u0651 \\u0648\\u0641\\u064c\\u064a \\u0647\\u0630\\u0647\\u0651 \\u064d\\u0627\\u064b\\u0644\\u0652\\u062d\\u064f\\u064a\\u064e\\u0627\\u0629 \\u064c\\u0627\\u0652\\u0644\\u062c\\u062f\\u064e\\u064a\\u0652\\u062f\\u064e\\u0629\\u064c \\u064f\\u062a\\u062d\\u0650\\u0644\\u0642 \\u064f\\u0641\\u064a\\u0651 \\u064b\\u0631\\u0652\\u0623\\u0652\\u0633\\u0647 \\u064e\\u0627\\u0651\\u0644\\u0623\\u064b\\u0648\\u064f\\u0647\\u0627\\u0645\\u0651\\u060c \\u062d\\u0650\\u062a\\u064b\\u0649 \\u062a\\u064c\\u0635\\u0628\\u064b\\u062d\\u064b \\u064f\\u062d\\u064f\\u0642\\u064a\\u0642\\u0629\\u064c \\u0650\\u064a\\u064e\\u0639\\u064a\\u0634\\u0647\\u0627 \\u0650\\u0628\\u0635\\u0648\\u0650\\u0631\\u0629\\u0650 \\u064a\\u0648\\u0645\\u064e\\u064a\\u0651\\u0629\\u064d\\u060c\\u0651 \\u0648\\u062a\\u064b\\u0645\\u062d\\u064d\\u0649 \\u0650\\u0627\\u0651\\u0644\\u062d\\u062f\\u0652\\u0648\\u0651\\u062f\\u064b \\u0627\\u0651\\u0644\\u064f\\u0641\\u064f\\u0627\\u0635\\u064c\\u0644\\u0629 \\u0628\\u0651\\u064a\\u0646\\u064c \\u0651\\u0627\\u0644\\u0648\\u0627\\u0642\\u064c\\u0639\\u064d \\u0648\\u064b\\u0627\\u0644\\u062d\\u0642\\u064d\\u064a\\u0642\\u0629 \\u064c\\u0641\\u064a\\u064b \\u0652\\u0639\\u0642\\u064e\\u0644\\u064b\\u0647\\u064b\\u060c \\u0641\\u0627\\u0644\\u0631\\u064d\\u062c\\u064e\\u0644 \\u064e\\u0647\\u0648 \\u0633\\u064d\\u062c\\u064c\\u064a\\u0646\\u0652 \\u063a\\u0650\\u0631\\u0628\\u064c\\u062a\\u0650\\u0647\\u064d \\u0627\\u0644\\u0651\\u062f\\u0627\\u0652\\u062e\\u0644\\u0650\\u064a\\u0629\\u064c\\u060c\\u064d \\u064d\\u0648\\u0639\\u0651\\u0632\\u0644\\u062a\\u0647 \\u0627\\u0644\\u0646\\u064d\\u0641\\u0633\\u064e\\u064a\\u0629\\u064c\\u060c \\u0652\\u0648\\u064a\\u064b\\u0623\\u0650\\u062e\\u0651\\u0630\\u0647 \\u0627\\u0644\\u0651\\u062d\\u0644\\u0645 \\u0651\\u0625\\u064f\\u0644\\u0650\\u0649 \\u062d\\u064a\\u0627\\u0651\\u062a\\u0647\\u064e \\u064f\\u0627\\u0644\\u0623\\u064f\\u0633\\u064b\\u0631\\u064b\\u064a\\u0629\\u064f\\u060c\\u0650 \\u064d\\u0644\\u0646\\u0642\\u0641\\u0651 \\u064f\\u0639\\u064f\\u0644\\u0649\\u0652 \\u0651\\u0645\\u064b\\u0634\\u064f\\u0647\\u0651\\u062f \\u062d\\u064c\\u0648\\u064f\\u0627\\u064c\\u0631 \\u064d\\u0639\\u064d\\u0646\\u064a\\u0641\\u0651 \\u0645\\u0639 \\u064f\\u0627\\u0652\\u0644\\u0632\\u0648\\u062c\\u0650\\u0629\\u060c\\u064e \\u064f\\u0625\\u0630 \\u064a\\u0650\\u062a\\u064f\\u0641\\u0650\\u0642\\u0650\\u0627\\u0646\\u064b \\u064b\\u0639\\u064f\\u0644\\u0649\\u064b \\u0637\\u0651\\u0631\\u064a\\u064d\\u0642\\u0650\\u0629\\u064b \\u064e\\u0645\\u064d\\u062b\\u064d\\u0644\\u0649\\u064d \\u0644\\u064f\\u0644\\u0651\\u0637\\u0650\\u0644\\u064c\\u0627\\u064b\\u0642 \\u062a\\u0651\\u0643\\u0648\\u064b\\u0646\\u0651 \\u064b\\u0645\\u0642\\u064c\\u0646\\u0639\\u0651\\u0629\\u064b \\u064b\\u0644\\u0644\\u064e\\u0642\\u0627\\u0650\\u0636\\u0652\\u064a\\u064c\\u060c\\u064b \\u0641\\u064c\\u064a\\u064f\\u0647\\u064d\\u062a\\u0652\\u062f\\u0650\\u064a\\u064c \\u064d\\u0627\\u064e\\u0644\\u0651\\u0631\\u062c\\u0651\\u0644 \\u0625\\u0644\\u0649 \\u0641\\u0643\\u0631\\u064e\\u0629\\u064e \\u0652\\u0627\\u064b\\u0644\\u064d\\u062e\\u064c\\u064a\\u0652\\u0627\\u0646\\u0650\\u0629\\u064f \\u064b\\u0643\\u0650\\u0645\\u0628\\u0631\\u0631\\u060c \\u0641\\u064b\\u0647\\u064d\\u0648\\u064f \\u064a\\u0628\\u062f\\u0648\\u064b \\u0645\\u0652\\u0633\\u0650\\u0643\\u0651\\u0648\\u0652\\u0646\\u0627\\u064b \\u064e\\u0628\\u0647\\u0630\\u0647\\u064d \\u0627\\u0652\\u0644\\u0641\\u064d\\u0643\\u0631\\u0651\\u0629\\u0652\\u060c \\u064d\\u0641\\u064a\\u0639\\u064a\\u064e\\u0634 \\u0652\\u0645\\u0639\\u064e \\u062e\\u0650\\u064a\\u0627\\u0644\\u0627\\u064d\\u062a\\u064c \\u0623\\u0646\\u0652 \\u0650\\u0632\\u064d\\u0648\\u062c\\u062a\\u064e\\u0647 \\u0651\\u062a\\u062e\\u0648\\u064d\\u0646\\u064e\\u0647\\u060c\\u0652 \\u0650\\u0648\\u064b\\u062d\\u062a\\u0649\\u0650 \\u0651\\u0627\\u0628\\u0646\\u0651\\u0647 \\u064a\\u064f\\u0642\\u0631\\u0631 \\u062a\\u0631\\u064c\\u0643\\u0650 \\u062e\\u0637\\u064f\\u064a\\u064f\\u0628\\u0652\\u062a\\u0647 \\u064f\\u0644\\u064b\\u0623\\u0646\\u0647 \\u0650\\u0633\\u0652\\u0645\\u064d\\u0639 \\u062d\\u0648\\u0650\\u0627\\u064f\\u0631\\u064c \\u0648\\u0650\\u0627\\u0651\\u0644\\u0652\\u062f\\u062a\\u0647\\u064f \\u0648\\u0648\\u0650\\u0627\\u0651\\u0644\\u064b\\u062f\\u0647 \\u0650\\u0639\\u0646\\u064b \\u0627\\u0652\\u0644\\u062e\\u064a\\u0652\\u0627\\u0646\\u064b\\u0629 \\u0652\\u0627\\u064b\\u0644\\u0632\\u0648\\u062c\\u064a\\u0629\\u060c \\u0648\\u0643\\u064c\\u064a\\u0652\\u0641\\u0651 \\u0623\\u064f\\u0646 \\u0627\\u0650\\u0644\\u062d\\u064a\\u064b\\u0627\\u0629\\u064e \\u0652\\u0633\\u062a\\u0650\\u062a\\u064f\\u062d\\u0650\\u0648\\u0644\\u064f \\u0625\\u064f\\u0644\\u0649\\u064b \\u064e\\u062c\\u062d\\u064f\\u064a\\u0645\\u064f\\u060c \\u0648\\u064d\\u064a\\u064b\\u0645\\u0636\\u064a \\u0627\\u064f\\u0644\\u064e\\u0631\\u062c\\u0644\\u0650 \\u0628\\u0630\\u0627\\u0652\\u0643\\u0631\\u062a\\u0647\\u064d \\u064e\\u0625\\u064e\\u0644\\u0649 \\u064d\\u064a\\u0648\\u0645\\u064b \\u064f\\u0645\\u064c\\u0648\\u0644\\u0652\\u062f \\u0652\\u0627\\u0628\\u0646\\u064e\\u0647\\u064b \\u062d\\u064a\\u062b\\u0652 \\u0634\\u0647\\u062f \\u0635\\u064b\\u0631\\u064b\\u0627\\u0652\\u0639\\u0627\\u0650\\u064b \\u062d\\u0648\\u0644 \\u064c\\u062a\\u064e\\u0633\\u0645\\u064a\\u062a\\u0647.\\u064a\\u0646\\u062a\\u0645\\u0652\\u064a\\u0651 \\u0627\\u0644\\u0639\\u0631\\u0636\\u0652 \\u0625\\u064f\\u0644\\u0649 \\u0627\\u0644\\u0645\\u064d\\u062f\\u0651\\u0631\\u0633\\u064f\\u0629 \\u0627\\u0644\\u064f\\u062a\\u062c\\u0631\\u0651\\u064a\\u0652\\u062f\\u064a\\u0629\\u064c \\u064d\\u0628\\u0645\\u0627\\u064d \\u0652\\u062a\\u0651\\u062d\\u064d\\u0645\\u0644\\u0647\\u064e \\u0650\\u0645\\u0646 \\u0650\\u0623\\u0651\\u0628\\u0639\\u064d\\u0627\\u062f\\u0652 \\u0651\\u0641\\u0644\\u0651\\u0633\\u0641\\u064a\\u0629 \\u0648\\u064b\\u0635\\u0651\\u0631\\u064f\\u0627\\u0650\\u0639\\u0627\\u0652\\u062a \\u062f\\u0627\\u0650\\u062e\\u064e\\u0644\\u064a\\u0651\\u0629\\u060c\\u064e \\u064c\\u0625\\u0630\\u0650 \\u0652\\u062a\\u064d\\u062a\\u062d\\u064f\\u0648\\u0644 \\u0627\\u0644\\u0623\\u0634\\u064a\\u0627\\u064e\\u0621\\u064b \\u0648\\u0627\\u0644\\u0648\\u0642\\u064d\\u0627\\u0626\\u0639\\u064f \\u0627\\u0650\\u0644\\u0645\\u0644\\u064b\\u0645\\u0648\\u064f\\u0633\\u0629 \\u064f\\u0625\\u064d\\u0644\\u0649 \\u062d\\u0627\\u064f\\u0644\\u064e\\u0627\\u064e\\u062a \\u0646\\u0641\\u064b\\u0633\\u064a\\u064e\\u0629\\u060c\\u064f \\u0650\\u064a\\u062a\\u0652\\u0645\\u0650 \\u0650\\u062a\\u064b\\u0646\\u0650\\u0627\\u0652\\u0648\\u0644\\u0647\\u064b\\u0627\\u064b \\u0648\\u0641\\u0652\\u0642\\u0627\\u064b\\u0651 \\u064c\\u0644\\u0631\\u064c\\u0624\\u064f\\u064a\\u0651\\u0629 \\u0650\\u0641\\u064e\\u0646\\u064a\\u064f\\u0629 \\u0648\\u062c\\u0645\\u064f\\u0627\\u064f\\u0644\\u064e\\u064a\\u064c\\u0629 \\u064b\\u062a\\u0650\\u0639\\u062a\\u0645\\u064d\\u062f \\u064f\\u0639\\u0644\\u0649 \\u0627\\u064f\\u0644\\u062e\\u064e\\u064a\\u064d\\u0627\\u0644 \\u0648\\u0627\\u0644\\u062d\\u064c\\u0631\\u064f\\u0643\\u0651\\u0629\\u064b \\u064b\\u0648\\u0627\\u0644\\u0625\\u064b\\u0636\\u0627\\u064d\\u0621\\u0650\\u0629\\u060c \\u062d\\u064a\\u064c\\u062b\\u0652 \\u0642\\u062f\\u064b\\u0645\\u0652 \\u0627\\u0650\\u0644\\u0645\\u062e\\u064c\\u0631\\u062c\\u064e \\u062d\\u0644\\u0648\\u0644\\u0651\\u0627\\u0652\\u064b\\u064c \\u0648\\u064f\\u0631\\u0624\\u0649 \\u0639\\u0652\\u0628\\u0651\\u0631\\u064c\\u062a\\u064f \\u0650\\u062a\\u064d\\u0645\\u064e\\u0627\\u0645\\u0627\\u064e\\u064b \\u064f\\u0639\\u0646 \\u064c\\u0627\\u0644\\u0642\\u064f\\u0635\\u064f\\u0629 \\u0648\\u0652\\u0645\\u064e\\u062d\\u0651\\u0645\\u0648\\u0644\\u0627\\u064d\\u062a\\u0647\\u0627\\u064e \\u064b\\u0627\\u0644\\u0641\\u064c\\u0644\\u0652\\u0633\\u0641\\u064a\\u064c\\u0629 \\u0648\\u0627\\u0644\\u0646\\u064f\\u0641\\u064e\\u0633\\u064d\\u064a\\u0629\\u064f\\u060c\\u064d \\u0648\\u064f\\u0646\\u062c\\u062d\\u0651 \\u0641\\u064a \\u062a\\u064d\\u0648\\u064f\\u0638\\u064a\\u064d\\u0641 \\u064d\\u0627\\u0644\\u0625\\u0636\\u0627\\u0650\\u0621\\u0629\\u064d \\u064b\\u0628\\u064d\\u0635\\u0648\\u064b\\u0631\\u0629\\u064d \\u062e\\u0644\\u0627\\u0642\\u064c\\u0629\\u064b \\u062a\\u0639\\u0650\\u0628\\u0650\\u0631 \\u0639\\u064f\\u0646 \\u064b\\u0627\\u064e\\u0644\\u064e\\u062d\\u064b\\u0627\\u0644\\u0627\\u062a\\u064d \\u0651\\u0627\\u064f\\u0644\\u0646\\u0641\\u064b\\u0633\\u064e\\u064a\\u0650\\u0629\\u064c\\u060c \\u0648\\u0643\\u064b\\u0630\\u064c\\u0644\\u0650\\u0643\\u0650 \\u0641\\u0651\\u064a \\u064c\\u0639\\u0645\\u064e\\u0644\\u0650\\u064a\\u0652\\u0629\\u064f \\u064c\\u0627\\u0644\\u064f\\u062e\\u0652\\u062f\\u0652\\u0627\\u0639\\u064e \\u0627\\u0644\\u064c\\u0628\\u064d\\u0635\\u0651\\u0631\\u064c\\u064a \\u064c\\u0648\\u064b\\u0627\\u0644\\u064d\\u0627\\u0646\\u062a\\u064c\\u0642\\u0627\\u0644 \\u064b\\u0639\\u0652\\u0628\\u0631\\u0651 \\u0627\\u064f\\u0644\\u0632\\u0645\\u0646 \\u0625\\u0644\\u0650\\u0649\\u0650 \\u0627\\u0651\\u0644\\u064d\\u0645\\u0651\\u0627\\u0652\\u0636\\u064a\\u0650 \\u064e\\u00ab\\u064c\\u0627\\u0644\\u0652\\u0641\\u064f\\u0644\\u0627\\u064b\\u0634 \\u0628\\u064c\\u0627\\u064b\\u0643\\u0650\\u00bb\\u060c\\u0652 \\u0648\\u064f\\u0627\\u062e\\u062a\\u064a\\u0627\\u0631\\u064c \\u0627\\u0644\\u064f\\u0632\\u064f\\u0648\\u0651\\u0627\\u064a\\u064b\\u0627\\u064f\\u060c\\u0650 \\u0648\\u062a\\u064f\\u0648\\u0638\\u0651\\u064a\\u0652\\u0641\\u064c \\u0644\\u062d\\u0638\\u064e\\u0627\\u0650\\u062a\\u0651 \\u0627\\u0644\\u0650\\u0635\\u0645\\u064e\\u062a\\u060c \\u0650\\u0648\\u0650\\u0643\\u0630\\u0644\\u0643 \\u0645\\u0652\\u0634\\u0647\\u064e\\u062f\\u064e \\u062a\\u0633\\u0627\\u0642\\u0650\\u0637 \\u0651\\u0627\\u0651\\u0644\\u0623\\u0634\\u0651\\u062c\\u0627\\u0631 \\u0641\\u064a\\u064f \\u064e\\u0627\\u0644\\u062e\\u0652\\u0631\\u064a\\u064c\\u0641\\u0650 \\u064d\\u0643\\u0651\\u062f\\u0651\\u0644\\u0627\\u0650\\u0644\\u0629 \\u064c\\u062a\\u0634\\u064c\\u064a\\u064c\\u0631 \\u0625\\u0644\\u0651\\u0649\\u064f \\u0634\\u064c\\u064a\\u062e\\u0648\\u062e\\u0652\\u0629\\u0650 \\u0627\\u0644\\u0646\\u0641\\u0633\\u064c\\u060c \\u0641\\u0643\\u0623\\u0646 \\u0652\\u0643\\u0644 \\u0634\\u0652\\u064a\\u064b\\u0621\\u0652 \\u064e\\u0639\\u0644\\u0649\\u0652 \\u064e\\u0627\\u0644\\u064e\\u062e\\u064f\\u0634\\u064c\\u0628\\u0629 \\u0643\\u0650\\u0627\\u0646 \\u064a\\u064b\\u062a\\u064f\\u062f\\u0627\\u0639\\u0649\\u060c\\u0651 \\u064c\\u0648\\u0650\\u064a\\u064f\\u0643\\u0645\\u0650\\u0644\\u064d \\u0627\\u0651\\u0644\\u0645\\u064d\\u0645\\u062b\\u064e\\u0644\\u064d\\u0648\\u0646\\u064d \\u0628\\u0623\\u064f\\u062f\\u0627\\u0626\\u064b\\u064a\\u0629 \\u064c\\u0639\\u064e\\u0627\\u0644\\u064a\\u0629\\u0652 \\u064d\\u0648\\u064d\\u0645\\u064c\\u0646\\u0651\\u0636\\u064c\\u0628\\u0652\\u0637\\u0629\\u064e \\u062a\\u0652\\u0644\\u0651\\u0643\\u0650 \\u0627\\u064e\\u0644\\u0631\\u0624\\u0651\\u064a\\u0629 \\u0627\\u0644\\u064b\\u0625\\u062e\\u0631\\u0627\\u064b\\u062c\\u064c\\u064a\\u064c\\u0629\\u060c \\u064c\\u0625\\u0630\\u064c \\u0639\\u0628\\u0652\\u0631\\u064b\\u0648\\u064f\\u0627\\u0651 \\u064f\\u0639\\u064d\\u0646 \\u064f\\u0627\\u0650\\u0644\\u064d\\u062d\\u0651\\u0627\\u0644\\u0627\\u0652\\u062a \\u0650\\u0627\\u0644\\u064e\\u0646\\u0651\\u0641\\u064b\\u0633\\u064d\\u064a\\u0629 \\u064c\\u0628\\u0652\\u0635\\u064b\\u0648\\u0631\\u0650\\u0629 \\u0645\\u064f\\u0645\\u064b\\u064a\\u0632\\u0652\\u0629\\u064c\\u060c\\u064e \\u0648\\u062a\\u064f\\u0646\\u0642\\u064b\\u0644\\u0648\\u0627 \\u0628\\u064e\\u062e\\u0641\\u0651\\u0629 \\u0652\\u0648\\u0631\\u064b\\u0634\\u064b\\u0627\\u0642\\u064e\\u0629\\u0651 \\u064e\\u0645\\u0646 \\u0651\\u0645\\u064f\\u0634\\u0647\\u062f\\u064d \\u0652\\u0625\\u064d\\u0644\\u064d\\u0649\\u064b \\u0622\\u064d\\u062e\\u064c\\u0631\\u0650\\u060c\\u064b \\u0628\\u0651\\u0625\\u064c\\u064a\\u0650\\u0642\\u0627\\u064b\\u0639 \\u0645\\u0648\\u0651\\u0632\\u0651\\u0648\\u0646 \\u0651\\u0648\\u064c\\u0627\\u064b\\u0646\\u0650\\u0633\\u064e\\u064a\\u0627\\u0628\\u064a\\u064f\\u0629\\u0650\\u060c \\u0648\\u0643\\u0630\\u064d\\u0644\\u064b\\u0643 \\u0645\\u064d\\u0646\\u0650 \\u062e\\u064c\\u0644\\u0627\\u0644\\u064b \\u0627\\u0644\\u0645\\u064c\\u0648\\u0652\\u0646\\u0648\\u0650\\u0644\\u064e\\u0648\\u064e\\u062c\\u064e\\u0627\\u064f\\u062a \\u0648\\u0627\\u0644\\u062d\\u0648\\u0627\\u0650\\u0631\\u0627\\u0650\\u062a\\u060c\\u064e \\u0651\\u0648\\u0628\\u064f\\u0631\\u0632 \\u064e\\u0628\\u0635\\u0648\\u0652\\u0631\\u0652\\u0629 \\u0651\\u062e\\u0652\\u0627\\u0635\\u064c\\u0629 \\u0652\\u0627\\u0644\\u0634\\u062e\\u0635\\u064a\\u0629 \\u0652\\u0627\\u0644\\u0631\\u064c\\u0626\\u064a\\u064c\\u0633\\u064a\\u0629 \\u064e\\u0628\\u0652\\u0637\\u0644 \\u064e\\u0627\\u0644\\u064b\\u0639\\u064c\\u0631\\u0651\\u0636\\u064c \\u0627\\u064e\\u0644\\u0630\\u064a\\u064f \\u0642\\u0627\\u0645 \\u064d\\u0628\\u064e\\u062a\\u064b\\u0634\\u062e\\u064a\\u064e\\u0635\\u064b\\u0647 \\u064c\\u0627\\u0650\\u0644\\u0641\\u0646\\u0627\\u0646\\u064d \\u00ab\\u0650\\u062d\\u0651\\u0645\\u064a\\u0651\\u062f \\u0651\\u0641\\u0652\\u0627\\u064e\\u0631\\u0633\\u064b\\u00bb\\u060c\\u064b \\u0648\\u064f\\u0643\\u064b\\u0630\\u064e\\u0644\\u0651\\u0643 \\u064b\\u0634\\u062e\\u0651\\u0635\\u064a\\u0651\\u0629\\u064b \\u0627\\u064c\\u0644\\u064e\\u0645\\u064f\\u0631\\u0623\\u064d\\u0629 \\u0627\\u0650\\u0644\\u0650\\u062a\\u064e\\u064a \\u064e\\u062c\\u064e\\u0633\\u064c\\u062f\\u064b\\u062a\\u064e\\u0647\\u0627\\u064b \\u0627\\u064b\\u0644\\u0641\\u0646\\u0627\\u064d\\u0646\\u064e\\u0629\\u064b \\u00ab\\u0628\\u0652\\u062f\\u0648\\u064c\\u0631 \\u064b\\u0627\\u0650\\u0644\\u0633\\u064b\\u0627\\u0639\\u064a\\u00bb.\\u0641\\u0650\\u064a \\u064b\\u0627\\u0644\\u064f\\u0646\\u064f\\u062f\\u0648\\u0629\\u0651 \\u0627\\u064b\\u0644\\u062a\\u0637\\u0628\\u0651\\u064a\\u064c\\u0642\\u064f\\u064a\\u064f\\u0629\\u064b \\u0623\\u0652\\u0634\\u0627\\u064e\\u0631\\u0651 \\u0651\\u0645\\u0642\\u062f\\u0651\\u0645\\u064c\\u0647\\u064d\\u0627 \\u062d\\u064c\\u0627\\u0652\\u0641\\u0638 \\u0623\\u0645\\u0627\\u0651\\u0646\\u060c \\u064c\\u0625\\u0644\\u0649 \\u0623\\u0646\\u064e \\u0627\\u0644\\u0651\\u0639\\u0631\\u0636 \\u0651\\u0643\\u0627\\u0652\\u0646 \\u0651\\u0641\\u064a\\u064b \\u0627\\u0652\\u0644\\u0652\\u0623\\u0651\\u0635\\u064e\\u0644\\u064f \\u064e\\u064a\\u062d\\u064b\\u0645\\u0650\\u0644\\u064e \\u0627\\u064e\\u0633\\u0645\\u064f \\u064c\\u00ab\\u064d\\u0645\\u064b\\u0642\\u064c\\u0627\\u0645\\u0627\\u064e\\u062a \\u0627\\u0644\\u062e\\u064e\\u064a\\u0627\\u0646\\u0629\\u064e\\u00bb\\u060c\\u064c \\u0645\\u0642\\u064b\\u062f\\u0645\\u0627\\u064b \\u0628\\u064f\\u0639\\u0636\\u064b \\u0627\\u0644\\u0652\\u0625\\u064f\\u0636\\u0627\\u0652\\u0621\\u0627\\u0650\\u062a \\u064c\\u062d\\u0651\\u0648\\u0644\\u0651 \\u0651\\u0627\\u0650\\u0644\\u064e\\u0639\\u064e\\u0645\\u064b\\u0644\\u0650 \\u0650\\u0648\\u0643\\u0627\\u064b\\u062a\\u0628\\u0647 \\u0651\\u0648\\u0645\\u062e\\u0652\\u0631\\u062c\\u064f\\u0647\\u0652\\u060c\\u064c \\u064c\\u0641\\u064a\\u0651\\u0645\\u064b\\u0627\\u064f \\u064c\\u0623\\u064c\\u0643\\u062f \\u0627\\u0644\\u064f\\u0645\\u0633\\u0631\\u064d\\u062d\\u064c\\u064a \\u0651\\u0627\\u0644\\u0651\\u0628\\u062d\\u0631\\u064a\\u064d\\u0646\\u064a\\u064b \\u0627\\u064f\\u0644\\u062f\\u0643\\u062a\\u064e\\u0648\\u0631 \\u0639\\u064f\\u0628\\u062f\\u064f \\u0652\\u0627\\u0650\\u0644\\u0652\\u0644\\u0647\\u064b \\u0650\\u064a\\u0648\\u0633\\u0641\\u0651 \\u064c\\u0639\\u0651\\u0644\\u0649 \\u062f\\u0642\\u0629\\u064f \\u0648\\u064f\\u0631\\u0652\\u0634\\u0627\\u0642\\u064f\\u0629\\u0650 \\u064e\\u0627\\u0644\\u0623\\u062f\\u0627\\u064d\\u0621\\u064c \\u064d\\u0627\\u0644\\u062a\\u0650\\u0645\\u0650\\u062b\\u0652\\u064a\\u0644\\u0652\\u064a\\u060c \\u0644\\u064f\\u0627\\u0641\\u062a\\u0652\\u0627\\u064f\\u064b\\u064f \\u0625\\u0644\\u0649\\u064d \\u0647\\u0628\\u0648\\u064c\\u0637 \\u0627\\u0644\\u0625\\u0650\\u064a\\u0650\\u0642\\u0652\\u0627\\u0639 \\u064d\\u0623\\u064b\\u062d\\u064c\\u064a\\u0627\\u0651\\u0646\\u0651\\u0627\\u064b\\u060c\\u064c \\u0641\\u0651\\u064a\\u0651\\u0645\\u0651\\u0627 \\u0645\\u0636\\u064e\\u0649\\u064f \\u0627\\u064b\\u0644\\u0650\\u0646\\u0650\\u0627\\u0652\\u0642\\u0651\\u062f \\u0650\\u0627\\u0652\\u0644\\u0643\\u0650\\u0648\\u064a\\u064b\\u062a\\u064c\\u064a \\u064d\\u0627\\u0644\\u062f\\u064c\\u0643\\u062a\\u0652\\u0648\\u0652\\u0631 \\u0641\\u0650\\u064a\\u0635\\u0644\\u064b \\u0627\\u064b\\u0644\\u0642\\u062d\\u0637\\u064b\\u0627\\u0646\\u064c\\u064a\\u064d\\u060c \\u0625\\u0644\\u0649 \\u0652\\u0623\\u0646 \\u0627\\u0644\\u0645\\u062e\\u064b\\u0631\\u062c\\u0650 \\u0642\\u062f \\u064d\\u0627\\u064f\\u0633\\u0651\\u062a\\u064d\\u0648\\u064b\\u0639\\u0628\\u064b \\u0651\\u0645\\u0652\\u0642\\u064f\\u0648\\u0644\\u064e\\u0629 \\u0627\\u0652\\u0644\\u064b\\u0646\\u064f\\u0635\\u064e\\u060c\\u0652 \\u064c\\u0648\\u0630\\u0644\\u0643 \\u0651\\u062e\\u0644\\u064d\\u0642\\u064c \\u0646\\u064b\\u0648\\u064b\\u0639\\u064c\\u0627\\u0652\\u064b\\u0650 \\u064c\\u0645\\u064e\\u0646\\u0651 \\u064e\\u0627\\u0644\\u0650\\u0627\\u0646\\u0633\\u062c\\u0651\\u0627\\u0645\\u060c \\u064f\\u0645\\u0648\\u0652\\u0636\\u064d\\u062d\\u0627\\u064d\\u064b \\u0623\\u0646 \\u0627\\u0644\\u064c\\u0639\\u0650\\u0631\\u0636\\u064c \\u0651\\u062d\\u0650\\u0641\\u0644\\u064d \\u0628\\u064c\\u0627\\u064c\\u0644\\u0627\\u0646\\u064b\\u0633\\u0650\\u064a\\u0627\\u064c\\u0628\\u064a\\u0629 \\u062e\\u0650\\u0627\\u0635\\u0629 \\u064d\\u0639\\u0644\\u0649 \\u0645\\u064f\\u0633\\u062a\\u0648\\u0649\\u0650 \\u064d\\u0623\\u064d\\u062f\\u0650\\u0627\\u064c\\u0621 \\u0650\\u0627\\u064f\\u0644\\u0650\\u0645\\u0650\\u0645\\u062b\\u0644\\u064c\\u064a\\u0646 \\u064e\\u0648\\u0627\\u0644\\u064b\\u062a\\u0646\\u0642\\u0644\\u0627\\u062a\\u064c\\u060c\\u064e \\u0648\\u062d\\u0642\\u0642 \\u0645\\u064b\\u0639\\u0627\\u064a\\u064c\\u0634\\u0629\\u064b \\u0645\\u0639 \\u064c\\u0642\\u0635\\u062a\\u0647\\u0650 \\u0648\\u0645\\u062d\\u0645\\u064c\\u0648\\u0644\\u064e\\u0647 \\u064e\\u0627\\u064b\\u0644\\u064b\\u0641\\u0651\\u0643\\u0631\\u064f\\u064a\\u060c \\u064c\\u0628\\u064a\\u064e\\u0646\\u0650\\u0645\\u0627 \\u0650\\u0623\\u0650\\u0643\\u062f\\u064d \\u0652\\u0627\\u064f\\u0644\\u0645\\u0633\\u064b\\u0631\\u0652\\u062d\\u064c\\u064a\\u064b \\u064b\\u0627\\u0644\\u064b\\u0643\\u0648\\u0650\\u064a\\u064e\\u062a\\u064a \\u0650\\u0641\\u064b\\u0647\\u0650\\u062f\\u0651 \\u0627\\u0650\\u0644\\u0645\\u0651\\u0630\\u0646\\u060c \\u064d\\u0623\\u064e\\u0646\\u064b \\u0650\\u0627\\u0644\\u0623\\u062f\\u064c\\u0627\\u0621 \\u064b\\u0627\\u0644\\u064b\\u062a\\u064f\\u0645\\u062b\\u064a\\u064b\\u0644\\u064a \\u064c\\u062c\\u0627\\u0621\\u0652 \\u064b\\u0631\\u064e\\u0627\\u0626\\u0639\\u0627\\u064f\\u064b\\u060c \\u062e\\u0627\\u0635\\u064f\\u0629\\u0652 \\u0641\\u064f\\u064a \\u0652\\u0645\\u0627 \\u064a\\u0650\\u062a\\u0651\\u0639\\u0644\\u0642 \\u064d\\u0628\\u064b\\u062d\\u064c\\u0631\\u064b\\u0643\\u0629 \\u062f\\u062e\\u0648\\u0644\\u064b \\u064c\\u0627\\u0644\\u0645\\u064f\\u0645\\u062b\\u0644\\u064c\\u064a\\u0646\\u0652 \\u064e\\u0648\\u062e\\u0631\\u0650\\u0648\\u062c\\u064b\\u0647\\u0645\\u064b\\u060c \\u0652\\u0648\\u0650\\u0644\\u0641\\u062a \\u0652\\u0627\\u0644\\u0628\\u0627\\u064b\\u062d\\u064f\\u062b \\u0650\\u0627\\u064c\\u0644\\u0645\\u0633\\u0631\\u062d\\u0652\\u064a\\u064c \\u0652\\u0627\\u0652\\u0644\\u0652\\u062c\\u0632\\u0627\\u064c\\u0626\\u0631\\u064a\\u0650 \\u0639\\u0652\\u0628\\u062f\\u0652 \\u064b\\u0627\\u0652\\u0644\\u0646\\u0652\\u0627\\u0635\\u0631\\u0652 \\u0651\\u062e\\u0644\\u0652\\u0627\\u0641 \\u0625\\u0644\\u064d\\u0649 \\u064e\\u0631\\u0652\\u0648\\u0639\\u064c\\u0629 \\u064c\\u0628\\u0652\\u062f\\u0621 \\u0627\\u064e\\u0644\\u064d\\u0645\\u0634\\u0651\\u0647\\u0650\\u062f \\u0627\\u0644\\u0652\\u0623\\u0648\\u0650\\u0644 \\u064e\\u0639\\u064c\\u0646\\u0650\\u062f \\u0631\\u064d\\u0641\\u064f\\u0639\\u064b \\u0627\\u0652\\u0644\\u0650\\u0633\\u0650\\u062a\\u064d\\u0627\\u064d\\u0631\\u0652 \\u064f\\u0648\\u062a\\u0633\\u0627\\u0642\\u0637 \\u0627\\u0650\\u0644\\u0623\\u0648\\u0652\\u0631\\u0627\\u0642\\u060c \\u064c\\u0645\\u0628\\u0651\\u064a\\u0646\\u064c\\u0627\\u064b \\u0623\\u0646 \\u0650\\u0627\\u0644\\u0645\\u0651\\u062e\\u0631\\u064c\\u062c \\u0642\\u062f \\u064e\\u0642\\u0633\\u0649\\u0650 \\u0643\\u062b\\u064b\\u064a\\u0631\\u0627\\u0650\\u064b\\u064e \\u064f\\u0639\\u0644\\u064f\\u0649\\u064f \\u0652\\u0627\\u0644\\u0631\\u062c\\u0644\\u0652 \\u0627\\u064d\\u0644\\u0652\\u0639\\u0651\\u062c\\u064b\\u0648\\u0652\\u0632\\u064e\\u060c\\u064d \\u0625\\u0630\\u064d \\u064c\\u0644\\u064d\\u0645 \\u0650\\u064a\\u062e\\u0631\\u062c\\u064b\\u0647\\u064c \\u0652\\u0645\\u0646\\u0652 \\u064d\\u0647\\u064b\\u0630\\u0647 \\u064f\\u0627\\u064e\\u0644\\u064d\\u0639\\u0650\\u0630\\u0627\\u0628\\u064e\\u0627\\u062a\\u064f \\u062d\\u062a\\u0649\\u064f \\u0651\\u0646\\u0650\\u0647\\u0651\\u0627\\u0652\\u064a\\u0629\\u064e \\u0652\\u0627\\u0644\\u0639\\u0652\\u0631\\u0636\\u060c \\u0645\\u0634\\u064c\\u064a\\u0652\\u062f\\u064b\\u0627\\u064c\\u064b\\u064f \\u064f\\u0628\\u062e\\u0650\\u064a\\u064f\\u0627\\u064e\\u0644\\u0627\\u062a \\u064b\\u0627\\u0644\\u0645\\u062e\\u0631\\u064b\\u062c\\u064b \\u064c\\u0641\\u064a \\u064f\\u062a\\u0651\\u0648\\u0638\\u064a\\u064b\\u0641\\u0647\\u064c \\u064d\\u0644\\u0644\\u062d\\u064e\\u0638\\u064c\\u0627\\u062a\\u064c \\u0627\\u0652\\u0644\\u064b\\u0635\\u064f\\u0645\\u064c\\u062a\\u064f \\u0648\\u0627\\u0644\\u062d\\u064e\\u0631\\u064e\\u0643\\u064f\\u0629 \\u0652\\u0627\\u064e\\u0644\\u0651\\u0628\\u0650\\u0637\\u064a\\u0652\\u0626\\u0629.\\u0648\\u0628\\u064a\\u0650\\u0651\\u0646 \\u0627\\u0644\\u0652\\u0645\\u0624\\u0652\\u0644\\u0641\\u064d \\u0623\\u0646 \\u0627\\u064f\\u0644\\u0645\\u064d\\u0645\\u062b\\u064e\\u0644\\u064a\\u0646\\u0652 \\u0651\\u0646\\u062c\\u0650\\u062d\\u064e\\u0648\\u0627\\u064c \\u0641\\u064b\\u064a\\u064c \\u0651\\u0625\\u064f\\u064a\\u0651\\u0635\\u064f\\u0627\\u064f\\u0644 \\u0652\\u0627\\u0644\\u064e\\u0623\\u0628\\u0651\\u0639\\u064f\\u0627\\u062f \\u064d\\u0627\\u0644\\u0643\\u0627\\u0645\\u0652\\u0644\\u064c\\u0629\\u064f \\u0644\\u0644\\u0634\\u062e\\u0650\\u0635\\u0652\\u064a\\u0627\\u0651\\u062a\\u064b\\u060c \\u064e\\u0648\\u064c\\u0623\\u0651\\u0646 \\u0627\\u064b\\u0644\\u0651\\u0634\\u062e\\u0650\\u0635\\u064a\\u0629 \\u064b\\u0627\\u0644\\u0631\\u0626\\u064a\\u0633\\u0651\\u064a\\u0651\\u0629 \\u0644\\u0644\\u0652\\u0639\\u064b\\u0631\\u0636\\u0652 \\u0643\\u064b\\u0627\\u0646\\u064e\\u062a \\u0645\\u0639\\u0652\\u0642\\u062f\\u0629 \\u064f\\u0648\\u064f\\u0645\\u0631\\u0643\\u0651\\u0628\\u0652\\u0629\\u064b\\u060c\\u064e \\u0641\\u0647\\u064a\\u064d \\u062a\\u064f\\u062a\\u0646\\u0627\\u0648\\u0644 \\u0634\\u064b\\u062e\\u0635\\u064f\\u064a\\u0629 \\u0625\\u0646\\u0633\\u0650\\u0627\\u064f\\u0646\\u0652 \\u064a\\u064f\\u0639\\u064a\\u0651\\u0634 \\u0641\\u064a \\u0639\\u0632\\u064f\\u0644\\u0650\\u0629 \\u064d\\u0648\\u0627\\u0636\\u0637\\u0631\\u0627\\u064f\\u0628\\u064f\\u0627\\u0652\\u062a \\u0652\\u062f\\u0627\\u064b\\u062e\\u064d\\u0644\\u064a\\u0629\\u0651 \\u064b\\u0648\\u0651\\u0627\\u0646\\u0647\\u0632\\u0650\\u0627\\u0645\\u064c \\u064d\\u0648\\u063a\\u0631\\u0628\\u0629.\"\n        ],\n        \"semantic_type\": \"\",\n        \"description\": \"\"\n      }\n    },\n    {\n      \"column\": \"label\",\n      \"properties\": {\n        \"dtype\": \"category\",\n        \"num_unique_values\": 7,\n        \"samples\": [\n          \"Tech\",\n          \"Medical\",\n          \"Religion\"\n        ],\n        \"semantic_type\": \"\",\n        \"description\": \"\"\n      }\n    },\n    {\n      \"column\": \"length\",\n      \"properties\": {\n        \"dtype\": \"number\",\n        \"std\": 803,\n        \"min\": 3501,\n        \"max\": 7565,\n        \"num_unique_values\": 2462,\n        \"samples\": [\n          3574,\n          6017,\n          4101\n        ],\n        \"semantic_type\": \"\",\n        \"description\": \"\"\n      }\n    }\n  ]\n}"
            }
          },
          "metadata": {},
          "execution_count": 176
        }
      ],
      "source": [
        "train[train['length']> 3500]"
      ]
    },
    {
      "cell_type": "code",
      "execution_count": 177,
      "metadata": {
        "colab": {
          "base_uri": "https://localhost:8080/",
          "height": 411
        },
        "id": "_Gndv6t9AdxK",
        "outputId": "15c31a75-27d0-4493-cc9d-18ecaf16db42"
      },
      "outputs": [
        {
          "output_type": "display_data",
          "data": {
            "text/plain": [
              "<Figure size 640x480 with 1 Axes>"
            ],
            "image/png": "[encoded data removed]"
          },
          "metadata": {}
        }
      ],
      "source": [
        "import seaborn as sns\n",
        "\n",
        "sns.boxplot(y ='length', hue = 'label', data= train);"
      ]
    },
    {
      "cell_type": "code",
      "execution_count": 178,
      "metadata": {
        "colab": {
          "base_uri": "https://localhost:8080/"
        },
        "id": "X0m-mCoFB_Kd",
        "outputId": "f3e26459-7153-4af7-cb35-6bf1dfc3f20c"
      },
      "outputs": [
        {
          "output_type": "stream",
          "name": "stderr",
          "text": [
            "[nltk_data] Downloading package stopwords to /root/nltk_data...\n",
            "[nltk_data]   Package stopwords is already up-to-date!\n"
          ]
        },
        {
          "output_type": "execute_result",
          "data": {
            "text/plain": [
              "True"
            ]
          },
          "metadata": {},
          "execution_count": 178
        }
      ],
      "source": [
        "from pyarabic.araby import strip_tashkeel, strip_tatweel, normalize_hamza\n",
        "import nltk\n",
        "nltk.download('stopwords')"
      ]
    },
    {
      "cell_type": "code",
      "execution_count": 179,
      "metadata": {
        "id": "4JtqnP3sCXJM"
      },
      "outputs": [],
      "source": [
        "from nltk.corpus import stopwords\n",
        "from nltk.stem.isri import ISRIStemmer\n",
        "import re\n",
        "\n",
        "st = ISRIStemmer()\n",
        "\n",
        "arabic_stopwords = set(stopwords.words('arabic'))"
      ]
    },
    {
      "cell_type": "code",
      "execution_count": 180,
      "metadata": {
        "id": "uKrkIi8tE0-G"
      },
      "outputs": [],
      "source": [
        "def clean_text(text):\n",
        "  text = re.sub(r'http\\S+', '',text)\n",
        "  text = re.sub(r'[^\\w\\s]', '', text)\n",
        "  text = strip_tashkeel(text)\n",
        "  text = strip_tatweel(text)\n",
        "  text = normalize_hamza(text)\n",
        "  text = ' '.join([word for word in text.split() if word not in arabic_stopwords])\n",
        "  text = ' '.join([st.stem(word) for word in text.split()])\n",
        "  return text\n",
        "\n",
        "train['text'] = train['text'].apply(clean_text)"
      ]
    },
    {
      "cell_type": "code",
      "execution_count": 181,
      "metadata": {
        "colab": {
          "base_uri": "https://localhost:8080/",
          "height": 363
        },
        "id": "ief142fIEmjj",
        "outputId": "1cabd36e-3710-4790-fa97-9c438c152348"
      },
      "outputs": [
        {
          "output_type": "execute_result",
          "data": {
            "text/plain": [
              "                                                    text     label  length\n",
              "11269  يرش ريدج شرك ختص جال ثمر بشر خصة شرك نطق شرق ء...   Finance    3723\n",
              "8532   ءرباح شرك تحد عقر نسب 50 ءلى 421 ملي بنه ربع ء...   Finance     707\n",
              "21000  رلم نشط يمن ءمس ءلى فعل قرر نظم عفو دول تعلق ح...  Politics    2702\n",
              "14993  دبي فعل دور ثلث لءكاديمية سكت دمغ نظم هرنجر ءن...   Medical    1676\n",
              "27167  حمز غرب علماء قرن عشر هجر ءي سدس يلد شغل ريض ب...  Religion    5703\n",
              "34257  ءم ءي استوديوز ءسس تخصص ميد حلل كامل خصص عرض ا...      Tech    1271\n",
              "12041  ءرباح شرك دبي طور ربع ءول عام الحالي 1227 ءلف ...   Finance     417\n",
              "7336   جمع جلس ءدر شرك دار مول ءجل وضع تمل ءجنب لءس ش...   Finance     250\n",
              "34170  خلج كشف سلط نطق حرة طار دبي دفز نمو ءجمال عدد ...      Tech    2875\n",
              "16128  خلج كرم شرك ءبوظب خدم صحة صحة تبرع نظم ءسس شرك...   Medical    1235"
            ],
            "text/html": [
              "\n",
              "  <div id=\"df-bcf24b26-c174-4205-9b1b-142ff00d7a18\" class=\"colab-df-container\">\n",
              "    <div>\n",
              "<style scoped>\n",
              "    .dataframe tbody tr th:only-of-type {\n",
              "        vertical-align: middle;\n",
              "    }\n",
              "\n",
              "    .dataframe tbody tr th {\n",
              "        vertical-align: top;\n",
              "    }\n",
              "\n",
              "    .dataframe thead th {\n",
              "        text-align: right;\n",
              "    }\n",
              "</style>\n",
              "<table border=\"1\" class=\"dataframe\">\n",
              "  <thead>\n",
              "    <tr style=\"text-align: right;\">\n",
              "      <th></th>\n",
              "      <th>text</th>\n",
              "      <th>label</th>\n",
              "      <th>length</th>\n",
              "    </tr>\n",
              "  </thead>\n",
              "  <tbody>\n",
              "    <tr>\n",
              "      <th>11269</th>\n",
              "      <td>يرش ريدج شرك ختص جال ثمر بشر خصة شرك نطق شرق ء...</td>\n",
              "      <td>Finance</td>\n",
              "      <td>3723</td>\n",
              "    </tr>\n",
              "    <tr>\n",
              "      <th>8532</th>\n",
              "      <td>ءرباح شرك تحد عقر نسب 50 ءلى 421 ملي بنه ربع ء...</td>\n",
              "      <td>Finance</td>\n",
              "      <td>707</td>\n",
              "    </tr>\n",
              "    <tr>\n",
              "      <th>21000</th>\n",
              "      <td>رلم نشط يمن ءمس ءلى فعل قرر نظم عفو دول تعلق ح...</td>\n",
              "      <td>Politics</td>\n",
              "      <td>2702</td>\n",
              "    </tr>\n",
              "    <tr>\n",
              "      <th>14993</th>\n",
              "      <td>دبي فعل دور ثلث لءكاديمية سكت دمغ نظم هرنجر ءن...</td>\n",
              "      <td>Medical</td>\n",
              "      <td>1676</td>\n",
              "    </tr>\n",
              "    <tr>\n",
              "      <th>27167</th>\n",
              "      <td>حمز غرب علماء قرن عشر هجر ءي سدس يلد شغل ريض ب...</td>\n",
              "      <td>Religion</td>\n",
              "      <td>5703</td>\n",
              "    </tr>\n",
              "    <tr>\n",
              "      <th>34257</th>\n",
              "      <td>ءم ءي استوديوز ءسس تخصص ميد حلل كامل خصص عرض ا...</td>\n",
              "      <td>Tech</td>\n",
              "      <td>1271</td>\n",
              "    </tr>\n",
              "    <tr>\n",
              "      <th>12041</th>\n",
              "      <td>ءرباح شرك دبي طور ربع ءول عام الحالي 1227 ءلف ...</td>\n",
              "      <td>Finance</td>\n",
              "      <td>417</td>\n",
              "    </tr>\n",
              "    <tr>\n",
              "      <th>7336</th>\n",
              "      <td>جمع جلس ءدر شرك دار مول ءجل وضع تمل ءجنب لءس ش...</td>\n",
              "      <td>Finance</td>\n",
              "      <td>250</td>\n",
              "    </tr>\n",
              "    <tr>\n",
              "      <th>34170</th>\n",
              "      <td>خلج كشف سلط نطق حرة طار دبي دفز نمو ءجمال عدد ...</td>\n",
              "      <td>Tech</td>\n",
              "      <td>2875</td>\n",
              "    </tr>\n",
              "    <tr>\n",
              "      <th>16128</th>\n",
              "      <td>خلج كرم شرك ءبوظب خدم صحة صحة تبرع نظم ءسس شرك...</td>\n",
              "      <td>Medical</td>\n",
              "      <td>1235</td>\n",
              "    </tr>\n",
              "  </tbody>\n",
              "</table>\n",
              "</div>\n",
              "    <div class=\"colab-df-buttons\">\n",
              "\n",
              "  <div class=\"colab-df-container\">\n",
              "    <button class=\"colab-df-convert\" onclick=\"convertToInteractive('df-bcf24b26-c174-4205-9b1b-142ff00d7a18')\"\n",
              "            title=\"Convert this dataframe to an interactive table.\"\n",
              "            style=\"display:none;\">\n",
              "\n",
              "  <svg xmlns=\"http://www.w3.org/2000/svg\" height=\"24px\" viewBox=\"0 -960 960 960\">\n",
              "    <path d=\"M120-120v-720h720v720H120Zm60-500h600v-160H180v160Zm220 220h160v-160H400v160Zm0 220h160v-160H400v160ZM180-400h160v-160H180v160Zm440 0h160v-160H620v160ZM180-180h160v-160H180v160Zm440 0h160v-160H620v160Z\"/>\n",
              "  </svg>\n",
              "    </button>\n",
              "\n",
              "  <style>\n",
              "    .colab-df-container {\n",
              "      display:flex;\n",
              "      gap: 12px;\n",
              "    }\n",
              "\n",
              "    .colab-df-convert {\n",
              "      background-color: #E8F0FE;\n",
              "      border: none;\n",
              "      border-radius: 50%;\n",
              "      cursor: pointer;\n",
              "      display: none;\n",
              "      fill: #1967D2;\n",
              "      height: 32px;\n",
              "      padding: 0 0 0 0;\n",
              "      width: 32px;\n",
              "    }\n",
              "\n",
              "    .colab-df-convert:hover {\n",
              "      background-color: #E2EBFA;\n",
              "      box-shadow: 0px 1px 2px rgba(60, 64, 67, 0.3), 0px 1px 3px 1px rgba(60, 64, 67, 0.15);\n",
              "      fill: #174EA6;\n",
              "    }\n",
              "\n",
              "    .colab-df-buttons div {\n",
              "      margin-bottom: 4px;\n",
              "    }\n",
              "\n",
              "    [theme=dark] .colab-df-convert {\n",
              "      background-color: #3B4455;\n",
              "      fill: #D2E3FC;\n",
              "    }\n",
              "\n",
              "    [theme=dark] .colab-df-convert:hover {\n",
              "      background-color: #434B5C;\n",
              "      box-shadow: 0px 1px 3px 1px rgba(0, 0, 0, 0.15);\n",
              "      filter: drop-shadow(0px 1px 2px rgba(0, 0, 0, 0.3));\n",
              "      fill: #FFFFFF;\n",
              "    }\n",
              "  </style>\n",
              "\n",
              "    <script>\n",
              "      const buttonEl =\n",
              "        document.querySelector('#df-bcf24b26-c174-4205-9b1b-142ff00d7a18 button.colab-df-convert');\n",
              "      buttonEl.style.display =\n",
              "        google.colab.kernel.accessAllowed ? 'block' : 'none';\n",
              "\n",
              "      async function convertToInteractive(key) {\n",
              "        const element = document.querySelector('#df-bcf24b26-c174-4205-9b1b-142ff00d7a18');\n",
              "        const dataTable =\n",
              "          await google.colab.kernel.invokeFunction('convertToInteractive',\n",
              "                                                    [key], {});\n",
              "        if (!dataTable) return;\n",
              "\n",
              "        const docLinkHtml = 'Like what you see? Visit the ' +\n",
              "          '<a target=\"_blank\" href=https://colab.research.google.com/notebooks/data_table.ipynb>data table notebook</a>'\n",
              "          + ' to learn more about interactive tables.';\n",
              "        element.innerHTML = '';\n",
              "        dataTable['output_type'] = 'display_data';\n",
              "        await google.colab.output.renderOutput(dataTable, element);\n",
              "        const docLink = document.createElement('div');\n",
              "        docLink.innerHTML = docLinkHtml;\n",
              "        element.appendChild(docLink);\n",
              "      }\n",
              "    </script>\n",
              "  </div>\n",
              "\n",
              "\n",
              "<div id=\"df-230fc96c-4b98-4e4c-af47-fa08e21d921a\">\n",
              "  <button class=\"colab-df-quickchart\" onclick=\"quickchart('df-230fc96c-4b98-4e4c-af47-fa08e21d921a')\"\n",
              "            title=\"Suggest charts\"\n",
              "            style=\"display:none;\">\n",
              "\n",
              "<svg xmlns=\"http://www.w3.org/2000/svg\" height=\"24px\"viewBox=\"0 0 24 24\"\n",
              "     width=\"24px\">\n",
              "    <g>\n",
              "        <path d=\"M19 3H5c-1.1 0-2 .9-2 2v14c0 1.1.9 2 2 2h14c1.1 0 2-.9 2-2V5c0-1.1-.9-2-2-2zM9 17H7v-7h2v7zm4 0h-2V7h2v10zm4 0h-2v-4h2v4z\"/>\n",
              "    </g>\n",
              "</svg>\n",
              "  </button>\n",
              "\n",
              "<style>\n",
              "  .colab-df-quickchart {\n",
              "      --bg-color: #E8F0FE;\n",
              "      --fill-color: #1967D2;\n",
              "      --hover-bg-color: #E2EBFA;\n",
              "      --hover-fill-color: #174EA6;\n",
              "      --disabled-fill-color: #AAA;\n",
              "      --disabled-bg-color: #DDD;\n",
              "  }\n",
              "\n",
              "  [theme=dark] .colab-df-quickchart {\n",
              "      --bg-color: #3B4455;\n",
              "      --fill-color: #D2E3FC;\n",
              "      --hover-bg-color: #434B5C;\n",
              "      --hover-fill-color: #FFFFFF;\n",
              "      --disabled-bg-color: #3B4455;\n",
              "      --disabled-fill-color: #666;\n",
              "  }\n",
              "\n",
              "  .colab-df-quickchart {\n",
              "    background-color: var(--bg-color);\n",
              "    border: none;\n",
              "    border-radius: 50%;\n",
              "    cursor: pointer;\n",
              "    display: none;\n",
              "    fill: var(--fill-color);\n",
              "    height: 32px;\n",
              "    padding: 0;\n",
              "    width: 32px;\n",
              "  }\n",
              "\n",
              "  .colab-df-quickchart:hover {\n",
              "    background-color: var(--hover-bg-color);\n",
              "    box-shadow: 0 1px 2px rgba(60, 64, 67, 0.3), 0 1px 3px 1px rgba(60, 64, 67, 0.15);\n",
              "    fill: var(--button-hover-fill-color);\n",
              "  }\n",
              "\n",
              "  .colab-df-quickchart-complete:disabled,\n",
              "  .colab-df-quickchart-complete:disabled:hover {\n",
              "    background-color: var(--disabled-bg-color);\n",
              "    fill: var(--disabled-fill-color);\n",
              "    box-shadow: none;\n",
              "  }\n",
              "\n",
              "  .colab-df-spinner {\n",
              "    border: 2px solid var(--fill-color);\n",
              "    border-color: transparent;\n",
              "    border-bottom-color: var(--fill-color);\n",
              "    animation:\n",
              "      spin 1s steps(1) infinite;\n",
              "  }\n",
              "\n",
              "  @keyframes spin {\n",
              "    0% {\n",
              "      border-color: transparent;\n",
              "      border-bottom-color: var(--fill-color);\n",
              "      border-left-color: var(--fill-color);\n",
              "    }\n",
              "    20% {\n",
              "      border-color: transparent;\n",
              "      border-left-color: var(--fill-color);\n",
              "      border-top-color: var(--fill-color);\n",
              "    }\n",
              "    30% {\n",
              "      border-color: transparent;\n",
              "      border-left-color: var(--fill-color);\n",
              "      border-top-color: var(--fill-color);\n",
              "      border-right-color: var(--fill-color);\n",
              "    }\n",
              "    40% {\n",
              "      border-color: transparent;\n",
              "      border-right-color: var(--fill-color);\n",
              "      border-top-color: var(--fill-color);\n",
              "    }\n",
              "    60% {\n",
              "      border-color: transparent;\n",
              "      border-right-color: var(--fill-color);\n",
              "    }\n",
              "    80% {\n",
              "      border-color: transparent;\n",
              "      border-right-color: var(--fill-color);\n",
              "      border-bottom-color: var(--fill-color);\n",
              "    }\n",
              "    90% {\n",
              "      border-color: transparent;\n",
              "      border-bottom-color: var(--fill-color);\n",
              "    }\n",
              "  }\n",
              "</style>\n",
              "\n",
              "  <script>\n",
              "    async function quickchart(key) {\n",
              "      const quickchartButtonEl =\n",
              "        document.querySelector('#' + key + ' button');\n",
              "      quickchartButtonEl.disabled = true;  // To prevent multiple clicks.\n",
              "      quickchartButtonEl.classList.add('colab-df-spinner');\n",
              "      try {\n",
              "        const charts = await google.colab.kernel.invokeFunction(\n",
              "            'suggestCharts', [key], {});\n",
              "      } catch (error) {\n",
              "        console.error('Error during call to suggestCharts:', error);\n",
              "      }\n",
              "      quickchartButtonEl.classList.remove('colab-df-spinner');\n",
              "      quickchartButtonEl.classList.add('colab-df-quickchart-complete');\n",
              "    }\n",
              "    (() => {\n",
              "      let quickchartButtonEl =\n",
              "        document.querySelector('#df-230fc96c-4b98-4e4c-af47-fa08e21d921a button');\n",
              "      quickchartButtonEl.style.display =\n",
              "        google.colab.kernel.accessAllowed ? 'block' : 'none';\n",
              "    })();\n",
              "  </script>\n",
              "</div>\n",
              "\n",
              "    </div>\n",
              "  </div>\n"
            ],
            "application/vnd.google.colaboratory.intrinsic+json": {
              "type": "dataframe",
              "summary": "{\n  \"name\": \"train\",\n  \"rows\": 10,\n  \"fields\": [\n    {\n      \"column\": \"text\",\n      \"properties\": {\n        \"dtype\": \"string\",\n        \"num_unique_values\": 10,\n        \"samples\": [\n          \"\\u062e\\u0644\\u062c \\u0643\\u0634\\u0641 \\u0633\\u0644\\u0637 \\u0646\\u0637\\u0642 \\u062d\\u0631\\u0629 \\u0637\\u0627\\u0631 \\u062f\\u0628\\u064a \\u062f\\u0641\\u0632 \\u0646\\u0645\\u0648 \\u0621\\u062c\\u0645\\u0627\\u0644 \\u0639\\u062f\\u062f \\u0634\\u0631\\u0643 \\u0643\\u0646\\u0648\\u0644\\u0648\\u062c \\u0639\\u0644\\u0645 \\u062a\\u0635\\u0644 \\u0621\\u0644\\u0643\\u062a\\u0631\\u0648\\u0646\\u064a \\u0639\\u0645\\u0644 \\u0644\\u062f\\u064a \\u0639\\u062f\\u0644 17 \\u062e\\u0644\\u0644 \\u0631\\u0628\\u0639 \\u062b\\u0644\\u062b \\u0639\\u0627\\u0645 \\u062c\\u0631\\u064a \\u0643\\u0634\\u0641 \\u0621\\u062d\\u0635\\u0627\\u0621 \\u0621\\u0646 28 \\u0621\\u062c\\u0645\\u0627\\u0644 \\u0634\\u0631\\u0643 \\u0633\\u062c\\u0644 \\u062f\\u0641\\u0632 \\u0646\\u0645\\u064a \\u062d\\u0627\\u0644 \\u0621\\u0644\\u0649 \\u0642\\u0637\\u0639 \\u0643\\u0646\\u0648\\u0644\\u0648\\u062c \\u0639\\u0644\\u0645 \\u0642\\u0637\\u0639 \\u0621\\u0644\\u0643\\u062a\\u0631\\u0648\\u0646\\u064a \\u062a\\u0635\\u0644 \\u062a\\u062d\\u0630 \\u0634\\u0631\\u0643 \\u062a\\u0639\\u062f\\u062f \\u062c\\u0646\\u0633 34 \\u0621\\u062c\\u0645\\u0627\\u0644 \\u0634\\u0631\\u0643 \\u0642\\u0637\\u0639 \\u0630\\u062a\\u0647 \\u0639\\u0643\\u0633 \\u0621\\u0631\\u0642\\u0627\\u0645 \\u062c\\u062f\\u062f \\u062b\\u0642\\u0629 \\u0639\\u0644\\u064a \\u062a\\u0648\\u0644 \\u0634\\u0631\\u0643 \\u062f\\u0648\\u0644 \\u062a\\u0639\\u062f\\u062f \\u062c\\u0646\\u0633 \\u062c\\u0645\\u0639 \\u0621\\u0639\\u0645\\u0627\\u0644 \\u062b\\u0645\\u0631 \\u0621\\u0645\\u0631 \\u062f\\u0628\\u064a \\u0621\\u0643\\u062f \\u0643\\u0627\\u0646 \\u0631\\u064a\\u062f \\u0648\\u0635\\u0644 \\u0621\\u0644\\u064a \\u062f\\u0641\\u0632 \\u0639\\u0628\\u0631 \\u0648\\u062c\\u0647 \\u062c\\u0630\\u0628 \\u062b\\u0645\\u0631 \\u0621\\u062c\\u0646\\u0628 \\u0646\\u0638\\u0631 \\u0621\\u0644\\u0649 \\u0645\\u062a\\u0639 \\u0648\\u0642\\u0639 \\u0627\\u0633\\u062a\\u0631\\u0627\\u062a\\u064a\\u062c\\u064a \\u0648\\u0628\\u0646 \\u062d\\u062a\\u064a \\u062a\\u0637\\u0631 \\u062e\\u062f\\u0645 \\u0630\\u0643\\u0629 \\u0633\\u0647\\u0644 \\u0627\\u0633\\u062a\\u062b\\u0645\\u0627\\u0631\\u064a\\u0629 \\u062f\\u0641\\u0639 \\u0639\\u062c\\u0644 \\u0646\\u0645\\u0648 \\u0642\\u0635\\u062f \\u0648\\u062a\\u0621 \\u062a\\u0621\\u062c \\u0621\\u064a\\u062c\\u0627\\u0628 \\u0645\\u062b\\u0644 \\u062f\\u0641\\u0639 \\u0642\\u0648\\u0629 \\u062c\\u0647\\u062f \\u062f\\u0641\\u0632 \\u0631\\u0645\\u064a \\u0621\\u0644\\u0649 \\u0642\\u0637\\u0628 \\u0621\\u0628\\u0631\\u0632 \\u0634\\u0631\\u0643 \\u0643\\u0646\\u0648\\u0644\\u0648\\u062c \\u0639\\u0644\\u0645 \\u062e\\u0644\\u0644 \\u0634\\u0631\\u0643 \\u0621\\u0633\\u0628\\u0648\\u0639 \\u062c\\u064a\\u062a\\u0643\\u0633 \\u0642\\u0646\\u064a 2015 \\u0639\\u0631\\u0636 \\u0621\\u0642\\u0644\\u064a\\u0645 \\u0621\\u0628\\u0631\\u0632 \\u0636\\u0645\\u0646 \\u0642\\u0637\\u0639 \\u0643\\u0646\\u0648\\u0644\\u0648\\u062c \\u0639\\u0644\\u0645 \\u062a\\u0635\\u0644 \\u064a\\u0642\\u0645 \\u062d\\u0627\\u0644 \\u0634\\u0639\\u0631 \\u0642\\u0628\\u0644 \\u0621\\u0646\\u062a\\u0631 \\u0634\\u064a\\u0621 \\u062d\\u0638\\u0649 \\u062d\\u0641\\u0638 \\u062f\\u0641\\u0632 \\u0637\\u0628\\u0642 \\u0630\\u0643\\u0629 \\u062e\\u0644\\u0644 \\u062d\\u062f\\u062b \\u0621\\u0634\\u062f \\u0648\\u0633\\u0639 \\u0635\\u0646\\u0639 \\u0642\\u0631\\u0631 \\u0643\\u0628\\u0631 \\u0634\\u062e\\u0635 \\u062d\\u0643\\u0645 \\u0631\\u0648\\u062f \\u0642\\u0637\\u0639 \\u0643\\u0646\\u0648\\u0644\\u0648\\u062c \\u0639\\u0644\\u0645 \\u0621\\u062e\\u0635 \\u0637\\u0628\\u0642 \\u0639\\u0645\\u0644 \\u0630\\u0643\\u0629 \\u062b\\u0645\\u0631 \\u0630\\u0643\\u064a \\u0648\\u0638\\u0641 \\u0630\\u0643\\u064a \\u0643\\u0648\\u0646 \\u062f\\u0639\\u0645 \\u0621\\u0633\\u0633 \\u0648\\u0641\\u0631 \\u0628\\u064a\\u0621 \\u0643\\u0627\\u0645\\u0644 \\u062a\\u0644\\u0628 \\u062d\\u064a\\u062c \\u0648\\u0638\\u0641 \\u0639\\u0627\\u0645\\u0644 \\u0632\\u0648\\u0631 \\u062b\\u0645\\u0631 \\u0633\\u0648\\u0627\\u0621\\u0648\\u0642\\u0627\\u0644\\u062a \\u0628\\u062b\\u0646 \\u0628\\u0646 \\u0641\\u0647\\u062f \\u062f\\u064a\\u0631 \\u0621\\u0648\\u0644 \\u0621\\u062f\\u0631 \\u0642\\u0646\\u064a \\u0639\\u0644\\u0645 \\u062a\\u0635\\u0644 \\u062f\\u0641\\u0632 \\u064a\\u0621\\u062a \\u0646\\u0645\\u0648 \\u0621\\u0639\\u062f\\u0627\\u062f \\u0634\\u0631\\u0643 \\u0643\\u0646\\u0648\\u0644\\u0648\\u062c \\u0639\\u0644\\u0645 \\u062a\\u0635\\u0644 \\u0621\\u0644\\u0643\\u062a\\u0631\\u0648\\u0646\\u064a \\u0639\\u0645\\u0644 \\u0644\\u062f\\u064a \\u062f\\u0641\\u0632 \\u062b\\u0627\\u0628 \\u0643\\u0645\\u0644 \\u0644\\u0621\\u0646\\u062c\\u0627\\u0632\\u0627\\u062a \\u0644\\u0627\\u062d\\u0642 \\u0635\\u0639\\u062f \\u062a\\u062d\\u0644 \\u0630\\u0643\\u064a \\u0648\\u0635\\u0644 \\u0621\\u0644\\u0649 \\u0648\\u0630\\u062c \\u062f\\u064a\\u0646 \\u0630\\u0643\\u0629 \\u0642\\u062f\\u0631 \\u0648\\u0641\\u0631 \\u062d\\u0644\\u0644 \\u062a\\u0637\\u0631 \\u062e\\u062f\\u0645 \\u0639\\u0644\\u064a \\u0633\\u062a\\u0649 \\u0648\\u0643\\u0628 \\u062a\\u0637\\u0644\\u0628 \\u0642\\u0631\\u0646 \\u062d\\u062f\\u064a \\u0639\\u0634\\u0631 \\u062a\\u0639\\u062f \\u0632\\u064a\\u062f \\u0644\\u062d\\u0638 \\u062f\\u0631\\u062c \\u0621\\u0648\\u0644\\u0649 \\u0621\\u0644\\u0649 \\u062d\\u0633\\u0646 \\u062d\\u0631\\u0635 \\u0637\\u0628\\u0642 \\u0639\\u0627\\u0645 \\u0627\\u0636\\u064a \\u0648\\u0641\\u064a \\u0642\\u062f\\u0645 \\u0648\\u0641\\u0631 \\u0634\\u0628\\u0643 \\u0644\\u0633\\u0644 \\u0648\\u0627\\u064a \\u0641\\u0627\\u064a \\u0648\\u0627\\u0644\\u062a\\u064a \\u062c\\u0639\\u0644 \\u062f\\u0641\\u0632 \\u0646\\u0637\\u0642 \\u062d\\u0631\\u0629 \\u0621\\u0648\\u0644\\u0649 \\u0646\\u0637\\u0642 \\u0642\\u062f\\u0645 \\u062e\\u062f\\u0645 \\u0621\\u0646\\u062a\\u0631 \\u0644\\u0633\\u0644 \\u0645\\u062c\\u0627 \\u0639\\u0627\\u0645\\u0644 \\u0648\\u0638\\u0641\",\n          \"\\u0621\\u0631\\u0628\\u0627\\u062d \\u0634\\u0631\\u0643 \\u062a\\u062d\\u062f \\u0639\\u0642\\u0631 \\u0646\\u0633\\u0628 50 \\u0621\\u0644\\u0649 421 \\u0645\\u0644\\u064a \\u0628\\u0646\\u0647 \\u0631\\u0628\\u0639 \\u0621\\u0648\\u0644 2016 \\u0642\\u0631\\u0646 \\u0621\\u0631\\u0628\\u0627\\u062d 281 \\u0645\\u0644\\u064a \\u062e\\u0644\\u0644 \\u0641\\u062a\\u0631 \\u0646\\u0641\\u0633 \\u0639\\u0627\\u0645 2015 \\u064a\\u0639\\u062f \\u0633\\u0628\\u0628 \\u0631\\u0641\\u0639 \\u0621\\u0631\\u0628\\u0627\\u062d \\u062e\\u0644\\u0644 \\u0631\\u0628\\u0639 \\u0621\\u0648\\u0644 2016 \\u0621\\u0644\\u0649 \\u0631\\u0641\\u0639 \\u0621\\u064a\\u0631\\u0627\\u062f \\u0621\\u062e\\u0631\\u0649 \\u0621\\u0644\\u0649 477 \\u0645\\u0644\\u064a \\u0642\\u0631\\u0646 43 \\u0645\\u0644\\u064a \\u062e\\u0644\\u0644 \\u0641\\u062a\\u0631 \\u0639\\u0627\\u0645 \\u0627\\u0636\\u064a \\u0621\\u0636\\u0641 \\u0621\\u0644\\u0649 \\u062e\\u0641\\u0636 \\u0635\\u0631\\u0641 \\u0645\\u0648\\u0644 \\u0621\\u0644\\u0649 143 \\u0645\\u0644\\u064a \\u0642\\u0628\\u0644 683 \\u0645\\u0644\\u064a \\u062e\\u0644\\u0644 \\u0631\\u0628\\u0639 \\u0621\\u0648\\u0644 2016 \\u0631\\u062c\\u0639 \\u0621\\u064a\\u0631\\u0627\\u062f \\u0646\\u0633\\u0628 33 \\u0621\\u0644\\u0649 1548 \\u0645\\u0644\\u064a\",\n          \"\\u0621\\u0645 \\u0621\\u064a \\u0627\\u0633\\u062a\\u0648\\u062f\\u064a\\u0648\\u0632 \\u0621\\u0633\\u0633 \\u062a\\u062e\\u0635\\u0635 \\u0645\\u064a\\u062f \\u062d\\u0644\\u0644 \\u0643\\u0627\\u0645\\u0644 \\u062e\\u0635\\u0635 \\u0639\\u0631\\u0636 \\u0627\\u0630\\u062c \\u0641\\u0639\\u0644 \\u0634\\u0631\\u0643 \\u0639\\u0631\\u0636 \\u0633\\u064a\\u062a \\u0633\\u0643\\u0628 \\u0621\\u0628\\u0648\\u0638\\u0628 2011 \\u062e\\u0637\\u0637 \\u0646\\u0637\\u0642 \\u0621\\u0644\\u0649 \\u0621\\u0646\\u0634\\u0627\\u0621 \\u0639\\u062f\\u062f \\u0631\\u0643\\u0632 \\u062e\\u0628\\u0631 \\u0631\\u062b\\u0629 \\u0648\\u0627\\u0644\\u062a\\u064a \\u0637\\u0644\\u0628 \\u062e\\u0628\\u0631 \\u0648\\u062f\\u0631 \\u0639\\u0645\\u0642 \\u062e\\u062f\\u0645 \\u0639\\u0645\\u0631 \\u062e\\u0635\\u0635 \\u0648\\u0642\\u062f \\u0634\\u0647\\u062f \\u0633\\u0639\\u062f \\u0642\\u0637\\u0631 \\u0621\\u062e\\u0631 \\u0646\\u0634\\u0637 \\u0633\\u0627\\u0631\\u0639 \\u062a\\u0635\\u0644 \\u0628\\u0647\\u0630 \\u0634\\u0621\\u0621 \\u0644\\u0642\\u0637 \\u0632\\u062e\\u0645 \\u0634\\u0647\\u062f \\u0628\\u0642\\u064a \\u0646\\u0637\\u0642 \\u0648\\u0645\\u0639 \\u0628\\u0642\\u0629 \\u0645\\u0634\\u0627\\u0631\\u064a\\u0639 \\u062a\\u0642\\u062f \\u0637\\u0631\\u0642 \\u0639\\u0628\\u0631 \\u062a\\u062d\\u0641 \\u0648\\u0641\\u0631 \\u0648\\u063a\\u0648\\u063a\\u0646\\u0647\\u0627\\u064a\\u0645 \\u0641\\u0642\\u062f \\u0637\\u0627\\u0639 \\u0621\\u0628\\u0648\\u0638\\u0628 \\u062e\\u0644\\u0644 \\u0641\\u062a\\u0631 \\u0648\\u062c\\u0632 \\u0646\\u0633\\u0628 \\u0621\\u0646 \\u0639\\u0632\\u0632 \\u0643\\u0627\\u0646 \\u0621\\u0645\\u0631 \\u0643\\u0645\\u0642\\u0635\\u062f \\u0645\\u0647\\u0645 \\u062c\\u0645\\u0647\\u0648\\u0631 \\u0639\\u0644\\u0645 \\u0648\\u0642\\u0644 \\u0648\\u062f\\u0648 \\u0641\\u064a\\u0631 \\u0631\\u0621\\u0633 \\u0646\\u0641\\u0630 \\u0644\\u0634\\u0631 \\u0621\\u0645 \\u0621\\u064a \\u0627\\u0633\\u062a\\u0648\\u062f\\u064a\\u0648\\u0632 \\u0621\\u0646 \\u0645\\u0634\\u0627\\u0631\\u064a\\u0639 \\u0628\\u0646\\u0629 \\u062d\\u062a\\u064a \\u0642\\u0637\\u0639 \\u0639\\u0627\\u0645 \\u0645\\u0647\\u062f \\u0637\\u0631\\u0642 \\u0642\\u062f\\u0645 \\u062a\\u062d\\u0641 \\u0631\\u0643\\u0632 \\u0639\\u0644\\u0645 \\u0641\\u062e\\u0631 \\u062f\\u0631\\u0633 \\u0633\\u0634\\u0641 \\u062a\\u0637\\u0631 \\u062a\\u0636\\u0639 \\u0646\\u0627\\u0648\\u0644 \\u0621\\u0628\\u0646\\u0627\\u0621 \\u0646\\u0637\\u0642 \\u0634\\u0647\\u062f \\u0646\\u0645\\u0627 \\u0633\\u0643\\u0646 \\u0633\\u0627\\u0631\\u0639 \\u0633\\u0639\\u0649 \\u0621\\u0645 \\u0621\\u064a \\u0627\\u0633\\u062a\\u0648\\u062f\\u064a\\u0648\\u0632 \\u0621\\u0644\\u0649 \\u062f\\u0641\\u0639 \\u0639\\u0632\\u0632 \\u0641\\u0639\\u0644 \\u0645\\u0634\\u0627\\u0631\\u064a\\u0639 \\u062a\\u062d\\u0641 \\u0631\\u0643\\u0632 \\u0639\\u0644\\u0645 \\u0646\\u0637\\u0642\"\n        ],\n        \"semantic_type\": \"\",\n        \"description\": \"\"\n      }\n    },\n    {\n      \"column\": \"label\",\n      \"properties\": {\n        \"dtype\": \"string\",\n        \"num_unique_values\": 5,\n        \"samples\": [\n          \"Politics\",\n          \"Tech\",\n          \"Medical\"\n        ],\n        \"semantic_type\": \"\",\n        \"description\": \"\"\n      }\n    },\n    {\n      \"column\": \"length\",\n      \"properties\": {\n        \"dtype\": \"number\",\n        \"std\": 1711,\n        \"min\": 250,\n        \"max\": 5703,\n        \"num_unique_values\": 10,\n        \"samples\": [\n          2875,\n          707,\n          1271\n        ],\n        \"semantic_type\": \"\",\n        \"description\": \"\"\n      }\n    }\n  ]\n}"
            }
          },
          "metadata": {},
          "execution_count": 181
        }
      ],
      "source": [
        "train.sample(10)"
      ]
    },
    {
      "cell_type": "code",
      "execution_count": 181,
      "metadata": {
        "id": "e4FH9z5FCaVo"
      },
      "outputs": [],
      "source": [
        "\n"
      ]
    },
    {
      "cell_type": "markdown",
      "metadata": {
        "id": "VF45GS_ZSEix"
      },
      "source": [
        "# Tokenization, Padding, and Data Splitting"
      ]
    },
    {
      "cell_type": "markdown",
      "metadata": {
        "id": "YmsL3S-5SIbl"
      },
      "source": [
        "In this step, we will prepare the text data for input into a model by converting the text into numerical sequences, padding them to a uniform length, and splitting the dataset into training and testing sets. Here's an overview of the steps involved:\n",
        "\n",
        "1. **Tokenization**:\n",
        "   We use a tokenizer to convert the cleaned text into numerical sequences. You can use `Tokenizer` tokenizer from `tensorflow.keras.preprocessing.text` package or any other tokenizer you like.\n",
        "\n",
        "2. **Text to sequences**:\n",
        "   After fitting the tokenizer on the cleaned text, we transform each text into a sequence of numbers, where each number corresponds to a token (word) in the text.\n",
        "\n",
        "3. **Padding the sequences**:\n",
        "   Since different texts may vary in length, we pad the sequences to ensure they all have the same length.\n",
        "\n",
        "4. **Label encoding**:\n",
        "   The labels (target values) also need to be converted into numerical form if they are not encoded.\n",
        "\n",
        "5. **Train-test split**:\n",
        "   The dataset is divided into training and testing sets. We allocate 80% of the data for training the model and reserve 20% for testing its performance.\n",
        "   \n",
        "   - The **training data** consists of the padded sequences used to train the model.\n",
        "   - The **training labels** are the encoded labels corresponding to the training data.\n",
        "   - The **testing data** is used to assess the model’s performance after training.\n",
        "   - The **testing labels** are the encoded labels corresponding to the testing data.\n",
        "\n",
        "6. **Data shape confirmation**:\n",
        "   After splitting the data, we print the shape (dimensions) of both the training and testing sets to confirm that the data is properly divided and formatted.\n",
        "\n",
        "By the end of this step, the text data will be transformed into padded numerical sequences, the labels will be encoded, and the data will be split into training and testing sets for model development and evaluation."
      ]
    },
    {
      "cell_type": "code",
      "execution_count": 182,
      "metadata": {
        "id": "z401Re0VfI1f"
      },
      "outputs": [],
      "source": [
        "import tensorflow\n",
        "from tensorflow.keras.models import Sequential\n",
        "from tensorflow.keras.layers import Embedding, LSTM, Dense, Dropout, Input, Bidirectional, SimpleRNN, LSTM\n",
        "\n",
        "from tensorflow.keras.preprocessing.text import Tokenizer\n",
        "from tensorflow.keras.preprocessing.sequence import pad_sequences\n",
        "from sklearn.preprocessing import LabelEncoder\n",
        "\n",
        "import matplotlib.pyplot as plt"
      ]
    },
    {
      "cell_type": "code",
      "execution_count": 183,
      "metadata": {
        "id": "lGvIle8TIzYT"
      },
      "outputs": [],
      "source": [
        "#train['text']"
      ]
    },
    {
      "cell_type": "code",
      "execution_count": 183,
      "metadata": {
        "id": "BT0xy8YjJH9a"
      },
      "outputs": [],
      "source": []
    },
    {
      "cell_type": "code",
      "execution_count": 184,
      "metadata": {
        "id": "mZNDbN-1ImA_"
      },
      "outputs": [],
      "source": [
        "tokenizer = Tokenizer()\n",
        "tokenizer.fit_on_texts(train['text'])\n",
        "label_encoder = LabelEncoder()\n",
        "#encoded_labels = label_encoder.fit_transform(train['label'])"
      ]
    },
    {
      "cell_type": "code",
      "execution_count": 185,
      "metadata": {
        "id": "bjAqlDMMKBQo"
      },
      "outputs": [],
      "source": [
        "def prepare(data):\n",
        "\n",
        "    data['text'] = tokenizer.texts_to_sequences(data['text'])\n",
        "    data['text'] = pad_sequences(data['text'], maxlen=300, padding='post')\n",
        "\n",
        "    data['label'] = label_encoder.fit_transform(data['label'])\n",
        "    return data\n",
        "\n",
        "train = prepare(train)\n",
        "val = prepare(val)\n",
        "test = prepare(test)"
      ]
    },
    {
      "cell_type": "code",
      "execution_count": 186,
      "metadata": {
        "colab": {
          "base_uri": "https://localhost:8080/"
        },
        "id": "vbvn-smZLCkS",
        "outputId": "be4ba2e0-4b45-485d-dfd4-a20c8e78a1b3"
      },
      "outputs": [
        {
          "output_type": "execute_result",
          "data": {
            "text/plain": [
              "(25526, 3)"
            ]
          },
          "metadata": {},
          "execution_count": 186
        }
      ],
      "source": [
        "train.shape"
      ]
    },
    {
      "cell_type": "code",
      "execution_count": 187,
      "metadata": {
        "colab": {
          "base_uri": "https://localhost:8080/"
        },
        "id": "-JFAypFrLHL4",
        "outputId": "54d1ce65-0870-427a-fc49-952659d09c15"
      },
      "outputs": [
        {
          "output_type": "execute_result",
          "data": {
            "text/plain": [
              "(7977, 3)"
            ]
          },
          "metadata": {},
          "execution_count": 187
        }
      ],
      "source": [
        "test.shape"
      ]
    },
    {
      "cell_type": "markdown",
      "metadata": {
        "id": "qd5Ek4NLTgVN"
      },
      "source": [
        "# Building the Classifier"
      ]
    },
    {
      "cell_type": "markdown",
      "metadata": {
        "id": "HpLEoTaITEGx"
      },
      "source": [
        "In this step, you will design and build a NLP Classifier model to classify text data. Below is a breakdown of the key components you'll implement, but it's up to you to decide how to configure them based on your understanding and experimentation:\n",
        "\n",
        "1. **Model Type**:\n",
        "   You will use a Sequential model, which allows you to stack layers in a linear sequence.\n",
        "\n",
        "2. **Input Layer**:\n",
        "   Define the shape of the input data. Consider the dimensions of your padded sequences and set the input shape accordingly.\n",
        "\n",
        "3. **Embedding Layer**:\n",
        "   The embedding layer will convert input tokens (integers) into dense vector representations. You will need to determine the size of the input dimension (based on your vocabulary) and the output dimension (embedding size).\n",
        "\n",
        "4. **Bidirectional Simple RNN/LSTM Layers**:\n",
        "   You can add one or more recurrent layers. Consider using Bidirectional layers to capture contextual information from both directions (forward and backward). You can chose SimpleRNN/GRU/LSTM to perform this step.\n",
        "\n",
        "5. **Dense Layers**:\n",
        "   Add one or more fully connected (Dense) layers to process the output from the RNN/GRU/LSTM layers.\n",
        "\n",
        "6. **Output Layer**:\n",
        "   The output layer should match the type of classification task you're working on. Consider using appropriate activation function with appropriate number of units.\n",
        "\n",
        "7. **Model Summary**:\n",
        "   After defining your model architecture, print a summary to review the number of layers, types of layers, and total parameters.\n",
        "\n",
        "8. **Model Compilation**:\n",
        "   Finally, compile the model by selecting an optimizer, a loss function, and metrics."
      ]
    },
    {
      "cell_type": "code",
      "execution_count": 188,
      "metadata": {
        "colab": {
          "base_uri": "https://localhost:8080/"
        },
        "id": "D-EYYIUpfK_F",
        "outputId": "b8efce3d-756d-464b-bb79-3912f184b50f"
      },
      "outputs": [
        {
          "output_type": "stream",
          "name": "stderr",
          "text": [
            "/usr/local/lib/python3.10/dist-packages/keras/src/layers/core/embedding.py:90: UserWarning: Argument `input_length` is deprecated. Just remove it.\n",
            "  warnings.warn(\n"
          ]
        }
      ],
      "source": [
        "model = Sequential([\n",
        "    Input(shape=(300,)),\n",
        "    Embedding(input_dim=len(tokenizer.word_index) + 1, output_dim=150, input_length=300),\n",
        "\n",
        "    Bidirectional(SimpleRNN(64, return_sequences=True)),\n",
        "\n",
        "    Bidirectional(SimpleRNN(32)),\n",
        "\n",
        "    Dense(64, activation='relu'),\n",
        "\n",
        "    Dense(1, activation='softmax')\n",
        "])"
      ]
    },
    {
      "cell_type": "code",
      "execution_count": 189,
      "metadata": {
        "colab": {
          "base_uri": "https://localhost:8080/",
          "height": 298
        },
        "id": "WmTM3Y7NLbhp",
        "outputId": "0e7c7554-04bc-4216-ee4a-88e854ac0917"
      },
      "outputs": [
        {
          "output_type": "display_data",
          "data": {
            "text/plain": [
              "\u001b[1mModel: \"sequential_6\"\u001b[0m\n"
            ],
            "text/html": [
              "<pre style=\"white-space:pre;overflow-x:auto;line-height:normal;font-family:Menlo,'DejaVu Sans Mono',consolas,'Courier New',monospace\"><span style=\"font-weight: bold\">Model: \"sequential_6\"</span>\n",
              "</pre>\n"
            ]
          },
          "metadata": {}
        },
        {
          "output_type": "display_data",
          "data": {
            "text/plain": [
              "┏━━━━━━━━━━━━━━━━━━━━━━━━━━━━━━━━━━━━━━┳━━━━━━━━━━━━━━━━━━━━━━━━━━━━━┳━━━━━━━━━━━━━━━━━┓\n",
              "┃\u001b[1m \u001b[0m\u001b[1mLayer (type)                        \u001b[0m\u001b[1m \u001b[0m┃\u001b[1m \u001b[0m\u001b[1mOutput Shape               \u001b[0m\u001b[1m \u001b[0m┃\u001b[1m \u001b[0m\u001b[1m        Param #\u001b[0m\u001b[1m \u001b[0m┃\n",
              "┡━━━━━━━━━━━━━━━━━━━━━━━━━━━━━━━━━━━━━━╇━━━━━━━━━━━━━━━━━━━━━━━━━━━━━╇━━━━━━━━━━━━━━━━━┩\n",
              "│ embedding_6 (\u001b[38;5;33mEmbedding\u001b[0m)              │ (\u001b[38;5;45mNone\u001b[0m, \u001b[38;5;34m300\u001b[0m, \u001b[38;5;34m150\u001b[0m)            │      \u001b[38;5;34m15,818,400\u001b[0m │\n",
              "├──────────────────────────────────────┼─────────────────────────────┼─────────────────┤\n",
              "│ bidirectional_12 (\u001b[38;5;33mBidirectional\u001b[0m)     │ (\u001b[38;5;45mNone\u001b[0m, \u001b[38;5;34m300\u001b[0m, \u001b[38;5;34m128\u001b[0m)            │          \u001b[38;5;34m27,520\u001b[0m │\n",
              "├──────────────────────────────────────┼─────────────────────────────┼─────────────────┤\n",
              "│ bidirectional_13 (\u001b[38;5;33mBidirectional\u001b[0m)     │ (\u001b[38;5;45mNone\u001b[0m, \u001b[38;5;34m64\u001b[0m)                  │          \u001b[38;5;34m10,304\u001b[0m │\n",
              "├──────────────────────────────────────┼─────────────────────────────┼─────────────────┤\n",
              "│ dense_12 (\u001b[38;5;33mDense\u001b[0m)                     │ (\u001b[38;5;45mNone\u001b[0m, \u001b[38;5;34m64\u001b[0m)                  │           \u001b[38;5;34m4,160\u001b[0m │\n",
              "├──────────────────────────────────────┼─────────────────────────────┼─────────────────┤\n",
              "│ dense_13 (\u001b[38;5;33mDense\u001b[0m)                     │ (\u001b[38;5;45mNone\u001b[0m, \u001b[38;5;34m1\u001b[0m)                   │              \u001b[38;5;34m65\u001b[0m │\n",
              "└──────────────────────────────────────┴─────────────────────────────┴─────────────────┘\n"
            ],
            "text/html": [
              "<pre style=\"white-space:pre;overflow-x:auto;line-height:normal;font-family:Menlo,'DejaVu Sans Mono',consolas,'Courier New',monospace\">┏━━━━━━━━━━━━━━━━━━━━━━━━━━━━━━━━━━━━━━┳━━━━━━━━━━━━━━━━━━━━━━━━━━━━━┳━━━━━━━━━━━━━━━━━┓\n",
              "┃<span style=\"font-weight: bold\"> Layer (type)                         </span>┃<span style=\"font-weight: bold\"> Output Shape                </span>┃<span style=\"font-weight: bold\">         Param # </span>┃\n",
              "┡━━━━━━━━━━━━━━━━━━━━━━━━━━━━━━━━━━━━━━╇━━━━━━━━━━━━━━━━━━━━━━━━━━━━━╇━━━━━━━━━━━━━━━━━┩\n",
              "│ embedding_6 (<span style=\"color: #0087ff; text-decoration-color: #0087ff\">Embedding</span>)              │ (<span style=\"color: #00d7ff; text-decoration-color: #00d7ff\">None</span>, <span style=\"color: #00af00; text-decoration-color: #00af00\">300</span>, <span style=\"color: #00af00; text-decoration-color: #00af00\">150</span>)            │      <span style=\"color: #00af00; text-decoration-color: #00af00\">15,818,400</span> │\n",
              "├──────────────────────────────────────┼─────────────────────────────┼─────────────────┤\n",
              "│ bidirectional_12 (<span style=\"color: #0087ff; text-decoration-color: #0087ff\">Bidirectional</span>)     │ (<span style=\"color: #00d7ff; text-decoration-color: #00d7ff\">None</span>, <span style=\"color: #00af00; text-decoration-color: #00af00\">300</span>, <span style=\"color: #00af00; text-decoration-color: #00af00\">128</span>)            │          <span style=\"color: #00af00; text-decoration-color: #00af00\">27,520</span> │\n",
              "├──────────────────────────────────────┼─────────────────────────────┼─────────────────┤\n",
              "│ bidirectional_13 (<span style=\"color: #0087ff; text-decoration-color: #0087ff\">Bidirectional</span>)     │ (<span style=\"color: #00d7ff; text-decoration-color: #00d7ff\">None</span>, <span style=\"color: #00af00; text-decoration-color: #00af00\">64</span>)                  │          <span style=\"color: #00af00; text-decoration-color: #00af00\">10,304</span> │\n",
              "├──────────────────────────────────────┼─────────────────────────────┼─────────────────┤\n",
              "│ dense_12 (<span style=\"color: #0087ff; text-decoration-color: #0087ff\">Dense</span>)                     │ (<span style=\"color: #00d7ff; text-decoration-color: #00d7ff\">None</span>, <span style=\"color: #00af00; text-decoration-color: #00af00\">64</span>)                  │           <span style=\"color: #00af00; text-decoration-color: #00af00\">4,160</span> │\n",
              "├──────────────────────────────────────┼─────────────────────────────┼─────────────────┤\n",
              "│ dense_13 (<span style=\"color: #0087ff; text-decoration-color: #0087ff\">Dense</span>)                     │ (<span style=\"color: #00d7ff; text-decoration-color: #00d7ff\">None</span>, <span style=\"color: #00af00; text-decoration-color: #00af00\">1</span>)                   │              <span style=\"color: #00af00; text-decoration-color: #00af00\">65</span> │\n",
              "└──────────────────────────────────────┴─────────────────────────────┴─────────────────┘\n",
              "</pre>\n"
            ]
          },
          "metadata": {}
        },
        {
          "output_type": "display_data",
          "data": {
            "text/plain": [
              "\u001b[1m Total params: \u001b[0m\u001b[38;5;34m15,860,449\u001b[0m (60.50 MB)\n"
            ],
            "text/html": [
              "<pre style=\"white-space:pre;overflow-x:auto;line-height:normal;font-family:Menlo,'DejaVu Sans Mono',consolas,'Courier New',monospace\"><span style=\"font-weight: bold\"> Total params: </span><span style=\"color: #00af00; text-decoration-color: #00af00\">15,860,449</span> (60.50 MB)\n",
              "</pre>\n"
            ]
          },
          "metadata": {}
        },
        {
          "output_type": "display_data",
          "data": {
            "text/plain": [
              "\u001b[1m Trainable params: \u001b[0m\u001b[38;5;34m15,860,449\u001b[0m (60.50 MB)\n"
            ],
            "text/html": [
              "<pre style=\"white-space:pre;overflow-x:auto;line-height:normal;font-family:Menlo,'DejaVu Sans Mono',consolas,'Courier New',monospace\"><span style=\"font-weight: bold\"> Trainable params: </span><span style=\"color: #00af00; text-decoration-color: #00af00\">15,860,449</span> (60.50 MB)\n",
              "</pre>\n"
            ]
          },
          "metadata": {}
        },
        {
          "output_type": "display_data",
          "data": {
            "text/plain": [
              "\u001b[1m Non-trainable params: \u001b[0m\u001b[38;5;34m0\u001b[0m (0.00 B)\n"
            ],
            "text/html": [
              "<pre style=\"white-space:pre;overflow-x:auto;line-height:normal;font-family:Menlo,'DejaVu Sans Mono',consolas,'Courier New',monospace\"><span style=\"font-weight: bold\"> Non-trainable params: </span><span style=\"color: #00af00; text-decoration-color: #00af00\">0</span> (0.00 B)\n",
              "</pre>\n"
            ]
          },
          "metadata": {}
        }
      ],
      "source": [
        "model.summary()"
      ]
    },
    {
      "cell_type": "code",
      "execution_count": 190,
      "metadata": {
        "id": "W0Qb3E8UMGtm"
      },
      "outputs": [],
      "source": [
        "model.compile(optimizer='adam', loss='sparse_categorical_crossentropy', metrics=['acc'])"
      ]
    },
    {
      "cell_type": "code",
      "execution_count": 191,
      "metadata": {
        "id": "KjfE1CQvMTG0"
      },
      "outputs": [],
      "source": [
        "#history = model.fit(train['text'],train['label'], validation_data=(val['text'],val['label']), epochs=10,batch_size=32)"
      ]
    },
    {
      "cell_type": "code",
      "execution_count": 192,
      "metadata": {
        "id": "L2O0pulRNf2M"
      },
      "outputs": [],
      "source": [
        "#pd.DataFrame(history.history).plot()"
      ]
    },
    {
      "cell_type": "code",
      "execution_count": 193,
      "metadata": {
        "id": "cTBwmy8nNv0M"
      },
      "outputs": [],
      "source": [
        "#pd.DataFrame(history.history)[['val_accuracy','accuracy']].plot()"
      ]
    },
    {
      "cell_type": "code",
      "execution_count": 194,
      "metadata": {
        "id": "5fcOliutN3Iv"
      },
      "outputs": [],
      "source": [
        "#pd.DataFrame(history.history)[['val_loss','loss']].plot()"
      ]
    },
    {
      "cell_type": "markdown",
      "metadata": {
        "id": "57DXwqqQTloy"
      },
      "source": [
        "# Defining Batch Size, Creating Datasets, and Training the Model"
      ]
    },
    {
      "cell_type": "markdown",
      "metadata": {
        "id": "LEOvs_dETmQp"
      },
      "source": [
        "In this step, you will define the batch size, create TensorFlow Datasets for both training and testing, and train the model. The key elements to consider are outlined below, and it is up to you to choose the specific configurations based on your preferences and experimentation:\n",
        "\n",
        "1. **Batch Size**:\n",
        "   Select a batch size for training and testing. The batch size determines how many samples will be processed together in one forward and backward pass during training.\n",
        "\n",
        "2. **Creating Datasets**:\n",
        "   Use TensorFlow’s `Dataset.from_tensor_slices()` to create datasets from the training and testing data.\n",
        "\n",
        "3. **Batching the Datasets**:\n",
        "   Batch the datasets by grouping the data into batches of the specified size.\n",
        "\n",
        "4. **Training the Model**:\n",
        "   Train the model by fitting it on the training dataset for a specified number of epochs. You will also need to provide the validation data to monitor the model’s performance on unseen data during training.\n",
        "\n",
        "5. **Tracking Training History**:\n",
        "   During training, the model’s performance metrics (such as loss and accuracy) will be tracked over the epochs, and the results will be stored in the `history` object."
      ]
    },
    {
      "cell_type": "code",
      "execution_count": 195,
      "metadata": {
        "id": "o6unhJgFfQbM"
      },
      "outputs": [],
      "source": [
        "train_dataset = tensorflow.data.Dataset.from_tensor_slices((train['text'], train['label']))\n",
        "\n",
        "val_dataset = tensorflow.data.Dataset.from_tensor_slices((val['text'], val['label']))\n",
        "\n",
        "test_dataset = tensorflow.data.Dataset.from_tensor_slices((test['text'], test['label']))"
      ]
    },
    {
      "cell_type": "code",
      "execution_count": 196,
      "metadata": {
        "id": "OvQFZ9U6SMIC"
      },
      "outputs": [],
      "source": [
        "train_dataset = train_dataset.batch(32)\n",
        "val_dataset = val_dataset.batch(32)\n",
        "test_dataset = test_dataset.batch(32)"
      ]
    },
    {
      "cell_type": "code",
      "execution_count": 197,
      "metadata": {
        "colab": {
          "base_uri": "https://localhost:8080/"
        },
        "id": "bBB-gpFoSfe8",
        "outputId": "ec3d11a4-6d7b-4e38-bd46-2e0d01cf27fe"
      },
      "outputs": [
        {
          "output_type": "stream",
          "name": "stdout",
          "text": [
            "Epoch 1/10\n"
          ]
        },
        {
          "output_type": "stream",
          "name": "stderr",
          "text": [
            "/usr/local/lib/python3.10/dist-packages/keras/src/ops/nn.py:545: UserWarning: You are using a softmax over axis -1 of a tensor of shape (None, 1). This axis has size 1. The softmax operation will always return the value 1, which is likely not what you intended. Did you mean to use a sigmoid instead?\n",
            "  warnings.warn(\n"
          ]
        },
        {
          "output_type": "stream",
          "name": "stdout",
          "text": [
            "\u001b[1m798/798\u001b[0m \u001b[32m━━━━━━━━━━━━━━━━━━━━\u001b[0m\u001b[37m\u001b[0m \u001b[1m12s\u001b[0m 10ms/step - acc: 0.1505 - loss: nan - val_acc: 0.1564 - val_loss: nan\n",
            "Epoch 2/10\n",
            "\u001b[1m798/798\u001b[0m \u001b[32m━━━━━━━━━━━━━━━━━━━━\u001b[0m\u001b[37m\u001b[0m \u001b[1m4s\u001b[0m 6ms/step - acc: 0.1536 - loss: nan - val_acc: 0.1564 - val_loss: nan\n",
            "Epoch 3/10\n",
            "\u001b[1m798/798\u001b[0m \u001b[32m━━━━━━━━━━━━━━━━━━━━\u001b[0m\u001b[37m\u001b[0m \u001b[1m4s\u001b[0m 6ms/step - acc: 0.1525 - loss: nan - val_acc: 0.1564 - val_loss: nan\n",
            "Epoch 4/10\n",
            "\u001b[1m798/798\u001b[0m \u001b[32m━━━━━━━━━━━━━━━━━━━━\u001b[0m\u001b[37m\u001b[0m \u001b[1m6s\u001b[0m 6ms/step - acc: 0.1534 - loss: nan - val_acc: 0.1564 - val_loss: nan\n",
            "Epoch 5/10\n",
            "\u001b[1m798/798\u001b[0m \u001b[32m━━━━━━━━━━━━━━━━━━━━\u001b[0m\u001b[37m\u001b[0m \u001b[1m5s\u001b[0m 6ms/step - acc: 0.1506 - loss: nan - val_acc: 0.1564 - val_loss: nan\n",
            "Epoch 6/10\n",
            "\u001b[1m798/798\u001b[0m \u001b[32m━━━━━━━━━━━━━━━━━━━━\u001b[0m\u001b[37m\u001b[0m \u001b[1m5s\u001b[0m 7ms/step - acc: 0.1535 - loss: nan - val_acc: 0.1564 - val_loss: nan\n",
            "Epoch 7/10\n",
            "\u001b[1m798/798\u001b[0m \u001b[32m━━━━━━━━━━━━━━━━━━━━\u001b[0m\u001b[37m\u001b[0m \u001b[1m5s\u001b[0m 6ms/step - acc: 0.1509 - loss: nan - val_acc: 0.1564 - val_loss: nan\n",
            "Epoch 8/10\n",
            "\u001b[1m798/798\u001b[0m \u001b[32m━━━━━━━━━━━━━━━━━━━━\u001b[0m\u001b[37m\u001b[0m \u001b[1m4s\u001b[0m 6ms/step - acc: 0.1515 - loss: nan - val_acc: 0.1564 - val_loss: nan\n",
            "Epoch 9/10\n",
            "\u001b[1m798/798\u001b[0m \u001b[32m━━━━━━━━━━━━━━━━━━━━\u001b[0m\u001b[37m\u001b[0m \u001b[1m6s\u001b[0m 6ms/step - acc: 0.1534 - loss: nan - val_acc: 0.1564 - val_loss: nan\n",
            "Epoch 10/10\n",
            "\u001b[1m798/798\u001b[0m \u001b[32m━━━━━━━━━━━━━━━━━━━━\u001b[0m\u001b[37m\u001b[0m \u001b[1m5s\u001b[0m 6ms/step - acc: 0.1532 - loss: nan - val_acc: 0.1564 - val_loss: nan\n"
          ]
        }
      ],
      "source": [
        "history = model.fit(train['text'],train['label'], validation_data=(val['text'],val['label']), epochs=10,batch_size=32)"
      ]
    },
    {
      "cell_type": "markdown",
      "metadata": {
        "id": "XmoJfr3nfP-n"
      },
      "source": [
        "# Model Evaluation"
      ]
    },
    {
      "cell_type": "markdown",
      "metadata": {
        "id": "2Gb8G9XiT-ec"
      },
      "source": [
        "Once the model is trained, the next step is to evaluate its performance on the testing dataset.\n",
        "\n",
        "1. **Evaluate the Model**:\n",
        "   You will use the `evaluate()` method to assess the model’s performance on the test dataset.\n",
        "\n",
        "2. **Testing Dataset**:\n",
        "   Ensure that the testing dataset is properly prepared and batched, just like the training dataset.\n",
        "\n",
        "4. **Loss Curve**:\n",
        "   A loss curve plots the loss values for both the training and validation datasets over the epochs."
      ]
    },
    {
      "cell_type": "code",
      "execution_count": 199,
      "metadata": {
        "id": "SheakwtJOdWD",
        "colab": {
          "base_uri": "https://localhost:8080/"
        },
        "outputId": "f0680871-72aa-42b7-d3ea-3482c8eed3ad"
      },
      "outputs": [
        {
          "output_type": "stream",
          "name": "stdout",
          "text": [
            "\u001b[1m250/250\u001b[0m \u001b[32m━━━━━━━━━━━━━━━━━━━━\u001b[0m\u001b[37m\u001b[0m \u001b[1m1s\u001b[0m 3ms/step - acc: 0.1504 - loss: -201859.1875\n"
          ]
        }
      ],
      "source": [
        "model_evaluate = (model.evaluate(test['text'], test['label']))"
      ]
    },
    {
      "cell_type": "code",
      "execution_count": 200,
      "metadata": {
        "id": "SdECXvQGUQae",
        "colab": {
          "base_uri": "https://localhost:8080/"
        },
        "outputId": "ea76f724-225e-4486-b329-19890243f057"
      },
      "outputs": [
        {
          "output_type": "execute_result",
          "data": {
            "text/plain": [
              "[-201670.046875, 0.15482011437416077]"
            ]
          },
          "metadata": {},
          "execution_count": 200
        }
      ],
      "source": [
        "model_evaluate"
      ]
    },
    {
      "cell_type": "code",
      "execution_count": 201,
      "metadata": {
        "id": "ngl3l4g0SuCt",
        "colab": {
          "base_uri": "https://localhost:8080/",
          "height": 448
        },
        "outputId": "84ea33cc-213b-4a60-e812-b402d07206d8"
      },
      "outputs": [
        {
          "output_type": "execute_result",
          "data": {
            "text/plain": [
              "<Axes: >"
            ]
          },
          "metadata": {},
          "execution_count": 201
        },
        {
          "output_type": "display_data",
          "data": {
            "text/plain": [
              "<Figure size 640x480 with 1 Axes>"
            ],
            "image/png": "[encoded data removed]"
          },
          "metadata": {}
        }
      ],
      "source": [
        "pd.DataFrame(history.history).plot()"
      ]
    },
    {
      "cell_type": "code",
      "execution_count": 202,
      "metadata": {
        "id": "aZC8BfkWSuus",
        "colab": {
          "base_uri": "https://localhost:8080/",
          "height": 448
        },
        "outputId": "a7541eb6-86c2-4d0e-86d0-5cd450a6f164"
      },
      "outputs": [
        {
          "output_type": "execute_result",
          "data": {
            "text/plain": [
              "<Axes: >"
            ]
          },
          "metadata": {},
          "execution_count": 202
        },
        {
          "output_type": "display_data",
          "data": {
            "text/plain": [
              "<Figure size 640x480 with 1 Axes>"
            ],
            "image/png": "[encoded data removed]"
          },
          "metadata": {}
        }
      ],
      "source": [
        "pd.DataFrame(history.history)[['val_acc','acc']].plot()"
      ]
    },
    {
      "cell_type": "code",
      "execution_count": 203,
      "metadata": {
        "id": "9i4I_xsuSyrI",
        "colab": {
          "base_uri": "https://localhost:8080/",
          "height": 448
        },
        "outputId": "e03f389d-51e3-43e5-cd5d-804311510fe2"
      },
      "outputs": [
        {
          "output_type": "execute_result",
          "data": {
            "text/plain": [
              "<Axes: >"
            ]
          },
          "metadata": {},
          "execution_count": 203
        },
        {
          "output_type": "display_data",
          "data": {
            "text/plain": [
              "<Figure size 640x480 with 1 Axes>"
            ],
            "image/png": "[encoded data removed]"
          },
          "metadata": {}
        }
      ],
      "source": [
        "pd.DataFrame(history.history)[['val_loss','loss']].plot()"
      ]
    },
    {
      "cell_type": "markdown",
      "metadata": {
        "id": "ifx5RFxnUQqc"
      },
      "source": [
        "# Model Inference"
      ]
    },
    {
      "cell_type": "markdown",
      "metadata": {
        "id": "sVh0WCBoUSlP"
      },
      "source": [
        "In this step, you will use the trained model to make predictions on new, unseen data (inference). Here’s an outline of the key points:\n",
        "\n",
        "1. **Create Test Sample**:\n",
        "   Create a string to test your modelm the goal here is to give the model Before making predictions, ensure that the new data is preprocessed in the same way as the training data. This includes tokenization, padding, and any other transformations you applied during the data preprocessing step. The data can be single text to see the result of the prediction.\n",
        "\n",
        "2. **Model Prediction**:\n",
        "   Use the `predict()` method to feed new samples into the trained model and obtain predictions. The model will output probabilities or predicted class labels based on the type of classification task (binary or multi-class).\n",
        "\n",
        "3. **Interpreting Predictions**:\n",
        "   The model will return probabilities for each class."
      ]
    },
    {
      "cell_type": "code",
      "execution_count": 204,
      "metadata": {
        "id": "2XiahrhffR0J",
        "colab": {
          "base_uri": "https://localhost:8080/"
        },
        "outputId": "0ce5b388-617e-4648-99a8-a2fe14e0f31e"
      },
      "outputs": [
        {
          "output_type": "stream",
          "name": "stdout",
          "text": [
            "\u001b[1m1/1\u001b[0m \u001b[32m━━━━━━━━━━━━━━━━━━━━\u001b[0m\u001b[37m\u001b[0m \u001b[1m1s\u001b[0m 996ms/step\n",
            "Predicted label: ['Culture']\n"
          ]
        }
      ],
      "source": [
        "sample_text = [\"لا إله إلا الله محمد رسول الله\"]\n",
        "\n",
        "sample_sequence = tokenizer.texts_to_sequences([clean_text(sample_text[0])])\n",
        "\n",
        "padded_sample_sequence = pad_sequences(sample_sequence, maxlen=300, padding='post')\n",
        "\n",
        "predicted_label = model.predict(padded_sample_sequence)\n",
        "\n",
        "print(\"Predicted label:\", label_encoder.inverse_transform([predicted_label.argmax()]))\n",
        "# I was hoping if this can be predicted label as \" religion\" but since the proformance is low, it is diffuclt to predict"
      ]
    },
    {
      "cell_type": "code",
      "source": [
        "sample_text = [\"على المفترض الاستثمار في اموالك في البنك \"]\n",
        "\n",
        "sample_sequence = tokenizer.texts_to_sequences([clean_text(sample_text[0])])\n",
        "\n",
        "padded_sample_sequence = pad_sequences(sample_sequence, maxlen=300, padding='post')\n",
        "\n",
        "predicted_label = model.predict(padded_sample_sequence)\n",
        "\n",
        "print(\"Predicted label:\", label_encoder.inverse_transform([predicted_label.argmax()]))\n",
        "# no luck in  predicting if this can be categorized as finince maybe."
      ],
      "metadata": {
        "colab": {
          "base_uri": "https://localhost:8080/"
        },
        "id": "2ocScJezloQT",
        "outputId": "6325ded7-3ccb-4330-ec62-8a00c1347a04"
      },
      "execution_count": 205,
      "outputs": [
        {
          "output_type": "stream",
          "name": "stdout",
          "text": [
            "\u001b[1m1/1\u001b[0m \u001b[32m━━━━━━━━━━━━━━━━━━━━\u001b[0m\u001b[37m\u001b[0m \u001b[1m0s\u001b[0m 21ms/step\n",
            "Predicted label: ['Culture']\n"
          ]
        }
      ]
    },
    {
      "cell_type": "code",
      "source": [
        "sample_text = ['كريستيانو رونالدو لاعب في نادي النصر ونادي الهلال متصدر المجموعة في دوري كورة القدم']\n",
        "\n",
        "sample_sequence = tokenizer.texts_to_sequences([clean_text(sample_text[0])])\n",
        "\n",
        "padded_sample_sequence = pad_sequences(sample_sequence, maxlen=300, padding='post')\n",
        "\n",
        "predicted_label = model.predict(padded_sample_sequence)\n",
        "\n",
        "print(\"Predicted label:\", label_encoder.inverse_transform([predicted_label.argmax()]))\n",
        "\n",
        "# Still he couldn't predict if this can be categorized as sport"
      ],
      "metadata": {
        "colab": {
          "base_uri": "https://localhost:8080/"
        },
        "id": "Eja4tNqCl8Wd",
        "outputId": "8546c8d1-fb83-4189-c6b5-62dc7f0765d7"
      },
      "execution_count": 206,
      "outputs": [
        {
          "output_type": "stream",
          "name": "stdout",
          "text": [
            "\u001b[1m1/1\u001b[0m \u001b[32m━━━━━━━━━━━━━━━━━━━━\u001b[0m\u001b[37m\u001b[0m \u001b[1m0s\u001b[0m 24ms/step\n",
            "Predicted label: ['Culture']\n"
          ]
        }
      ]
    },
    {
      "cell_type": "markdown",
      "metadata": {
        "id": "fHbgQVrt43DQ"
      },
      "source": [
        "# Notebook Question:\n",
        "- How did you handle text preprocessing? Why did you choose this approach?\n",
        "\n",
        "- Why did you choose this model design?\n",
        "\n",
        "- Why did you pick this number of layers or units for the model?\n",
        "\n",
        "- Why did you select these evaluation methods?\n",
        "\n",
        "- Does your model show signs of overfitting or underfitting? How do you know?\n",
        "\n",
        "- What changes could you make to improve the model and fix overfitting or underfitting?"
      ]
    },
    {
      "cell_type": "markdown",
      "metadata": {
        "id": "x7vOe0JZ43DQ"
      },
      "source": [
        "Answer Here:"
      ]
    },
    {
      "cell_type": "code",
      "source": [
        "# Ans1:\n",
        "# I used the technique that is mentioined on the task\n",
        "# first created a function then I rmovied the urls link as doen't help in the model\n",
        "#similarliy with the other text process, spcial chractars, stop words\n",
        "# This will help to standirize the text and reduce noice. and imporve model prediciting\n",
        "\n",
        "# Ans2:\n",
        "# I used simple RNN as of I am comfortable with it and easy to implement.\n",
        "# it is effective for text classification.\n",
        "#bidirectional rnn can be helpful to understand the meaning of text\n",
        "\n",
        "# Ans3:\n",
        "\n",
        "# Regarding the chosen of the number of layers, those based on the experiment of running\n",
        "# based on this I belive the number of output dimention it has to be bewteen 100 and 300.\n",
        "# maxlength after running the model it is suitable.\n",
        "# However, I have an issue that the val loss and loss giving me na\n",
        "# I  have changed the activation from softmax to sigmoid which is even worse that giving me a negative numbers.\n",
        "# There is an error but couldn't figure it out.\n",
        "\n",
        "# Ans4:\n",
        "#I used accuracy and loss as evaluation metrics.\n",
        "# Accuracy provides an insight of how well the model performs,\n",
        "# while loss gives insight into how well the model is learning from the data.\n",
        "\n",
        "# Ans5:\n",
        "# Based on the above result, there is overfitting between the val acc and acc becuse there is huge caps betweeen them\n",
        "#\n",
        "\n",
        "# Ans6:\n",
        "# To address the improvment, maybe I could try increasing the amount of epiocs\n",
        "# but it runs for long time\n",
        "# we could increase the model complexity to see how model preform\n"
      ],
      "metadata": {
        "id": "kTZFA1D7q8-x"
      },
      "execution_count": null,
      "outputs": []
    },
    {
      "cell_type": "code",
      "source": [],
      "metadata": {
        "id": "GIIhQ6q3sodP"
      },
      "execution_count": null,
      "outputs": []
    },
    {
      "cell_type": "markdown",
      "source": [],
      "metadata": {
        "id": "QXc2RisvqBjI"
      }
    }
  ],
  "metadata": {
    "accelerator": "GPU",
    "colab": {
      "gpuType": "T4",
      "provenance": [],
      "include_colab_link": true
    },
    "kernelspec": {
      "display_name": "Python 3",
      "name": "python3"
    },
    "language_info": {
      "name": "python"
    }
  },
  "nbformat": 4,
  "nbformat_minor": 0
}